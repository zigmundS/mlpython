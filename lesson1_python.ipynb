{
  "nbformat": 4,
  "nbformat_minor": 0,
  "metadata": {
    "colab": {
      "name": "Занятие 1, Повторение python.ipynb",
      "provenance": [],
      "collapsed_sections": [],
      "include_colab_link": true
    },
    "kernelspec": {
      "name": "python3",
      "display_name": "Python 3"
    }
  },
  "cells": [
    {
      "cell_type": "markdown",
      "metadata": {
        "id": "view-in-github",
        "colab_type": "text"
      },
      "source": [
        "<a href=\"https://colab.research.google.com/github/zigmundS/mlpython/blob/master/lesson1_python.ipynb\" target=\"_parent\"><img src=\"https://colab.research.google.com/assets/colab-badge.svg\" alt=\"Open In Colab\"/></a>"
      ]
    },
    {
      "cell_type": "markdown",
      "metadata": {
        "id": "Qea7FJqqwRMh"
      },
      "source": [
        "# Основы Anaconda\n",
        "\n",
        "Anaconda – свободный дистрибутив со свободной лицензией, предназначенный для языков программирования Python и R. Проект имеет открытый исходный код для обработки данных большого объема, построения аналитических прогнозов и научных вычислений. Conda позволяет упростить управление и использование пакетов. Версии пакетов контролируются системой управления пакетами conda. По умолчанию, вместе с Anaconda устанавливается также:\n",
        " \n",
        "* JupyterLab\n",
        "* Jupyter Notebook\n",
        "* Spyder\n",
        " \n",
        "С их помощью можно создавать .ipynb файлы, называемые ноутбуками. Подробнее про них - ниже.\n",
        " \n",
        "---\n",
        " \n",
        "Встроенный в conda пакетный менеджер активируется в командной строке словом conda. В conda дополнительно встроено множество различных библиотек питона, для этого необходимо открыть командную строку (cmd.exe, можно найти поиском по системе) и запустить conda list.\n",
        " \n",
        "---\n",
        " \n",
        "Conda позволяет создавать виртуальные окружения для изолированной разработки программ. Делается это при помощи команды:\n",
        " \n",
        "conda create --name myenv\n",
        " \n",
        "Когда conda попросит вас продолжить, введите y\n",
        " \n",
        "Чтобы создать среду с определенной версией Python:\n",
        " \n",
        "conda create -n myenv python=3.6\n",
        " \n",
        "Чтобы создать среду с определенным пакетом (например, scipy):\n",
        " \n",
        "conda create -n myenv scipy\n"
      ]
    },
    {
      "cell_type": "markdown",
      "metadata": {
        "id": "UFIPdiXpvyuR"
      },
      "source": [
        "# Основы python\n",
        "\n",
        "<img align=left src=\"https://cdn.fedoramagazine.org/wp-content/uploads/2015/11/Python_logo.png\" style=\"height:160px;\" />\n",
        "\n",
        "\n",
        "Для углубленного понимания алгоритмов анализа данных и работы с признаками небходимо хорошо владеть языком Python ввиду баланса между быстрыми библиотеками и простотой кода. Далее познакомимся с основами библиотеки."
      ]
    },
    {
      "cell_type": "markdown",
      "metadata": {
        "id": "s3gTyEU-yZM7"
      },
      "source": [
        "Для работы мы будем использовать Jupyter Notebook'и.\n",
        "\n",
        "<img align=center src=\"https://1.bp.blogspot.com/-16utHnlB3Ao/V4tpG8NBX0I/AAAAAAAAA7M/vDQ1p40JpE8M34eCr-UdriSV04Dn8au7QCLcB/s1600/jupyter-logo.png\" style=\"height:90px;\" />\n",
        "\n",
        "Название проекта Jupyter - это ссылка на три основных языка программирования, поддерживаемых Jupyter: Julia, Python и R, а также дань уважения записным книжкам Галилея, записывающим открытие лун Юпитера. Проект Jupyter разработал и поддержал интерактивные вычислительные продукты Jupyter Notebook, JupyterHub и JupyterLab, версию следующего поколения Jupyter Notebook. Философия проекта Jupyter заключается в поддержке интерактивной науки о данных."
      ]
    },
    {
      "cell_type": "markdown",
      "metadata": {
        "id": "nPF96t_gylQi"
      },
      "source": [
        "После установки пакета anaconda в командной строке, которую можно открыть прямо в папке (в случае Windows в проводнике, в нужной папке файл -> Запустить Windows PowerShell, в случае linux/mac - зажать ctrl+alt+t или в проводнике нажать пкм в нужной папке -> открыть терминал) введем команду jupyter notebook \n",
        " \n",
        "В вашем браузере по умолчанию откроется новая вкладка, домашняя страница проекта Jupyter. В правом верхнем углу будет расположена кнопка new -> python 3, после чего должен быть доступен интерфейс для работы с jupyter файлом, где можно создавать ячейки с текстом или кодом.\n"
      ]
    },
    {
      "cell_type": "markdown",
      "metadata": {
        "id": "r0SONoOf0kXN"
      },
      "source": [
        "### Основы Python\n",
        "\n",
        "Сейчас существуют две часто используемые версии Питона — **Python 2** и **Python 3**. Эти версии довольно похожи, но есть отличия, из-за которых они **не являются совместимыми** - программы, написанные на одной версии языка, могут не работать в другой.  \n",
        "\n",
        "В нашем курсе мы будем писать на **Python 3**. Точная версия не принципиальна, но она должна быть >= 3.6  \n",
        "\n",
        "Если Вы пользуетесь каким-либо из дистрибутивов Linux, то Python скорее всего уже установлен.\n",
        "Попробуйте в терминале следующие команды для запуска интерактивного режима работы:\n",
        "\n",
        "`python` или `python3` или `python2`\n",
        "\n",
        "Выход: `Ctrl+D`\n",
        "\n",
        "Режим работы, в котором выполнится код из файла main.py\n",
        "\n",
        "`python main.py`\n",
        "\n",
        "Помощь: **`help(X)`**, где `X` — то, по чему нужна помощь.  \n",
        "Выход из помощи: `q`."
      ]
    },
    {
      "cell_type": "markdown",
      "metadata": {
        "id": "_Ti6h-e80pIt"
      },
      "source": [
        "## Общая информация о языке\n",
        "\n",
        "**Название** - **«Питон» или «Пайтон»** (в честь комедийных серий BBC «Летающий цирк Монти-Пайтона»)  \n",
        "**Создатель** - **голландец Гвидо ван Россум (Guido van Rossum)** (в 1991 году)  \n",
        "\n",
        "**Особенности**:  \n",
        "- интерпретируемый\n",
        "- объектно-ориентированный\n",
        "- высокоуровневый язык\n",
        "- встроенные высокоуровневые структуры данных\n",
        "- динамическая типизация\n",
        "- синтаксис прост в изучении\n",
        "- поддержка модулей и пакетов (большинство библиотек\n",
        "бесплатны)\n",
        "- универсальный\n",
        "- интеграция с другими языками (C (Cython), C++, Java (JPython))  \n",
        "\n",
        "**Стиль оформления кода** - **PEP8** (если Вы хороший человек).  \n",
        "\n",
        "*Самое главное из PEP8:*  \n",
        "- отступ – 4 пробела\n",
        "- длина строки < 80 символов\n",
        "- переменные: var_recommended\n",
        "- константы: CONST_RECOMMENDED"
      ]
    },
    {
      "cell_type": "markdown",
      "metadata": {
        "id": "CSCiWRtr0rv7"
      },
      "source": [
        "## Список материалов для самостоятельного изучения\n",
        "\n",
        "Данный ноутбук не претендует на полный охват всех тем и нюансов языка, поэтому ниже для удобства предоставлены ссылки на внешние ресурсы, которые могут помочь лучше изучить язык:\n",
        "\n",
        "* *Сайт языка Python* - https://www.python.org/\n",
        "\n",
        "\n",
        "* *Базовый курс синтаксиса Python с практикой* - https://www.codecademy.com/learn/learn-python\n",
        "\n",
        "\n",
        "* *Курс Python с нуля, можно выполнять задания в интерактивном режиме* - http://pythontutor.ru/\n",
        "\n",
        "\n",
        "* *Очень много задач на практику из разных областей, сделано по типу соцсети* - https://codesignal.com\n",
        "\n",
        "\n",
        "* *Новый онлайн-курс по Питону на Coursera от Mail.Ru Group* - https://www.coursera.org/learn/programming-in-python\n",
        "\n",
        "\n",
        "* *Самоучитель Python* - https://pythonworld.ru/samouchitel-python\n",
        "\n",
        "\n",
        "* *Статья про коварности Python* - https://habrahabr.ru/company/mailru/blog/337364/\n",
        "\n",
        "\n",
        "* *Очень полезные трюки в Jupyter Notebook*: https://www.dataquest.io/blog/jupyter-notebook-tips-tricks-shortcuts/"
      ]
    },
    {
      "cell_type": "markdown",
      "metadata": {
        "id": "atnhHJTF3CtA"
      },
      "source": [
        "# Введение"
      ]
    },
    {
      "cell_type": "markdown",
      "metadata": {
        "id": "hgd5XVEd09nA"
      },
      "source": [
        "Давайте запустим первую программу на python! Для этого нужно нажать комбинацию клавиш shift + enter или на треугольничек в левой части строки."
      ]
    },
    {
      "cell_type": "code",
      "metadata": {
        "id": "S3_pG4b7vzVG",
        "colab": {
          "base_uri": "https://localhost:8080/",
          "height": 34
        },
        "outputId": "a83dc623-145f-45e2-e8e4-7121237015f6"
      },
      "source": [
        "print('Hello world!')"
      ],
      "execution_count": null,
      "outputs": [
        {
          "output_type": "stream",
          "text": [
            "Hello world!\n"
          ],
          "name": "stdout"
        }
      ]
    },
    {
      "cell_type": "markdown",
      "metadata": {
        "id": "AUthmYdt1WBU"
      },
      "source": [
        "То, что мы только что запустили называется ячейкой с кодом. Добавить такую ячейку можно в левой верхней части экрана + Сode\n",
        "\n",
        "В ней записан программный код на языке python, который будет выполняться подряд, строчка за строчкой, пока не дойдет до конца (при учете, что в нем нет ошибок).\n",
        "\n",
        "Помимо ячеек с кодом проект jupyter позволяет добавлять ячейки с текстом, в которых вы можете прокомментировать происходящее ниже. Эти ячейки поддерживают язык разметки markdown, который поможет вам в навигации по ноутбуку и сделает текст более читаемым, детальнее [тут](https://ru.wikipedia.org/wiki/Markdown)\n",
        "\n",
        "В результате запуска ячейки мы получили блок вывода с текстом - Hello world!. Команда print() выводит на экран объект, который мы передаем в нее (в скобочках).\n",
        "\n",
        "Перед тем, как мы начнем исследовать встроенные в питон функции вроде функции отображения на экран print() необходимо понять с чем мы будем работать - данные. Далее ознакомимся с типами данных, представленнх в языке."
      ]
    },
    {
      "cell_type": "markdown",
      "metadata": {
        "id": "4DOkfhSv3q21"
      },
      "source": [
        "## Типы данных\n",
        "\n",
        "**Все типы данных** в Python относятся к одной из **2-х категорий**: **изменяемые (mutable)** и **неизменяемые (immutable)**.   \n",
        "\n",
        "*Неизменяемые объекты*:  \n",
        "* числовые данные (int, float), \n",
        "* bool,\n",
        "* None,\n",
        "* символьные строки (class 'str'), \n",
        "* кортежи (tuple).  \n",
        "\n",
        "*Изменяемые объекты*:  \n",
        "* списки (list), \n",
        "* множества (set), \n",
        "* словари (dict).  \n",
        "\n",
        "Вновь определяемые пользователем типы (классы) могут быть определены как неизменяемые или изменяемые. Изменяемость объектов определённого типа является принципиально важной характеристикой, определяющей, может ли объект такого типа **выступать в качестве ключа для словарей (dict)** или нет."
      ]
    },
    {
      "cell_type": "markdown",
      "metadata": {
        "id": "aGpUqkBM4Diq"
      },
      "source": [
        "## int\n",
        "**Целочисленный тип переменной в питоне**\n",
        "\n",
        "Чтобы задать переменную, не нужно указывать ее тип -- достаточно присвоить ей значение. При этом тип определится автоматически.\n",
        "\n",
        "Давайте попробуем завести переменную, присвоить ей значение -- целое число, и вывести на экран ее значение и тип (type):"
      ]
    },
    {
      "cell_type": "code",
      "metadata": {
        "id": "YPAlyXUb1TQ3",
        "colab": {
          "base_uri": "https://localhost:8080/",
          "height": 35
        },
        "outputId": "59085485-cea2-411b-e53a-ef0425237afa"
      },
      "source": [
        "x = 5\n",
        "\n",
        "# Команда type выводит на экран тип переменной.\n",
        "# Все, что находится после # является комментарием и не воспринимается языком как код\n",
        "\n",
        "print(x, type(x))"
      ],
      "execution_count": null,
      "outputs": [
        {
          "output_type": "stream",
          "text": [
            "5 <class 'int'>\n"
          ],
          "name": "stdout"
        }
      ]
    },
    {
      "cell_type": "markdown",
      "metadata": {
        "id": "gOYGEUfh4rP7"
      },
      "source": [
        "Как видно, тип получившейся переменной -- int.\n",
        "\n",
        "C int'овыми переменными можно производить стандартные матеатические операции -- сложение, вычитание, умножение, деление, возведение в степень, взятие остатка при делении на число.\n",
        "\n",
        "Деление переменных типа int бывает двух типов -- целочисленное (с помощью символа //) и нецелочисленное (символ /). Результатом первого типа деления будет целое число, второго -- дробное. "
      ]
    },
    {
      "cell_type": "code",
      "metadata": {
        "id": "H0b911U04pSC",
        "colab": {
          "base_uri": "https://localhost:8080/",
          "height": 35
        },
        "outputId": "8746f81a-93d5-4026-a4aa-fee0bbe3cedb"
      },
      "source": [
        "a = 4 + 5\n",
        "b = 4 * 5\n",
        "c = 5 // 4\n",
        "d = 5 / 4\n",
        "e = 5**4 # 5 в степени 4\n",
        "f = 5%4 # остаток при делении 5 на 4\n",
        "\n",
        "print(a, b, c, d, e, f)"
      ],
      "execution_count": null,
      "outputs": [
        {
          "output_type": "stream",
          "text": [
            "9 20 1 1.25 625 1\n"
          ],
          "name": "stdout"
        }
      ]
    },
    {
      "cell_type": "markdown",
      "metadata": {
        "id": "4GgALF3M4xTG"
      },
      "source": [
        "Также язык питон удобен в работе с большими числами:\n",
        "\n",
        "Давайте попробуем положить в переменную число 5000000000000000000000000001:"
      ]
    },
    {
      "cell_type": "code",
      "metadata": {
        "id": "-gJYkiAh4vkn",
        "colab": {
          "base_uri": "https://localhost:8080/",
          "height": 35
        },
        "outputId": "d8ceddf2-1e3b-48db-e1f9-3b7c736630f3"
      },
      "source": [
        "x = 5 * 1000000000 * 1000000000 * 10**9 + 1\n",
        "print(x, '|', type(x))"
      ],
      "execution_count": null,
      "outputs": [
        {
          "output_type": "stream",
          "text": [
            "5000000000000000000000000001 | <class 'int'>\n"
          ],
          "name": "stdout"
        }
      ]
    },
    {
      "cell_type": "markdown",
      "metadata": {
        "id": "WJGKkHyJ41TB"
      },
      "source": [
        "Как видите, все получилось: полученная переменная типа int и с ней можно работать как с обычными числами. Во многих других языках (например, С++) положить такое большое число в переменную бы не вышло -- возникло бы переполнение."
      ]
    },
    {
      "cell_type": "markdown",
      "metadata": {
        "id": "5Ha7YY8D4-NP"
      },
      "source": [
        "## float\n",
        "\n",
        "**Тип переменной для хранения дробных чисел в питоне**:"
      ]
    },
    {
      "cell_type": "code",
      "metadata": {
        "id": "mjqbBW-g4yaX",
        "colab": {
          "base_uri": "https://localhost:8080/",
          "height": 35
        },
        "outputId": "da5c115d-f83c-479b-c184-0b243fd28766"
      },
      "source": [
        "y = 12.345\n",
        "\n",
        "print(y, '|', type(y))"
      ],
      "execution_count": null,
      "outputs": [
        {
          "output_type": "stream",
          "text": [
            "12.345 | <class 'float'>\n"
          ],
          "name": "stdout"
        }
      ]
    },
    {
      "cell_type": "markdown",
      "metadata": {
        "id": "vHnXHrEx5EVC"
      },
      "source": [
        "С этим типом также можно выполнять арифметические операции (даже целочисленное деление):"
      ]
    },
    {
      "cell_type": "code",
      "metadata": {
        "id": "05Evm1is5C5_",
        "colab": {
          "base_uri": "https://localhost:8080/",
          "height": 35
        },
        "outputId": "f8d148a0-493a-4da7-bc8d-d83dc07f876e"
      },
      "source": [
        "a = 4.2 + 5.1\n",
        "b = 4.2 * 5.1\n",
        "c = 5.0 / 4.0\n",
        "d = 5.25 // 4.25\n",
        "e = 5.25 ** 4.0\n",
        "\n",
        "print(a, b, c, d, e)"
      ],
      "execution_count": null,
      "outputs": [
        {
          "output_type": "stream",
          "text": [
            "9.3 21.419999999999998 1.25 1.0 759.69140625\n"
          ],
          "name": "stdout"
        }
      ]
    },
    {
      "cell_type": "code",
      "metadata": {
        "id": "Sbwbxlyn5FVu",
        "colab": {
          "base_uri": "https://localhost:8080/",
          "height": 35
        },
        "outputId": "d70fd858-0603-4bfd-8863-92b1196e7754"
      },
      "source": [
        "# если знаков после запятой слишком много - можно просто округлить его до нужного количества (в этом случае 2)\n",
        "round(b, 2)"
      ],
      "execution_count": null,
      "outputs": [
        {
          "output_type": "execute_result",
          "data": {
            "text/plain": [
              "21.42"
            ]
          },
          "metadata": {
            "tags": []
          },
          "execution_count": 7
        }
      ]
    },
    {
      "cell_type": "markdown",
      "metadata": {
        "id": "0vDK44dm5ZMI"
      },
      "source": [
        "Переменную типа int можно привести к типу float "
      ]
    },
    {
      "cell_type": "code",
      "metadata": {
        "id": "wdxjNJun5OrN",
        "colab": {
          "base_uri": "https://localhost:8080/",
          "height": 52
        },
        "outputId": "d1c84f5e-7acc-4757-e76a-66c896896343"
      },
      "source": [
        "a = 5\n",
        "print(a, type(a))\n",
        "# тут происходит преобразование из целочисленной переменной в дробную\n",
        "a = float(a)\n",
        "\n",
        "print(a, type(a))"
      ],
      "execution_count": null,
      "outputs": [
        {
          "output_type": "stream",
          "text": [
            "5 <class 'int'>\n",
            "5.0 <class 'float'>\n"
          ],
          "name": "stdout"
        }
      ]
    },
    {
      "cell_type": "markdown",
      "metadata": {
        "id": "ce-Ssg2k5atr"
      },
      "source": [
        "## bool\n",
        "\n",
        "**Логический тип переменной**: \n",
        "\n",
        "переменная типа bool может принимать два значения: `True` и `False`:"
      ]
    },
    {
      "cell_type": "code",
      "metadata": {
        "id": "a6LDkN5m5YFs",
        "colab": {
          "base_uri": "https://localhost:8080/",
          "height": 52
        },
        "outputId": "3a145263-8d96-4e08-f66a-b0a32050c258"
      },
      "source": [
        "a = True\n",
        "b = False\n",
        "\n",
        "# появился еще один аргумент: '|'  <- туда можно поставить любой текст, в этом примере для удобства отображения\n",
        "print(a, '|', type(a))\n",
        "\n",
        "print(b, '|', type(b))"
      ],
      "execution_count": null,
      "outputs": [
        {
          "output_type": "stream",
          "text": [
            "True | <class 'bool'>\n",
            "False | <class 'bool'>\n"
          ],
          "name": "stdout"
        }
      ]
    },
    {
      "cell_type": "markdown",
      "metadata": {
        "id": "UCDjA-R35v0m"
      },
      "source": [
        "У типа bool существует связь с типом int -- переменная со значением True соответствует int'овой переменной со значением 1, а переменная со значением False -- int'овой переменной со значением 0.\n",
        "\n",
        "Давайте в этом убедимся, попробовав сложить значения переменных a и b:"
      ]
    },
    {
      "cell_type": "code",
      "metadata": {
        "id": "Y56n3LHB5fod",
        "colab": {
          "base_uri": "https://localhost:8080/",
          "height": 69
        },
        "outputId": "e0d8e86e-de20-4544-c2b6-33d7b64d1a94"
      },
      "source": [
        "print(a + b)\n",
        "print(a + a)\n",
        "print(b + b)"
      ],
      "execution_count": null,
      "outputs": [
        {
          "output_type": "stream",
          "text": [
            "1\n",
            "2\n",
            "0\n"
          ],
          "name": "stdout"
        }
      ]
    },
    {
      "cell_type": "markdown",
      "metadata": {
        "id": "203gd0NO5yF1"
      },
      "source": [
        "Ну и просто приведем a и b к типу int:"
      ]
    },
    {
      "cell_type": "code",
      "metadata": {
        "id": "SdzwX-LY5wwD",
        "colab": {
          "base_uri": "https://localhost:8080/",
          "height": 35
        },
        "outputId": "5636816e-945a-4eda-e31a-0b21252cfccb"
      },
      "source": [
        "print(int(a), int(b))"
      ],
      "execution_count": null,
      "outputs": [
        {
          "output_type": "stream",
          "text": [
            "1 0\n"
          ],
          "name": "stdout"
        }
      ]
    },
    {
      "cell_type": "code",
      "metadata": {
        "id": "wEeaSqMK5zVT",
        "colab": {
          "base_uri": "https://localhost:8080/",
          "height": 121
        },
        "outputId": "2a5430b8-58bb-4552-ca38-689397f5b2a8"
      },
      "source": [
        "print(True and False, '\\n')\n",
        "\n",
        "print(True or False, '\\n')\n",
        "\n",
        "print(not False, '\\n')"
      ],
      "execution_count": null,
      "outputs": [
        {
          "output_type": "stream",
          "text": [
            "False \n",
            "\n",
            "True \n",
            "\n",
            "True \n",
            "\n"
          ],
          "name": "stdout"
        }
      ]
    },
    {
      "cell_type": "code",
      "metadata": {
        "id": "EEulEkZH50Hz",
        "colab": {
          "base_uri": "https://localhost:8080/",
          "height": 52
        },
        "outputId": "0eaf54ef-d340-4756-d5d6-3d27be0a9393"
      },
      "source": [
        "# в переменную a будет записан результат сравнения 2 и 3. т.е. False, потому что (2==3) неверно. < это оператор сравнения, в нашем случае вернет True\n",
        "a = (2 == 3)\n",
        "b = (4 < 5)\n",
        "\n",
        "print(a, '|', type(a))\n",
        "print(b, '|', type(b))"
      ],
      "execution_count": null,
      "outputs": [
        {
          "output_type": "stream",
          "text": [
            "False | <class 'bool'>\n",
            "True | <class 'bool'>\n"
          ],
          "name": "stdout"
        }
      ]
    },
    {
      "cell_type": "code",
      "metadata": {
        "id": "-lvo-3ZW6BIi",
        "colab": {
          "base_uri": "https://localhost:8080/",
          "height": 35
        },
        "outputId": "5c0d370d-6d4c-42c8-ac83-41e34054a242"
      },
      "source": [
        "# более сложные сравнения алгебры-логики, для определения порядка выполнения используйте скобки, как в обычной математике\n",
        "a or (a and not b)"
      ],
      "execution_count": null,
      "outputs": [
        {
          "output_type": "execute_result",
          "data": {
            "text/plain": [
              "False"
            ]
          },
          "metadata": {
            "tags": []
          },
          "execution_count": 15
        }
      ]
    },
    {
      "cell_type": "markdown",
      "metadata": {
        "id": "uBL_ZW1W6ODJ"
      },
      "source": [
        "## If\n",
        "\n",
        "**Условный оператор**\n",
        "\n",
        "В коде часто приходится проверять выполнимость или невыполнимость каких-то условий. Синтаксис следующий\n",
        "\n",
        "```\n",
        "if <условие1 (булевское выражение)> :\n",
        "    <код, который выполнится, если условие верно>\n",
        "elif <условие2 (булевское выражение)>:\n",
        "    <код, который выполнится, если условие1 было неверно, а условие2 верно>\n",
        "else:\n",
        "    <код, который выполнится, если условие1 и условие2 были неверны>\n",
        "```\n",
        "\n",
        "Обратите внимание, что код, который должен выполняться внутри каждого условия, записывается с отступом в 4 пробела от уровня if, elif и else: в питоне области видимости переменных обозначаются отступами.\n",
        "\n",
        "*То есть, отступы позволяют понять, где начинается код, который должен выполняться при выполнении условия в if, и где заканчивается*\n",
        "\n",
        "Рассмотрим пример: пусть в нашем коде есть переменная x. Пусть мы хотим вывести на экран сообщение \"x отрицателен\", если x<0, \"x равен нулю\", если x=0 и \"x положителен\", если x>0. Код будет следующий:"
      ]
    },
    {
      "cell_type": "code",
      "metadata": {
        "id": "klx-cmQL6KCR",
        "colab": {
          "base_uri": "https://localhost:8080/",
          "height": 51
        },
        "outputId": "daeef562-49df-4501-c27b-120aa7886a7d"
      },
      "source": [
        "x = 10\n",
        "\n",
        "if x<0:\n",
        "    print(\"x отрицателен\")\n",
        "elif x==0:\n",
        "    print(\"x равен нулю\")\n",
        "else:\n",
        "    print(\"x положителен\")\n",
        "    \n",
        "# этот код уже не \"внутри\" else, потому что записан без отступа в 4 пробела. Поэтому он выполнится \n",
        "# в любом случае после отработки if-elif-else\n",
        "print(\"Done\")"
      ],
      "execution_count": null,
      "outputs": [
        {
          "output_type": "stream",
          "text": [
            "x положителен\n",
            "Done\n"
          ],
          "name": "stdout"
        }
      ]
    },
    {
      "cell_type": "markdown",
      "metadata": {
        "id": "IHrlrcoG6UJo"
      },
      "source": [
        "Конечно, в `if` можно подставлять и более сложные булевские выражения:"
      ]
    },
    {
      "cell_type": "code",
      "metadata": {
        "id": "5b5TPNYV6SJJ",
        "colab": {
          "base_uri": "https://localhost:8080/",
          "height": 52
        },
        "outputId": "53fa376c-8a0f-4964-cebc-67a37e97913c"
      },
      "source": [
        "if (x>3 and x < 11) or x==5:\n",
        "    print(x)\n",
        "    # тоже выполнится при выполнения условия после if, так как этот код тоже записан с отступом в 4 пробела\n",
        "    print(\"nice\")"
      ],
      "execution_count": null,
      "outputs": [
        {
          "output_type": "stream",
          "text": [
            "10\n",
            "nice\n"
          ],
          "name": "stdout"
        }
      ]
    },
    {
      "cell_type": "code",
      "metadata": {
        "id": "qqdjB-kC6VeB",
        "colab": {
          "base_uri": "https://localhost:8080/",
          "height": 51
        },
        "outputId": "5027b49f-ebf3-4517-b1d5-3ee090e5ba95"
      },
      "source": [
        "# if внутри if:\n",
        "x = 3\n",
        "y = 5\n",
        "if x == 3:\n",
        "    if y > 6:\n",
        "        # отступ в 4 пробела от внутреннего if\n",
        "        print(\"y greater than 6\")\n",
        "    else:\n",
        "        print(\"y not grater than 6\")\n",
        "        \n",
        "    # отступ в 4 пробела от внешнего if, поэтому код выполнится если x==3 и при любом значении y\n",
        "    print(\"x is equal to 3\")"
      ],
      "execution_count": null,
      "outputs": [
        {
          "output_type": "stream",
          "text": [
            "y not grater than 6\n",
            "x is equal to 3\n"
          ],
          "name": "stdout"
        }
      ]
    },
    {
      "cell_type": "code",
      "metadata": {
        "id": "81eFiimzvFd-",
        "colab": {
          "base_uri": "https://localhost:8080/",
          "height": 34
        },
        "outputId": "a13c454a-59a1-4246-9f6a-8bd64525a01e"
      },
      "source": [
        "True and False"
      ],
      "execution_count": null,
      "outputs": [
        {
          "output_type": "execute_result",
          "data": {
            "text/plain": [
              "False"
            ]
          },
          "metadata": {
            "tags": []
          },
          "execution_count": 18
        }
      ]
    },
    {
      "cell_type": "code",
      "metadata": {
        "id": "vS3d9qgXvHQ8",
        "colab": {
          "base_uri": "https://localhost:8080/",
          "height": 34
        },
        "outputId": "5e4d2f50-50bc-40df-bb0b-37776b5593ee"
      },
      "source": [
        "True or False"
      ],
      "execution_count": null,
      "outputs": [
        {
          "output_type": "execute_result",
          "data": {
            "text/plain": [
              "True"
            ]
          },
          "metadata": {
            "tags": []
          },
          "execution_count": 19
        }
      ]
    },
    {
      "cell_type": "markdown",
      "metadata": {
        "id": "pGUDmEtp6bzt"
      },
      "source": [
        "## None\n",
        "\n",
        "**ничего, null**\n",
        "\n",
        "Специальный тип в питоне, который обозначает *ничего*\n",
        "\n",
        "Его нельзя привести ни к одному другому типу языка. Проверить, является ли переменная param типом None, можно так:\n",
        "\n",
        "```\n",
        "if param is None\n",
        "```\n",
        "\n",
        "С первого взгляда может быть непонятно, зачем он нужен, но на самом деле это оченб удобный тип. Например, если вы где-то в коде создаете объект (базу данных, например), обращаясь к внешнему коду и хотите проверить, создалась ли ваша база данных, вы можете осуществить эту проверку, сравнив переменную базы данных с None. Примерно так:\n",
        "\n",
        "```\n",
        "database = MyDatabase(db_host, db_user, db_password, db_database)\n",
        "\n",
        "if database is None:\n",
        "```"
      ]
    },
    {
      "cell_type": "code",
      "metadata": {
        "id": "vImBD2736Wvh",
        "colab": {
          "base_uri": "https://localhost:8080/",
          "height": 34
        },
        "outputId": "23b68bfe-f845-4b78-a7a2-30083e6dd627"
      },
      "source": [
        "z = None\n",
        "print(z, '|', type(z))"
      ],
      "execution_count": null,
      "outputs": [
        {
          "output_type": "stream",
          "text": [
            "None | <class 'NoneType'>\n"
          ],
          "name": "stdout"
        }
      ]
    },
    {
      "cell_type": "code",
      "metadata": {
        "id": "bThGRBPQ6kX4",
        "colab": {
          "base_uri": "https://localhost:8080/",
          "height": 182
        },
        "outputId": "a26e490c-4e99-4f3d-add7-6b55e6a1da1b"
      },
      "source": [
        "# Убедимся, что None нельзя привести к другому типу:\n",
        "int(z)"
      ],
      "execution_count": null,
      "outputs": [
        {
          "output_type": "error",
          "ename": "TypeError",
          "evalue": "ignored",
          "traceback": [
            "\u001b[0;31m---------------------------------------------------------------------------\u001b[0m",
            "\u001b[0;31mTypeError\u001b[0m                                 Traceback (most recent call last)",
            "\u001b[0;32m<ipython-input-27-7badc39345d2>\u001b[0m in \u001b[0;36m<module>\u001b[0;34m()\u001b[0m\n\u001b[1;32m      1\u001b[0m \u001b[0;31m# Убедимся, что None нельзя привести к другому типу:\u001b[0m\u001b[0;34m\u001b[0m\u001b[0;34m\u001b[0m\u001b[0;34m\u001b[0m\u001b[0m\n\u001b[0;32m----> 2\u001b[0;31m \u001b[0mint\u001b[0m\u001b[0;34m(\u001b[0m\u001b[0mz\u001b[0m\u001b[0;34m)\u001b[0m\u001b[0;34m\u001b[0m\u001b[0;34m\u001b[0m\u001b[0m\n\u001b[0m",
            "\u001b[0;31mTypeError\u001b[0m: int() argument must be a string, a bytes-like object or a number, not 'NoneType'"
          ]
        }
      ]
    },
    {
      "cell_type": "markdown",
      "metadata": {
        "id": "Z8b2y0QY6pCb"
      },
      "source": [
        "То, что мы сейчас получили - ошибка, подсвечивается красным, детальнее будет рассмотрено далее."
      ]
    },
    {
      "cell_type": "markdown",
      "metadata": {
        "id": "KRSA7Vz_6oV9"
      },
      "source": [
        "Проверка переменной на None:"
      ]
    },
    {
      "cell_type": "code",
      "metadata": {
        "id": "2JxxMha66mxg",
        "colab": {
          "base_uri": "https://localhost:8080/",
          "height": 34
        },
        "outputId": "c3af6e8f-6f76-43cf-b36d-4c97bb09b531"
      },
      "source": [
        "if z == None:\n",
        "    z = 'I am None!'\n",
        "z"
      ],
      "execution_count": null,
      "outputs": [
        {
          "output_type": "execute_result",
          "data": {
            "text/plain": [
              "'I am None!'"
            ]
          },
          "metadata": {
            "tags": []
          },
          "execution_count": 28
        }
      ]
    },
    {
      "cell_type": "markdown",
      "metadata": {
        "id": "v08_HHx96yJM"
      },
      "source": [
        "## str\n",
        "\n",
        "**строка**\n",
        "\n",
        "Тип переменной \"строка\". Нужен для хранения и выполнения операций с строками -- наборами символов. В питоне строку можно задавать как с помощью одинарных кавычек, так и с помощью двойных, разницы нет (главное, чтобы в начале и конце одной строки стояли одинаковые кавычки):\n",
        "\n",
        "В *python2.7* есть отдельный тип **unicode**. В *python3.5 (и выше)* (который будем использовать мы) всё это включено в тип **str**."
      ]
    },
    {
      "cell_type": "code",
      "metadata": {
        "id": "iPOkq1NB6wzn",
        "colab": {
          "base_uri": "https://localhost:8080/",
          "height": 52
        },
        "outputId": "b9e2d941-14e2-46c7-fee1-26a32f702e80"
      },
      "source": [
        "x = \"abc\"\n",
        "y = 'xyz'\n",
        "print(x, '|', type(x))\n",
        "print(y, '|', type(y))"
      ],
      "execution_count": null,
      "outputs": [
        {
          "output_type": "stream",
          "text": [
            "abc | <class 'str'>\n",
            "xyz | <class 'str'>\n"
          ],
          "name": "stdout"
        }
      ]
    },
    {
      "cell_type": "markdown",
      "metadata": {
        "id": "fvnWNxCM606N"
      },
      "source": [
        "Со строками тоже можно выполнять некоторые операции. Например, можно сложить две строки -- тогда вторая припишется в конец первой:"
      ]
    },
    {
      "cell_type": "code",
      "metadata": {
        "id": "om5Hmqcn6zSP",
        "colab": {
          "base_uri": "https://localhost:8080/",
          "height": 34
        },
        "outputId": "e380e5ab-11f4-4c6e-f076-0780e94d7c4e"
      },
      "source": [
        "a = 'Привет'\n",
        "b = \"Мир\"\n",
        "s = a + \" \" + b\n",
        "print(s)"
      ],
      "execution_count": null,
      "outputs": [
        {
          "output_type": "stream",
          "text": [
            "Привет Мир\n"
          ],
          "name": "stdout"
        }
      ]
    },
    {
      "cell_type": "markdown",
      "metadata": {
        "id": "JToL4owy63gB"
      },
      "source": [
        "Также у строк есть некоторое количество *методов*\n",
        "\n",
        "Метод -- это название для функций, которые вызываются от объекта. Например, у нас есть объект a -- строка, и у нее можно вызвать метод `.upper()`:\n",
        "\n",
        "```\n",
        "a.upper()\n",
        "```\n",
        "\n",
        "Методы деляится на те, которые изменяют сам объект, который их вызывает, и на те, которые возвращают результат, но не изменяют сам объект. \n",
        "\n",
        "Вот пример методов `.upper()` и `.lower()`, которые возвращают копию строки (не изменяя саму строку), от которой был вызван метод, приведенную к верхнему и нижнему регистру соответственно:\n",
        "\n",
        "P.S. При вызове метода какого-то класса (или функции какого-то модуля) можно написать его имя и через точку нажать **tab**:  \n",
        "\n",
        "<имя\\_объекта\\_класса(модуля)>**.[tab]**  \n",
        "\n",
        "Тогда всплывёт меню, в котором можно выбрать из всех существующих в этом классе методов (функций модуля)."
      ]
    },
    {
      "cell_type": "code",
      "metadata": {
        "id": "UrOgZuuZ62Vf",
        "colab": {
          "base_uri": "https://localhost:8080/",
          "height": 52
        },
        "outputId": "cdc23f99-763e-4887-890c-6e638d9e971f"
      },
      "source": [
        "print(a.upper())\n",
        "print(a.lower())"
      ],
      "execution_count": null,
      "outputs": [
        {
          "output_type": "stream",
          "text": [
            "ПРИВЕТ\n",
            "привет\n"
          ],
          "name": "stdout"
        }
      ]
    },
    {
      "cell_type": "markdown",
      "metadata": {
        "id": "RZmb-naF663e"
      },
      "source": [
        "Можно получить длину строки с помощью функции `len`:"
      ]
    },
    {
      "cell_type": "code",
      "metadata": {
        "id": "muhGFMVI65rm",
        "colab": {
          "base_uri": "https://localhost:8080/",
          "height": 34
        },
        "outputId": "4d314a5a-8fea-42e8-a6b4-609b8e3b9e60"
      },
      "source": [
        "print(len(a))"
      ],
      "execution_count": null,
      "outputs": [
        {
          "output_type": "stream",
          "text": [
            "6\n"
          ],
          "name": "stdout"
        }
      ]
    },
    {
      "cell_type": "markdown",
      "metadata": {
        "id": "RR-pX2ZK69HP"
      },
      "source": [
        "Можно обращаться к отдельным элементам строки через индексы (индексация в питоне с 0):"
      ]
    },
    {
      "cell_type": "code",
      "metadata": {
        "id": "dBIpbT3v678f",
        "colab": {
          "base_uri": "https://localhost:8080/",
          "height": 68
        },
        "outputId": "c53b3c7f-5e3c-482f-880b-a7f18fa74cfe"
      },
      "source": [
        "print(a)\n",
        "print(a[0])\n",
        "print(a[1])"
      ],
      "execution_count": null,
      "outputs": [
        {
          "output_type": "stream",
          "text": [
            "Привет\n",
            "П\n",
            "р\n"
          ],
          "name": "stdout"
        }
      ]
    },
    {
      "cell_type": "markdown",
      "metadata": {
        "id": "9g7NtG9P6_6r"
      },
      "source": [
        "Можно проверять наличие подстроки в строке:"
      ]
    },
    {
      "cell_type": "code",
      "metadata": {
        "id": "U0q1kDCg6-UW",
        "colab": {
          "base_uri": "https://localhost:8080/",
          "height": 34
        },
        "outputId": "79f06b14-8fc8-407a-c9f9-a6a2d6ddb15b"
      },
      "source": [
        "s = 'ya stroka'\n",
        "if 'ya' in s:\n",
        "    print(\"ya deistvitel\\'no stroka\")"
      ],
      "execution_count": null,
      "outputs": [
        {
          "output_type": "stream",
          "text": [
            "ya deistvitel'no stroka\n"
          ],
          "name": "stdout"
        }
      ]
    },
    {
      "cell_type": "markdown",
      "metadata": {
        "id": "t6wzHszX7CDL"
      },
      "source": [
        "А вот изменять уже существующие строки нельзя:"
      ]
    },
    {
      "cell_type": "code",
      "metadata": {
        "id": "LUr7fBhC7A2W",
        "colab": {
          "base_uri": "https://localhost:8080/",
          "height": 183
        },
        "outputId": "d45949ff-2a73-47fb-ba01-b93ea0634c41"
      },
      "source": [
        "s = 'ya stroka'\n",
        "s[0] = 'l'"
      ],
      "execution_count": null,
      "outputs": [
        {
          "output_type": "error",
          "ename": "TypeError",
          "evalue": "ignored",
          "traceback": [
            "\u001b[0;31m---------------------------------------------------------------------------\u001b[0m",
            "\u001b[0;31mTypeError\u001b[0m                                 Traceback (most recent call last)",
            "\u001b[0;32m<ipython-input-28-67b6cd68c88b>\u001b[0m in \u001b[0;36m<module>\u001b[0;34m()\u001b[0m\n\u001b[1;32m      1\u001b[0m \u001b[0ms\u001b[0m \u001b[0;34m=\u001b[0m \u001b[0;34m'ya stroka'\u001b[0m\u001b[0;34m\u001b[0m\u001b[0;34m\u001b[0m\u001b[0m\n\u001b[0;32m----> 2\u001b[0;31m \u001b[0ms\u001b[0m\u001b[0;34m[\u001b[0m\u001b[0;36m0\u001b[0m\u001b[0;34m]\u001b[0m \u001b[0;34m=\u001b[0m \u001b[0;34m'l'\u001b[0m\u001b[0;34m\u001b[0m\u001b[0;34m\u001b[0m\u001b[0m\n\u001b[0m",
            "\u001b[0;31mTypeError\u001b[0m: 'str' object does not support item assignment"
          ]
        }
      ]
    },
    {
      "cell_type": "markdown",
      "metadata": {
        "id": "iHOBmIMt7G8m"
      },
      "source": [
        "У строк наряду с методами `.upper()`, `.lower()` и остальными есть метод `.split()`, который часто бывает очень полезен. Этот метод делит строку на несколько по символу, который ему указываешь, и возвращает набор полученных строк (точнее, массив полученных строк -- о том, что такое массив, ниже)\n",
        "\n",
        "Если символ не указывать, строка делится по пробелам:"
      ]
    },
    {
      "cell_type": "code",
      "metadata": {
        "id": "O3AgDs2Y7DLm",
        "colab": {
          "base_uri": "https://localhost:8080/",
          "height": 34
        },
        "outputId": "9fa0bd3b-7577-4b2f-a98b-f90b3a4311ba"
      },
      "source": [
        "splitted_line = \"Раз два три\".split()\n",
        "print(splitted_line)"
      ],
      "execution_count": null,
      "outputs": [
        {
          "output_type": "stream",
          "text": [
            "['Раз', 'два', 'три']\n"
          ],
          "name": "stdout"
        }
      ]
    },
    {
      "cell_type": "code",
      "metadata": {
        "id": "QYXYSoNP7IEl",
        "colab": {
          "base_uri": "https://localhost:8080/",
          "height": 34
        },
        "outputId": "2a2f4b79-71d4-4702-dc52-8546223c950a"
      },
      "source": [
        "splitted_line = \"Раз два три\".split('дв')\n",
        "print(splitted_line)"
      ],
      "execution_count": null,
      "outputs": [
        {
          "output_type": "stream",
          "text": [
            "['Раз ', 'а три']\n"
          ],
          "name": "stdout"
        }
      ]
    },
    {
      "cell_type": "markdown",
      "metadata": {
        "id": "WeLvFZAp7LAh"
      },
      "source": [
        "Только что мы получили наш текст в кавычках через запятую - это список, ддалее переходим к структурам данных и встроенными в них функциями."
      ]
    },
    {
      "cell_type": "markdown",
      "metadata": {
        "id": "e53GY3al7d-i"
      },
      "source": [
        "# Структуры данных и встроенные функции"
      ]
    },
    {
      "cell_type": "markdown",
      "metadata": {
        "id": "sAjK_o5P7g3y"
      },
      "source": [
        "## list\n",
        "\n",
        "**массив, список, лист**\n",
        "\n",
        "Вот мы и добрались до типов языка python, которые представляют собой *контейнеры*, то есть, это типы данных, которые являют собой хранилища для других типов данных.\n",
        "\n",
        "Один из таких типов -- `list` (массив, список, лист). Это контейнер, куда можно положить сколько угодно других переменных, значений, и эти переменные даже могут быть разных типов и даже так же могут быть контейнерами! То есть, в list можно положить list:\n",
        "\n",
        "Чтобы задать list, надо в квадратные скобки `[]` положить нужные элементы. Пустые скобки задают пустой list. Пустой лист также можно задать, написав `list()`:"
      ]
    },
    {
      "cell_type": "code",
      "metadata": {
        "id": "KAiiJAqh7dS7",
        "colab": {
          "base_uri": "https://localhost:8080/",
          "height": 35
        },
        "outputId": "87c337ba-2d5e-4f73-83a1-467759d936f8"
      },
      "source": [
        "a = list()\n",
        "b = []\n",
        "\n",
        "# убедимся, что два варианта создания пустого массива эквивалентны:\n",
        "print(a == b)"
      ],
      "execution_count": null,
      "outputs": [
        {
          "output_type": "stream",
          "text": [
            "True\n"
          ],
          "name": "stdout"
        }
      ]
    },
    {
      "cell_type": "code",
      "metadata": {
        "id": "eXuvMS0H7jnS"
      },
      "source": [
        "# можно хранить разные типы данных!\n",
        "c = [2, 'a', [4, 'stroka', 6.56]]"
      ],
      "execution_count": null,
      "outputs": []
    },
    {
      "cell_type": "markdown",
      "metadata": {
        "id": "qMqkCfG97rX7"
      },
      "source": [
        "Что можно делать с list:\n",
        "\n",
        "Можно положить элемент в конец массива:"
      ]
    },
    {
      "cell_type": "code",
      "metadata": {
        "id": "_mwd85ur7I5G",
        "colab": {
          "base_uri": "https://localhost:8080/",
          "height": 34
        },
        "outputId": "1e2e2066-c2ec-44ec-e98d-11c8b0d0ddb7"
      },
      "source": [
        "c.append(4.67)\n",
        "c"
      ],
      "execution_count": null,
      "outputs": [
        {
          "output_type": "execute_result",
          "data": {
            "text/plain": [
              "[2, 'a', [4, 'stroka', 6.56], 4.67]"
            ]
          },
          "metadata": {
            "tags": []
          },
          "execution_count": 41
        }
      ]
    },
    {
      "cell_type": "markdown",
      "metadata": {
        "id": "6iki5eSy7w-H"
      },
      "source": [
        "можно удалить элемент с конца массива:"
      ]
    },
    {
      "cell_type": "code",
      "metadata": {
        "id": "wunFxb7U7v-z",
        "colab": {
          "base_uri": "https://localhost:8080/",
          "height": 34
        },
        "outputId": "fab1158b-dd8d-4515-b84f-9dd615edad26"
      },
      "source": [
        "c.pop()\n",
        "c"
      ],
      "execution_count": null,
      "outputs": [
        {
          "output_type": "execute_result",
          "data": {
            "text/plain": [
              "[2, 'a', [4, 'stroka', 6.56]]"
            ]
          },
          "metadata": {
            "tags": []
          },
          "execution_count": 42
        }
      ]
    },
    {
      "cell_type": "markdown",
      "metadata": {
        "id": "t2cK-d9D7zeu"
      },
      "source": [
        "**Методы list, которые мы рассмотрим ниже, будут работать для всех iterable контейнеров**\n",
        "\n",
        "(что значит iterabel, можно прочитать тут: http://pythonz.net/references/named/iterable/\n",
        "\n",
        "кратко -- это структуры данных, поддерживающие поочередный проход по своим элементам)\n",
        "\n",
        "По индексам можно получить доступ к элементам массива (индексация, как обычно, с 0):"
      ]
    },
    {
      "cell_type": "code",
      "metadata": {
        "id": "YZSeMTgR7yVq",
        "colab": {
          "base_uri": "https://localhost:8080/",
          "height": 68
        },
        "outputId": "f00f45ba-c8ad-4b77-9010-cc6b76769c3b"
      },
      "source": [
        "print(c[0])\n",
        "print(c[2])\n",
        "# да, индексы могут быть отрицательные: -i есть i-ый с конца элемент массива (в нумерации с 1)\n",
        "print(c[-1])"
      ],
      "execution_count": null,
      "outputs": [
        {
          "output_type": "stream",
          "text": [
            "2\n",
            "[4, 'stroka', 6.56]\n",
            "[4, 'stroka', 6.56]\n"
          ],
          "name": "stdout"
        }
      ]
    },
    {
      "cell_type": "markdown",
      "metadata": {
        "id": "mC5K1R2Z72xT"
      },
      "source": [
        "Можно не только получать по 1 элементу массива, но и *слайс* -- элементы массива с индексами между i (включительно) и j (не включительно):"
      ]
    },
    {
      "cell_type": "code",
      "metadata": {
        "id": "0cGdGjID71ey",
        "colab": {
          "base_uri": "https://localhost:8080/",
          "height": 35
        },
        "outputId": "75f420de-e135-44eb-df6a-f3703ac9e9ce"
      },
      "source": [
        "# в d будет записан новый массив, в котором будут 1 и 2 элементы массива c\n",
        "d = c[1:3]\n",
        "print(d)"
      ],
      "execution_count": null,
      "outputs": [
        {
          "output_type": "stream",
          "text": [
            "['a', [4, 'stroka', 6.56]]\n"
          ],
          "name": "stdout"
        }
      ]
    },
    {
      "cell_type": "markdown",
      "metadata": {
        "id": "xcuZQQgO74wJ"
      },
      "source": [
        "А еще можно сделать операцию наоборот -- не по индексу получить элемент массива, а по элементу массива получить его индекс.\n",
        "\n",
        "`L.index(element)` - возвращает индекс элемента `element` в списке `L`, если он там присутствует, `None` иначе (вот еще один пример использования None)"
      ]
    },
    {
      "cell_type": "code",
      "metadata": {
        "id": "Tg0lMqmr73jC",
        "colab": {
          "base_uri": "https://localhost:8080/",
          "height": 34
        },
        "outputId": "7103c04d-45ec-4055-faa9-9b8db1758da8"
      },
      "source": [
        "c.index('a')"
      ],
      "execution_count": null,
      "outputs": [
        {
          "output_type": "execute_result",
          "data": {
            "text/plain": [
              "1"
            ]
          },
          "metadata": {
            "tags": []
          },
          "execution_count": 47
        }
      ]
    },
    {
      "cell_type": "markdown",
      "metadata": {
        "id": "ma6pTfHh7940"
      },
      "source": [
        "Можно проверять принадлежность элемента массиву:"
      ]
    },
    {
      "cell_type": "code",
      "metadata": {
        "id": "ka1lZNge76Ea",
        "colab": {
          "base_uri": "https://localhost:8080/",
          "height": 34
        },
        "outputId": "0786ddf0-0096-4002-fc69-eb06f54bc414"
      },
      "source": [
        "4 in c"
      ],
      "execution_count": null,
      "outputs": [
        {
          "output_type": "execute_result",
          "data": {
            "text/plain": [
              "False"
            ]
          },
          "metadata": {
            "tags": []
          },
          "execution_count": 48
        }
      ]
    },
    {
      "cell_type": "code",
      "metadata": {
        "id": "tK8BeYrB789C",
        "colab": {
          "base_uri": "https://localhost:8080/",
          "height": 34
        },
        "outputId": "d133e256-e585-4f59-e1fe-9df1a50a6d0b"
      },
      "source": [
        "if 'a' in c:\n",
        "    print(\"element \\'a\\' in c\")"
      ],
      "execution_count": null,
      "outputs": [
        {
          "output_type": "stream",
          "text": [
            "element 'a' in c\n"
          ],
          "name": "stdout"
        }
      ]
    },
    {
      "cell_type": "markdown",
      "metadata": {
        "id": "wyvSw30a8BO4"
      },
      "source": [
        "Можно еще сложнее: получить каждый k-й элемент массива c, начиная с элемента с индексом i (включительно) и заканчивая элементом с индексом j (не включительно):"
      ]
    },
    {
      "cell_type": "code",
      "metadata": {
        "id": "vQfT_feP8ACC",
        "colab": {
          "base_uri": "https://localhost:8080/"
        },
        "outputId": "c2ea427a-60ef-4396-e23d-6ddcf7567f06"
      },
      "source": [
        "c = [1, 2, 3, 4, 5, 6, 7, 8, 9]\n",
        "d = c[1:7:2]\n",
        "\n",
        "# в си это выглядело бы как-то так:   for(int i = 1; i < 7; i += 2) {}\n",
        "# в питоне это компактное название_массива[с какого считаем : по какой считаем : с каким шагом]\n",
        "\n",
        "print(d)"
      ],
      "execution_count": null,
      "outputs": [
        {
          "output_type": "stream",
          "name": "stdout",
          "text": [
            "[2, 4, 6]\n"
          ]
        }
      ]
    },
    {
      "cell_type": "markdown",
      "metadata": {
        "id": "wNYMbbOn8Dr0"
      },
      "source": [
        "С помощью слайсов можно перевернуть массив, например:"
      ]
    },
    {
      "cell_type": "code",
      "metadata": {
        "id": "ajXFVkKc8CKS",
        "colab": {
          "base_uri": "https://localhost:8080/",
          "height": 51
        },
        "outputId": "34f98522-12a1-4c51-e28d-c495bd198d6f"
      },
      "source": [
        "print(c)\n",
        "# получим каждый минус первый элемент массива начиная с 0 индекса и заканчивая последним\n",
        "d = c[::-1]\n",
        "print(d)"
      ],
      "execution_count": null,
      "outputs": [
        {
          "output_type": "stream",
          "text": [
            "[1, 2, 3, 4, 5, 6, 7, 8, 9]\n",
            "[9, 8, 7, 6, 5, 4, 3, 2, 1]\n"
          ],
          "name": "stdout"
        }
      ]
    },
    {
      "cell_type": "markdown",
      "metadata": {
        "id": "HIDmDnxJ8YGo"
      },
      "source": [
        "Элементы массива также можно изменять, обращаясь к ним по индексу или слайсу:"
      ]
    },
    {
      "cell_type": "code",
      "metadata": {
        "id": "GWe4bXH48E1p",
        "colab": {
          "base_uri": "https://localhost:8080/",
          "height": 51
        },
        "outputId": "92dd6227-c906-4535-f982-c54d44def257"
      },
      "source": [
        "print(c)\n",
        "c[0] = 100500\n",
        "print(c)"
      ],
      "execution_count": null,
      "outputs": [
        {
          "output_type": "stream",
          "text": [
            "[1, 2, 3, 4, 5, 6, 7, 8, 9]\n",
            "[100500, 2, 3, 4, 5, 6, 7, 8, 9]\n"
          ],
          "name": "stdout"
        }
      ]
    },
    {
      "cell_type": "code",
      "metadata": {
        "id": "nHjtOWY98ZTI",
        "colab": {
          "base_uri": "https://localhost:8080/",
          "height": 51
        },
        "outputId": "22d7ce7f-7712-4642-c35f-5f57e6bc7357"
      },
      "source": [
        "# вместо 2, 3 и 4 элементов массива запишем  число 80\n",
        "c[2:5] = [80]\n",
        "print(c)\n",
        "# вместо 2, 3 и 4 элементов массива запишем  числа 80, 90\n",
        "c[2:5] = [80, 90]\n",
        "print(c)"
      ],
      "execution_count": null,
      "outputs": [
        {
          "output_type": "stream",
          "text": [
            "[100500, 2, 80, 6, 7, 8, 9]\n",
            "[100500, 2, 80, 90, 8, 9]\n"
          ],
          "name": "stdout"
        }
      ]
    },
    {
      "cell_type": "markdown",
      "metadata": {
        "id": "vWVsz1bJ8bud"
      },
      "source": [
        "Также массивы можно складывать. Результатом сложения двух массивов будет новый массив, в котором сначала будут записаны элементы первого массива, затем -- второго:"
      ]
    },
    {
      "cell_type": "code",
      "metadata": {
        "id": "pwNYfAS28aV4",
        "colab": {
          "base_uri": "https://localhost:8080/",
          "height": 34
        },
        "outputId": "37ca9491-78b4-4d55-8aa9-ee71c3b29b09"
      },
      "source": [
        "d = [9, 0]\n",
        "c+d"
      ],
      "execution_count": null,
      "outputs": [
        {
          "output_type": "execute_result",
          "data": {
            "text/plain": [
              "[100500, 2, 80, 90, 8, 9, 9, 0]"
            ]
          },
          "metadata": {
            "tags": []
          },
          "execution_count": 55
        }
      ]
    },
    {
      "cell_type": "markdown",
      "metadata": {
        "id": "PHWAax5f8ePg"
      },
      "source": [
        "А вот вычитать нельзя:"
      ]
    },
    {
      "cell_type": "code",
      "metadata": {
        "id": "gh_eq3WQ8c34",
        "colab": {
          "base_uri": "https://localhost:8080/",
          "height": 164
        },
        "outputId": "b392a186-b0ad-4d2e-b67b-6e837748d7e7"
      },
      "source": [
        "c-d"
      ],
      "execution_count": null,
      "outputs": [
        {
          "output_type": "error",
          "ename": "TypeError",
          "evalue": "ignored",
          "traceback": [
            "\u001b[0;31m---------------------------------------------------------------------------\u001b[0m",
            "\u001b[0;31mTypeError\u001b[0m                                 Traceback (most recent call last)",
            "\u001b[0;32m<ipython-input-56-e33c52a5f238>\u001b[0m in \u001b[0;36m<module>\u001b[0;34m()\u001b[0m\n\u001b[0;32m----> 1\u001b[0;31m \u001b[0mc\u001b[0m\u001b[0;34m-\u001b[0m\u001b[0md\u001b[0m\u001b[0;34m\u001b[0m\u001b[0;34m\u001b[0m\u001b[0m\n\u001b[0m",
            "\u001b[0;31mTypeError\u001b[0m: unsupported operand type(s) for -: 'list' and 'list'"
          ]
        }
      ]
    },
    {
      "cell_type": "markdown",
      "metadata": {
        "id": "9tcIPhBC8hja"
      },
      "source": [
        "С помощью `len()` можно получить размер листа (и вообще любого iterable объекта):"
      ]
    },
    {
      "cell_type": "code",
      "metadata": {
        "id": "5j7ZvPba8fkI",
        "colab": {
          "base_uri": "https://localhost:8080/",
          "height": 34
        },
        "outputId": "440dc039-3b1b-4cb0-f301-4e9707f92102"
      },
      "source": [
        "len(c)"
      ],
      "execution_count": null,
      "outputs": [
        {
          "output_type": "execute_result",
          "data": {
            "text/plain": [
              "6"
            ]
          },
          "metadata": {
            "tags": []
          },
          "execution_count": 57
        }
      ]
    },
    {
      "cell_type": "markdown",
      "metadata": {
        "id": "qkHbmxV98kZW"
      },
      "source": [
        "можно отсортировать элементы массива, вызвав метод .sort():"
      ]
    },
    {
      "cell_type": "code",
      "metadata": {
        "id": "vx4Z4iWe8ik4",
        "colab": {
          "base_uri": "https://localhost:8080/",
          "height": 35
        },
        "outputId": "effbbbf4-bcc9-49ab-a6e1-679da21f68eb"
      },
      "source": [
        "# вызов метода sort изменяет сам объект c, а не возвращает копию:\n",
        "c.sort()\n",
        "c"
      ],
      "execution_count": null,
      "outputs": [
        {
          "output_type": "execute_result",
          "data": {
            "text/plain": [
              "[2, 8, 9, 80, 90, 100500]"
            ]
          },
          "metadata": {
            "tags": []
          },
          "execution_count": 50
        }
      ]
    },
    {
      "cell_type": "markdown",
      "metadata": {
        "id": "rVWqOI8j8net"
      },
      "source": [
        "## tuple\n",
        "\n",
        "**кортеж**\n",
        "\n",
        "этот тип данных очень похож на list, имеет ту же структуру, но отличается тем, что он неизменяемый\n",
        "\n",
        "это нужно, например, чтобы `tuple` мог выступать в качестве ключей словаря (о них ниже). list в качестве ключей словаря выступать не может.\n",
        "\n",
        "Задать tuple можно круглыми скобками:"
      ]
    },
    {
      "cell_type": "code",
      "metadata": {
        "id": "ozpvJBWD8la3",
        "colab": {
          "base_uri": "https://localhost:8080/",
          "height": 34
        },
        "outputId": "1e68b6a5-7c8b-47e7-d769-8caf313870c0"
      },
      "source": [
        "t = 'a', 5, 12.345, (2, 'b')\n",
        "t"
      ],
      "execution_count": null,
      "outputs": [
        {
          "output_type": "execute_result",
          "data": {
            "text/plain": [
              "('a', 5, 12.345, (2, 'b'))"
            ]
          },
          "metadata": {
            "tags": []
          },
          "execution_count": 59
        }
      ]
    },
    {
      "cell_type": "markdown",
      "metadata": {
        "id": "pNp-uu_b8rpY"
      },
      "source": [
        "Tuple нельзя изменять. Давайте в этом убедимся:"
      ]
    },
    {
      "cell_type": "code",
      "metadata": {
        "id": "6X8c3kDr8qKO",
        "colab": {
          "base_uri": "https://localhost:8080/",
          "height": 164
        },
        "outputId": "ef9d5507-b6fd-4ec3-aec7-1689d776ddac"
      },
      "source": [
        "t.append(5)"
      ],
      "execution_count": null,
      "outputs": [
        {
          "output_type": "error",
          "ename": "AttributeError",
          "evalue": "ignored",
          "traceback": [
            "\u001b[0;31m---------------------------------------------------------------------------\u001b[0m",
            "\u001b[0;31mAttributeError\u001b[0m                            Traceback (most recent call last)",
            "\u001b[0;32m<ipython-input-60-7bc26d8122b5>\u001b[0m in \u001b[0;36m<module>\u001b[0;34m()\u001b[0m\n\u001b[0;32m----> 1\u001b[0;31m \u001b[0mt\u001b[0m\u001b[0;34m.\u001b[0m\u001b[0mappend\u001b[0m\u001b[0;34m(\u001b[0m\u001b[0;36m5\u001b[0m\u001b[0;34m)\u001b[0m\u001b[0;34m\u001b[0m\u001b[0;34m\u001b[0m\u001b[0m\n\u001b[0m",
            "\u001b[0;31mAttributeError\u001b[0m: 'tuple' object has no attribute 'append'"
          ]
        }
      ]
    },
    {
      "cell_type": "code",
      "metadata": {
        "id": "4UzHGykf8tIm",
        "colab": {
          "base_uri": "https://localhost:8080/",
          "height": 164
        },
        "outputId": "e48d8bd2-df80-46f1-d964-7518c5d52ca4"
      },
      "source": [
        "t[0] = 9"
      ],
      "execution_count": null,
      "outputs": [
        {
          "output_type": "error",
          "ename": "TypeError",
          "evalue": "ignored",
          "traceback": [
            "\u001b[0;31m---------------------------------------------------------------------------\u001b[0m",
            "\u001b[0;31mTypeError\u001b[0m                                 Traceback (most recent call last)",
            "\u001b[0;32m<ipython-input-61-9a6f3bfc01f7>\u001b[0m in \u001b[0;36m<module>\u001b[0;34m()\u001b[0m\n\u001b[0;32m----> 1\u001b[0;31m \u001b[0mt\u001b[0m\u001b[0;34m[\u001b[0m\u001b[0;36m0\u001b[0m\u001b[0;34m]\u001b[0m \u001b[0;34m=\u001b[0m \u001b[0;36m9\u001b[0m\u001b[0;34m\u001b[0m\u001b[0;34m\u001b[0m\u001b[0m\n\u001b[0m",
            "\u001b[0;31mTypeError\u001b[0m: 'tuple' object does not support item assignment"
          ]
        }
      ]
    },
    {
      "cell_type": "markdown",
      "metadata": {
        "id": "X8fWO93b8vOE"
      },
      "source": [
        "Но получать элементы по индексу и слайсам, конечно, можно (tuple же iterable):"
      ]
    },
    {
      "cell_type": "code",
      "metadata": {
        "id": "aFjAQ4RS8t9u",
        "colab": {
          "base_uri": "https://localhost:8080/",
          "height": 68
        },
        "outputId": "46968f72-01e4-4411-f297-3a71372f6dba"
      },
      "source": [
        "print(t[2])\n",
        "print(t.index(5))\n",
        "print(t[:2])"
      ],
      "execution_count": null,
      "outputs": [
        {
          "output_type": "stream",
          "text": [
            "12.345\n",
            "1\n",
            "('a', 5)\n"
          ],
          "name": "stdout"
        }
      ]
    },
    {
      "cell_type": "markdown",
      "metadata": {
        "id": "PA3nqEPe8xsW"
      },
      "source": [
        "Как и list, кортежи можно складывать и работает сложение так же, как в list \n",
        "\n",
        "(вообще, с кортежами можно делать все, что можно делать с list, если это не изменяет кортеж)"
      ]
    },
    {
      "cell_type": "code",
      "metadata": {
        "id": "JTwqdT9G8w2W",
        "colab": {
          "base_uri": "https://localhost:8080/",
          "height": 68
        },
        "outputId": "2f40ac86-da16-47a6-917c-324990a08d71"
      },
      "source": [
        "m = (1, 2, 3)\n",
        "# складывать\n",
        "print(t + m)\n",
        "# узнать размер \n",
        "print(len(t))\n",
        "# проверить наличие элемента\n",
        "print(5 in t)"
      ],
      "execution_count": null,
      "outputs": [
        {
          "output_type": "stream",
          "text": [
            "('a', 5, 12.345, (2, 'b'), 1, 2, 3)\n",
            "4\n",
            "True\n"
          ],
          "name": "stdout"
        }
      ]
    },
    {
      "cell_type": "code",
      "metadata": {
        "id": "XXAUjhR58yjF",
        "colab": {
          "base_uri": "https://localhost:8080/"
        },
        "outputId": "b8390261-f498-41d7-81f4-f354c3858eb0"
      },
      "source": [
        "a = [1, 2, 3]\n",
        "b = a\n",
        "b[0] = 49\n",
        "print(a)"
      ],
      "execution_count": null,
      "outputs": [
        {
          "output_type": "stream",
          "name": "stdout",
          "text": [
            "[49, 2, 3]\n"
          ]
        }
      ]
    },
    {
      "cell_type": "markdown",
      "metadata": {
        "id": "wZm-EuMW81KD"
      },
      "source": [
        "## Циклы - for и while\n",
        "\n",
        "iterable стректуры данных так называются, потому что по ним можно *итерироваться* -- последовательно получать значения последовательных элементов этой структуры данных. Итерироваться можно с помощью циклов `for` или `while`.\n",
        "\n",
        "Синтаксис следующий:\n",
        "\n",
        "```\n",
        "for element in iterable:\n",
        "    <code>\n",
        "```\n",
        "\n",
        "здесь каждую новую итерацию цикла в element будет записываться очередное значение из контейнера iterable и с ним можно будет работать внутри тела цикла (`code`). Когда код внутри тела цикла отработает, начнется новая итерация цикла -- в переменную element запишется следующее значение из iterable и опять будет выполняться code.\n",
        "\n",
        "Код, который будет выполняться каждую итерацию цикла, записывается после двоеточия с отступом 4 пробела от строчки c `for`.\n",
        "\n",
        "Посмотрим на примере:"
      ]
    },
    {
      "cell_type": "code",
      "metadata": {
        "id": "zUEHraOG80E1",
        "colab": {
          "base_uri": "https://localhost:8080/",
          "height": 120
        },
        "outputId": "0e9d7ce1-62cc-47b8-f6b7-cb026f4e62b5"
      },
      "source": [
        "# создадим list элементов\n",
        "models = ['decision tree', 'linear model', 'svm', 'ensemble']\n",
        "\n",
        "# итерируемся по названиям модели: каждую итерацию цикла в переменную model будет\n",
        "# записываться новое значение из models и оно будет использоваться для print(model)\n",
        "for model in models:\n",
        "    # тело цикла. Здесь с отступом в 4 пробела нужно описать код, который будет выполняться на каждой итерации цикла.\n",
        "    print(model)\n",
        "\n",
        "# этот код уже будет выполняться ПОСЛЕ цикла, потому что он записан без отступа в 4 пробела после for:\n",
        "print(\"Done\")\n",
        "print(model)"
      ],
      "execution_count": null,
      "outputs": [
        {
          "output_type": "stream",
          "text": [
            "decision tree\n",
            "linear model\n",
            "svm\n",
            "ensemble\n",
            "Done\n",
            "ensemble\n"
          ],
          "name": "stdout"
        }
      ]
    },
    {
      "cell_type": "markdown",
      "metadata": {
        "id": "Kd38WGh987yz"
      },
      "source": [
        "**P.S.** Зметим, что каждую итерацию цикла в переменную model **копируется** очередное значение из models. Это значит, что если вы внутри цикла измените переменную model, соответствующее значение в массиве models изменено **не будет**\n",
        "\n",
        "Синтаксис `while`:\n",
        "\n",
        "```\n",
        "while <условие (булевское выражение)>:\n",
        "    <code>\n",
        "```\n",
        "\n",
        "Здесь код, написанный вместо `code` будет выполняться каждую итерацию цикла, пока условие после `while` будет выполняться.\n",
        "\n",
        "Посмотрим на примере: Напишем цикл, в котором будем выводить переменную x и увеличивать x на 1, пока x не станет больше 10:"
      ]
    },
    {
      "cell_type": "code",
      "metadata": {
        "id": "d2sSMtPO842F",
        "colab": {
          "base_uri": "https://localhost:8080/",
          "height": 188
        },
        "outputId": "f50e8a0e-cf96-4035-eac6-7470b6ab428a"
      },
      "source": [
        "x = 1\n",
        "\n",
        "while x <= 10:\n",
        "    print(x)\n",
        "    # более удобный способ записи x = x + 1\n",
        "    x += 1"
      ],
      "execution_count": null,
      "outputs": [
        {
          "output_type": "stream",
          "text": [
            "1\n",
            "2\n",
            "3\n",
            "4\n",
            "5\n",
            "6\n",
            "7\n",
            "8\n",
            "9\n",
            "10\n"
          ],
          "name": "stdout"
        }
      ]
    },
    {
      "cell_type": "markdown",
      "metadata": {
        "id": "pMvvjD5X9A70"
      },
      "source": [
        "Иногда бывает нужно прервать выполнение цикла при выполнении какого-то условия\n",
        "\n",
        "Например, мы хотим итерироваться по массиву строк, на каждой итерации выводить строку на экран и прервать цико (перестать выводить строки), если мы встретили строку stop.\n",
        "\n",
        "Это делается с помощью ключевого слова `break`:"
      ]
    },
    {
      "cell_type": "code",
      "metadata": {
        "id": "M5aiUahh89Sl",
        "colab": {
          "base_uri": "https://localhost:8080/",
          "height": 69
        },
        "outputId": "44f7dd7a-e3dc-41e4-9545-820861392c95"
      },
      "source": [
        "mas = ['stroka1', 'stroka2', 'stroka3', 'stop', 'stroka4']\n",
        "\n",
        "for s in mas:\n",
        "    if s == 'stop':\n",
        "        break\n",
        "    print(s)"
      ],
      "execution_count": null,
      "outputs": [
        {
          "output_type": "stream",
          "text": [
            "stroka1\n",
            "stroka2\n",
            "stroka3\n"
          ],
          "name": "stdout"
        }
      ]
    },
    {
      "cell_type": "markdown",
      "metadata": {
        "id": "XH_USWud9C6o"
      },
      "source": [
        "Иногда же хочется не прервать выполнение всего цикла, а прервать выполнение именно одной итерации цикла и продолжить цикл со следующей итерации.\n",
        "\n",
        "Например, мы так же, как в предыдущем примере, хотим итерироваться по массиву строк и выводить строку на каждой итерации на экран, но не хотим выводить строку на экран, если эта строка равна 'null'.\n",
        "\n",
        "Это делается с помощью ключевого слова `continue`:"
      ]
    },
    {
      "cell_type": "code",
      "metadata": {
        "id": "IPSh9cTS9BzV",
        "colab": {
          "base_uri": "https://localhost:8080/",
          "height": 69
        },
        "outputId": "8420bfc6-76bc-4906-aaaf-dc0ead41c1f2"
      },
      "source": [
        "mas = ['stroka1', 'null', 'stroka3', 'stop', 'null']\n",
        "\n",
        "for s in mas:\n",
        "    if s == 'null':\n",
        "        continue\n",
        "    print(s)"
      ],
      "execution_count": null,
      "outputs": [
        {
          "output_type": "stream",
          "text": [
            "stroka1\n",
            "stroka3\n",
            "stop\n"
          ],
          "name": "stdout"
        }
      ]
    },
    {
      "cell_type": "markdown",
      "metadata": {
        "id": "1OzlVeR59GGl"
      },
      "source": [
        "## range\n",
        "\n",
        "Для работы с циклами в питоне есть очень полезная функция `range()`. Допустим, вы хотите написать цикл, который бы отработал 100 раз. Можно сделать это следующим образом:\n",
        "\n",
        "```\n",
        "i = 0\n",
        "while i < 100:\n",
        "    i += 1\n",
        "    <code>\n",
        "```\n",
        "\n",
        "но это неудобно: нужно завести вспомогательную переменную i, написать лишние 2 строчки кода (i=0 и i+=1). Так код терядет в понятности и читабельности. Гораздо проще записать этот цикл с помощью range.\n",
        "\n",
        "`range()` принимает 3 аргумента: начало интервала begin, конец интервала end и шаг step, с которым будет двигаться по игтервалу, и возвращает iterable объект -- по сути, массив чисел начиная с begin включительно, заканчивая end не включительно, числа в массиве идут с шагом step.\n",
        "\n",
        "Посмотрим на пример:"
      ]
    },
    {
      "cell_type": "code",
      "metadata": {
        "id": "SCrT8mj-9Eqd",
        "colab": {
          "base_uri": "https://localhost:8080/",
          "height": 35
        },
        "outputId": "84907e97-f4ee-4e60-a42b-5522d4a31575"
      },
      "source": [
        "r = range(1, 100, 10)\n",
        "#приведем возвращаемый iterable к list и выведем на экран:\n",
        "print(list(r))"
      ],
      "execution_count": null,
      "outputs": [
        {
          "output_type": "stream",
          "text": [
            "[1, 11, 21, 31, 41, 51, 61, 71, 81, 91]\n"
          ],
          "name": "stdout"
        }
      ]
    },
    {
      "cell_type": "markdown",
      "metadata": {
        "id": "jR4ldbhz9Iy-"
      },
      "source": [
        "Теперь легко записать цикл:"
      ]
    },
    {
      "cell_type": "code",
      "metadata": {
        "id": "meGjCEpq9HpV",
        "colab": {
          "base_uri": "https://localhost:8080/"
        },
        "outputId": "a7be4b28-295d-4c80-9615-5f7e6c109fa3"
      },
      "source": [
        "for i in range(1, 10):\n",
        "    print(i)\n",
        "# for(int i = 1; i < 10; i += 1){cout << i;} - in c++"
      ],
      "execution_count": null,
      "outputs": [
        {
          "output_type": "stream",
          "name": "stdout",
          "text": [
            "1\n",
            "2\n",
            "3\n",
            "4\n",
            "5\n",
            "6\n",
            "7\n",
            "8\n",
            "9\n"
          ]
        }
      ]
    },
    {
      "cell_type": "markdown",
      "metadata": {
        "id": "B4-2LZKu9K0X"
      },
      "source": [
        "Если у range не указывать последний алгумент step, он по умолчанию будет 1.\n",
        "\n",
        "А если указать всего один аргумент, то range выдаст iterable с началом в 0 и концом в этом аргументе:"
      ]
    },
    {
      "cell_type": "code",
      "metadata": {
        "id": "hOpFdaD99Jt1",
        "colab": {
          "base_uri": "https://localhost:8080/",
          "height": 35
        },
        "outputId": "1a0b2583-fe41-48dc-853d-5da0ea5fc1cc"
      },
      "source": [
        "list(range(4, 8))"
      ],
      "execution_count": null,
      "outputs": [
        {
          "output_type": "execute_result",
          "data": {
            "text/plain": [
              "[4, 5, 6, 7]"
            ]
          },
          "metadata": {
            "tags": []
          },
          "execution_count": 63
        }
      ]
    },
    {
      "cell_type": "code",
      "metadata": {
        "id": "hoUewwI19MIM",
        "colab": {
          "base_uri": "https://localhost:8080/",
          "height": 35
        },
        "outputId": "28909b09-3682-4002-9a5c-45313c7cf4a5"
      },
      "source": [
        "list(range(8))"
      ],
      "execution_count": null,
      "outputs": [
        {
          "output_type": "execute_result",
          "data": {
            "text/plain": [
              "[0, 1, 2, 3, 4, 5, 6, 7]"
            ]
          },
          "metadata": {
            "tags": []
          },
          "execution_count": 64
        }
      ]
    },
    {
      "cell_type": "markdown",
      "metadata": {
        "id": "N4nmyJTB9PYg"
      },
      "source": [
        "С помощью range нетрудно переписать цикл, который мы писали выше, где итерировались по названиям моделей, так, чтобы элементы массива models  можно было изменять внутри цикла:"
      ]
    },
    {
      "cell_type": "code",
      "metadata": {
        "id": "xMEkXMEV9M2N",
        "colab": {
          "base_uri": "https://localhost:8080/"
        },
        "outputId": "e55e0510-a141-46d8-b45d-d8506cc744ec"
      },
      "source": [
        "# создадим list элементов\n",
        "models = ['decision tree', 'linear model', 'svm', 'ensemble']\n",
        "\n",
        "# итерируемся по индексам массива models\n",
        "for i in range(len(models)):\n",
        "    # тут если вы поменяете models[i], то значение в models тоже изменится\n",
        "    print(models[i])\n",
        "    \n",
        "# этот код уже будет выполняться ПОСЛЕ цикла, потому что он записан без отступа в 4 пробела после for:\n",
        "print(\"Done\")"
      ],
      "execution_count": null,
      "outputs": [
        {
          "output_type": "stream",
          "name": "stdout",
          "text": [
            "decision tree\n",
            "linear model\n",
            "svm\n",
            "ensemble\n",
            "Done\n"
          ]
        }
      ]
    },
    {
      "cell_type": "code",
      "metadata": {
        "colab": {
          "base_uri": "https://localhost:8080/"
        },
        "id": "6zpsc-Vg-fre",
        "outputId": "8c6034f8-d8df-420a-d0ed-f8a469262c11"
      },
      "source": [
        "models"
      ],
      "execution_count": null,
      "outputs": [
        {
          "output_type": "execute_result",
          "data": {
            "text/plain": [
              "['decision treeasdasdasd',\n",
              " 'linear modelasdasdasd',\n",
              " 'svmasdasdasd',\n",
              " 'ensembleasdasdasd']"
            ]
          },
          "metadata": {},
          "execution_count": 12
        }
      ]
    },
    {
      "cell_type": "markdown",
      "metadata": {
        "id": "M6n_8Kgn9YIT"
      },
      "source": [
        "# Несколько заданий на пройденный материал"
      ]
    },
    {
      "cell_type": "markdown",
      "metadata": {
        "id": "TT2xjEgu9nCx"
      },
      "source": [
        "*Подсказка!* проверяйте ваше решение по тому, что уже есть в блоках вывода ячеек"
      ]
    },
    {
      "cell_type": "markdown",
      "metadata": {
        "id": "p8V0RKCF94h6"
      },
      "source": [
        "## Задача 1\n",
        "\n",
        "Создайте переменную a = 10, возвести значение в 3 степень и найти остаток от деления на 3."
      ]
    },
    {
      "cell_type": "code",
      "metadata": {
        "id": "_N-Bcj6D9300",
        "colab": {
          "base_uri": "https://localhost:8080/",
          "height": 35
        },
        "outputId": "af5151c0-2652-41a2-ab94-56246146b1fc"
      },
      "source": [
        ""
      ],
      "execution_count": null,
      "outputs": [
        {
          "output_type": "execute_result",
          "data": {
            "text/plain": [
              "1"
            ]
          },
          "metadata": {
            "tags": []
          },
          "execution_count": 66
        }
      ]
    },
    {
      "cell_type": "markdown",
      "metadata": {
        "id": "S2BzQt1E99Np"
      },
      "source": [
        "## Задача 2\n",
        "\n",
        "Найдите площадь круга с радиусом 1.23456.\n",
        "\n",
        "(Считаем π = 3.14)"
      ]
    },
    {
      "cell_type": "code",
      "metadata": {
        "id": "mkN8EOc098t9",
        "colab": {
          "base_uri": "https://localhost:8080/",
          "height": 35
        },
        "outputId": "287c4ff0-b8d7-4f38-9791-b7b8c3ec4b75"
      },
      "source": [
        ""
      ],
      "execution_count": null,
      "outputs": [
        {
          "output_type": "execute_result",
          "data": {
            "text/plain": [
              "4.785794555904"
            ]
          },
          "metadata": {
            "tags": []
          },
          "execution_count": 67
        }
      ]
    },
    {
      "cell_type": "markdown",
      "metadata": {
        "id": "nP-f4Qd2-BTI"
      },
      "source": [
        "## Задача 3\n",
        "\n",
        "Найдите, истинно ли, что 2 в 10 степени больше 1000 при условии, что 4 в 7й степени меньше 8 в 5й.\n",
        "\n"
      ]
    },
    {
      "cell_type": "code",
      "metadata": {
        "id": "-reh5tB2-CPF",
        "colab": {
          "base_uri": "https://localhost:8080/",
          "height": 35
        },
        "outputId": "1778e92d-4a0b-4765-ac6f-ab6893dfbf2c"
      },
      "source": [
        ""
      ],
      "execution_count": null,
      "outputs": [
        {
          "output_type": "execute_result",
          "data": {
            "text/plain": [
              "True"
            ]
          },
          "metadata": {
            "tags": []
          },
          "execution_count": 68
        }
      ]
    },
    {
      "cell_type": "markdown",
      "metadata": {
        "id": "XcaKAyzZ-MOL"
      },
      "source": [
        "## Задача 4\n",
        "\n",
        "Мы принимаем целое число на ввод с клавиатуры (код предоставлен), вывести \"цена выше рынка\", если число выше 1200, \"цена ниже рыночной\", если число меньше 800 и \"все ок\" в остальных случаях."
      ]
    },
    {
      "cell_type": "code",
      "metadata": {
        "id": "3yLvK2JL-R1g",
        "colab": {
          "base_uri": "https://localhost:8080/",
          "height": 52
        },
        "outputId": "e7e02009-c04c-45f5-922b-9156130dad30"
      },
      "source": [
        "price = int(input('Введите цену товара: '))\n",
        "\n"
      ],
      "execution_count": null,
      "outputs": [
        {
          "output_type": "stream",
          "text": [
            "Введите цену товара: 1000\n",
            "все ок\n"
          ],
          "name": "stdout"
        }
      ]
    },
    {
      "cell_type": "markdown",
      "metadata": {
        "id": "lV0tQp8J-bFI"
      },
      "source": [
        "## Задача 5\n",
        "\n",
        "Распечатайте с 4 по 8 символ фразы \"Привет мир!\" приведенные к верхнему регистру."
      ]
    },
    {
      "cell_type": "code",
      "metadata": {
        "id": "ECKlo9c2-cue",
        "colab": {
          "base_uri": "https://localhost:8080/",
          "height": 35
        },
        "outputId": "099a60e6-c9b8-46e9-bdd2-a000fd64e8f7"
      },
      "source": [
        ""
      ],
      "execution_count": null,
      "outputs": [
        {
          "output_type": "execute_result",
          "data": {
            "text/plain": [
              "'ЕТ М'"
            ]
          },
          "metadata": {
            "tags": []
          },
          "execution_count": 73
        }
      ]
    },
    {
      "cell_type": "markdown",
      "metadata": {
        "id": "2jN3PzaZ-gx4"
      },
      "source": [
        "## Задача 6\n",
        "\n",
        "Создайте переменную, которая хранит описание этой задачи как строку, разделите слова по пробелам и приведите к нижнему регистру."
      ]
    },
    {
      "cell_type": "code",
      "metadata": {
        "id": "A-Ro4i8u-iHv",
        "colab": {
          "base_uri": "https://localhost:8080/",
          "height": 329
        },
        "outputId": "aa7b8330-28df-440d-f401-068f11c2f0a6"
      },
      "source": [
        ""
      ],
      "execution_count": null,
      "outputs": [
        {
          "output_type": "execute_result",
          "data": {
            "text/plain": [
              "['создайте',\n",
              " 'переменную,',\n",
              " 'которая',\n",
              " 'хранит',\n",
              " 'описание',\n",
              " 'этой',\n",
              " 'задачи',\n",
              " 'как',\n",
              " 'строку,',\n",
              " 'разделите',\n",
              " 'слова',\n",
              " 'по',\n",
              " 'пробелам',\n",
              " 'и',\n",
              " 'приведите',\n",
              " 'к',\n",
              " 'нижнему',\n",
              " 'регистру.']"
            ]
          },
          "metadata": {
            "tags": []
          },
          "execution_count": 74
        }
      ]
    },
    {
      "cell_type": "markdown",
      "metadata": {
        "id": "nE4N_rxk-l-L"
      },
      "source": [
        "## Задание 7\n",
        "\n",
        "Напишите код, который проверяет, является ли переменная x строкой, и если да, то если в строке больше одного слова (слово--последовательность подряд идущих символов без пробелов), то выводит на экран количество слов в этой строке и сами слова в алфавитном порядке."
      ]
    },
    {
      "cell_type": "code",
      "metadata": {
        "id": "INh5TwAM9Xmf",
        "colab": {
          "base_uri": "https://localhost:8080/",
          "height": 87
        },
        "outputId": "31ba633f-f368-44ef-e80a-875e295dd876"
      },
      "source": [
        "x = 'z hello world'\n"
      ],
      "execution_count": null,
      "outputs": [
        {
          "output_type": "stream",
          "text": [
            "3\n",
            "hello\n",
            "world\n",
            "z\n"
          ],
          "name": "stdout"
        }
      ]
    },
    {
      "cell_type": "markdown",
      "metadata": {
        "id": "TR1Wvx_Z-tlI"
      },
      "source": [
        "## Задание 8\n",
        "\n",
        "Напишите код, который все элементы массива x с **нечетными** индексами переставит в обратном порядке.\n",
        "\n",
        "Т.е. если x = [0, 1, 2, 3, 4, 5, 6, 7, 8, 9], то код должен получать [0, 9, 2, 7, 4, 5, 6, 3, 8, 1]"
      ]
    },
    {
      "cell_type": "code",
      "metadata": {
        "id": "hh2ackf09QjM",
        "colab": {
          "base_uri": "https://localhost:8080/",
          "height": 35
        },
        "outputId": "6a2fe33c-e7ce-43a3-d728-c517f6abf477"
      },
      "source": [
        ""
      ],
      "execution_count": null,
      "outputs": [
        {
          "output_type": "execute_result",
          "data": {
            "text/plain": [
              "[0, 9, 2, 7, 4, 5, 6, 3, 8, 1]"
            ]
          },
          "metadata": {
            "tags": []
          },
          "execution_count": 76
        }
      ]
    },
    {
      "cell_type": "markdown",
      "metadata": {
        "id": "pdGccRcP-1CC"
      },
      "source": [
        "## Задание 9\n",
        "\n",
        "Напишите цикл, который выводит все числа от 0 до 500, делящиеся на 7, если в них есть цифра 8.\n",
        "\n",
        "*Подсказка*: переменную типа int можно привести к типу str:\n",
        "```\n",
        "x = 5\n",
        "y = str(x)\n",
        "```"
      ]
    },
    {
      "cell_type": "code",
      "metadata": {
        "id": "XAosJEH7sCmT"
      },
      "source": [
        ""
      ],
      "execution_count": null,
      "outputs": []
    },
    {
      "cell_type": "markdown",
      "metadata": {
        "id": "xAWAgKAZ_R4o"
      },
      "source": [
        "# Структуры данных"
      ]
    },
    {
      "cell_type": "markdown",
      "metadata": {
        "id": "6Ay7T7x__cSu"
      },
      "source": [
        "## enumerate, zip\n"
      ]
    },
    {
      "cell_type": "markdown",
      "metadata": {
        "id": "LidbwzvI_eet"
      },
      "source": [
        "Крайне полезные встроенные функции!\n",
        "\n",
        "`zip()` принимает два и больше iterable аргумента и возвращает iterable из пар соответствующих элементов этих двух iterable:"
      ]
    },
    {
      "cell_type": "code",
      "metadata": {
        "id": "44a1FJj2-vx8",
        "colab": {
          "base_uri": "https://localhost:8080/"
        },
        "outputId": "154c566d-c453-493e-991b-82ccb23ad6dc"
      },
      "source": [
        "first = 'a b c d e f g'.split(' ')\n",
        "second = '1 2 3 4 5 6 7'.split(' ')\n",
        "\n",
        "list(zip(first, second, first))"
      ],
      "execution_count": null,
      "outputs": [
        {
          "output_type": "execute_result",
          "data": {
            "text/plain": [
              "[('a', '1', 'a'),\n",
              " ('b', '2', 'b'),\n",
              " ('c', '3', 'c'),\n",
              " ('d', '4', 'd'),\n",
              " ('e', '5', 'e'),\n",
              " ('f', '6', 'f'),\n",
              " ('g', '7', 'g')]"
            ]
          },
          "metadata": {},
          "execution_count": 15
        }
      ]
    },
    {
      "cell_type": "markdown",
      "metadata": {
        "id": "C9nGG-VJ_lP7"
      },
      "source": [
        "Что будет, если один из iterable короче, чем другой:"
      ]
    },
    {
      "cell_type": "code",
      "metadata": {
        "id": "1ZhNLdO-_kOj",
        "colab": {
          "base_uri": "https://localhost:8080/",
          "height": 35
        },
        "outputId": "20c92eca-dcbd-4436-c0ad-2ab58c26d373"
      },
      "source": [
        "# обрежется под наименьший:\n",
        "first = 'a b c d e f g'.split(' ')\n",
        "second = '1 2 3 4 5'.split(' ')\n",
        "\n",
        "list(zip(first, second))"
      ],
      "execution_count": null,
      "outputs": [
        {
          "output_type": "execute_result",
          "data": {
            "text/plain": [
              "[('a', '1'), ('b', '2'), ('c', '3'), ('d', '4'), ('e', '5')]"
            ]
          },
          "metadata": {
            "tags": []
          },
          "execution_count": 78
        }
      ]
    },
    {
      "cell_type": "markdown",
      "metadata": {
        "id": "e8fDxDpo_qJC"
      },
      "source": [
        "Это опять же полезно для использования в циклах:"
      ]
    },
    {
      "cell_type": "code",
      "metadata": {
        "id": "pGbQ2hsh_pIC",
        "colab": {
          "base_uri": "https://localhost:8080/",
          "height": 87
        },
        "outputId": "9d1eca71-189a-49ae-f110-37b8924bfe1d"
      },
      "source": [
        "models = ['decision tree', 'linear model', 'svm', 'ensemble']\n",
        "\n",
        "# zip dвозвращает пару элементов, которые можно записать в 2 разные переменные в цикле for. \n",
        "# например, здесб мы записываем первый элемент пары в num, второй -- в model.\n",
        "for num, model in zip(range(len(models)), models):\n",
        "    print(str(num+1)+'\\'s model is:', model)"
      ],
      "execution_count": null,
      "outputs": [
        {
          "output_type": "stream",
          "text": [
            "1's model is: decision tree\n",
            "2's model is: linear model\n",
            "3's model is: svm\n",
            "4's model is: ensemble\n"
          ],
          "name": "stdout"
        }
      ]
    },
    {
      "cell_type": "markdown",
      "metadata": {
        "id": "nM-5KdK5_tFw"
      },
      "source": [
        "Однако в этом коде мы хотели просто пронумеровать элементы списка models, но нам для этого пришлось писать zip(range(...))\n",
        "\n",
        "Именно для такого случая, когда надо пронумервать элементы какого-то iterable, существует функция `enumerate`:\n",
        "\n",
        "`enumerate(iterable)` возвращает пары номер-элемент iterable:"
      ]
    },
    {
      "cell_type": "code",
      "metadata": {
        "id": "yqHQpwtC_rVC",
        "colab": {
          "base_uri": "https://localhost:8080/"
        },
        "outputId": "cd181461-8152-43b8-e043-65728fd2874a"
      },
      "source": [
        "models = ['decision tree', 'linear model', 'svm', 'ensemble']\n",
        "\n",
        "# zip dвозвращает пару элементов, которые можно записать в 2 разные переменные в цикле for. \n",
        "# например, здесб мы записываем первый элемент пары в num, второй -- в model.\n",
        "for i, model in enumerate(models):\n",
        "    # print(str(num+1)+'\\'s model is:', model)\n",
        "\n",
        "    print(f'number: {i} model: {model}')"
      ],
      "execution_count": null,
      "outputs": [
        {
          "output_type": "stream",
          "name": "stdout",
          "text": [
            "number: 0 model: decision tree\n",
            "number: 1 model: linear model\n",
            "number: 2 model: svm\n",
            "number: 3 model: ensemble\n"
          ]
        }
      ]
    },
    {
      "cell_type": "markdown",
      "metadata": {
        "id": "edmyAo3n_ytz"
      },
      "source": [
        "## set"
      ]
    },
    {
      "cell_type": "markdown",
      "metadata": {
        "id": "J6zOSkZU_0_3"
      },
      "source": [
        "**Множество**\n",
        "\n",
        "Множество -- это массив, в котором элементы не могут повторяться (то есть, как и в математическом определении множества)\n",
        "\n",
        "Внутри языка множество устроено совсем не так, как массив или кортеж, элементы множества хранятся не последовательно, поэтому к элементам множества нельзя обрашаться по индексу.\n",
        "\n",
        "Пустое множество можно создать с помощью set():"
      ]
    },
    {
      "cell_type": "code",
      "metadata": {
        "id": "t4CfqlPj_upB",
        "colab": {
          "base_uri": "https://localhost:8080/",
          "height": 34
        },
        "outputId": "b95a5647-71d8-4a2c-94d3-4a204ef9c0d5"
      },
      "source": [
        "s = set()\n",
        "\n",
        "print(s, '|', type(s))"
      ],
      "execution_count": null,
      "outputs": [
        {
          "output_type": "stream",
          "text": [
            "set() | <class 'set'>\n"
          ],
          "name": "stdout"
        }
      ]
    },
    {
      "cell_type": "markdown",
      "metadata": {
        "id": "ywxlLBfv_3AM"
      },
      "source": [
        "А можно привести список к множеству:\n",
        "\n",
        "Обратите внимание, что элементы set'а выводятся в отсортированном порядке!"
      ]
    },
    {
      "cell_type": "code",
      "metadata": {
        "id": "5YxMXi-P_2Ch",
        "colab": {
          "base_uri": "https://localhost:8080/",
          "height": 34
        },
        "outputId": "20e924cb-aa77-4f3b-ee85-290e1e4acddc"
      },
      "source": [
        "s = set([5, 2, 3, 2])\n",
        "s"
      ],
      "execution_count": null,
      "outputs": [
        {
          "output_type": "execute_result",
          "data": {
            "text/plain": [
              "{2, 3, 5}"
            ]
          },
          "metadata": {
            "tags": []
          },
          "execution_count": 83
        }
      ]
    },
    {
      "cell_type": "markdown",
      "metadata": {
        "id": "Z5wWwBjh_5mq"
      },
      "source": [
        "Можно добавлять элементы в множество с помощью метода `.add()`:"
      ]
    },
    {
      "cell_type": "code",
      "metadata": {
        "id": "Izh5dVV0_4Vp",
        "colab": {
          "base_uri": "https://localhost:8080/",
          "height": 34
        },
        "outputId": "88577516-fcf2-42ec-b3e5-debaa6ea19e4"
      },
      "source": [
        "s.add(1)\n",
        "s.add('a')\n",
        "# None тоже можно добавить =)\n",
        "s.add(None)\n",
        "s.add('bullet')\n",
        "print(s)"
      ],
      "execution_count": null,
      "outputs": [
        {
          "output_type": "stream",
          "text": [
            "{1, 2, 3, 5, 'bullet', 'a', None}\n"
          ],
          "name": "stdout"
        }
      ]
    },
    {
      "cell_type": "markdown",
      "metadata": {
        "id": "gSpwLmAW_76U"
      },
      "source": [
        "Метод .difference() позволяет получить элементы, которые есть в одном сете, но нет в другом:"
      ]
    },
    {
      "cell_type": "code",
      "metadata": {
        "id": "EYocAZdK_6m5",
        "colab": {
          "base_uri": "https://localhost:8080/",
          "height": 51
        },
        "outputId": "38441f0a-013c-482a-f085-acbb6d98b820"
      },
      "source": [
        "s1 = set(range(0, 10))\n",
        "s2 = set(range(5, 15))\n",
        "\n",
        "print('s1: ', s1, '\\ns2: ', s2)"
      ],
      "execution_count": null,
      "outputs": [
        {
          "output_type": "stream",
          "text": [
            "s1:  {0, 1, 2, 3, 4, 5, 6, 7, 8, 9} \n",
            "s2:  {5, 6, 7, 8, 9, 10, 11, 12, 13, 14}\n"
          ],
          "name": "stdout"
        }
      ]
    },
    {
      "cell_type": "code",
      "metadata": {
        "id": "c6jm1z9S_9DJ",
        "colab": {
          "base_uri": "https://localhost:8080/",
          "height": 69
        },
        "outputId": "417e9b1c-a81d-4807-fb8a-7fa5acada174"
      },
      "source": [
        "# элементы, которые есть в s1, но нет в s2\n",
        "print(s1.difference(s2))\n",
        "print()\n",
        "# элементы, которые есть в s2, но нет в s1\n",
        "print(s2.difference(s1))"
      ],
      "execution_count": null,
      "outputs": [
        {
          "output_type": "stream",
          "text": [
            "{0, 1, 2, 3, 4}\n",
            "\n",
            "{10, 11, 12, 13, 14}\n"
          ],
          "name": "stdout"
        }
      ]
    },
    {
      "cell_type": "code",
      "metadata": {
        "id": "X-6p952Y_-Kx",
        "colab": {
          "base_uri": "https://localhost:8080/",
          "height": 52
        },
        "outputId": "8530a9d9-19a9-4885-8308-4320b73916c3"
      },
      "source": [
        "# пересечение множеств s1 и s2 можно записать двумя способами:\n",
        "print(s1.intersection(s2))\n",
        "print(s1 & s2)"
      ],
      "execution_count": null,
      "outputs": [
        {
          "output_type": "stream",
          "text": [
            "{5, 6, 7, 8, 9}\n",
            "{5, 6, 7, 8, 9}\n"
          ],
          "name": "stdout"
        }
      ]
    },
    {
      "cell_type": "code",
      "metadata": {
        "id": "-kMpXkwu__sx",
        "colab": {
          "base_uri": "https://localhost:8080/",
          "height": 52
        },
        "outputId": "f5eb7d8d-ddeb-441a-d469-4a18180bd3b8"
      },
      "source": [
        "# объединение множеств s1 и s2 тоже можно записать двумя способами:\n",
        "print(s1.union(s2))\n",
        "print(s1 | s2)"
      ],
      "execution_count": null,
      "outputs": [
        {
          "output_type": "stream",
          "text": [
            "{0, 1, 2, 3, 4, 5, 6, 7, 8, 9, 10, 11, 12, 13, 14}\n",
            "{0, 1, 2, 3, 4, 5, 6, 7, 8, 9, 10, 11, 12, 13, 14}\n"
          ],
          "name": "stdout"
        }
      ]
    },
    {
      "cell_type": "markdown",
      "metadata": {
        "id": "ldRRTP8MACOt"
      },
      "source": [
        "Из сета можно удалить элемент по значению:"
      ]
    },
    {
      "cell_type": "code",
      "metadata": {
        "id": "A7utc1iRABDp",
        "colab": {
          "base_uri": "https://localhost:8080/",
          "height": 34
        },
        "outputId": "f47873f2-6dcf-4c1c-f88a-6ffbce2d7e75"
      },
      "source": [
        "s1.discard(0)\n",
        "s1"
      ],
      "execution_count": null,
      "outputs": [
        {
          "output_type": "execute_result",
          "data": {
            "text/plain": [
              "{1, 2, 3, 4, 5, 6, 7, 8, 9}"
            ]
          },
          "metadata": {
            "tags": []
          },
          "execution_count": 87
        }
      ]
    },
    {
      "cell_type": "code",
      "metadata": {
        "id": "bkWmaY9VADGg"
      },
      "source": [
        "l = [1, 2, 3] \n",
        "if 4 in l:\n",
        "    # pass - ничего не делать, иначе получим ошибку, что нету кода\n",
        "    pass\n",
        "\n",
        "s = set(l)\n",
        "if 4 in s:\n",
        "    pass"
      ],
      "execution_count": null,
      "outputs": []
    },
    {
      "cell_type": "markdown",
      "metadata": {
        "id": "3xr8AszQAMC3"
      },
      "source": [
        "## dict"
      ]
    },
    {
      "cell_type": "markdown",
      "metadata": {
        "id": "ptBynFEVAOIE"
      },
      "source": [
        "**словарь, ассоциативный массив**\n",
        "\n",
        "Словарь -- это структура данных, которая представляет отображение из одного типа данных в другой. Представляет собой набор пар ключ-значение, в качестве ключа могут выступать immutable типы данных (int, str, tuple, ...)\n",
        "\n",
        "Массивы, которые мы до этого рассматривали, были отображением непрерывного отрезка [0, n] в другой тип данных. `dict` может быть гораздо удобнее, когда нужно использовать в качестве ключа другой тип данных (например, сопоставить именам людей (str) их даты рождения) или когда в качестве ключа хочется использовать int, но не все значения из промежутка [0, n] нужны. Например, если хочется сопоставить года рождения великих писателей их именам. "
      ]
    },
    {
      "cell_type": "markdown",
      "metadata": {
        "id": "NAZDE-0hAP64"
      },
      "source": [
        "Пустой словарь можно создать либо с помощью `{}`, либо с `dict()`:"
      ]
    },
    {
      "cell_type": "code",
      "metadata": {
        "id": "ZC4DDa15AD-Z",
        "colab": {
          "base_uri": "https://localhost:8080/",
          "height": 34
        },
        "outputId": "557ac487-b7c6-4579-d659-9f0a7db20d0d"
      },
      "source": [
        "d = {}\n",
        "dd = dict()\n",
        "\n",
        "print(d == dd, '|', type(d))"
      ],
      "execution_count": null,
      "outputs": [
        {
          "output_type": "stream",
          "text": [
            "True | <class 'dict'>\n"
          ],
          "name": "stdout"
        }
      ]
    },
    {
      "cell_type": "markdown",
      "metadata": {
        "id": "U4kgjSYWASVE"
      },
      "source": [
        "Добавим значение value по ключу key в словарь:"
      ]
    },
    {
      "cell_type": "code",
      "metadata": {
        "id": "VzKNCJg9ARSv",
        "colab": {
          "base_uri": "https://localhost:8080/",
          "height": 35
        },
        "outputId": "33678a4f-5868-4944-b181-c49b10ce8f2d"
      },
      "source": [
        "key = 'b'\n",
        "value = 100\n",
        "\n",
        "d[key] = value\n",
        "d"
      ],
      "execution_count": null,
      "outputs": [
        {
          "output_type": "execute_result",
          "data": {
            "text/plain": [
              "{'b': 100}"
            ]
          },
          "metadata": {
            "tags": []
          },
          "execution_count": 92
        }
      ]
    },
    {
      "cell_type": "markdown",
      "metadata": {
        "id": "SSPvo6iFAUwe"
      },
      "source": [
        "Непустой словарь можно создать несколькими способами:"
      ]
    },
    {
      "cell_type": "code",
      "metadata": {
        "id": "TaVIfsBdATb3",
        "colab": {
          "base_uri": "https://localhost:8080/"
        },
        "outputId": "1b0b8ee8-3f9d-4135-8207-5cc10f7aca42"
      },
      "source": [
        "d = {\n",
        "    'зарплаты':{\n",
        "        'Петя':100000,\n",
        "        'Аня':100000,\n",
        "    },\n",
        "    'проекты':['']\n",
        "}\n",
        "\n",
        "d['зарплаты']"
      ],
      "execution_count": null,
      "outputs": [
        {
          "output_type": "execute_result",
          "data": {
            "text/plain": [
              "{'Аня': 100000, 'Петя': 100000}"
            ]
          },
          "metadata": {},
          "execution_count": 31
        }
      ]
    },
    {
      "cell_type": "code",
      "metadata": {
        "id": "s4NhnUaPAV2P",
        "colab": {
          "base_uri": "https://localhost:8080/"
        },
        "outputId": "295e5145-381b-4e06-d694-25522e785181"
      },
      "source": [
        "d = {\n",
        "    'short': ['dict'],\n",
        "    'long': 'dictionary'\n",
        "}\n",
        "d"
      ],
      "execution_count": null,
      "outputs": [
        {
          "output_type": "execute_result",
          "data": {
            "text/plain": [
              "{'long': 'dictionary', 'short': ['dict']}"
            ]
          },
          "metadata": {},
          "execution_count": 32
        }
      ]
    },
    {
      "cell_type": "code",
      "metadata": {
        "id": "49AueevAAW-n",
        "colab": {
          "base_uri": "https://localhost:8080/",
          "height": 35
        },
        "outputId": "a3615e02-f471-486a-8981-9e851a4fb482"
      },
      "source": [
        "d = dict(short='dict', long='dictionary')\n",
        "d"
      ],
      "execution_count": null,
      "outputs": [
        {
          "output_type": "execute_result",
          "data": {
            "text/plain": [
              "{'long': 'dictionary', 'short': 'dict'}"
            ]
          },
          "metadata": {
            "tags": []
          },
          "execution_count": 95
        }
      ]
    },
    {
      "cell_type": "code",
      "metadata": {
        "id": "A-CKUinrAYH3",
        "colab": {
          "base_uri": "https://localhost:8080/",
          "height": 35
        },
        "outputId": "471e6679-c66b-4db6-8379-758087144295"
      },
      "source": [
        "d = dict([(1, 1), (2, 4)])\n",
        "d"
      ],
      "execution_count": null,
      "outputs": [
        {
          "output_type": "execute_result",
          "data": {
            "text/plain": [
              "{1: 1, 2: 4}"
            ]
          },
          "metadata": {
            "tags": []
          },
          "execution_count": 96
        }
      ]
    },
    {
      "cell_type": "markdown",
      "metadata": {
        "id": "W2or85XqAaQm"
      },
      "source": [
        "Создать дефолтный (со значениями по умолчанию) словарь с ключами из списка, значениями None:"
      ]
    },
    {
      "cell_type": "code",
      "metadata": {
        "id": "4JwTJ4M0AZYH",
        "colab": {
          "base_uri": "https://localhost:8080/",
          "height": 35
        },
        "outputId": "694c7464-0d44-4c8f-e7ad-82ffdc5b7e4f"
      },
      "source": [
        "d = dict.fromkeys(['a', 'b'])\n",
        "d"
      ],
      "execution_count": null,
      "outputs": [
        {
          "output_type": "execute_result",
          "data": {
            "text/plain": [
              "{'a': None, 'b': None}"
            ]
          },
          "metadata": {
            "tags": []
          },
          "execution_count": 97
        }
      ]
    },
    {
      "cell_type": "markdown",
      "metadata": {
        "id": "CfjTNR2xAf49"
      },
      "source": [
        "Создать дефолтный словарь с ключами из списка, всеми значениями по умолчанию 100:"
      ]
    },
    {
      "cell_type": "code",
      "metadata": {
        "id": "ey4wZ-ZIAeh2",
        "colab": {
          "base_uri": "https://localhost:8080/"
        },
        "outputId": "b9a8dcda-6c9f-4a2c-f6f6-ed78305be64b"
      },
      "source": [
        "d = dict.fromkeys(['a', 'b'], 100)\n",
        "d"
      ],
      "execution_count": null,
      "outputs": [
        {
          "output_type": "execute_result",
          "data": {
            "text/plain": [
              "{'a': 100, 'b': 100}"
            ]
          },
          "metadata": {},
          "execution_count": 33
        }
      ]
    },
    {
      "cell_type": "code",
      "metadata": {
        "id": "qV1IEdamAhS2",
        "colab": {
          "base_uri": "https://localhost:8080/"
        },
        "outputId": "5f2c2036-9c08-49a1-dea7-b3cefc4e0ec6"
      },
      "source": [
        "100 in d"
      ],
      "execution_count": null,
      "outputs": [
        {
          "output_type": "execute_result",
          "data": {
            "text/plain": [
              "False"
            ]
          },
          "metadata": {},
          "execution_count": 34
        }
      ]
    },
    {
      "cell_type": "code",
      "metadata": {
        "id": "hH156fqLA2Kv",
        "colab": {
          "base_uri": "https://localhost:8080/",
          "height": 34
        },
        "outputId": "daaaf69c-4a9d-48d3-d38d-9a644f825142"
      },
      "source": [
        "d.get('a')"
      ],
      "execution_count": null,
      "outputs": [
        {
          "output_type": "execute_result",
          "data": {
            "text/plain": [
              "100"
            ]
          },
          "metadata": {
            "tags": []
          },
          "execution_count": 104
        }
      ]
    },
    {
      "cell_type": "code",
      "metadata": {
        "id": "G2dMP8XaBK8s",
        "colab": {
          "base_uri": "https://localhost:8080/",
          "height": 34
        },
        "outputId": "5b59418b-402a-45cf-983a-65ff04e7c4db"
      },
      "source": [
        "sqares = []\n",
        "for i in range(10):\n",
        "    # print(i**2)\n",
        "    sqares.append(i**2)\n",
        "\n",
        "sqares"
      ],
      "execution_count": null,
      "outputs": [
        {
          "output_type": "execute_result",
          "data": {
            "text/plain": [
              "[0, 1, 4, 9, 16, 25, 36, 49, 64, 81]"
            ]
          },
          "metadata": {
            "tags": []
          },
          "execution_count": 109
        }
      ]
    },
    {
      "cell_type": "code",
      "metadata": {
        "id": "pxiwGOJcBgOZ",
        "colab": {
          "base_uri": "https://localhost:8080/"
        },
        "outputId": "c8c63cca-8a04-489a-b310-b19495c307d3"
      },
      "source": [
        "[(i**2, i**3) for i in range(10)]"
      ],
      "execution_count": null,
      "outputs": [
        {
          "output_type": "execute_result",
          "data": {
            "text/plain": [
              "[(0, 0),\n",
              " (1, 1),\n",
              " (4, 8),\n",
              " (9, 27),\n",
              " (16, 64),\n",
              " (25, 125),\n",
              " (36, 216),\n",
              " (49, 343),\n",
              " (64, 512),\n",
              " (81, 729)]"
            ]
          },
          "metadata": {},
          "execution_count": 35
        }
      ]
    },
    {
      "cell_type": "code",
      "metadata": {
        "id": "OKItbumoByRd",
        "colab": {
          "base_uri": "https://localhost:8080/"
        },
        "outputId": "617acb69-af2a-4be9-d3c6-3e8954ce6f37"
      },
      "source": [
        "[i for i, elem in enumerate(range(10))]"
      ],
      "execution_count": null,
      "outputs": [
        {
          "output_type": "execute_result",
          "data": {
            "text/plain": [
              "[0, 1, 2, 3, 4, 5, 6, 7, 8, 9]"
            ]
          },
          "metadata": {},
          "execution_count": 36
        }
      ]
    },
    {
      "cell_type": "markdown",
      "metadata": {
        "id": "lmQncSIJAkbP"
      },
      "source": [
        "**dict comprehensions**\n",
        "\n",
        "Еще один способ объявления словаря: создадим словарь, где каждому целому числу от 0 до 6 поставим в соответствие квадрат этого числа:"
      ]
    },
    {
      "cell_type": "code",
      "metadata": {
        "id": "cBD6vzMHAjpP",
        "colab": {
          "base_uri": "https://localhost:8080/",
          "height": 35
        },
        "outputId": "60d04b7f-a782-4e74-b9ee-f79a23396bc9"
      },
      "source": [
        "d = {a: a ** 2 for a in range(7)}\n",
        "d"
      ],
      "execution_count": null,
      "outputs": [
        {
          "output_type": "execute_result",
          "data": {
            "text/plain": [
              "{0: 0, 1: 1, 2: 4, 3: 9, 4: 16, 5: 25, 6: 36}"
            ]
          },
          "metadata": {
            "tags": []
          },
          "execution_count": 100
        }
      ]
    },
    {
      "cell_type": "code",
      "metadata": {
        "colab": {
          "base_uri": "https://localhost:8080/"
        },
        "id": "jbiyThd9EQun",
        "outputId": "024b1ed3-0f77-4df6-ad23-e2ea963b8eb3"
      },
      "source": [
        "{1:'werfswefsdasdasd', 25:'qweqweq'}"
      ],
      "execution_count": null,
      "outputs": [
        {
          "output_type": "execute_result",
          "data": {
            "text/plain": [
              "{1: 'werfswefsdasdasd', 25: 'qweqweq'}"
            ]
          },
          "metadata": {},
          "execution_count": 40
        }
      ]
    },
    {
      "cell_type": "markdown",
      "metadata": {
        "id": "fwGyY5acAmku"
      },
      "source": [
        "Будьте осторожны, если ключа, по которому поступил запрос, нет в словаре, то выбросит исключение:"
      ]
    },
    {
      "cell_type": "code",
      "metadata": {
        "id": "rp6T7KIQAiKl",
        "colab": {
          "base_uri": "https://localhost:8080/",
          "height": 182
        },
        "outputId": "419ff611-2a72-45c9-efd4-860bb6eb2202"
      },
      "source": [
        "d = {1: 100, 2: 200, 3: 300}\n",
        "d['a']"
      ],
      "execution_count": null,
      "outputs": [
        {
          "output_type": "error",
          "ename": "KeyError",
          "evalue": "ignored",
          "traceback": [
            "\u001b[0;31m---------------------------------------------------------------------------\u001b[0m",
            "\u001b[0;31mKeyError\u001b[0m                                  Traceback (most recent call last)",
            "\u001b[0;32m<ipython-input-37-c3e9e00fc198>\u001b[0m in \u001b[0;36m<module>\u001b[0;34m()\u001b[0m\n\u001b[1;32m      1\u001b[0m \u001b[0md\u001b[0m \u001b[0;34m=\u001b[0m \u001b[0;34m{\u001b[0m\u001b[0;36m1\u001b[0m\u001b[0;34m:\u001b[0m \u001b[0;36m100\u001b[0m\u001b[0;34m,\u001b[0m \u001b[0;36m2\u001b[0m\u001b[0;34m:\u001b[0m \u001b[0;36m200\u001b[0m\u001b[0;34m,\u001b[0m \u001b[0;36m3\u001b[0m\u001b[0;34m:\u001b[0m \u001b[0;36m300\u001b[0m\u001b[0;34m}\u001b[0m\u001b[0;34m\u001b[0m\u001b[0;34m\u001b[0m\u001b[0m\n\u001b[0;32m----> 2\u001b[0;31m \u001b[0md\u001b[0m\u001b[0;34m[\u001b[0m\u001b[0;34m'a'\u001b[0m\u001b[0;34m]\u001b[0m\u001b[0;34m\u001b[0m\u001b[0;34m\u001b[0m\u001b[0m\n\u001b[0m",
            "\u001b[0;31mKeyError\u001b[0m: 'a'"
          ]
        }
      ]
    },
    {
      "cell_type": "markdown",
      "metadata": {
        "id": "eovdGkRKAo3R"
      },
      "source": [
        "Поэтому безопаснее использовать **get(key)**. Тогда, если нужно, можно проверить на **None**:"
      ]
    },
    {
      "cell_type": "code",
      "metadata": {
        "id": "5Oeeu4PSAnzM"
      },
      "source": [
        "d.get(123)"
      ],
      "execution_count": null,
      "outputs": []
    },
    {
      "cell_type": "code",
      "metadata": {
        "id": "FOJrm-k0Ap49",
        "colab": {
          "base_uri": "https://localhost:8080/"
        },
        "outputId": "60070ae8-735b-4639-d3dd-dab0d8aa8d76"
      },
      "source": [
        "d.get('a') == None"
      ],
      "execution_count": null,
      "outputs": [
        {
          "output_type": "execute_result",
          "data": {
            "text/plain": [
              "True"
            ]
          },
          "metadata": {},
          "execution_count": 39
        }
      ]
    },
    {
      "cell_type": "markdown",
      "metadata": {
        "id": "28BIBqq7Ar97"
      },
      "source": [
        "Самое часто используемое - получение ключей, получение значений и получение всего вместе:"
      ]
    },
    {
      "cell_type": "code",
      "metadata": {
        "id": "Du4omha9Aqpt",
        "colab": {
          "base_uri": "https://localhost:8080/",
          "height": 52
        },
        "outputId": "de9f89a6-3a06-440d-8e01-7eb7474ec5fb"
      },
      "source": [
        "# получить список ключей\n",
        "print(d.keys(), '|', type(d.keys()))\n",
        "\n",
        "# чтобы вывести ключи, нужно привести d.keys() к списку\n",
        "print(list(d.keys()))"
      ],
      "execution_count": null,
      "outputs": [
        {
          "output_type": "stream",
          "text": [
            "dict_keys([1, 2, 3]) | <class 'dict_keys'>\n",
            "[1, 2, 3]\n"
          ],
          "name": "stdout"
        }
      ]
    },
    {
      "cell_type": "code",
      "metadata": {
        "id": "x9LjmzNEAtmV",
        "colab": {
          "base_uri": "https://localhost:8080/",
          "height": 52
        },
        "outputId": "193a45f5-6cc2-4c82-9155-e11a7a5f6943"
      },
      "source": [
        "# получить список значений\n",
        "print(d.values(), '|', type(d.values()))\n",
        "\n",
        "# то же самое -- чтобы вывести значения, нужно привести d.values() к списку\n",
        "print(list(d.values()))"
      ],
      "execution_count": null,
      "outputs": [
        {
          "output_type": "stream",
          "text": [
            "dict_values([100, 200, 300]) | <class 'dict_values'>\n",
            "[100, 200, 300]\n"
          ],
          "name": "stdout"
        }
      ]
    },
    {
      "cell_type": "code",
      "metadata": {
        "id": "m2TI9wBoAwfl",
        "colab": {
          "base_uri": "https://localhost:8080/",
          "height": 52
        },
        "outputId": "b0dbdae3-b2c2-4007-93a7-0a147d39541c"
      },
      "source": [
        "# получить список пар ключ-значение\n",
        "print(d.items(), '|', type(d.items()))\n",
        "\n",
        "# то же самое -- чтобы вывести пары ключ-значения, нужно привести d.items() к списку\n",
        "print(list(d.items()))"
      ],
      "execution_count": null,
      "outputs": [
        {
          "output_type": "stream",
          "text": [
            "dict_items([(1, 100), (2, 200), (3, 300)]) | <class 'dict_items'>\n",
            "[(1, 100), (2, 200), (3, 300)]\n"
          ],
          "name": "stdout"
        }
      ]
    },
    {
      "cell_type": "markdown",
      "metadata": {
        "id": "JkTVVJYhA6gg"
      },
      "source": [
        "## Try - Except \n",
        "\n",
        "Исключения (exceptions) - тип данных в python, служит для отслеживания ошибок"
      ]
    },
    {
      "cell_type": "code",
      "metadata": {
        "id": "QpgeVdBlAxVl",
        "colab": {
          "base_uri": "https://localhost:8080/"
        },
        "outputId": "56b18670-1831-4f3a-8ce8-d084690d6662"
      },
      "source": [
        "# Пример использования встроенных функнций Exception\n",
        "try:\n",
        "    # попробуем добавить что-либо в кортеж\n",
        "    array = (2, 1)\n",
        "    array.append(10)\n",
        "except Exception as e:\n",
        "    # воспользуемся встроенный\n",
        "    print('Возникла ошибка, ее текст:', e)"
      ],
      "execution_count": null,
      "outputs": [
        {
          "output_type": "stream",
          "name": "stdout",
          "text": [
            "Возникла ошибка, ее текст: 'tuple' object has no attribute 'append'\n"
          ]
        }
      ]
    },
    {
      "cell_type": "markdown",
      "metadata": {
        "id": "bV_as9sMA90F"
      },
      "source": [
        "В python3 предусмотрена иерархия встроенных исключений, к примеру, ошибка деления на 0 (ZeroDivisionError)"
      ]
    },
    {
      "cell_type": "code",
      "metadata": {
        "id": "z3oO2e2gA8Aq",
        "colab": {
          "base_uri": "https://localhost:8080/"
        },
        "outputId": "9cadc238-6d5c-4730-938f-80217ede5955"
      },
      "source": [
        "try:\n",
        "    # попробуем разделить на 0 и отловить ошибку\n",
        "    print(10 / 0)\n",
        "except ZeroDivisionError as e:\n",
        "    print('На ноль делить нельзя!')"
      ],
      "execution_count": null,
      "outputs": [
        {
          "output_type": "stream",
          "name": "stdout",
          "text": [
            "На ноль делить нельзя!\n"
          ]
        }
      ]
    },
    {
      "cell_type": "markdown",
      "metadata": {
        "id": "3oEBibFKVDK2"
      },
      "source": [
        "## Несколько полезных встроенных функций, которые желательно использовать"
      ]
    },
    {
      "cell_type": "markdown",
      "metadata": {
        "id": "19HfkKw2VEU6"
      },
      "source": [
        "### map\n",
        "\n",
        "Применяет указанную функцию к каждому элементу указанной последовательности/последовательностей. \n",
        "Функция, которую следует применить к элементам последовательности или последовательностей, должна принимать количество элементов равное количеству последовательностей. "
      ]
    },
    {
      "cell_type": "code",
      "metadata": {
        "id": "99SQzz60VF3a",
        "colab": {
          "base_uri": "https://localhost:8080/",
          "height": 34
        },
        "outputId": "2fe957bf-e17c-4b02-901a-8b6f8b9d939a"
      },
      "source": [
        "list1 = [1, 2, 3, 4]\n",
        "list2 = [4, 3, 2, 1]\n",
        "\n",
        "def a_na_b(a, b):\n",
        "    return a*b\n",
        "\n",
        "list(map(a_na_b, list1, list2))"
      ],
      "execution_count": null,
      "outputs": [
        {
          "output_type": "execute_result",
          "data": {
            "text/plain": [
              "[4, 6, 6, 4]"
            ]
          },
          "metadata": {
            "tags": []
          },
          "execution_count": 138
        }
      ]
    },
    {
      "cell_type": "code",
      "metadata": {
        "id": "YsWNjfqpVHO0",
        "colab": {
          "base_uri": "https://localhost:8080/",
          "height": 34
        },
        "outputId": "d7913143-41e1-4cd9-dcc3-8208ccbb687b"
      },
      "source": [
        "list(map(lambda a, b: a*b, list1, list2))"
      ],
      "execution_count": null,
      "outputs": [
        {
          "output_type": "execute_result",
          "data": {
            "text/plain": [
              "[4, 6, 6, 4]"
            ]
          },
          "metadata": {
            "tags": []
          },
          "execution_count": 139
        }
      ]
    },
    {
      "cell_type": "markdown",
      "metadata": {
        "id": "0gKhOE1QVJBX"
      },
      "source": [
        "### filtered\n",
        "\n",
        "При помощи указанной функции фильтрует элементы переданного объекта.\n",
        "\n",
        "filtered - это фильтрующая функция. Она принимает элемент фильтруемого объекта. Если функция вернёт False, данный элемент не попадёт в результат. Если передано None, считается что требуется применить тождественное отображение (lambda *args: args), таким образом все элементы, оцениваемые как False будут отфильтрованы."
      ]
    },
    {
      "cell_type": "code",
      "metadata": {
        "id": "fAKf8zJoVL0l",
        "colab": {
          "base_uri": "https://localhost:8080/",
          "height": 34
        },
        "outputId": "d0df6e27-2ec9-4b39-e778-1a404d46e99f"
      },
      "source": [
        "data = ['+79772790164', '+1863265487', '89772790164']\n",
        "\n",
        "def search_for_rus_phones(number):\n",
        "    if number[:2] == '+7' or number[:2] == '+8' or number[0] == '8':\n",
        "        return number\n",
        "\n",
        "filter_res = filter(search_for_rus_phones, data)\n",
        "\n",
        "list(filter_res)"
      ],
      "execution_count": null,
      "outputs": [
        {
          "output_type": "execute_result",
          "data": {
            "text/plain": [
              "['+79772790164', '89772790164']"
            ]
          },
          "metadata": {
            "tags": []
          },
          "execution_count": 140
        }
      ]
    },
    {
      "cell_type": "markdown",
      "metadata": {
        "id": "3ZlKD9nUBALE"
      },
      "source": [
        "## функции\n",
        "\n",
        "Функции в python - объект, который принимает аргументы, производит обработку данных, возвращает значение. Функция может принимать произвольное количество аргументов.\n",
        "\n",
        "Функция определяется:\n",
        "\n",
        "```\n",
        "def <Название функции>(параметр1, параметр2, ...):\n",
        "    --код--\n",
        "    return параметр1 + параметр2\n",
        "```\n",
        "\n",
        "Можно определить и необязательные элементы:\n",
        "```\n",
        "# param3 - необязательный аргумент, значение по умолчанию - 2\n",
        "def funсtion(param1, param2, param3 = 2):\n",
        "    return param1+param2+param3\n",
        "```\n",
        "\n"
      ]
    },
    {
      "cell_type": "code",
      "metadata": {
        "id": "BZ2sploNA-60",
        "colab": {
          "base_uri": "https://localhost:8080/"
        },
        "outputId": "d8c05639-47e9-4c76-cfe8-3402b9530ce5"
      },
      "source": [
        "def a_plus_b(a, b = 5):\n",
        "    return a+b, b\n",
        "\n",
        "a_plus_b(b = 2, a = 7)"
      ],
      "execution_count": null,
      "outputs": [
        {
          "output_type": "execute_result",
          "data": {
            "text/plain": [
              "(9, 2)"
            ]
          },
          "metadata": {},
          "execution_count": 54
        }
      ]
    },
    {
      "cell_type": "code",
      "metadata": {
        "colab": {
          "base_uri": "https://localhost:8080/"
        },
        "id": "mzs13aYqOR8G",
        "outputId": "d5c4e801-9c1d-4150-c29a-59f6f35d08bd"
      },
      "source": [
        "a_plus_b"
      ],
      "execution_count": null,
      "outputs": [
        {
          "output_type": "execute_result",
          "data": {
            "text/plain": [
              "<function __main__.a_plus_b>"
            ]
          },
          "metadata": {},
          "execution_count": 65
        }
      ]
    },
    {
      "cell_type": "markdown",
      "metadata": {
        "id": "HKtaq4TABH9C"
      },
      "source": [
        "Можно принять переменное количество позиционных аргументов, тогда перед именем ставим *"
      ]
    },
    {
      "cell_type": "code",
      "metadata": {
        "id": "4LfZfRTOBEA8",
        "colab": {
          "base_uri": "https://localhost:8080/",
          "height": 34
        },
        "outputId": "fc90bf05-5802-4d92-e5b8-5e5e6d1a1a83"
      },
      "source": [
        "def random_args_random_amm(a, *args):\n",
        "    return args\n",
        "\n",
        "# возвращает кортеж\n",
        "random_args_random_amm(1, [2], 'три')"
      ],
      "execution_count": null,
      "outputs": [
        {
          "output_type": "execute_result",
          "data": {
            "text/plain": [
              "([2], 'три')"
            ]
          },
          "metadata": {
            "tags": []
          },
          "execution_count": 123
        }
      ]
    },
    {
      "cell_type": "markdown",
      "metadata": {
        "id": "qNP8cd-FBKYe"
      },
      "source": [
        "По аналогии можно принять переменное количество именованных аргументов, тогда перед именем ставим **"
      ]
    },
    {
      "cell_type": "code",
      "metadata": {
        "id": "qHQwM5ESBI_7",
        "colab": {
          "base_uri": "https://localhost:8080/",
          "height": 34
        },
        "outputId": "85065998-bc94-463a-e2ad-aa62c439cfea"
      },
      "source": [
        "def not_random_args_random_amm(**kwargs):\n",
        "    return kwargs\n",
        "\n",
        "# возвращает словарь\n",
        "not_random_args_random_amm(hello='world')"
      ],
      "execution_count": null,
      "outputs": [
        {
          "output_type": "execute_result",
          "data": {
            "text/plain": [
              "{'hello': 'world'}"
            ]
          },
          "metadata": {
            "tags": []
          },
          "execution_count": 129
        }
      ]
    },
    {
      "cell_type": "markdown",
      "metadata": {
        "id": "6LkSlDFsBOQ8"
      },
      "source": [
        "## Локальная и глобальная область видимости \n",
        "\n",
        "Когда мы создаем переменную в блоке кода, она будет разрешена при помощи ближайшей области видимости, или областей. Группирование всех этих областей известно как среда блоков кода."
      ]
    },
    {
      "cell_type": "code",
      "metadata": {
        "id": "OX-O_ZcRBLvr",
        "colab": {
          "base_uri": "https://localhost:8080/"
        },
        "outputId": "d6ce08c9-1ee6-4c4f-c5d3-299772692f79"
      },
      "source": [
        "# глобальная переменная a\n",
        "a = 0\n",
        "\n",
        "def some_func(a):\n",
        "    # логальная переменная а\n",
        "    a = 1\n",
        "    return a\n",
        "\n",
        "a = some_func(a)\n",
        "a"
      ],
      "execution_count": null,
      "outputs": [
        {
          "output_type": "execute_result",
          "data": {
            "text/plain": [
              "1"
            ]
          },
          "metadata": {},
          "execution_count": 56
        }
      ]
    },
    {
      "cell_type": "markdown",
      "metadata": {
        "id": "8c-cHOUPBQxx"
      },
      "source": [
        "Python содержит оператор global, он объявляет переменную доступной для блока кода, следующим за оператором."
      ]
    },
    {
      "cell_type": "code",
      "metadata": {
        "id": "-I7KsysBBPaz",
        "colab": {
          "base_uri": "https://localhost:8080/",
          "height": 34
        },
        "outputId": "2f2110f3-b461-4f31-e442-f01f262354f9"
      },
      "source": [
        "# глобальная переменная a\n",
        "a = 0\n",
        "\n",
        "def some_func(x):\n",
        "    # даем функции \"увидеть\" глобальную а\n",
        "    global a\n",
        "    a = 1\n",
        "\n",
        "some_func(a)\n",
        "a"
      ],
      "execution_count": null,
      "outputs": [
        {
          "output_type": "execute_result",
          "data": {
            "text/plain": [
              "1"
            ]
          },
          "metadata": {
            "tags": []
          },
          "execution_count": 131
        }
      ]
    },
    {
      "cell_type": "code",
      "metadata": {
        "id": "SH_5LKYdH25R",
        "colab": {
          "base_uri": "https://localhost:8080/"
        },
        "outputId": "07a5cd18-f675-43a3-e0c8-64e9bc1c6a8a"
      },
      "source": [
        "def some_func():\n",
        "    a = 5\n",
        "    def increase_a(): \n",
        "        nonlocal a\n",
        "        a += 1\n",
        "        return a\n",
        "    return increase_a\n",
        "\n",
        "some_func()()"
      ],
      "execution_count": null,
      "outputs": [
        {
          "output_type": "execute_result",
          "data": {
            "text/plain": [
              "6"
            ]
          },
          "metadata": {},
          "execution_count": 64
        }
      ]
    },
    {
      "cell_type": "markdown",
      "metadata": {
        "id": "Hi0oVeY2BS6h"
      },
      "source": [
        "## Анонимные функции, lambda\n",
        "\n",
        "Анонимные функции могут содержать лишь одно выражение, но выполняются они быстрее. Обозначается lambda, ее не обязательно присваивать переменной (как с def).\n"
      ]
    },
    {
      "cell_type": "code",
      "metadata": {
        "id": "TUEwqoqpBR5O",
        "colab": {
          "base_uri": "https://localhost:8080/"
        },
        "outputId": "17997376-a5a6-476c-b0ed-848a7a015f85"
      },
      "source": [
        "# возводим а в степень b\n",
        "func = lambda a, b: a**b\n",
        "func(2, 3)"
      ],
      "execution_count": null,
      "outputs": [
        {
          "output_type": "execute_result",
          "data": {
            "text/plain": [
              "8"
            ]
          },
          "metadata": {},
          "execution_count": 59
        }
      ]
    },
    {
      "cell_type": "code",
      "metadata": {
        "id": "E7a48I5vBT_C",
        "colab": {
          "base_uri": "https://localhost:8080/"
        },
        "outputId": "4b9b2155-f1f5-4d34-dc03-796555ddfff4"
      },
      "source": [
        "func = lambda *args: args[0]*args[1]\n",
        "func(2, 3, 4)"
      ],
      "execution_count": null,
      "outputs": [
        {
          "output_type": "execute_result",
          "data": {
            "text/plain": [
              "6"
            ]
          },
          "metadata": {},
          "execution_count": 60
        }
      ]
    },
    {
      "cell_type": "markdown",
      "metadata": {
        "id": "BkCRGX87UdYY"
      },
      "source": [
        "### Постулаты ООП"
      ]
    },
    {
      "cell_type": "markdown",
      "metadata": {
        "id": "dvjheoNsUezL"
      },
      "source": [
        "#### Инкапсуляция\n",
        "\n",
        "Инкапсуляция – скрытие реализации каких либо частей модуля или объекта от внешнего мира (от клиента). Это означает, что манипулируя модификаторами доступа, можно скрыть или открыть только определенные свойства, методы или классы для того, чтобы ненужные для класса-клиента данные не были доступны.\n",
        "\n",
        "Инкапсуляция в Python работает лишь на уровне соглашения между программистами о том, какие атрибуты являются общедоступными, а какие — внутренними.\n",
        "\n",
        "Одиночное подчеркивание в начале имени атрибута говорит о том, что переменная или метод не предназначен для использования вне методов класса, однако атрибут доступен по этому имени."
      ]
    },
    {
      "cell_type": "code",
      "metadata": {
        "id": "TiX4l9MAUgXH",
        "colab": {
          "base_uri": "https://localhost:8080/",
          "height": 34
        },
        "outputId": "80f725a7-d57a-4857-888d-2cd670bf5022"
      },
      "source": [
        "class Test:\n",
        "    def _secret(self):\n",
        "        print('yeah')\n",
        "\n",
        "obj = Test()\n",
        "obj._secret()"
      ],
      "execution_count": null,
      "outputs": [
        {
          "output_type": "stream",
          "text": [
            "yeah\n"
          ],
          "name": "stdout"
        }
      ]
    },
    {
      "cell_type": "markdown",
      "metadata": {
        "id": "Dbok9ndTUizz"
      },
      "source": [
        "Двойное подчеркивание в начале имени атрибута даёт большую защиту: атрибут становится недоступным по этому имени."
      ]
    },
    {
      "cell_type": "code",
      "metadata": {
        "id": "WPueIVP_Ujrv",
        "colab": {
          "base_uri": "https://localhost:8080/",
          "height": 199
        },
        "outputId": "89fbc98d-d9f4-44d3-beec-e7942544df1a"
      },
      "source": [
        "class Test:\n",
        "    def __secret(self):\n",
        "        print('top secret')\n",
        "\n",
        "obj = Test()\n",
        "obj.__secret()"
      ],
      "execution_count": null,
      "outputs": [
        {
          "output_type": "error",
          "ename": "AttributeError",
          "evalue": "ignored",
          "traceback": [
            "\u001b[0;31m---------------------------------------------------------------------------\u001b[0m",
            "\u001b[0;31mAttributeError\u001b[0m                            Traceback (most recent call last)",
            "\u001b[0;32m<ipython-input-61-1294488e2eb0>\u001b[0m in \u001b[0;36m<module>\u001b[0;34m()\u001b[0m\n\u001b[1;32m      4\u001b[0m \u001b[0;34m\u001b[0m\u001b[0m\n\u001b[1;32m      5\u001b[0m \u001b[0mobj\u001b[0m \u001b[0;34m=\u001b[0m \u001b[0mTest\u001b[0m\u001b[0;34m(\u001b[0m\u001b[0;34m)\u001b[0m\u001b[0;34m\u001b[0m\u001b[0;34m\u001b[0m\u001b[0m\n\u001b[0;32m----> 6\u001b[0;31m \u001b[0mobj\u001b[0m\u001b[0;34m.\u001b[0m\u001b[0m__secret\u001b[0m\u001b[0;34m(\u001b[0m\u001b[0;34m)\u001b[0m\u001b[0;34m\u001b[0m\u001b[0;34m\u001b[0m\u001b[0m\n\u001b[0m",
            "\u001b[0;31mAttributeError\u001b[0m: 'Test' object has no attribute '__secret'"
          ]
        }
      ]
    },
    {
      "cell_type": "code",
      "metadata": {
        "id": "jWy0HmYrUmm7",
        "colab": {
          "base_uri": "https://localhost:8080/"
        },
        "outputId": "a5b7b230-d79c-47b7-911e-d18bfaa790d1"
      },
      "source": [
        "obj._Test__secret()"
      ],
      "execution_count": null,
      "outputs": [
        {
          "output_type": "stream",
          "name": "stdout",
          "text": [
            "top secret\n"
          ]
        }
      ]
    },
    {
      "cell_type": "markdown",
      "metadata": {
        "id": "fZrUEZnkUlSw"
      },
      "source": [
        "#### Наследование\n",
        "\n",
        "Наследование подразумевает то, что дочерний класс содержит все атрибуты родительского класса, при этом некоторые из них могут быть переопределены или добавлены в дочернем."
      ]
    },
    {
      "cell_type": "code",
      "metadata": {
        "id": "kNuEvAwpUpoK"
      },
      "source": [
        "class Human():  \n",
        "    # Конструктор\n",
        "    def __init__(self, name, age, sex):\n",
        "        self.name = name \n",
        "        self.age = age \n",
        "        self.sex = sex \n",
        "        \n",
        "    # Метод (method):\n",
        "    def showInfo(self):\n",
        "        print(f'Человек: {self.name}, возраст {self.age}, пол {self.sex}')\n",
        "\n",
        "class SuperMan(Human):\n",
        "    def __init__(self, name, age, sex, height, weight):\n",
        "        # Вызывается конструктор родительского класса (Human)\n",
        "        # чтобы прикрепить значение к атрибутам 'name', 'age', 'sex' родительского класса\n",
        "        super().__init__(name, age, sex)\n",
        "\n",
        "        # Доопределяем передаваемые в конструктор SuperMan переменные\n",
        "        self.height = height\n",
        "        self.weight = weight\n",
        "\n",
        "    def showInfo(self):\n",
        "        print(f'Cупермен| имя: {self.name}, возраст {self.age}, пол {self.sex}, вес {self.weight}, рост {self.height}')"
      ],
      "execution_count": null,
      "outputs": []
    },
    {
      "cell_type": "code",
      "metadata": {
        "id": "keOhEnAFUrbT",
        "colab": {
          "base_uri": "https://localhost:8080/"
        },
        "outputId": "c07ef2f6-db89-4c2a-b3bb-82c1b5656a29"
      },
      "source": [
        "human_obj = Human('Петя', 25, 'муж.')\n",
        "human_obj.showInfo()"
      ],
      "execution_count": null,
      "outputs": [
        {
          "output_type": "stream",
          "name": "stdout",
          "text": [
            "Человек: Петя, возраст 25, пол муж.\n"
          ]
        }
      ]
    },
    {
      "cell_type": "code",
      "metadata": {
        "id": "yrhbenzvUuGo",
        "colab": {
          "base_uri": "https://localhost:8080/"
        },
        "outputId": "5e7c7bf5-dfb7-4731-df7b-705dc2e0108c"
      },
      "source": [
        "superman_obj = SuperMan('Кларк ', 34, 'муж.', 191, 107)\n",
        "superman_obj.showInfo()"
      ],
      "execution_count": null,
      "outputs": [
        {
          "output_type": "stream",
          "name": "stdout",
          "text": [
            "Cупермен| имя: Кларк , возраст 34, пол муж., вес 107, рост 191\n"
          ]
        }
      ]
    },
    {
      "cell_type": "markdown",
      "metadata": {
        "id": "7L0-38qrUvVH"
      },
      "source": [
        "#### Полиморфизм\n",
        "\n",
        "Полиморфизм – это возможность обработки разных типов данных, т.е. принадлежащих к разным классам, с помощью \"одно и той же\" функции, или метода. На самом деле одинаковым является только имя метода, его исходный код зависит от класса. Кроме того, результаты работы одноименных методов могут существенно различаться. Поэтому в данном контексте под полиморфизмом понимается множество форм одного и того же слова – имени метода."
      ]
    },
    {
      "cell_type": "code",
      "metadata": {
        "id": "Gjw4eZAAUwd5",
        "colab": {
          "base_uri": "https://localhost:8080/",
          "height": 51
        },
        "outputId": "e79dba2b-901a-46be-f357-111932435ca8"
      },
      "source": [
        "superman_obj.showInfo()\n",
        "human_obj.showInfo()"
      ],
      "execution_count": null,
      "outputs": [
        {
          "output_type": "stream",
          "text": [
            "Cупермен| имя: Кларк , возраст 34, пол муж., вес 107, рост 191\n",
            "Человек: Петя, возраст 25, пол муж.\n"
          ],
          "name": "stdout"
        }
      ]
    },
    {
      "cell_type": "markdown",
      "metadata": {
        "id": "r-vLPuw5BWlg"
      },
      "source": [
        "## Объектно-ориентированное программирование (ООП)\n",
        "\n",
        "ООП - парадигма программирования, основанная на концепциях объектов и классов.\n",
        "\n",
        "*   Класс — тип, описывающий устройство объектов. \n",
        "*   Объект — экземпляр класса. Класс - основа, на которой определяются объекты.\n",
        "\n",
        "В python всё является объектами (строки, списки, ...)\n",
        "\n",
        "Но возможности ООП в python этим не ограничены. Мы можем написать свой тип данных (класс), определить в нём свои методы.\n",
        "\n",
        "Это не является обязательным - мы можем пользоваться только встроенными объектами. Однако ООП полезно при долгосрочной разработке программы несколькими людьми, оно сильно упрощает понимание кода.\n",
        "\n",
        "\n",
        "Стандартная конструкция \n",
        "\n",
        "\n",
        "```\n",
        "class [название класса]() \n",
        "```\n",
        "\n",
        "\n",
        "---\n",
        "\n",
        "Зачем нам self?\n",
        "Классам нужен способ, что ссылаться на самих себя т.е. способ сообщения между экземплярами. Слово self это способ описания любого объектаю."
      ]
    },
    {
      "cell_type": "code",
      "metadata": {
        "id": "qEmHNQnfBUq6",
        "colab": {
          "base_uri": "https://localhost:8080/",
          "height": 34
        },
        "outputId": "f81b2f8d-103a-46a7-8135-afc0c87e7d72"
      },
      "source": [
        "class sber():\n",
        "    # конструктор класса\n",
        "    # после того, как класс инициализирован - в него можно принимать агрументы\n",
        "    # конструкция __init__ автоматически запустится, в hello запишется 'привет'\n",
        "    def __init__(self, hey):\n",
        "        self.hello = hey\n",
        "\n",
        "    # определим функцию класса - распечатаем внутренний параметр hello\n",
        "    def print_hello(self):\n",
        "        print(self.hello) \n",
        "\n",
        "# Определим объект класса и передадим в него аргументы\n",
        "class_obj = sber('привет')\n",
        "# вызовем функцию класса\n",
        "class_obj.print_hello()"
      ],
      "execution_count": null,
      "outputs": [
        {
          "output_type": "stream",
          "text": [
            "привет\n"
          ],
          "name": "stdout"
        }
      ]
    },
    {
      "cell_type": "code",
      "metadata": {
        "id": "dYcIFr9ES45o"
      },
      "source": [
        "with open('f.json', 'w') as f:\n",
        "    a = f.read()\n"
      ],
      "execution_count": null,
      "outputs": []
    },
    {
      "cell_type": "markdown",
      "metadata": {
        "id": "VaeD81JuBfdE"
      },
      "source": [
        "# Доп задачи по пройденному материалу"
      ]
    },
    {
      "cell_type": "markdown",
      "metadata": {
        "id": "TVh-gw54BqEm"
      },
      "source": [
        "## Задание 10\n",
        "\n",
        "1. Создайте список `a`, состоящий из каких-то элементов.\n",
        "2. Создайте список `b` такого же размера, как `a`, состоящий из каких-то элементов.\n",
        "3. Выведите **нумерованный список пар** из элементов списков `a` и `b`."
      ]
    },
    {
      "cell_type": "code",
      "metadata": {
        "id": "WkDpiGDsBcus",
        "colab": {
          "base_uri": "https://localhost:8080/",
          "height": 52
        },
        "outputId": "88ef9397-65ff-4ddf-acd0-5d6c40a2eba1"
      },
      "source": [
        "# Ваш код здесь\n",
        "# варианты решения ниже\n"
      ],
      "execution_count": null,
      "outputs": [
        {
          "output_type": "stream",
          "text": [
            "[(0, ('11', 'x')), (1, ('22', 'y')), (2, ('33', 'z'))]\n",
            "[(0, '11', 'x'), (1, '22', 'y'), (2, '33', 'z')]\n"
          ],
          "name": "stdout"
        }
      ]
    },
    {
      "cell_type": "markdown",
      "metadata": {
        "id": "51DfEzj3B1gV"
      },
      "source": [
        "## Задание 11\n",
        "\n",
        "Дан массив строк mas. Одной строкой создайте словарь, в котором по ключу строки будет записана пара (кортеж длины 2) (индекс строки в массиве mas, длина строки)"
      ]
    },
    {
      "cell_type": "code",
      "metadata": {
        "id": "azytv3ENBuH5",
        "colab": {
          "base_uri": "https://localhost:8080/",
          "height": 35
        },
        "outputId": "e0967bea-95a8-4841-bc62-5ef5c6e02163"
      },
      "source": [
        ""
      ],
      "execution_count": null,
      "outputs": [
        {
          "output_type": "execute_result",
          "data": {
            "text/plain": [
              "{'abc': (1, 3), 'hello': (0, 5)}"
            ]
          },
          "metadata": {
            "tags": []
          },
          "execution_count": 119
        }
      ]
    },
    {
      "cell_type": "markdown",
      "metadata": {
        "id": "NNgNKKtUB-7d"
      },
      "source": [
        "## Задание 12\n",
        "\n",
        "Релизовать функцию, которая возвращает сумму всех позиционных и именованных аргументов."
      ]
    },
    {
      "cell_type": "code",
      "metadata": {
        "id": "8MrgHc1eB47J",
        "colab": {
          "base_uri": "https://localhost:8080/",
          "height": 35
        },
        "outputId": "19b7e7ff-5c8a-42a3-d752-5b8bc55f6d95"
      },
      "source": [
        "\n",
        "\n",
        "print(func(1, 2, 3, a=4, b=5))"
      ],
      "execution_count": null,
      "outputs": [
        {
          "output_type": "stream",
          "text": [
            "15\n"
          ],
          "name": "stdout"
        }
      ]
    },
    {
      "cell_type": "markdown",
      "metadata": {
        "id": "l-3fE5H-CIqe"
      },
      "source": [
        "## Задание 13\n",
        "\n",
        "Реализовать функцию, которая сохраняет в 2 глобальные переменные:\n",
        "* сумму всех позиционных аргументов - релизовать через  lambda;\n",
        "* название всех именованных аргументов в виде списка."
      ]
    },
    {
      "cell_type": "code",
      "metadata": {
        "id": "Nhp1NLZJCGXI",
        "colab": {
          "base_uri": "https://localhost:8080/",
          "height": 35
        },
        "outputId": "bff2a684-f2b8-4d61-c406-3ef7ac7394a3"
      },
      "source": [
        "summ = 0\n",
        "names = []\n",
        "\n",
        "\n",
        "\n",
        "another_func(1, 2, 3, a=4, b=5)\n",
        "\n",
        "print(f'Cумма {summ}, названия {names}')"
      ],
      "execution_count": null,
      "outputs": [
        {
          "output_type": "stream",
          "text": [
            "Cумма 6, названия ['a', 'b']\n"
          ],
          "name": "stdout"
        }
      ]
    },
    {
      "cell_type": "markdown",
      "metadata": {
        "id": "HPbaEwHLCTLI"
      },
      "source": [
        "## Задание 14\n",
        "\n",
        "Реализовать класс с 2 функциями:\n",
        "\n",
        "*   Первая функция копирует функционал задачи №13, но сохраняет переменные в области видимости класса;\n",
        "*   Вторая функция отображает на экран сумму и названия именованных аргументов.\n",
        "\n"
      ]
    },
    {
      "cell_type": "code",
      "metadata": {
        "id": "FvqwsvY4COmH",
        "colab": {
          "base_uri": "https://localhost:8080/",
          "height": 35
        },
        "outputId": "dc41071b-7b87-4faf-9259-ef382de33d34"
      },
      "source": [
        "\n",
        "class_obj = Solution()\n",
        "class_obj.another_func(1, 2, 3, a=4, b=5)\n",
        "class_obj.print_args_kwargs()"
      ],
      "execution_count": null,
      "outputs": [
        {
          "output_type": "stream",
          "text": [
            "Cумма 6, названия ['a', 'b']\n"
          ],
          "name": "stdout"
        }
      ]
    },
    {
      "cell_type": "markdown",
      "metadata": {
        "id": "nKPXK6feQjU7"
      },
      "source": [
        "# tixons.work@gmail.com"
      ]
    },
    {
      "cell_type": "code",
      "metadata": {
        "id": "Ko3Ao9a1Qldu"
      },
      "source": [
        ""
      ],
      "execution_count": null,
      "outputs": []
    }
  ]
}
{
 "cells": [
  {
   "cell_type": "markdown",
   "source": [
    "Дз №2:\n",
    "Необходимо предсказать риск проблем с сердцем (колонка output) на основе данных (необходима регистрация на kaggle).  Можно использовать материалы ноутбука занятия и наработки сообщества (вкладка Code) - но не бездумно копировать! Задание на отлично: рассмотреть не только knn, но и другие классификаторы, попробовать обучить несколько из них и сравнить полученный результат по метрикам качества на тесте.\n",
    "\n",
    "Критерии, по которым проверяется работа:\n",
    "Выполнена ли загрузка данных? (корректно ли загружен файл, все ли загрузилось и в правильном ли формате)\n",
    "Есть ли первичное исследование? (аномалии, пропуски, корректность заполнения)\n",
    "Есть ли основное исследование (EDA)? (баланс классов, линейные корреляции, группировки с целевым, тезисные выводы словами)\n",
    "Есть ли предобработка? (кодирование данных - one-hot/label encoder, нормализация, train/val/test или train/test split, стратификация по балансировке)\n",
    "Есть ли обучение алгоритма и перебор гиперпараметров? (grid search и не только, обучение алгоритма c лучшими параметрами)\n",
    "Есть ли оценка алгоритма? (Разные метрики качества? Интерпретация ошибок)\n",
    "\n",
    "Опциональные критерии на отлично (8-10 /10):\n",
    "Есть перебор параметров отличных от knn алгоритмов?\n",
    "Есть ли аугментация признаков?\n",
    "Есть ли аугментация данных на train части?\n",
    "Есть ли сравнение разных вариантов кодирования данных?\n",
    "Есть ли обучение отличных (тык) от sklearn алгоритмов? (введение в pytorch хороший официальный туториал и туториалы на русском 1 и 2)\n",
    "Выполнение на 10 не требует всех пунктов выше, но чем больше - тем вероятнее.\n",
    "\n",
    "И самый важный критерий оценивания этого дз и любых дальнейших:\n",
    "Загрузить в ноутбуке занятия вместо .csv файла занятия  указанный в задании, просто запустив все ячейки, конечно, можно. Но это не добавит вам ни понимания ни оценки. Важно продемонстрировать свою способность  выходить за рамки показанного в занятии (хоть минимально), исследовать документацию pandas, sklearn или seaborn, пробовать новые техники визуализации, подготовки и обучения (поначалу копировать, с пониманием, подходы сообщества - вкладка code можно). Ваши текстовые тезисные комментарии показывающие вашу логику в обработке от и до крайне важны. Какой-то скопированный код может не запуститься, но если видно, что были предприняты попытки разобраться и краткий комментарий что пошло не так - это большой плюс в ваш опыт и оценку. БОльшая часть работы специалиста по данным - отладка, исследование документаций библиотек и проверка своих гипотез, перебор разных параметров, без этого опыта построить что-либо выходящее за рамки .fit_predict() из sklearn не получится.\n"
   ],
   "metadata": {}
  },
  {
   "cell_type": "markdown",
   "source": [
    "загрузка"
   ],
   "metadata": {}
  },
  {
   "cell_type": "code",
   "execution_count": 34,
   "source": [
    "import numpy as np\n",
    "import pandas as pd\n",
    "import seaborn as sns\n",
    "from matplotlib.pyplot import figure\n"
   ],
   "outputs": [],
   "metadata": {}
  },
  {
   "cell_type": "markdown",
   "source": [
    "очистка"
   ],
   "metadata": {}
  },
  {
   "cell_type": "code",
   "execution_count": 50,
   "source": [
    "df = pd.read_csv('./data/heart.csv')\n",
    "print(len(df))\n",
    "df = df.drop_duplicates()\n",
    "\n",
    "# df = df.drop(labels=df[df['age'] > 100])\n",
    "print(len(df))\n",
    "# df['age'].value_counts()\n",
    "index_drop = df[df['age'] > 100].index\n",
    "df = df.drop(index_drop)\n",
    "print(len(df))\n",
    "# df['age'].value_counts()\n",
    "\n",
    "# figure(figsize = (10, 15))\n",
    "# sns.heatmap(df == ' ?', cbar=False)\n",
    "\n",
    "# df.describe()\n",
    "\n",
    "# cols = df.columns[:30] # первые 30 колонок\n",
    "# определяем цвета \n",
    "# желтый - пропущенные данные, синий - не пропущенные\n",
    "# colours = ['#000099', '#ffff00'] \n",
    "# sns.heatmap(df[cols].isnull(), cmap=sns.color_palette(colours))\n",
    "\n",
    "df_numeric = df.select_dtypes(include=[np.number])\n",
    "numeric_cols = df_numeric.columns.values\n",
    "print(numeric_cols)\n",
    "\n",
    "# df['age'].hist(bins=100)\n",
    "# df.boxplot(column=['age'])\n",
    "# df['age'].describe()\n",
    "# df['cp'].value_counts().plot.bar()\n",
    "num_rows = len(df.index)\n",
    "low_information_cols = [] #\n",
    "\n",
    "# for col in df.columns:\n",
    "#     cnts = df[col].value_counts(dropna=False)\n",
    "#     top_pct = (cnts/num_rows).iloc[0]\n",
    "    \n",
    "#     if top_pct > 0.7:\n",
    "#         low_information_cols.append(col)\n",
    "#         print('{0}: {1:.5f}%'.format(col, top_pct*100))\n",
    "#         print(cnts)\n",
    "#         print()\n",
    "\n",
    "print(df.shape)\n"
   ],
   "outputs": [
    {
     "output_type": "stream",
     "name": "stdout",
     "text": [
      "307\n",
      "305\n",
      "303\n",
      "['age' 'sex' 'cp' 'trtbps' 'chol' 'fbs' 'restecg' 'thalachh' 'exng'\n",
      " 'oldpeak' 'slp' 'caa' 'thall' 'output']\n",
      "(303, 14)\n"
     ]
    }
   ],
   "metadata": {}
  },
  {
   "cell_type": "code",
   "execution_count": 55,
   "source": [
    "from nltk.metrics import edit_distance\n",
    "\n",
    "df_city_ex = pd.DataFrame(data={'city': ['torontoo', 'toronto', 'tronto', 'vancouver', 'vancover', 'vancouvr', 'montreal', 'calgary']})\n",
    "\n",
    "\n",
    "df_city_ex['city_distance_toronto'] = df_city_ex['city'].map(lambda x: edit_distance(x, 'toronto'))\n",
    "df_city_ex['city_distance_vancouver'] = df_city_ex['city'].map(lambda x: edit_distance(x, 'vancouver'))\n",
    "# df_city_ex\n",
    "\n",
    "msk = df_city_ex['city_distance_toronto'] <= 2\n",
    "# print(msk)\n",
    "df_city_ex.loc[msk, 'city'] = 'toronto'\n",
    "\n",
    "msk = df_city_ex['city_distance_vancouver'] <= 2\n",
    "df_city_ex.loc[msk, 'city'] = 'vancouver'\n",
    "\n",
    "df_city_ex"
   ],
   "outputs": [
    {
     "output_type": "execute_result",
     "data": {
      "text/html": [
       "<div>\n",
       "<style scoped>\n",
       "    .dataframe tbody tr th:only-of-type {\n",
       "        vertical-align: middle;\n",
       "    }\n",
       "\n",
       "    .dataframe tbody tr th {\n",
       "        vertical-align: top;\n",
       "    }\n",
       "\n",
       "    .dataframe thead th {\n",
       "        text-align: right;\n",
       "    }\n",
       "</style>\n",
       "<table border=\"1\" class=\"dataframe\">\n",
       "  <thead>\n",
       "    <tr style=\"text-align: right;\">\n",
       "      <th></th>\n",
       "      <th>city</th>\n",
       "      <th>city_distance_toronto</th>\n",
       "      <th>city_distance_vancouver</th>\n",
       "    </tr>\n",
       "  </thead>\n",
       "  <tbody>\n",
       "    <tr>\n",
       "      <th>0</th>\n",
       "      <td>toronto</td>\n",
       "      <td>1</td>\n",
       "      <td>8</td>\n",
       "    </tr>\n",
       "    <tr>\n",
       "      <th>1</th>\n",
       "      <td>toronto</td>\n",
       "      <td>0</td>\n",
       "      <td>8</td>\n",
       "    </tr>\n",
       "    <tr>\n",
       "      <th>2</th>\n",
       "      <td>toronto</td>\n",
       "      <td>1</td>\n",
       "      <td>8</td>\n",
       "    </tr>\n",
       "    <tr>\n",
       "      <th>3</th>\n",
       "      <td>vancouver</td>\n",
       "      <td>8</td>\n",
       "      <td>0</td>\n",
       "    </tr>\n",
       "    <tr>\n",
       "      <th>4</th>\n",
       "      <td>vancouver</td>\n",
       "      <td>7</td>\n",
       "      <td>1</td>\n",
       "    </tr>\n",
       "    <tr>\n",
       "      <th>5</th>\n",
       "      <td>vancouver</td>\n",
       "      <td>7</td>\n",
       "      <td>1</td>\n",
       "    </tr>\n",
       "    <tr>\n",
       "      <th>6</th>\n",
       "      <td>montreal</td>\n",
       "      <td>7</td>\n",
       "      <td>8</td>\n",
       "    </tr>\n",
       "    <tr>\n",
       "      <th>7</th>\n",
       "      <td>calgary</td>\n",
       "      <td>7</td>\n",
       "      <td>8</td>\n",
       "    </tr>\n",
       "  </tbody>\n",
       "</table>\n",
       "</div>"
      ],
      "text/plain": [
       "        city  city_distance_toronto  city_distance_vancouver\n",
       "0    toronto                      1                        8\n",
       "1    toronto                      0                        8\n",
       "2    toronto                      1                        8\n",
       "3  vancouver                      8                        0\n",
       "4  vancouver                      7                        1\n",
       "5  vancouver                      7                        1\n",
       "6   montreal                      7                        8\n",
       "7    calgary                      7                        8"
      ]
     },
     "metadata": {},
     "execution_count": 55
    }
   ],
   "metadata": {}
  }
 ],
 "metadata": {
  "orig_nbformat": 4,
  "language_info": {
   "name": "python",
   "version": "3.8.5",
   "mimetype": "text/x-python",
   "codemirror_mode": {
    "name": "ipython",
    "version": 3
   },
   "pygments_lexer": "ipython3",
   "nbconvert_exporter": "python",
   "file_extension": ".py"
  },
  "kernelspec": {
   "name": "python3",
   "display_name": "Python 3.8.5 64-bit ('base': conda)"
  },
  "interpreter": {
   "hash": "dca0ade3e726a953b501b15e8e990130d2b7799f14cfd9f4271676035ebe5511"
  }
 },
 "nbformat": 4,
 "nbformat_minor": 2
}
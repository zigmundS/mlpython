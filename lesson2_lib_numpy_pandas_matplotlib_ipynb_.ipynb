{
  "nbformat": 4,
  "nbformat_minor": 2,
  "metadata": {
    "colab": {
      "name": "Копия блокнота \"Занятие 1, основу numpy, pandas, matplotlib.ipynb\"",
      "provenance": [],
      "collapsed_sections": [],
      "toc_visible": true
    },
    "kernelspec": {
      "name": "python3",
      "display_name": "Python 3.8.5 64-bit ('base': conda)"
    },
    "language_info": {
      "name": "python",
      "version": "3.8.5",
      "mimetype": "text/x-python",
      "codemirror_mode": {
        "name": "ipython",
        "version": 3
      },
      "pygments_lexer": "ipython3",
      "nbconvert_exporter": "python",
      "file_extension": ".py"
    },
    "interpreter": {
      "hash": "dca0ade3e726a953b501b15e8e990130d2b7799f14cfd9f4271676035ebe5511"
    }
  },
  "cells": [
    {
      "cell_type": "markdown",
      "source": [
        "# Библиотека matplotlib\n",
        "\n",
        "Есть несколько пакетов для построения графиков. Один из наиболее популярных - `matplotlib`. Если в `jupyter notebook` выполнить специальную `ipython` команду `%matplotlib inline`, то графики будут строиться в том же окне браузера. \n",
        "\n",
        "Есть другие варианты, в которых графики показываются в отдельных окнах. Это удобно для трёхмерных графиков - тогда их можно вертеть мышкой (в случае inline графиков это невозможно). \n",
        "\n",
        "Графики можно также сохранять в файлы, как в векторных форматах (`eps`, `pdf`, `svg`), так и в растровых (`png`, `jpg`; конечно, растровые форматы годятся только для размещения графиков на web-страницах). `matplotlib` позволяет строить двумерные графики практически всех нужных типов, с достаточно гибкой регулировкой их параметров; он также поддерживает основные типы трёхмерных графиков, но для серьёзной трёхмерной визуализации данных лучше пользоваться более мощными специализированными системами.\n",
        "\n",
        "Некоторые функции отрисовки:\n",
        "\n",
        "* `plt.scatter(x, y, params)` — нарисовать точки с координатами из $x$ по горизонтальной оси и из $y$ по вертикальной оси\n",
        "* `plt.plot(x, y, params)` — нарисовать график по точкам с координатами из $x$ по горизонтальной оси и из $y$ по вертикальной оси. Точки будут соединятся в том порядке, в котором они указаны в этих массивах.\n",
        "* `plt.fill_between(x, y1, y2, params)` — закрасить пространство между $y_1$ и $y_2$ по координатам из $x$.\n",
        "*  `plt.pcolormesh(x1, x1, y, params)` — закрасить пространство в соответствии с интенсивностью $y$.\n",
        "* `plt.contour(x1, x1, y, lines)` — нарисовать линии уровня. Затем нужно применить `plt.clabel`\n",
        "\n",
        "\n",
        "Вспомогательные функции:\n",
        "\n",
        "*    `plt.figure(figsize=(x, y))` — создать график размера $(x, y)$\n",
        "*    `plt.show()` — показать график.\n",
        "*    `plt.subplot(...)` — добавить подграфик\n",
        "*    `plt.xlim(x_min, x_max)` — установить пределы графика по горизонтальной оси\n",
        "*    `plt.ylim(y_min, y_max)` — установить пределы графика по вертикальной оси\n",
        "*    `plt.title(name)` — установить имя графика\n",
        "*    `plt.xlabel(name)` — установить название горизонтальной оси\n",
        "*    `plt.ylabel(name)` — установить название вертикальной оси\n",
        "*    `plt.legend(loc=...)` — сделать легенду в позиции loc\n",
        "*    `plt.grid()` — добавить сетку на график\n",
        "*    `plt.savefig(filename)` — сохранить график в файл\n",
        "\n",
        "\n",
        "http://matplotlib.org/gallery.html (англ.) — тысячи примеров\n",
        "\n",
        "У функций в `matplotlib` много параметров.\n",
        "Для того, чтобы посмотреть все параметры, можно воспользоваться справкой\n"
      ],
      "metadata": {
        "id": "_RwFuo-tC9Sm"
      }
    },
    {
      "cell_type": "code",
      "execution_count": null,
      "source": [
        "from google.colab import drive\n",
        "drive.mount('/content/drive')"
      ],
      "outputs": [
        {
          "output_type": "stream",
          "name": "stdout",
          "text": [
            "Mounted at /content/drive\n"
          ]
        }
      ],
      "metadata": {
        "id": "8rhSo3kPCW97",
        "colab": {
          "base_uri": "https://localhost:8080/",
          "height": 34
        },
        "outputId": "c3a17447-0dd5-4e84-dca6-cdf3bff4a1e7"
      }
    },
    {
      "cell_type": "code",
      "execution_count": null,
      "source": [
        "!pip install numpy"
      ],
      "outputs": [
        {
          "output_type": "stream",
          "name": "stdout",
          "text": [
            "Requirement already satisfied: numpy in /usr/local/lib/python3.6/dist-packages (1.18.5)\n"
          ]
        }
      ],
      "metadata": {
        "id": "_JXqETufbYDy",
        "colab": {
          "base_uri": "https://localhost:8080/",
          "height": 34
        },
        "outputId": "fc6ad051-0c94-4b7e-b19c-c1a449aae485"
      }
    },
    {
      "cell_type": "code",
      "execution_count": 17,
      "source": [
        "import numpy as np\n",
        "import pandas as pd\n",
        "import matplotlib.pyplot as plt"
      ],
      "outputs": [],
      "metadata": {
        "id": "vqxcLZlNCq5r"
      }
    },
    {
      "cell_type": "code",
      "execution_count": 2,
      "source": [
        "import numpy.random as npr\n",
        "import matplotlib.pyplot as plt\n",
        "from mpl_toolkits.mplot3d import Axes3D\n",
        "from pandas import *\n",
        "from numpy.random import randn\n",
        "from pylab import *\n",
        "import scipy.stats as sps\n",
        "import warnings\n",
        "warnings.simplefilter('ignore')\n",
        "\n",
        "%matplotlib inline"
      ],
      "outputs": [],
      "metadata": {
        "id": "548yVOqNDF6T"
      }
    },
    {
      "cell_type": "markdown",
      "source": [
        "Посмотрим, что можно делать с библиотекой"
      ],
      "metadata": {
        "id": "6dQa8zMyDHqN"
      }
    },
    {
      "cell_type": "markdown",
      "source": [
        "## Основы matplotlib\n",
        "\n",
        "Списки $x$ и $y$ координат точек. Точки соединяются прямыми, т.е. строится ломаная линия."
      ],
      "metadata": {
        "id": "y7Dnebm4DNWA"
      }
    },
    {
      "cell_type": "code",
      "execution_count": 3,
      "source": [
        "plt.plot([0, 0.25, 1], [0, 1, 0.5])\n",
        "plt.plot([0, 1, 0.5, 1.2],[1, 2, 3, 4])\n",
        "plt.show()"
      ],
      "outputs": [
        {
          "output_type": "display_data",
          "data": {
            "image/png": "[encoded data removed]",
            "text/plain": [
              "<Figure size 432x288 with 1 Axes>"
            ]
          },
          "metadata": {
            "needs_background": "light"
          }
        }
      ],
      "metadata": {
        "id": "xchr9cOdDO3Y",
        "colab": {
          "base_uri": "https://localhost:8080/",
          "height": 265
        },
        "outputId": "47e061f6-099d-429c-ba01-83beb1f93565"
      }
    },
    {
      "cell_type": "code",
      "execution_count": null,
      "source": [
        "plt.figure()\n",
        "plt.plot([0, 1, 0.5, 1.2],[1, 2, 3, 4])\n",
        "plt.show()"
      ],
      "outputs": [
        {
          "output_type": "display_data",
          "data": {
            "image/png": "[encoded data removed]",
            "text/plain": [
              "<Figure size 432x288 with 1 Axes>"
            ]
          },
          "metadata": {
            "tags": []
          }
        }
      ],
      "metadata": {
        "id": "fPqwAIwhDRZF",
        "colab": {
          "base_uri": "https://localhost:8080/",
          "height": 265
        },
        "outputId": "6e61623c-db6e-4ac4-c75e-d70dea161948"
      }
    },
    {
      "cell_type": "code",
      "execution_count": null,
      "source": [
        "# можно задавать размер изображения\n",
        "plt.figure(figsize=(8,8))\n",
        "plt.plot([0, 0.25, 1, 0], [0, 1, 0.5, 0])\n",
        "plt.show()"
      ],
      "outputs": [
        {
          "output_type": "display_data",
          "data": {
            "image/png": "[encoded data removed]",
            "text/plain": [
              "<Figure size 576x576 with 1 Axes>"
            ]
          },
          "metadata": {
            "tags": [],
            "needs_background": "light"
          }
        }
      ],
      "metadata": {
        "id": "Ry-p2b8kDS5t",
        "colab": {
          "base_uri": "https://localhost:8080/",
          "height": 483
        },
        "outputId": "56258e9f-4630-4fe5-f5a6-5eb49e5b2db4"
      }
    },
    {
      "cell_type": "code",
      "execution_count": null,
      "source": [
        "# тут мы создаем массив numpy встроенной функцией\n",
        "# используем функцию из numpy, которая создает массив из 100 точек в диапазоне от 0 до 4 Pi с равными шагами\n",
        "x = np.linspace(0, 4 * np.pi, 100)\n",
        "\n",
        "plt.figure()\n",
        "plt.plot(x, np.sin(x))\n",
        "plt.show()"
      ],
      "outputs": [
        {
          "output_type": "display_data",
          "data": {
            "image/png": "[encoded data removed]",
            "text/plain": [
              "<Figure size 432x288 with 1 Axes>"
            ]
          },
          "metadata": {
            "tags": [],
            "needs_background": "light"
          }
        }
      ],
      "metadata": {
        "id": "dQSz0b-RDUFZ",
        "colab": {
          "base_uri": "https://localhost:8080/",
          "height": 265
        },
        "outputId": "38d265d5-ffa0-4dc5-b00b-b089ab4af2c1"
      }
    },
    {
      "cell_type": "markdown",
      "source": [
        "Массив $x$ не обязан быть монотонно возрастающим. Можно строить любую параметрическую линию $x=x(t)$, $y=y(t)$."
      ],
      "metadata": {
        "id": "zDFbZ_5uDXGq"
      }
    },
    {
      "cell_type": "code",
      "execution_count": null,
      "source": [
        "t = np.linspace(0, 2 * np.pi, 100)\n",
        "\n",
        "plt.figure()\n",
        "# поэлементно приминяем функции к сгенерированному массиву данных\n",
        "plt.plot(np.cos(t), np.sin(t))\n",
        "plt.axes().set_aspect(1)\n",
        "plt.show()"
      ],
      "outputs": [
        {
          "output_type": "display_data",
          "data": {
            "image/png": "[encoded data removed]",
            "text/plain": [
              "<Figure size 432x288 with 1 Axes>"
            ]
          },
          "metadata": {
            "tags": [],
            "needs_background": "light"
          }
        }
      ],
      "metadata": {
        "id": "1VdLpbOhDYWu",
        "colab": {
          "base_uri": "https://localhost:8080/",
          "height": 265
        },
        "outputId": "e0ddb0a3-90f4-4301-91f0-8d5813983096"
      }
    },
    {
      "cell_type": "markdown",
      "source": [
        "Чтобы окружности выглядели как окружности, а не как эллипсы, (а квадраты как квадраты, а не как прямоугольники), нужно установить aspect ratio, равный 1.\n",
        "\n",
        "А вот одна из фигур Лиссажу."
      ],
      "metadata": {
        "id": "nqgzqvSxDaeZ"
      }
    },
    {
      "cell_type": "code",
      "execution_count": null,
      "source": [
        "plt.figure()\n",
        "plt.plot(np.sin(2 * t), np.cos(3 * t))\n",
        "plt.axes().set_aspect(1)\n",
        "plt.show()"
      ],
      "outputs": [
        {
          "output_type": "display_data",
          "data": {
            "image/png": "[encoded data removed]",
            "text/plain": [
              "<Figure size 432x288 with 1 Axes>"
            ]
          },
          "metadata": {
            "tags": []
          }
        }
      ],
      "metadata": {
        "id": "PkFpFXReDZr2",
        "colab": {
          "base_uri": "https://localhost:8080/",
          "height": 265
        },
        "outputId": "cc6565f7-081d-4e64-9334-afa0d0dad5ec"
      }
    },
    {
      "cell_type": "markdown",
      "source": [
        "Для простой регулировки цветов и типов линий после пары $x$ и $y$ координат вставляется форматная строка. Первая буква определяет цвет (`'r'` - красный, `'b'` - синий и т.д.), дальше задаётся тип линии (`'-'` - сплошная, `'--'` - пунктирная, `'-.'` - штрих-пунктирная и т.д.)."
      ],
      "metadata": {
        "id": "pu82mqwJDuxa"
      }
    },
    {
      "cell_type": "code",
      "execution_count": 4,
      "source": [
        "x = np.linspace(0, 4 * np.pi, 100)\n",
        "plt.figure()\n",
        "plt.grid(color='g',linestyle=':',linewidth=0.5)\n",
        "plt.plot(x, np.sin(x), 'r*')\n",
        "plt.plot(x, np.cos(x), 'b-')\n",
        "plt.show()"
      ],
      "outputs": [
        {
          "output_type": "display_data",
          "data": {
            "image/png": "[encoded data removed]",
            "text/plain": [
              "<Figure size 432x288 with 1 Axes>"
            ]
          },
          "metadata": {
            "needs_background": "light"
          }
        }
      ],
      "metadata": {
        "id": "esbTVkvPDv70",
        "colab": {
          "base_uri": "https://localhost:8080/",
          "height": 265
        },
        "outputId": "1758dde9-6b42-4024-9ef6-13722659081f"
      }
    },
    {
      "cell_type": "markdown",
      "source": [
        "Если в качестве \"типа линии\" указано `'o'`, то это означает рисовать точки кружочками и не соединять их линиями; аналогично, `'s'` означает квадратики. Конечно, такие графики имеют смысл только тогда, когда точек не очень много."
      ],
      "metadata": {
        "id": "XXJX9hI-DxYF"
      }
    },
    {
      "cell_type": "code",
      "execution_count": null,
      "source": [
        "x = np.linspace(0, 1, 11)\n",
        "\n",
        "plt.figure()\n",
        "plt.plot(x, x ** 2, 'ro')\n",
        "plt.plot(x, 1 - x, 'gs')\n",
        "plt.show()"
      ],
      "outputs": [
        {
          "output_type": "display_data",
          "data": {
            "image/png": "[encoded data removed]",
            "text/plain": [
              "<Figure size 432x288 with 1 Axes>"
            ]
          },
          "metadata": {
            "tags": []
          }
        }
      ],
      "metadata": {
        "id": "w95cFUysDyZ_",
        "colab": {
          "base_uri": "https://localhost:8080/",
          "height": 265
        },
        "outputId": "6b2c1031-f64f-41bc-8bb3-0800725bdf43"
      }
    },
    {
      "cell_type": "markdown",
      "source": [
        "### Задача 1\n",
        "\n",
        "Создайте функцию, которая принимает на вход набор значний и возвращает\n",
        "\n",
        "*   $x^2$, если $x<0$\n",
        "*   $-x^3$, если $ 0 =< x =< 2$\n",
        "*   $x^3$, если $x > 2$\n",
        "\n",
        "Постройте получившиеся значения на графике, по оси х - входной массив, по оси y - результат функции\n"
      ],
      "metadata": {
        "id": "WNzVhLqKw7NB"
      }
    },
    {
      "cell_type": "code",
      "execution_count": 13,
      "source": [
        "x = np.linspace(-2, 4, 20)\n",
        "\n",
        "def func(x):\n",
        "    # ваш код\n",
        "  r = x**2\n",
        "  if x >= 0 and x <= 2:\n",
        "    r = -x**3\n",
        "  elif x > 2:\n",
        "    r = x**3\n",
        "  return r\n",
        "# отображение\n",
        "plt.plot(x, [func(i) for i in x], 'ro')"
      ],
      "outputs": [
        {
          "output_type": "execute_result",
          "data": {
            "text/plain": [
              "[<matplotlib.lines.Line2D at 0x7fca38e39640>]"
            ]
          },
          "metadata": {},
          "execution_count": 13
        },
        {
          "output_type": "display_data",
          "data": {
            "image/png": "[encoded data removed]",
            "text/plain": [
              "<Figure size 432x288 with 1 Axes>"
            ]
          },
          "metadata": {
            "needs_background": "light"
          }
        }
      ],
      "metadata": {
        "id": "cCZX1Ns2w78s",
        "colab": {
          "base_uri": "https://localhost:8080/",
          "height": 283
        },
        "outputId": "94141b7b-ada5-4da0-cb7c-2eadb0158544"
      }
    },
    {
      "cell_type": "markdown",
      "source": [
        "### Задача 2\n",
        "\n",
        "Отсортировать по убыванию возраста пассажиров титаника, отобразить на графике с подписью\n"
      ],
      "metadata": {
        "id": "kxoE55uIw9rj"
      }
    },
    {
      "cell_type": "code",
      "execution_count": 35,
      "source": [
        "# импоритруем для загрузки данных\n",
        "# import pandas as pd\n",
        "\n",
        "# загрузим набор данных пассажиров титаника\n",
        "df = pd.read_csv('./titanic.csv')\n",
        "# возьмем возраста пассажиров\n",
        "age = df['Age'].sort_values(ascending=False).tolist()\n",
        "\n",
        "plt.plot([i for i, j in enumerate(age)], age, 'b*')\n",
        "plt.xlabel('отдельный пассажир')\n",
        "plt.ylabel('возраст пассажира')\n",
        "\n",
        "# ваш код тут"
      ],
      "outputs": [
        {
          "output_type": "execute_result",
          "data": {
            "text/plain": [
              "Text(0, 0.5, 'возраст пассажира')"
            ]
          },
          "metadata": {},
          "execution_count": 35
        },
        {
          "output_type": "display_data",
          "data": {
            "image/png": "[encoded data removed]",
            "text/plain": [
              "<Figure size 432x288 with 1 Axes>"
            ]
          },
          "metadata": {
            "needs_background": "light"
          }
        }
      ],
      "metadata": {
        "id": "edRCL0Iqw-z4",
        "colab": {
          "base_uri": "https://localhost:8080/",
          "height": 283
        },
        "outputId": "65435b41-1621-49ca-8893-847da77714af"
      }
    },
    {
      "cell_type": "markdown",
      "source": [
        "## Обзор возможностей"
      ],
      "metadata": {
        "id": "PieiUPhtw3XZ"
      }
    },
    {
      "cell_type": "markdown",
      "source": [
        "Библиотека не ограничивается созданием только одним типом графика (line plot). Давайте рассмотрим примеры других типов:"
      ],
      "metadata": {
        "id": "QDzdvuzbXf-6"
      }
    },
    {
      "cell_type": "markdown",
      "source": [
        "Диаграмма разброса (scatter plot)"
      ],
      "metadata": {
        "id": "tHQ4YJElYVlj"
      }
    },
    {
      "cell_type": "code",
      "execution_count": null,
      "source": [
        "import numpy as np\n",
        "import matplotlib.pyplot as plt\n",
        "\n",
        "np.random.seed(123456)\n",
        "\n",
        "# создадим 50 точек из нормального распределния\n",
        "N = 50\n",
        "# координаты х, у\n",
        "x = np.random.rand(N)\n",
        "y = np.random.rand(N)\n",
        "# и их радиус\n",
        "area = (30 * np.random.rand(N))**2  # 0 to 15 point radii\n",
        "# отобразим\n",
        "plt.scatter(x, y, s=area)\n",
        "plt.show()"
      ],
      "outputs": [
        {
          "output_type": "display_data",
          "data": {
            "image/png": "[encoded data removed]",
            "text/plain": [
              "<Figure size 432x288 with 1 Axes>"
            ]
          },
          "metadata": {
            "tags": [],
            "needs_background": "light"
          }
        }
      ],
      "metadata": {
        "id": "_RsEccd-Xe88",
        "colab": {
          "base_uri": "https://localhost:8080/",
          "height": 265
        },
        "outputId": "c3e2bcf6-6dcc-4085-f19f-37cda56d19ef"
      }
    },
    {
      "cell_type": "markdown",
      "source": [
        "Столбчатые диаграммы (bar chart)"
      ],
      "metadata": {
        "id": "HhGisq8NYdGz"
      }
    },
    {
      "cell_type": "code",
      "execution_count": null,
      "source": [
        "# задаем подписи отображаемых объектов\n",
        "objects = ('Python', 'JavaScript', 'Java')\n",
        "# задаем значения позиций подписей (по х)\n",
        "y_pos = np.arange(len(objects))\n",
        "# задаем значения (по y)\n",
        "popularity = [10.,9.5,9]\n",
        "# создаем столбчатую диаграмму с вышеобозначенными значениями\n",
        "plt.bar(y_pos, popularity)\n",
        "# задаем подписи по оси х\n",
        "plt.xticks(y_pos, objects)\n",
        "# задаем название по y\n",
        "plt.ylabel('Частота использования на github')\n",
        "# задаем название всего графика\n",
        "plt.title('Популярность языков')\n",
        "\n",
        "plt.show()"
      ],
      "outputs": [
        {
          "output_type": "display_data",
          "data": {
            "image/png": "[encoded data removed]",
            "text/plain": [
              "<Figure size 432x288 with 1 Axes>"
            ]
          },
          "metadata": {
            "tags": [],
            "needs_background": "light"
          }
        }
      ],
      "metadata": {
        "id": "8Yxc4ZpuYgVx",
        "colab": {
          "base_uri": "https://localhost:8080/",
          "height": 281
        },
        "outputId": "98aacb90-ff0b-4506-fcb1-e3a0f30ca0a8"
      }
    },
    {
      "cell_type": "markdown",
      "source": [
        "Гистограммы (histogram)"
      ],
      "metadata": {
        "id": "dxkxL108Ymp1"
      }
    },
    {
      "cell_type": "code",
      "execution_count": null,
      "source": [
        "# среднее распределения\n",
        "mu = 42 \n",
        "# среднекадратичное отклонение\n",
        "sigma = 3.14 \n",
        "# значения, сгенерированные из нормального распределения\n",
        "# подробнее о нормальном распределении - https://ru.wikipedia.org/wiki/%D0%9D%D0%BE%D1%80%D0%BC%D0%B0%D0%BB%D1%8C%D0%BD%D0%BE%D0%B5_%D1%80%D0%B0%D1%81%D0%BF%D1%80%D0%B5%D0%B4%D0%B5%D0%BB%D0%B5%D0%BD%D0%B8%D0%B5\n",
        "x = mu + sigma * np.random.randn(10000)\n",
        "# отобразим несколько элементов\n",
        "print(x)"
      ],
      "outputs": [
        {
          "output_type": "stream",
          "name": "stdout",
          "text": [
            "[42.41725954 41.92561819 49.56796116 ... 39.85637708 39.80913606\n",
            " 38.57082411]\n"
          ]
        }
      ],
      "metadata": {
        "id": "r9jNkdQnYmvf",
        "colab": {
          "base_uri": "https://localhost:8080/",
          "height": 51
        },
        "outputId": "c5b74ae2-3d9e-4581-a19d-08d73a55e4db"
      }
    },
    {
      "cell_type": "code",
      "execution_count": null,
      "source": [
        "num_bins = 50\n",
        "# Гистограмма переменной показывает распределение частоты этой переменной\n",
        "# (высота столбца - сколько элеметов попало в диапазон этого столбца)\n",
        "# В этом случае мы указали num_bins - количество столбцов заранее\n",
        "plt.hist(x, num_bins)"
      ],
      "outputs": [
        {
          "output_type": "execute_result",
          "data": {
            "text/plain": [
              "(array([  2.,   1.,  10.,   9.,  10.,  17.,  23.,  29.,  44.,  54.,  67.,\n",
              "        107., 138., 192., 220., 248., 334., 308., 401., 441., 454., 531.,\n",
              "        506., 609., 622., 524., 558., 528., 447., 410., 428., 337., 338.,\n",
              "        243., 189., 148., 133.,  91.,  76.,  54.,  39.,  25.,  19.,  15.,\n",
              "          7.,   6.,   4.,   1.,   1.,   2.]),\n",
              " array([30.94444913, 31.39778093, 31.85111274, 32.30444454, 32.75777635,\n",
              "        33.21110815, 33.66443996, 34.11777176, 34.57110357, 35.02443537,\n",
              "        35.47776718, 35.93109898, 36.38443078, 36.83776259, 37.29109439,\n",
              "        37.7444262 , 38.197758  , 38.65108981, 39.10442161, 39.55775342,\n",
              "        40.01108522, 40.46441702, 40.91774883, 41.37108063, 41.82441244,\n",
              "        42.27774424, 42.73107605, 43.18440785, 43.63773966, 44.09107146,\n",
              "        44.54440327, 44.99773507, 45.45106687, 45.90439868, 46.35773048,\n",
              "        46.81106229, 47.26439409, 47.7177259 , 48.1710577 , 48.62438951,\n",
              "        49.07772131, 49.53105312, 49.98438492, 50.43771672, 50.89104853,\n",
              "        51.34438033, 51.79771214, 52.25104394, 52.70437575, 53.15770755,\n",
              "        53.61103936]),\n",
              " <a list of 50 Patch objects>)"
            ]
          },
          "metadata": {
            "tags": []
          },
          "execution_count": 97
        },
        {
          "output_type": "display_data",
          "data": {
            "image/png": "[encoded data removed]",
            "text/plain": [
              "<Figure size 432x288 with 1 Axes>"
            ]
          },
          "metadata": {
            "tags": [],
            "needs_background": "light"
          }
        }
      ],
      "metadata": {
        "id": "ax7BwcSCcs-W",
        "colab": {
          "base_uri": "https://localhost:8080/",
          "height": 559
        },
        "outputId": "fab7da16-7b54-4dcf-e66d-e16f7e229438"
      }
    },
    {
      "cell_type": "code",
      "execution_count": null,
      "source": [
        "# а можем оставить это на усмотрение алгоритма\n",
        "plt.hist(x)"
      ],
      "outputs": [
        {
          "output_type": "execute_result",
          "data": {
            "text/plain": [
              "(array([  32.,  166.,  724., 1735., 2719., 2469., 1533.,  504.,  104.,\n",
              "          14.]),\n",
              " array([30.94444913, 33.21110815, 35.47776718, 37.7444262 , 40.01108522,\n",
              "        42.27774424, 44.54440327, 46.81106229, 49.07772131, 51.34438033,\n",
              "        53.61103936]),\n",
              " <a list of 10 Patch objects>)"
            ]
          },
          "metadata": {
            "tags": []
          },
          "execution_count": 32
        },
        {
          "output_type": "display_data",
          "data": {
            "image/png": "[encoded data removed]",
            "text/plain": [
              "<Figure size 432x288 with 1 Axes>"
            ]
          },
          "metadata": {
            "tags": []
          }
        }
      ],
      "metadata": {
        "id": "qHIwxXZtdgXa",
        "colab": {
          "base_uri": "https://localhost:8080/",
          "height": 369
        },
        "outputId": "7c28d527-8e27-4b92-8d43-0b354b75a198"
      }
    },
    {
      "cell_type": "markdown",
      "source": [
        "Круговые диаграммы (pie chart)"
      ],
      "metadata": {
        "id": "tQbH0u3qYghQ"
      }
    },
    {
      "cell_type": "code",
      "execution_count": null,
      "source": [
        "\n",
        "# определяем названия браузеров\n",
        "labels = 'Chrome', 'Safari', 'Samsung internet', 'UC Browser', 'Остальные'\n",
        "# определяем значения для соответсвующих подписей\n",
        "sizes = [64, 19, 6, 5, 6]\n",
        "# определяем насколько мы ходим выделить каждый\n",
        "explode = (0.1, 0, 0, 0, 0)\n",
        "# создаем объект подграфика и ось с данными и подписями\n",
        "fig1, ax1 = plt.subplots(figsize=(10, 10))\n",
        "# функции имеют много различных настроек, к примеру тени\n",
        "ax1.pie(sizes, explode=explode, labels=labels, shadow=True)\n",
        "# задаем название всего графика\n",
        "plt.title('Популярность браузеров в 2019')\n",
        "# отображаем\n",
        "plt.show()"
      ],
      "outputs": [
        {
          "output_type": "display_data",
          "data": {
            "image/png": "[encoded data removed]",
            "text/plain": [
              "<Figure size 720x720 with 1 Axes>"
            ]
          },
          "metadata": {
            "tags": []
          }
        }
      ],
      "metadata": {
        "id": "MWqf2KTqYgsZ",
        "colab": {
          "base_uri": "https://localhost:8080/",
          "height": 591
        },
        "outputId": "fe04acfe-6f1e-40c3-95a0-e041eba4a743"
      }
    },
    {
      "cell_type": "markdown",
      "source": [
        "### Задача 3\n",
        "\n",
        "Построить гистограмму распределения по возрасту пассажиров, добавить подписи. Найти среднее и стандартное отклонение и медиану.\n",
        "\n",
        "Подсказка:\n",
        "\n",
        "Среднее и стандартное отклоенение - одни из основных статистик, которые находят при анализе данных. Грубо говоря стандартное отклонение показывает рассеянность значений случайной величины относительно её математического ожидания (среднее значение случайной величины).\n",
        "\n",
        "$\\mu$ = $\\frac{\\sum_i^n x_i}{n}$, где $x_i$ - элемент последовательности длинны $n$\n",
        "\n",
        "$\\sigma$ = $\\sqrt{\\frac{\\sum_i^n (x_i - \\mu)^2}{n}}$, где $x_i$ - элемент последовательности длинны $n$, а $\\mu$ - среднее. (Из предположения, что данные являются генеральной совокупностью - совокупность всех объектов, относительно которых предполагается делать выводы при изучении конкретной задачи)\n",
        "\n",
        "В случае, если данные выбраны из большого распредления (чаще всего на практике формула принимает вид:\n",
        "\n",
        "$\\sigma$ = $\\sqrt{\\frac{\\sum_i^n (x_i - \\mu)^2}{n-1}}$, где $x_i$ - элемент последовательности длинны $n$, а $\\mu$ - среднее. Это стандартное отклонение на основании несмещённой оценки дисперсии.\n",
        "\n",
        "Медиана ряда – это значение, которая делит его на две равные части (по количеству вариант).\n",
        "Если число элементов нечетно, то медиана - среднее значение отортированного набора значений. Если нет, то среднее арифметическое двух цетнтральных.\n"
      ],
      "metadata": {
        "id": "OlGV6sY_xUEo"
      }
    },
    {
      "cell_type": "code",
      "execution_count": 62,
      "source": [
        "# Воспользуемся старыми данными возраста пассажиров титаника\n",
        "df = pd.read_csv('./titanic.csv')\n",
        "# возьмем возраста пассажиров\n",
        "age = df['Age'].tolist()\n",
        "set_age_round = set([round(i) for i in age])\n",
        "\n",
        "plt.hist(age, len(set_age_round))"
      ],
      "outputs": [
        {
          "output_type": "execute_result",
          "data": {
            "text/plain": [
              "(array([14., 11.,  7., 11.,  6.,  8.,  6.,  8.,  2.,  4.,  2.,  2.,  8.,\n",
              "         5., 20., 52., 33., 23., 35., 39., 26., 35., 24., 21., 63., 27.,\n",
              "        33., 21., 21., 19., 18., 21., 24., 12., 30., 18., 11., 17.,  7.,\n",
              "         9., 16.,  6., 10., 20., 10.,  7.,  6.,  1.,  9.,  4.,  4.,  3.,\n",
              "         5.,  7.,  3.,  5.,  2.,  3.,  3.,  2.,  0.,  0.,  3.,  3.,  0.,\n",
              "         0.,  1.,  0.,  0.,  0.,  0.,  1.]),\n",
              " array([ 0.42      ,  1.52527778,  2.63055556,  3.73583333,  4.84111111,\n",
              "         5.94638889,  7.05166667,  8.15694444,  9.26222222, 10.3675    ,\n",
              "        11.47277778, 12.57805556, 13.68333333, 14.78861111, 15.89388889,\n",
              "        16.99916667, 18.10444444, 19.20972222, 20.315     , 21.42027778,\n",
              "        22.52555556, 23.63083333, 24.73611111, 25.84138889, 26.94666667,\n",
              "        28.05194444, 29.15722222, 30.2625    , 31.36777778, 32.47305556,\n",
              "        33.57833333, 34.68361111, 35.78888889, 36.89416667, 37.99944444,\n",
              "        39.10472222, 40.21      , 41.31527778, 42.42055556, 43.52583333,\n",
              "        44.63111111, 45.73638889, 46.84166667, 47.94694444, 49.05222222,\n",
              "        50.1575    , 51.26277778, 52.36805556, 53.47333333, 54.57861111,\n",
              "        55.68388889, 56.78916667, 57.89444444, 58.99972222, 60.105     ,\n",
              "        61.21027778, 62.31555556, 63.42083333, 64.52611111, 65.63138889,\n",
              "        66.73666667, 67.84194444, 68.94722222, 70.0525    , 71.15777778,\n",
              "        72.26305556, 73.36833333, 74.47361111, 75.57888889, 76.68416667,\n",
              "        77.78944444, 78.89472222, 80.        ]),\n",
              " <BarContainer object of 72 artists>)"
            ]
          },
          "metadata": {},
          "execution_count": 62
        },
        {
          "output_type": "display_data",
          "data": {
            "image/png": "[encoded data removed]",
            "text/plain": [
              "<Figure size 432x288 with 1 Axes>"
            ]
          },
          "metadata": {
            "needs_background": "light"
          }
        }
      ],
      "metadata": {
        "id": "XfE7EaYzxVCP"
      }
    },
    {
      "cell_type": "code",
      "execution_count": null,
      "source": [],
      "outputs": [
        {
          "output_type": "execute_result",
          "data": {
            "text/plain": [
              "(array([25., 18.,  9., 11., 10.,  6.,  9., 26., 52., 56., 74., 60., 46.,\n",
              "        63., 60., 42., 36., 45., 25., 36., 28., 16., 22., 22., 18., 13.,\n",
              "        10.,  8.,  8.,  7.,  8.,  5.,  5.,  0.,  3.,  3.,  1.,  0.,  0.,\n",
              "         1.]),\n",
              " array([ 0.42  ,  2.4095,  4.399 ,  6.3885,  8.378 , 10.3675, 12.357 ,\n",
              "        14.3465, 16.336 , 18.3255, 20.315 , 22.3045, 24.294 , 26.2835,\n",
              "        28.273 , 30.2625, 32.252 , 34.2415, 36.231 , 38.2205, 40.21  ,\n",
              "        42.1995, 44.189 , 46.1785, 48.168 , 50.1575, 52.147 , 54.1365,\n",
              "        56.126 , 58.1155, 60.105 , 62.0945, 64.084 , 66.0735, 68.063 ,\n",
              "        70.0525, 72.042 , 74.0315, 76.021 , 78.0105, 80.    ]),\n",
              " <a list of 40 Patch objects>)"
            ]
          },
          "metadata": {
            "tags": []
          },
          "execution_count": 98
        },
        {
          "output_type": "display_data",
          "data": {
            "image/png": "[encoded data removed]",
            "text/plain": [
              "<Figure size 648x432 with 1 Axes>"
            ]
          },
          "metadata": {
            "tags": [],
            "needs_background": "light"
          }
        }
      ],
      "metadata": {
        "id": "qdBqBQCBxX-I",
        "colab": {
          "base_uri": "https://localhost:8080/",
          "height": 565
        },
        "outputId": "f0ccbc4c-8446-45b3-bfe3-3696c8ab66d0"
      }
    },
    {
      "cell_type": "markdown",
      "source": [
        "Мат ожидание"
      ],
      "metadata": {
        "id": "T52uIWc7xw-m"
      }
    },
    {
      "cell_type": "markdown",
      "source": [],
      "metadata": {}
    },
    {
      "cell_type": "code",
      "execution_count": 54,
      "source": [
        "# Вариант через питон\n",
        "mean = lambda x: sum(x)/len(x)\n",
        "mean(age)"
      ],
      "outputs": [
        {
          "output_type": "execute_result",
          "data": {
            "text/plain": [
              "29.471443066516347"
            ]
          },
          "metadata": {},
          "execution_count": 54
        }
      ],
      "metadata": {
        "id": "QPCNU-8lxazL",
        "colab": {
          "base_uri": "https://localhost:8080/",
          "height": 34
        },
        "outputId": "d7eef321-4763-4b9a-f777-7a50ded63222"
      }
    },
    {
      "cell_type": "code",
      "execution_count": null,
      "source": [
        "# Вариант через библиотеки\n"
      ],
      "outputs": [
        {
          "output_type": "execute_result",
          "data": {
            "text/plain": [
              "29.471443066516347"
            ]
          },
          "metadata": {
            "tags": []
          },
          "execution_count": 100
        }
      ],
      "metadata": {
        "id": "tCa3qoWYxaw9",
        "colab": {
          "base_uri": "https://localhost:8080/",
          "height": 34
        },
        "outputId": "f7140b40-dc0a-46f4-9558-f7cab154cf05"
      }
    },
    {
      "cell_type": "markdown",
      "source": [
        "Результат из предположения, что данные были выбраны из большой совокупности, является стандартным отклонением на основании несмещённой оценки дисперсии."
      ],
      "metadata": {
        "id": "HKQtRMhpxe-2"
      }
    },
    {
      "cell_type": "markdown",
      "source": [
        "Стандартное отклонение"
      ],
      "metadata": {
        "id": "dUtNlpMkx20g"
      }
    },
    {
      "cell_type": "code",
      "execution_count": 59,
      "source": [
        "# Вариант через питон\n",
        "# sqrt - корень из модуля math\n",
        "variance = lambda x: (sum([(i - mean(x)) ** 2 for i in x]) / len(x)) ** 0.5\n",
        "variance(age)"
      ],
      "outputs": [
        {
          "output_type": "execute_result",
          "data": {
            "text/plain": [
              "14.113945671023181"
            ]
          },
          "metadata": {},
          "execution_count": 59
        }
      ],
      "metadata": {
        "id": "2FQdZxepxauf",
        "colab": {
          "base_uri": "https://localhost:8080/",
          "height": 34
        },
        "outputId": "98989453-c8ac-4e57-fa82-c55bb000a124"
      }
    },
    {
      "cell_type": "code",
      "execution_count": null,
      "source": [
        "# Вариант через библиотеки\n"
      ],
      "outputs": [
        {
          "output_type": "execute_result",
          "data": {
            "text/plain": [
              "14.121908405462554"
            ]
          },
          "metadata": {
            "tags": []
          },
          "execution_count": 102
        }
      ],
      "metadata": {
        "id": "9uelG0DuxasC",
        "colab": {
          "base_uri": "https://localhost:8080/",
          "height": 34
        },
        "outputId": "447a8fe3-6efe-4a6a-db30-3305bc5f9803"
      }
    },
    {
      "cell_type": "code",
      "execution_count": null,
      "source": [],
      "outputs": [],
      "metadata": {}
    },
    {
      "cell_type": "markdown",
      "source": [
        "Результат, когда данные являются генеральной совокупностью."
      ],
      "metadata": {
        "id": "PyFgf9B2xki3"
      }
    },
    {
      "cell_type": "code",
      "execution_count": null,
      "source": [
        "# Вариант через питон\n"
      ],
      "outputs": [
        {
          "output_type": "execute_result",
          "data": {
            "text/plain": [
              "14.11394567102318"
            ]
          },
          "metadata": {
            "tags": []
          },
          "execution_count": 103
        }
      ],
      "metadata": {
        "id": "ftoEH7cRxlUF",
        "colab": {
          "base_uri": "https://localhost:8080/",
          "height": 34
        },
        "outputId": "a8b04430-1f72-43ba-f56a-0df764464ab1"
      }
    },
    {
      "cell_type": "code",
      "execution_count": null,
      "source": [
        "# Вариант через библиотеки\n"
      ],
      "outputs": [
        {
          "output_type": "execute_result",
          "data": {
            "text/plain": [
              "14.113945671023174"
            ]
          },
          "metadata": {
            "tags": []
          },
          "execution_count": 104
        }
      ],
      "metadata": {
        "id": "wCEEoEoNxovn",
        "colab": {
          "base_uri": "https://localhost:8080/",
          "height": 34
        },
        "outputId": "7391afb5-711a-4e08-9b5e-8c6edb466f00"
      }
    },
    {
      "cell_type": "markdown",
      "source": [
        "Медиана"
      ],
      "metadata": {
        "id": "FfYwjOS1x5x7"
      }
    },
    {
      "cell_type": "code",
      "execution_count": 61,
      "source": [
        "# Вариант через питон\n",
        "def med(x):\n",
        "    index = len(x) // 2\n",
        "    if len(x) % 2:\n",
        "        return sorted(x)[index]\n",
        "    return sum(sorted(x)[index - 1:index + 1]) / 2\n",
        "\n",
        "med(age)"
      ],
      "outputs": [
        {
          "output_type": "execute_result",
          "data": {
            "text/plain": [
              "28.0"
            ]
          },
          "metadata": {},
          "execution_count": 61
        }
      ],
      "metadata": {
        "id": "3J6DN8Adxs5j",
        "colab": {
          "base_uri": "https://localhost:8080/",
          "height": 34
        },
        "outputId": "ef1320f3-9260-4cc1-e3dd-6d5d21956470"
      }
    },
    {
      "cell_type": "code",
      "execution_count": null,
      "source": [
        "# Вариант через библиотеки\n"
      ],
      "outputs": [
        {
          "output_type": "execute_result",
          "data": {
            "text/plain": [
              "28.0"
            ]
          },
          "metadata": {
            "tags": []
          },
          "execution_count": 107
        }
      ],
      "metadata": {
        "id": "LUOkgjnGx-Qy",
        "colab": {
          "base_uri": "https://localhost:8080/",
          "height": 34
        },
        "outputId": "55ceea0c-dace-4ce4-caca-4a960e469644"
      }
    },
    {
      "cell_type": "markdown",
      "source": [
        "# Обработка числовых массивов даных"
      ],
      "metadata": {
        "id": "AUEGKjgpD6hc"
      }
    },
    {
      "cell_type": "markdown",
      "source": [
        "## Основы numpy"
      ],
      "metadata": {
        "id": "9KE-N3ZCFZ_f"
      }
    },
    {
      "cell_type": "code",
      "execution_count": null,
      "source": [
        "# импортируем саму библиотеку\n",
        "import numpy as np"
      ],
      "outputs": [],
      "metadata": {
        "id": "SRFLXDcVBOBm"
      }
    },
    {
      "cell_type": "markdown",
      "source": [
        "### Массивы\n",
        "\n",
        "Главный объект numpy - array. Массивы схожи со списками в python, но элементы массива должны иметь одинаковый тип данных (float и int). С массивами можно проводить числовые операции с большим объемом информации в разы быстрее и, главное, намного эффективнее чем со списками."
      ],
      "metadata": {
        "id": "mIJ5jaIJGmgh"
      }
    },
    {
      "cell_type": "code",
      "execution_count": null,
      "source": [
        "a = np.array([1, 2, 3])\n",
        "print(a, '|', type(a))"
      ],
      "outputs": [
        {
          "output_type": "stream",
          "name": "stdout",
          "text": [
            "[1 2 3] | <class 'numpy.ndarray'>\n"
          ]
        }
      ],
      "metadata": {
        "id": "j5iz_57WFv0Q",
        "colab": {
          "base_uri": "https://localhost:8080/",
          "height": 34
        },
        "outputId": "e2f94c39-3934-4dca-c5a6-7107d5af58d6"
      }
    },
    {
      "cell_type": "markdown",
      "source": [
        "Со всеми элементам можно получить доступ и манипулировать ими также, как вы бы это делали с обычными списками:"
      ],
      "metadata": {
        "id": "JGC-tBgsHjWw"
      }
    },
    {
      "cell_type": "markdown",
      "source": [
        "### Слайсинг "
      ],
      "metadata": {
        "id": "G6i_WCAPQ04r"
      }
    },
    {
      "cell_type": "code",
      "execution_count": null,
      "source": [
        "a[:2]"
      ],
      "outputs": [
        {
          "output_type": "execute_result",
          "data": {
            "text/plain": [
              "array([1, 2])"
            ]
          },
          "metadata": {
            "tags": []
          },
          "execution_count": 110
        }
      ],
      "metadata": {
        "id": "lgqkCzJcGgrT",
        "colab": {
          "base_uri": "https://localhost:8080/",
          "height": 34
        },
        "outputId": "8e1c86bc-978b-4d96-eca0-aa55019aba30"
      }
    },
    {
      "cell_type": "markdown",
      "source": [],
      "metadata": {}
    },
    {
      "cell_type": "code",
      "execution_count": null,
      "source": [
        "a[::2]"
      ],
      "outputs": [
        {
          "output_type": "execute_result",
          "data": {
            "text/plain": [
              "array([1, 3])"
            ]
          },
          "metadata": {
            "tags": []
          },
          "execution_count": 111
        }
      ],
      "metadata": {
        "id": "FwDb4esyIehG",
        "colab": {
          "base_uri": "https://localhost:8080/",
          "height": 34
        },
        "outputId": "06544ad0-d4f6-4e30-99f9-90485a545637"
      }
    },
    {
      "cell_type": "markdown",
      "source": [
        "Массивы могут быть и многомерными:"
      ],
      "metadata": {
        "id": "rGp_huBUJMA-"
      }
    },
    {
      "cell_type": "markdown",
      "source": [
        "![image.png](data:image/png;base64,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)"
      ],
      "metadata": {
        "id": "Z-84NOyqyFKu"
      }
    },
    {
      "cell_type": "code",
      "execution_count": null,
      "source": [
        "a = np.array([[1, 2, 3], [4, 5, 6]], float)\n",
        "print(a, '|', type(a))"
      ],
      "outputs": [
        {
          "output_type": "stream",
          "name": "stdout",
          "text": [
            "[[1. 2. 3.]\n",
            " [4. 5. 6.]] | <class 'numpy.ndarray'>\n"
          ]
        }
      ],
      "metadata": {
        "id": "-y9ccrqgI5SB",
        "colab": {
          "base_uri": "https://localhost:8080/",
          "height": 51
        },
        "outputId": "2e25f556-0b06-4ea7-ea75-28fd601230c1"
      }
    },
    {
      "cell_type": "code",
      "execution_count": null,
      "source": [
        "a[1,2]"
      ],
      "outputs": [
        {
          "output_type": "execute_result",
          "data": {
            "text/plain": [
              "6.0"
            ]
          },
          "metadata": {
            "tags": []
          },
          "execution_count": 114
        }
      ],
      "metadata": {
        "id": "2_xs0G87JGXZ",
        "colab": {
          "base_uri": "https://localhost:8080/",
          "height": 34
        },
        "outputId": "33784224-7b41-4126-aef5-cd0fea2bb4ef"
      }
    },
    {
      "cell_type": "markdown",
      "source": [
        "Array slicing работает с многомерными массивами аналогично, как и с одномерными, применяя каждый срез, как фильтр для установленного измерения. Используйте \":\" в измерении для указывания использования всех элементов этого измерения:"
      ],
      "metadata": {
        "id": "6u5ulqzCJnOA"
      }
    },
    {
      "cell_type": "code",
      "execution_count": null,
      "source": [
        "a = np.array([[1, 2, 3], [4, 5, 6]], float)\n",
        "# выбрали элементы с шагом 2 второй строки массива\n",
        "a[1,::2]"
      ],
      "outputs": [
        {
          "output_type": "execute_result",
          "data": {
            "text/plain": [
              "array([4., 6.])"
            ]
          },
          "metadata": {
            "tags": []
          },
          "execution_count": 117
        }
      ],
      "metadata": {
        "id": "emqvgdlPJfvy",
        "colab": {
          "base_uri": "https://localhost:8080/",
          "height": 34
        },
        "outputId": "31553078-a9bd-4638-96a0-11b64ea29872"
      }
    },
    {
      "cell_type": "markdown",
      "source": [
        "### Методы"
      ],
      "metadata": {
        "id": "IVZnUM_mRICm"
      }
    },
    {
      "cell_type": "markdown",
      "source": [
        "Чем так хорош numpy?\n",
        "\n",
        "* Матричные и веркторные операции\n",
        "* Методы"
      ],
      "metadata": {
        "id": "pMusF2BayJDL"
      }
    },
    {
      "cell_type": "markdown",
      "source": [
        "### Векторные операции\n",
        "\n",
        "Посмотрим на базовые математические операции приминительно к массивам numpy. Операции проходят поэлементно, существенно быстрее python. Аналогичное работает и с многомерными массивами."
      ],
      "metadata": {
        "id": "NZSqbT-xyLUk"
      }
    },
    {
      "cell_type": "code",
      "execution_count": null,
      "source": [
        "a = np.array([1, 2, 3])\n",
        "b = np.array([4, 5, 6])"
      ],
      "outputs": [],
      "metadata": {
        "id": "OoV6glVCyKnk"
      }
    },
    {
      "cell_type": "code",
      "execution_count": null,
      "source": [
        "a + b"
      ],
      "outputs": [
        {
          "output_type": "execute_result",
          "data": {
            "text/plain": [
              "array([5, 7, 9])"
            ]
          },
          "metadata": {
            "tags": []
          },
          "execution_count": 119
        }
      ],
      "metadata": {
        "id": "4sKkqXmAyM3C",
        "colab": {
          "base_uri": "https://localhost:8080/",
          "height": 34
        },
        "outputId": "09effd86-1394-48fb-f4c1-0977099779aa"
      }
    },
    {
      "cell_type": "code",
      "execution_count": null,
      "source": [
        "a - b"
      ],
      "outputs": [
        {
          "output_type": "execute_result",
          "data": {
            "text/plain": [
              "array([-3, -3, -3])"
            ]
          },
          "metadata": {
            "tags": []
          },
          "execution_count": 120
        }
      ],
      "metadata": {
        "id": "x_fsInREyOMi",
        "colab": {
          "base_uri": "https://localhost:8080/",
          "height": 34
        },
        "outputId": "54ef049d-2093-4996-8a20-e8dc5044fe5b"
      }
    },
    {
      "cell_type": "code",
      "execution_count": null,
      "source": [
        "a * b"
      ],
      "outputs": [
        {
          "output_type": "execute_result",
          "data": {
            "text/plain": [
              "array([ 4, 10, 18])"
            ]
          },
          "metadata": {
            "tags": []
          },
          "execution_count": 121
        }
      ],
      "metadata": {
        "id": "y_n38XjeyOKP",
        "colab": {
          "base_uri": "https://localhost:8080/",
          "height": 34
        },
        "outputId": "00f1dcc4-f1cf-4427-f394-2089366cc7e4"
      }
    },
    {
      "cell_type": "code",
      "execution_count": null,
      "source": [
        "a / b"
      ],
      "outputs": [
        {
          "output_type": "execute_result",
          "data": {
            "text/plain": [
              "array([0.25, 0.4 , 0.5 ])"
            ]
          },
          "metadata": {
            "tags": []
          },
          "execution_count": 122
        }
      ],
      "metadata": {
        "id": "3FGRDvNDyOHu",
        "colab": {
          "base_uri": "https://localhost:8080/",
          "height": 34
        },
        "outputId": "766e1c84-2265-422a-8731-57f6f06d3393"
      }
    },
    {
      "cell_type": "code",
      "execution_count": null,
      "source": [
        "a ** b"
      ],
      "outputs": [
        {
          "output_type": "execute_result",
          "data": {
            "text/plain": [
              "array([  1,  32, 729])"
            ]
          },
          "metadata": {
            "tags": []
          },
          "execution_count": 123
        }
      ],
      "metadata": {
        "id": "k4ZAvkY8yOFg",
        "colab": {
          "base_uri": "https://localhost:8080/",
          "height": 34
        },
        "outputId": "c2e29682-09b5-4e35-8ff1-a07b02195e00"
      }
    },
    {
      "cell_type": "code",
      "execution_count": null,
      "source": [
        "a == b"
      ],
      "outputs": [
        {
          "output_type": "execute_result",
          "data": {
            "text/plain": [
              "array([False, False, False])"
            ]
          },
          "metadata": {
            "tags": []
          },
          "execution_count": 124
        }
      ],
      "metadata": {
        "id": "hV555ixYyRmL",
        "colab": {
          "base_uri": "https://localhost:8080/",
          "height": 34
        },
        "outputId": "82b54d3d-22b7-4ae5-ea1a-67b9ee64ca1c"
      }
    },
    {
      "cell_type": "code",
      "execution_count": null,
      "source": [
        "a < 2"
      ],
      "outputs": [
        {
          "output_type": "execute_result",
          "data": {
            "text/plain": [
              "array([ True, False, False])"
            ]
          },
          "metadata": {
            "tags": []
          },
          "execution_count": 125
        }
      ],
      "metadata": {
        "id": "9FH_kdcEyRjU",
        "colab": {
          "base_uri": "https://localhost:8080/",
          "height": 34
        },
        "outputId": "08ac12b0-00ea-460b-c5fa-901e31aa4198"
      }
    },
    {
      "cell_type": "markdown",
      "source": [
        "### Матричные операции операции"
      ],
      "metadata": {
        "id": "BKURAA1kyVHK"
      }
    },
    {
      "cell_type": "markdown",
      "source": [
        "С перемножением матриц мы делатльно познакомимся далее в ходе курса, механизм (перемножений) будет понятен из домашнего задания."
      ],
      "metadata": {
        "id": "2plrs42AyXVU"
      }
    },
    {
      "cell_type": "code",
      "execution_count": null,
      "source": [
        "a = np.array([[1, 2], [3, 4]])\n",
        "b = np.array([[5, 6], [7, 8]])"
      ],
      "outputs": [],
      "metadata": {
        "id": "gZ9mt5XryV-W"
      }
    },
    {
      "cell_type": "code",
      "execution_count": null,
      "source": [
        "# матричное перемножение\n",
        "a @ b"
      ],
      "outputs": [
        {
          "output_type": "execute_result",
          "data": {
            "text/plain": [
              "array([[19, 22],\n",
              "       [43, 50]])"
            ]
          },
          "metadata": {
            "tags": []
          },
          "execution_count": 127
        }
      ],
      "metadata": {
        "id": "_V1zzpdByV78",
        "colab": {
          "base_uri": "https://localhost:8080/",
          "height": 51
        },
        "outputId": "0643bbb9-dc84-4370-ce81-3c9e161ecee6"
      }
    },
    {
      "cell_type": "code",
      "execution_count": null,
      "source": [
        "# матричное перемножение\n",
        "np.dot(a, b)"
      ],
      "outputs": [
        {
          "output_type": "execute_result",
          "data": {
            "text/plain": [
              "array([[19, 22],\n",
              "       [43, 50]])"
            ]
          },
          "metadata": {
            "tags": []
          },
          "execution_count": 128
        }
      ],
      "metadata": {
        "id": "qRxWqq0tyV5W",
        "colab": {
          "base_uri": "https://localhost:8080/",
          "height": 51
        },
        "outputId": "700822be-7e13-48b0-e7e9-b008ca33a500"
      }
    },
    {
      "cell_type": "code",
      "execution_count": null,
      "source": [
        "print('исходная:', a)\n",
        "print('транспонированная:', a.T)"
      ],
      "outputs": [
        {
          "output_type": "stream",
          "name": "stdout",
          "text": [
            "исходная: [[1 2]\n",
            " [3 4]]\n",
            "транспонированная: [[1 3]\n",
            " [2 4]]\n"
          ]
        }
      ],
      "metadata": {
        "id": "-eScZz0KyV29",
        "colab": {
          "base_uri": "https://localhost:8080/",
          "height": 86
        },
        "outputId": "0d5e45bc-ab6a-4377-8fe4-3547da8cd91d"
      }
    },
    {
      "cell_type": "code",
      "execution_count": null,
      "source": [
        "from numpy.linalg import inv\n",
        "# обратная матрица, очень важная операция в линале!\n",
        "inv(a)"
      ],
      "outputs": [
        {
          "output_type": "execute_result",
          "data": {
            "text/plain": [
              "array([[-2. ,  1. ],\n",
              "       [ 1.5, -0.5]])"
            ]
          },
          "metadata": {
            "tags": []
          },
          "execution_count": 10
        }
      ],
      "metadata": {
        "id": "q6PLmcpfygji",
        "colab": {
          "base_uri": "https://localhost:8080/",
          "height": 51
        },
        "outputId": "acfc68d1-3625-483e-f91e-d15f6b6d0d06"
      }
    },
    {
      "cell_type": "markdown",
      "source": [
        "Матрицы (или наборы данных) можно объединить:"
      ],
      "metadata": {
        "id": "-qWFPDAlyifJ"
      }
    },
    {
      "cell_type": "code",
      "execution_count": null,
      "source": [
        "np.concatenate((a,b))"
      ],
      "outputs": [
        {
          "output_type": "execute_result",
          "data": {
            "text/plain": [
              "array([[1, 2],\n",
              "       [3, 4],\n",
              "       [5, 6],\n",
              "       [7, 8]])"
            ]
          },
          "metadata": {
            "tags": []
          },
          "execution_count": 131
        }
      ],
      "metadata": {
        "id": "FIKcGeefyjeN",
        "colab": {
          "base_uri": "https://localhost:8080/",
          "height": 86
        },
        "outputId": "14b60bbb-67ed-49b4-9834-7807421f6406"
      }
    },
    {
      "cell_type": "code",
      "execution_count": null,
      "source": [
        "# не обязательно добавлять строки, можно столбцы\n",
        "np.concatenate((a,b), axis=1)"
      ],
      "outputs": [
        {
          "output_type": "execute_result",
          "data": {
            "text/plain": [
              "array([[1, 2, 5, 6],\n",
              "       [3, 4, 7, 8]])"
            ]
          },
          "metadata": {
            "tags": []
          },
          "execution_count": 64
        }
      ],
      "metadata": {
        "id": "tf_pvyJhykla",
        "colab": {
          "base_uri": "https://localhost:8080/",
          "height": 51
        },
        "outputId": "027a39f0-27cf-4035-f5ff-bc1abdcd3ecc"
      }
    },
    {
      "cell_type": "markdown",
      "source": [
        "Метод shape возвращает количество строк и столбцов в матрице:"
      ],
      "metadata": {
        "id": "pTH2acWQKL-z"
      }
    },
    {
      "cell_type": "code",
      "execution_count": null,
      "source": [
        "a.shape"
      ],
      "outputs": [
        {
          "output_type": "execute_result",
          "data": {
            "text/plain": [
              "(2, 2)"
            ]
          },
          "metadata": {
            "tags": []
          },
          "execution_count": 132
        }
      ],
      "metadata": {
        "id": "ucg9Cu_oJr1C",
        "colab": {
          "base_uri": "https://localhost:8080/",
          "height": 34
        },
        "outputId": "4209de21-0afb-4cda-cd14-c18f8625777f"
      }
    },
    {
      "cell_type": "markdown",
      "source": [
        "float64, это числовой тип данных в numpy, который используется для хранения вещественных чисел двойной точности по аналогии с float в Python.\n",
        "\n",
        "Метод dtype возвращает тип переменных, хранящихся в массиве:"
      ],
      "metadata": {
        "id": "OYLtCerbKV6-"
      }
    },
    {
      "cell_type": "code",
      "execution_count": null,
      "source": [
        "a.dtype"
      ],
      "outputs": [
        {
          "output_type": "execute_result",
          "data": {
            "text/plain": [
              "dtype('int64')"
            ]
          },
          "metadata": {
            "tags": []
          },
          "execution_count": 133
        }
      ],
      "metadata": {
        "id": "QwIOEoR0KMWB",
        "colab": {
          "base_uri": "https://localhost:8080/",
          "height": 34
        },
        "outputId": "d6d41c69-1eea-4bfd-9875-f54eb5354a44"
      }
    },
    {
      "cell_type": "markdown",
      "source": [
        "Метод len возвращает длину первого измерения (оси):"
      ],
      "metadata": {
        "id": "PpAFKnfhLVGe"
      }
    },
    {
      "cell_type": "code",
      "execution_count": null,
      "source": [
        "len(a)"
      ],
      "outputs": [
        {
          "output_type": "execute_result",
          "data": {
            "text/plain": [
              "2"
            ]
          },
          "metadata": {
            "tags": []
          },
          "execution_count": 134
        }
      ],
      "metadata": {
        "id": "U2c3WjumKXYx",
        "colab": {
          "base_uri": "https://localhost:8080/",
          "height": 34
        },
        "outputId": "2cc5ad4a-31fc-4d9e-a9f2-552128c02a7e"
      }
    },
    {
      "cell_type": "markdown",
      "source": [
        "По аналогии с list можно проверять вхождение элемента"
      ],
      "metadata": {
        "id": "ncIU5L75LY6k"
      }
    },
    {
      "cell_type": "code",
      "execution_count": null,
      "source": [
        "6 in a"
      ],
      "outputs": [
        {
          "output_type": "execute_result",
          "data": {
            "text/plain": [
              "False"
            ]
          },
          "metadata": {
            "tags": []
          },
          "execution_count": 135
        }
      ],
      "metadata": {
        "id": "jAyom_YvLWvh",
        "colab": {
          "base_uri": "https://localhost:8080/",
          "height": 34
        },
        "outputId": "139fe87a-2884-436a-f51b-f2d8c74bb088"
      }
    },
    {
      "cell_type": "markdown",
      "source": [
        "### Reshape"
      ],
      "metadata": {
        "id": "Gh87hmz_RRhM"
      }
    },
    {
      "cell_type": "markdown",
      "source": [
        "Массивы можно переформировать при помощи метода, который задает новый многомерный массив. Следуя следующему примеру, мы переформатируем одномерный массив из 12 элементов в двумерный массив, состоящий из 4 строк и 3 столбцов:\n",
        "\n",
        "(метод reshape создает новый массив, а не модифицирует оригинальный)"
      ],
      "metadata": {
        "id": "PfQEPC6KL0eJ"
      }
    },
    {
      "cell_type": "code",
      "execution_count": null,
      "source": [
        "a = np.array(range(12), float)\n",
        "a"
      ],
      "outputs": [
        {
          "output_type": "execute_result",
          "data": {
            "text/plain": [
              "array([ 0.,  1.,  2.,  3.,  4.,  5.,  6.,  7.,  8.,  9., 10., 11.])"
            ]
          },
          "metadata": {
            "tags": []
          },
          "execution_count": 143
        }
      ],
      "metadata": {
        "id": "_hkGh1flLsX5",
        "colab": {
          "base_uri": "https://localhost:8080/",
          "height": 34
        },
        "outputId": "324f0937-dcc8-47ef-a38b-3699aa20e6da"
      }
    },
    {
      "cell_type": "code",
      "execution_count": null,
      "source": [
        "a = a.reshape((4, 3))\n",
        "a"
      ],
      "outputs": [
        {
          "output_type": "execute_result",
          "data": {
            "text/plain": [
              "array([[ 0.,  1.,  2.],\n",
              "       [ 3.,  4.,  5.],\n",
              "       [ 6.,  7.,  8.],\n",
              "       [ 9., 10., 11.]])"
            ]
          },
          "metadata": {
            "tags": []
          },
          "execution_count": 144
        }
      ],
      "metadata": {
        "id": "zzHK7fHFL1Zp",
        "colab": {
          "base_uri": "https://localhost:8080/",
          "height": 86
        },
        "outputId": "1afccccc-3208-44d3-ff94-72ee1e99cd2e"
      }
    },
    {
      "cell_type": "markdown",
      "source": [
        "### Работа по ссылке"
      ],
      "metadata": {
        "id": "NVUxkqH_RYiv"
      }
    },
    {
      "cell_type": "markdown",
      "source": [
        "Работа по ссылке как и в python:"
      ],
      "metadata": {
        "id": "BYnvAYIwMxX7"
      }
    },
    {
      "cell_type": "code",
      "execution_count": null,
      "source": [
        "a = np.array([1, 2, 3])\n",
        "b = a\n",
        "c =  a.copy()\n",
        "\n",
        "# меняем 0й элемент\n",
        "a[0] = 0\n",
        "\n",
        "print(f'Измененный массив а {a}')\n",
        "print(f'Измененный массив b {b}  <-- изменился по ссылке т.к. поменяти 0й элемент а')\n",
        "print(f'Измененный массив c {c}  <-- создали копию в памяти')"
      ],
      "outputs": [
        {
          "output_type": "stream",
          "name": "stdout",
          "text": [
            "Измененный массив а [0 2 3]\n",
            "Измененный массив b [0 2 3]  <-- изменился по ссылке т.к. поменяти 0й элемент а\n",
            "Измененный массив c [1 2 3]  <-- создали копию в памяти\n"
          ]
        }
      ],
      "metadata": {
        "id": "2fRtkuANL8xp",
        "colab": {
          "base_uri": "https://localhost:8080/",
          "height": 69
        },
        "outputId": "2e4bbc31-e995-4a3b-a792-3059ae299e77"
      }
    },
    {
      "cell_type": "markdown",
      "source": [
        "Можно преобразовать обратно в список:"
      ],
      "metadata": {
        "id": "4SlsERlpNzZ_"
      }
    },
    {
      "cell_type": "code",
      "execution_count": null,
      "source": [
        "a.tolist()"
      ],
      "outputs": [
        {
          "output_type": "execute_result",
          "data": {
            "text/plain": [
              "[0, 2, 3]"
            ]
          },
          "metadata": {
            "tags": []
          },
          "execution_count": 141
        }
      ],
      "metadata": {
        "id": "qyONlgzfM6-B",
        "colab": {
          "base_uri": "https://localhost:8080/",
          "height": 34
        },
        "outputId": "4ab57522-c8aa-4d03-e662-32192cb99028"
      }
    },
    {
      "cell_type": "markdown",
      "source": [
        "Можно сделать и обратное: конвертируем в одномерный"
      ],
      "metadata": {
        "id": "L86CDWkyPJ1K"
      }
    },
    {
      "cell_type": "code",
      "execution_count": null,
      "source": [
        "a.flatten()"
      ],
      "outputs": [
        {
          "output_type": "execute_result",
          "data": {
            "text/plain": [
              "array([ 0.,  1.,  2.,  3.,  4.,  5.,  6.,  7.,  8.,  9., 10., 11.])"
            ]
          },
          "metadata": {
            "tags": []
          },
          "execution_count": 145
        }
      ],
      "metadata": {
        "id": "ySrv0JEhOpCC",
        "colab": {
          "base_uri": "https://localhost:8080/",
          "height": 34
        },
        "outputId": "3d0bef6e-1463-4ab8-828f-b7d6aab0469b"
      }
    },
    {
      "cell_type": "markdown",
      "source": [
        "### Объединение"
      ],
      "metadata": {
        "id": "bFRVFveSSFVK"
      }
    },
    {
      "cell_type": "markdown",
      "source": [
        "Массивы можно объединять"
      ],
      "metadata": {
        "id": "QzBNkHEAPK2R"
      }
    },
    {
      "cell_type": "code",
      "execution_count": null,
      "source": [
        "a = np.array([[1, 2], [3, 4]], float)\n",
        "b = np.array([[5, 6], [7,8]], float)\n",
        "np.concatenate((a,b))"
      ],
      "outputs": [
        {
          "output_type": "execute_result",
          "data": {
            "text/plain": [
              "array([[1., 2.],\n",
              "       [3., 4.],\n",
              "       [5., 6.],\n",
              "       [7., 8.]])"
            ]
          },
          "metadata": {
            "tags": []
          },
          "execution_count": 146
        }
      ],
      "metadata": {
        "id": "jZgJUAoLPK9h",
        "colab": {
          "base_uri": "https://localhost:8080/",
          "height": 86
        },
        "outputId": "f9fb0976-88d9-4f59-8b38-9313bf1338f5"
      }
    },
    {
      "cell_type": "markdown",
      "source": [
        "Если массив не одномерный, можно задать ось, по которой будет происходить соединение. По умолчанию (не задавая значения оси), соединение будет происходить по первому измерению:"
      ],
      "metadata": {
        "id": "9f1FZ4tLQYIk"
      }
    },
    {
      "cell_type": "code",
      "execution_count": null,
      "source": [
        "np.concatenate((a,b), axis=0)"
      ],
      "outputs": [
        {
          "output_type": "execute_result",
          "data": {
            "text/plain": [
              "array([[1., 2.],\n",
              "       [3., 4.],\n",
              "       [5., 6.],\n",
              "       [7., 8.]])"
            ]
          },
          "metadata": {
            "tags": []
          },
          "execution_count": 147
        }
      ],
      "metadata": {
        "id": "KO3y970wQNUj",
        "colab": {
          "base_uri": "https://localhost:8080/",
          "height": 86
        },
        "outputId": "e565905d-c93a-45e0-9eb8-8aad8cdc40be"
      }
    },
    {
      "cell_type": "code",
      "execution_count": null,
      "source": [
        "np.concatenate((a,b), axis=1)"
      ],
      "outputs": [
        {
          "output_type": "execute_result",
          "data": {
            "text/plain": [
              "array([[1., 2., 5., 6.],\n",
              "       [3., 4., 7., 8.]])"
            ]
          },
          "metadata": {
            "tags": []
          },
          "execution_count": 148
        }
      ],
      "metadata": {
        "id": "dBhKmrRVQQgq",
        "colab": {
          "base_uri": "https://localhost:8080/",
          "height": 51
        },
        "outputId": "f07e8fc5-ca19-4cc5-db3c-6789201bb578"
      }
    },
    {
      "cell_type": "markdown",
      "source": [
        "## Основы pandas"
      ],
      "metadata": {
        "id": "5wYQ_ZGuQhA0"
      }
    },
    {
      "cell_type": "code",
      "execution_count": null,
      "source": [
        "# импортируем библиотеку\n",
        "import pandas as pd"
      ],
      "outputs": [],
      "metadata": {
        "id": "zG-L1vINPLLZ"
      }
    },
    {
      "cell_type": "markdown",
      "source": [
        "### Series\n",
        "\n",
        "Одномерный набор данных. Отсутствующий данные записываются как `np.nan`, они не участвуют в вычислении средних, среднеквадратичных отклонений и т.д."
      ],
      "metadata": {
        "id": "hBMuhumsSOb5"
      }
    },
    {
      "cell_type": "code",
      "execution_count": null,
      "source": [
        "l=[1,3,5,np.nan,6,8]\n",
        "s=pd.Series(l)\n",
        "s"
      ],
      "outputs": [
        {
          "output_type": "execute_result",
          "data": {
            "text/plain": [
              "0    1.0\n",
              "1    3.0\n",
              "2    5.0\n",
              "3    NaN\n",
              "4    6.0\n",
              "5    8.0\n",
              "dtype: float64"
            ]
          },
          "metadata": {
            "tags": []
          },
          "execution_count": 11
        }
      ],
      "metadata": {
        "id": "FSwgT534PLjf",
        "colab": {
          "base_uri": "https://localhost:8080/",
          "height": 138
        },
        "outputId": "c53d39ab-e831-4d65-a12b-1fa1823299db"
      }
    },
    {
      "cell_type": "markdown",
      "source": [
        "### Полезная информация о датафрейме"
      ],
      "metadata": {
        "id": "-A2ABYUBUN-d"
      }
    },
    {
      "cell_type": "markdown",
      "source": [
        "\n",
        "Основная информация о наборе данных: среднее, среднеквадратичное отклонение, минимум, максимум, медиана (которая отличается от среднего для несимметричных распределений)."
      ],
      "metadata": {
        "id": "5a_LV_NQSXjz"
      }
    },
    {
      "cell_type": "code",
      "execution_count": null,
      "source": [
        "s.describe()"
      ],
      "outputs": [
        {
          "output_type": "execute_result",
          "data": {
            "text/plain": [
              "count    5.000000\n",
              "mean     4.600000\n",
              "std      2.701851\n",
              "min      1.000000\n",
              "25%      3.000000\n",
              "50%      5.000000\n",
              "75%      6.000000\n",
              "max      8.000000\n",
              "dtype: float64"
            ]
          },
          "metadata": {
            "tags": []
          },
          "execution_count": 36
        }
      ],
      "metadata": {
        "id": "sF6LLsYHSV8R",
        "colab": {
          "base_uri": "https://localhost:8080/",
          "height": 173
        },
        "outputId": "9c3f4e29-71b8-411f-c0d1-a5fb43f71d73"
      }
    },
    {
      "cell_type": "markdown",
      "source": [
        "### Индексация"
      ],
      "metadata": {
        "id": "bnmCxSqzUcuv"
      }
    },
    {
      "cell_type": "markdown",
      "source": [
        "Индексация по аналогии:"
      ],
      "metadata": {
        "id": "Ry81MQRCScXe"
      }
    },
    {
      "cell_type": "code",
      "execution_count": null,
      "source": [
        "s[2]"
      ],
      "outputs": [
        {
          "output_type": "execute_result",
          "data": {
            "text/plain": [
              "5.0"
            ]
          },
          "metadata": {
            "tags": []
          },
          "execution_count": 152
        }
      ],
      "metadata": {
        "id": "lmCoGeIrSZJp",
        "colab": {
          "base_uri": "https://localhost:8080/",
          "height": 34
        },
        "outputId": "ba57d478-be7d-457d-d249-4c54263bedf1"
      }
    },
    {
      "cell_type": "code",
      "execution_count": null,
      "source": [
        "s[2]=7\n",
        "s"
      ],
      "outputs": [
        {
          "output_type": "execute_result",
          "data": {
            "text/plain": [
              "0    1.0\n",
              "1    3.0\n",
              "2    7.0\n",
              "3    NaN\n",
              "4    6.0\n",
              "5    8.0\n",
              "dtype: float64"
            ]
          },
          "metadata": {
            "tags": []
          },
          "execution_count": 153
        }
      ],
      "metadata": {
        "id": "xrK5Mzc1Sfi5",
        "colab": {
          "base_uri": "https://localhost:8080/",
          "height": 138
        },
        "outputId": "ab0d166c-2c89-48d5-fb56-44e9faacdbcd"
      }
    },
    {
      "cell_type": "code",
      "execution_count": null,
      "source": [
        "s[2:5]"
      ],
      "outputs": [
        {
          "output_type": "execute_result",
          "data": {
            "text/plain": [
              "2    7.0\n",
              "3    NaN\n",
              "4    6.0\n",
              "dtype: float64"
            ]
          },
          "metadata": {
            "tags": []
          },
          "execution_count": 154
        }
      ],
      "metadata": {
        "id": "d2OHkzJMSghp",
        "colab": {
          "base_uri": "https://localhost:8080/",
          "height": 86
        },
        "outputId": "65db2be7-afaa-46f5-b977-783c4f8f8109"
      }
    },
    {
      "cell_type": "code",
      "execution_count": null,
      "source": [
        "s1=s[1:]\n",
        "s1"
      ],
      "outputs": [
        {
          "output_type": "execute_result",
          "data": {
            "text/plain": [
              "1    3.0\n",
              "2    7.0\n",
              "3    NaN\n",
              "4    6.0\n",
              "5    8.0\n",
              "dtype: float64"
            ]
          },
          "metadata": {
            "tags": []
          },
          "execution_count": 155
        }
      ],
      "metadata": {
        "id": "VuYa6Cl9Sh_x",
        "colab": {
          "base_uri": "https://localhost:8080/",
          "height": 121
        },
        "outputId": "0ddbdcdf-361c-4c57-ee81-b01086df1058"
      }
    },
    {
      "cell_type": "code",
      "execution_count": null,
      "source": [
        "s2=s[:-1]\n",
        "s2"
      ],
      "outputs": [
        {
          "output_type": "execute_result",
          "data": {
            "text/plain": [
              "0    1.0\n",
              "1    3.0\n",
              "2    7.0\n",
              "3    NaN\n",
              "4    6.0\n",
              "dtype: float64"
            ]
          },
          "metadata": {
            "tags": []
          },
          "execution_count": 156
        }
      ],
      "metadata": {
        "id": "TT2drhGlSjEh",
        "colab": {
          "base_uri": "https://localhost:8080/",
          "height": 121
        },
        "outputId": "32e505f2-0cad-416e-d7ca-b172e93ad0be"
      }
    },
    {
      "cell_type": "markdown",
      "source": [
        "### Сложение"
      ],
      "metadata": {
        "id": "Ia8RkJIXUh8w"
      }
    },
    {
      "cell_type": "markdown",
      "source": [
        "\n",
        "В сумме `s1+s2` складываются данные с одинаковыми индексами. Поскольку в `s1` нет данного и индексом 0, а в `s2` - с индексом 5, в `s1+s2` в соответствующих позициях будет `NaN`."
      ],
      "metadata": {
        "id": "oAbI1vLKStKV"
      }
    },
    {
      "cell_type": "code",
      "execution_count": null,
      "source": [
        "s1+s2"
      ],
      "outputs": [
        {
          "output_type": "execute_result",
          "data": {
            "text/plain": [
              "0     NaN\n",
              "1     6.0\n",
              "2    14.0\n",
              "3     NaN\n",
              "4    12.0\n",
              "5     NaN\n",
              "dtype: float64"
            ]
          },
          "metadata": {
            "tags": []
          },
          "execution_count": 157
        }
      ],
      "metadata": {
        "id": "4MOI5t_fSqWp",
        "colab": {
          "base_uri": "https://localhost:8080/",
          "height": 138
        },
        "outputId": "9c5c5034-d3bc-401a-a883-865769472f81"
      }
    },
    {
      "cell_type": "markdown",
      "source": [
        "\n",
        "К наборам данных можно применять функции из `numpy`"
      ],
      "metadata": {
        "id": "QYKv-xQvS8NF"
      }
    },
    {
      "cell_type": "code",
      "execution_count": null,
      "source": [
        "np.exp(s)"
      ],
      "outputs": [
        {
          "output_type": "execute_result",
          "data": {
            "text/plain": [
              "0       2.718282\n",
              "1      20.085537\n",
              "2    1096.633158\n",
              "3            NaN\n",
              "4     403.428793\n",
              "5    2980.957987\n",
              "dtype: float64"
            ]
          },
          "metadata": {
            "tags": []
          },
          "execution_count": 43
        }
      ],
      "metadata": {
        "id": "ouYtD_S5SuLp",
        "colab": {
          "base_uri": "https://localhost:8080/",
          "height": 139
        },
        "outputId": "b4c9c7e4-d7b8-435c-943c-ce8b7b1cce6a"
      }
    },
    {
      "cell_type": "markdown",
      "source": [
        "### Индексация"
      ],
      "metadata": {
        "id": "reCXhA1WUyS_"
      }
    },
    {
      "cell_type": "markdown",
      "source": [
        "При создании набора данных s мы не указали, что будет играть роль индекса. По умолчанию это последовательность целых чисел 0, 1, 2, ..."
      ],
      "metadata": {
        "id": "ht--SRe5TFzB"
      }
    },
    {
      "cell_type": "code",
      "execution_count": null,
      "source": [
        "s"
      ],
      "outputs": [
        {
          "output_type": "execute_result",
          "data": {
            "text/plain": [
              "0    1.0\n",
              "1    3.0\n",
              "2    5.0\n",
              "3    NaN\n",
              "4    6.0\n",
              "5    8.0\n",
              "dtype: float64"
            ]
          },
          "metadata": {
            "tags": []
          },
          "execution_count": 12
        }
      ],
      "metadata": {
        "id": "dQ22HfMbTDp-",
        "colab": {
          "base_uri": "https://localhost:8080/",
          "height": 138
        },
        "outputId": "ff2fe139-af2b-4832-f300-7d2d713887bb"
      }
    },
    {
      "cell_type": "markdown",
      "source": [
        "\n",
        "Но можно создавать наборы данных с индексом, заданным списком."
      ],
      "metadata": {
        "id": "Rld_IRMWTJzs"
      }
    },
    {
      "cell_type": "code",
      "execution_count": null,
      "source": [
        "i=list('abcdef')\n",
        "i"
      ],
      "outputs": [
        {
          "output_type": "execute_result",
          "data": {
            "text/plain": [
              "['a', 'b', 'c', 'd', 'e', 'f']"
            ]
          },
          "metadata": {
            "tags": []
          },
          "execution_count": 15
        }
      ],
      "metadata": {
        "id": "2AzyJzPjTIUw",
        "colab": {
          "base_uri": "https://localhost:8080/",
          "height": 34
        },
        "outputId": "521ebf19-dfa2-49cd-bf91-00c5b14c233c"
      }
    },
    {
      "cell_type": "code",
      "execution_count": null,
      "source": [
        "s=pd.Series(l,index=i)\n",
        "s"
      ],
      "outputs": [
        {
          "output_type": "execute_result",
          "data": {
            "text/plain": [
              "a    1.0\n",
              "b    3.0\n",
              "c    5.0\n",
              "d    NaN\n",
              "e    6.0\n",
              "f    8.0\n",
              "dtype: float64"
            ]
          },
          "metadata": {
            "tags": []
          },
          "execution_count": 17
        }
      ],
      "metadata": {
        "id": "-iw1kCDNTNeI",
        "colab": {
          "base_uri": "https://localhost:8080/",
          "height": 138
        },
        "outputId": "cdadec99-70bb-4321-c199-0d957a956976"
      }
    },
    {
      "cell_type": "markdown",
      "source": [
        "Если индекс - строка, то вместо s['c'] можно писать s.c."
      ],
      "metadata": {
        "id": "ImGe0uFJTf0g"
      }
    },
    {
      "cell_type": "code",
      "execution_count": null,
      "source": [
        "s.c"
      ],
      "outputs": [
        {
          "output_type": "execute_result",
          "data": {
            "text/plain": [
              "5.0"
            ]
          },
          "metadata": {
            "tags": []
          },
          "execution_count": 18
        }
      ],
      "metadata": {
        "id": "u4zSYEnHTdbx",
        "colab": {
          "base_uri": "https://localhost:8080/",
          "height": 34
        },
        "outputId": "123774c2-2a94-42ff-c67d-2e22cfe8ebca"
      }
    },
    {
      "cell_type": "markdown",
      "source": [
        "Набор данных можно создать из словаря."
      ],
      "metadata": {
        "id": "QHvoEZRSTog_"
      }
    },
    {
      "cell_type": "code",
      "execution_count": null,
      "source": [
        "s=pd.Series({'a':1,'b':2,'c':0})\n",
        "s"
      ],
      "outputs": [
        {
          "output_type": "execute_result",
          "data": {
            "text/plain": [
              "a    1\n",
              "b    2\n",
              "c    0\n",
              "dtype: int64"
            ]
          },
          "metadata": {
            "tags": []
          },
          "execution_count": 19
        }
      ],
      "metadata": {
        "id": "M5q8of-wTgyp",
        "colab": {
          "base_uri": "https://localhost:8080/",
          "height": 86
        },
        "outputId": "feae6760-b038-4ca8-e71a-3e264559bbb0"
      }
    },
    {
      "cell_type": "markdown",
      "source": [
        "Можно отсортировать набор данных."
      ],
      "metadata": {
        "id": "wq-JcHCkTroC"
      }
    },
    {
      "cell_type": "code",
      "execution_count": null,
      "source": [
        "s.sort_values()"
      ],
      "outputs": [
        {
          "output_type": "execute_result",
          "data": {
            "text/plain": [
              "c    0\n",
              "a    1\n",
              "b    2\n",
              "dtype: int64"
            ]
          },
          "metadata": {
            "tags": []
          },
          "execution_count": 169
        }
      ],
      "metadata": {
        "id": "dcoSNDtCTppx",
        "colab": {
          "base_uri": "https://localhost:8080/",
          "height": 86
        },
        "outputId": "63f4af19-4875-4f60-d08e-cace1dbcb4e6"
      }
    },
    {
      "cell_type": "markdown",
      "source": [
        "Роль индекса может играть, скажем, последовательность дат (или времён измерения и т.д.)."
      ],
      "metadata": {
        "id": "EhicMBlWTxkm"
      }
    },
    {
      "cell_type": "code",
      "execution_count": null,
      "source": [
        "d=pd.date_range('20160101',periods=10)\n",
        "d"
      ],
      "outputs": [
        {
          "output_type": "execute_result",
          "data": {
            "text/plain": [
              "DatetimeIndex(['2016-01-01', '2016-01-02', '2016-01-03', '2016-01-04',\n",
              "               '2016-01-05', '2016-01-06', '2016-01-07', '2016-01-08',\n",
              "               '2016-01-09', '2016-01-10'],\n",
              "              dtype='datetime64[ns]', freq='D')"
            ]
          },
          "metadata": {
            "tags": []
          },
          "execution_count": 20
        }
      ],
      "metadata": {
        "id": "woA8drK4TtAZ",
        "colab": {
          "base_uri": "https://localhost:8080/",
          "height": 86
        },
        "outputId": "9672684f-990f-439f-af9e-a8ca9215689e"
      }
    },
    {
      "cell_type": "code",
      "execution_count": null,
      "source": [
        "s=pd.Series(np.random.normal(size=10),index=d)\n",
        "s"
      ],
      "outputs": [
        {
          "output_type": "execute_result",
          "data": {
            "text/plain": [
              "2016-01-01   -0.108746\n",
              "2016-01-02   -1.340863\n",
              "2016-01-03    1.695632\n",
              "2016-01-04    0.750345\n",
              "2016-01-05   -0.960366\n",
              "2016-01-06    1.068938\n",
              "2016-01-07   -0.815169\n",
              "2016-01-08   -1.582021\n",
              "2016-01-09   -1.731143\n",
              "2016-01-10    0.130816\n",
              "Freq: D, dtype: float64"
            ]
          },
          "metadata": {
            "tags": []
          },
          "execution_count": 21
        }
      ],
      "metadata": {
        "id": "2WhDA-ZPT2Dw",
        "colab": {
          "base_uri": "https://localhost:8080/",
          "height": 207
        },
        "outputId": "6abed41b-f980-4148-82a2-7c61a2332aea"
      }
    },
    {
      "cell_type": "markdown",
      "source": [
        "Операции сравнения возвращают наборы булевых данных."
      ],
      "metadata": {
        "id": "TsI1ZICeUDhu"
      }
    },
    {
      "cell_type": "code",
      "execution_count": null,
      "source": [
        "s>0"
      ],
      "outputs": [
        {
          "output_type": "execute_result",
          "data": {
            "text/plain": [
              "2016-01-01    False\n",
              "2016-01-02    False\n",
              "2016-01-03     True\n",
              "2016-01-04     True\n",
              "2016-01-05    False\n",
              "2016-01-06     True\n",
              "2016-01-07    False\n",
              "2016-01-08    False\n",
              "2016-01-09    False\n",
              "2016-01-10     True\n",
              "Freq: D, dtype: bool"
            ]
          },
          "metadata": {
            "tags": []
          },
          "execution_count": 25
        }
      ],
      "metadata": {
        "id": "bMWOp2qzT_lZ",
        "colab": {
          "base_uri": "https://localhost:8080/",
          "height": 207
        },
        "outputId": "c2bcce9d-3c40-441f-b0e1-567036f66382"
      }
    },
    {
      "cell_type": "markdown",
      "source": [
        "Если такой булев набор использовать для индексации, получится поднабор только из тех данных, для которых условие есть True."
      ],
      "metadata": {
        "id": "mjQK67fjUGGm"
      }
    },
    {
      "cell_type": "code",
      "execution_count": null,
      "source": [
        "s[s>0]"
      ],
      "outputs": [
        {
          "output_type": "execute_result",
          "data": {
            "text/plain": [
              "2016-01-03    1.695632\n",
              "2016-01-04    0.750345\n",
              "2016-01-06    1.068938\n",
              "2016-01-10    0.130816\n",
              "dtype: float64"
            ]
          },
          "metadata": {
            "tags": []
          },
          "execution_count": 26
        }
      ],
      "metadata": {
        "id": "u_frxvjDUEW5",
        "colab": {
          "base_uri": "https://localhost:8080/",
          "height": 103
        },
        "outputId": "2250399a-2c6c-4172-c2b3-53dd7e81db3f"
      }
    },
    {
      "cell_type": "markdown",
      "source": [
        "## DataFrame\n",
        "\n",
        "Двумерная таблица данных. Имеет индекс и набор столбцов (возможно, имеющих разные типы). Таблицу можно построить, например, из словаря, значениями в котором являются одномерные наборы данных."
      ],
      "metadata": {
        "id": "8ab0imaqUMC9"
      }
    },
    {
      "cell_type": "code",
      "execution_count": null,
      "source": [
        "d={'one':pd.Series([1,2,3],index=['a','b','c']),\n",
        "   'two':pd.Series([1,2,3,4],index=['a','b','c','d'])}\n",
        "df=pd.DataFrame(d)\n",
        "df"
      ],
      "outputs": [
        {
          "output_type": "execute_result",
          "data": {
            "text/html": [
              "<div>\n",
              "<style scoped>\n",
              "    .dataframe tbody tr th:only-of-type {\n",
              "        vertical-align: middle;\n",
              "    }\n",
              "\n",
              "    .dataframe tbody tr th {\n",
              "        vertical-align: top;\n",
              "    }\n",
              "\n",
              "    .dataframe thead th {\n",
              "        text-align: right;\n",
              "    }\n",
              "</style>\n",
              "<table border=\"1\" class=\"dataframe\">\n",
              "  <thead>\n",
              "    <tr style=\"text-align: right;\">\n",
              "      <th></th>\n",
              "      <th>one</th>\n",
              "      <th>two</th>\n",
              "    </tr>\n",
              "  </thead>\n",
              "  <tbody>\n",
              "    <tr>\n",
              "      <th>a</th>\n",
              "      <td>1.0</td>\n",
              "      <td>1</td>\n",
              "    </tr>\n",
              "    <tr>\n",
              "      <th>b</th>\n",
              "      <td>2.0</td>\n",
              "      <td>2</td>\n",
              "    </tr>\n",
              "    <tr>\n",
              "      <th>c</th>\n",
              "      <td>3.0</td>\n",
              "      <td>3</td>\n",
              "    </tr>\n",
              "    <tr>\n",
              "      <th>d</th>\n",
              "      <td>NaN</td>\n",
              "      <td>4</td>\n",
              "    </tr>\n",
              "  </tbody>\n",
              "</table>\n",
              "</div>"
            ],
            "text/plain": [
              "   one  two\n",
              "a  1.0    1\n",
              "b  2.0    2\n",
              "c  3.0    3\n",
              "d  NaN    4"
            ]
          },
          "metadata": {
            "tags": []
          },
          "execution_count": 29
        }
      ],
      "metadata": {
        "id": "Ft_C23eZUHAJ",
        "colab": {
          "base_uri": "https://localhost:8080/",
          "height": 171
        },
        "outputId": "495cbbfb-d5f9-4103-bef9-3c7b9fa787ef"
      }
    },
    {
      "cell_type": "markdown",
      "source": [
        "### Индексация, слайсинг и доступ к переменным"
      ],
      "metadata": {
        "id": "YHWH6pfRZX5n"
      }
    },
    {
      "cell_type": "code",
      "execution_count": null,
      "source": [
        "df.index"
      ],
      "outputs": [
        {
          "output_type": "execute_result",
          "data": {
            "text/plain": [
              "Index(['a', 'b', 'c', 'd'], dtype='object')"
            ]
          },
          "metadata": {
            "tags": []
          },
          "execution_count": 30
        }
      ],
      "metadata": {
        "id": "XCYGEe1_YAgR",
        "colab": {
          "base_uri": "https://localhost:8080/",
          "height": 34
        },
        "outputId": "1a817f12-6d56-4611-c0df-f4f04e22edf3"
      }
    },
    {
      "cell_type": "code",
      "execution_count": null,
      "source": [
        "df.columns"
      ],
      "outputs": [
        {
          "output_type": "execute_result",
          "data": {
            "text/plain": [
              "Index(['one', 'two'], dtype='object')"
            ]
          },
          "metadata": {
            "tags": []
          },
          "execution_count": 57
        }
      ],
      "metadata": {
        "id": "qbcbTZPfYBzR",
        "colab": {
          "base_uri": "https://localhost:8080/",
          "height": 35
        },
        "outputId": "99bb375d-8668-4d43-fb3a-d70a4342c7ea"
      }
    },
    {
      "cell_type": "markdown",
      "source": [
        "Если в качестве индекса указать имя столбца, получится одномерный набор данных."
      ],
      "metadata": {
        "id": "n7pWo3oyYISt"
      }
    },
    {
      "cell_type": "code",
      "execution_count": null,
      "source": [
        "df['one']"
      ],
      "outputs": [
        {
          "output_type": "execute_result",
          "data": {
            "text/plain": [
              "a    1.0\n",
              "b    2.0\n",
              "c    3.0\n",
              "d    NaN\n",
              "Name: one, dtype: float64"
            ]
          },
          "metadata": {
            "tags": []
          },
          "execution_count": 181
        }
      ],
      "metadata": {
        "id": "iBgXKw7bYGAJ",
        "colab": {
          "base_uri": "https://localhost:8080/",
          "height": 103
        },
        "outputId": "0105ef6f-77ca-4d27-c20a-f0f262d7b827"
      }
    },
    {
      "cell_type": "code",
      "execution_count": null,
      "source": [
        "df.one"
      ],
      "outputs": [
        {
          "output_type": "execute_result",
          "data": {
            "text/plain": [
              "a    1.0\n",
              "b    2.0\n",
              "c    3.0\n",
              "d    NaN\n",
              "Name: one, dtype: float64"
            ]
          },
          "metadata": {
            "tags": []
          },
          "execution_count": 182
        }
      ],
      "metadata": {
        "id": "rY0aL_SrYJDx",
        "colab": {
          "base_uri": "https://localhost:8080/",
          "height": 103
        },
        "outputId": "bdaa92b4-3dd7-4095-d3d2-654807010e8a"
      }
    },
    {
      "cell_type": "code",
      "execution_count": null,
      "source": [
        "df['one']['c']"
      ],
      "outputs": [
        {
          "output_type": "execute_result",
          "data": {
            "text/plain": [
              "3.0"
            ]
          },
          "metadata": {
            "tags": []
          },
          "execution_count": 183
        }
      ],
      "metadata": {
        "id": "-RJ6EcWRYLMR",
        "colab": {
          "base_uri": "https://localhost:8080/",
          "height": 34
        },
        "outputId": "16e71ff4-71ab-4c58-9762-ed7d64103741"
      }
    },
    {
      "cell_type": "markdown",
      "source": [
        "\n",
        "Однако если указать диапазон индексов, то это означает диапазон строк. Причём последняя строка включается в таблицу."
      ],
      "metadata": {
        "id": "EKtBa4F7YKEH"
      }
    },
    {
      "cell_type": "code",
      "execution_count": null,
      "source": [
        "df['b':'d']"
      ],
      "outputs": [
        {
          "output_type": "execute_result",
          "data": {
            "text/html": [
              "<div>\n",
              "<style scoped>\n",
              "    .dataframe tbody tr th:only-of-type {\n",
              "        vertical-align: middle;\n",
              "    }\n",
              "\n",
              "    .dataframe tbody tr th {\n",
              "        vertical-align: top;\n",
              "    }\n",
              "\n",
              "    .dataframe thead th {\n",
              "        text-align: right;\n",
              "    }\n",
              "</style>\n",
              "<table border=\"1\" class=\"dataframe\">\n",
              "  <thead>\n",
              "    <tr style=\"text-align: right;\">\n",
              "      <th></th>\n",
              "      <th>one</th>\n",
              "      <th>two</th>\n",
              "    </tr>\n",
              "  </thead>\n",
              "  <tbody>\n",
              "    <tr>\n",
              "      <th>b</th>\n",
              "      <td>2.0</td>\n",
              "      <td>2</td>\n",
              "    </tr>\n",
              "    <tr>\n",
              "      <th>c</th>\n",
              "      <td>3.0</td>\n",
              "      <td>3</td>\n",
              "    </tr>\n",
              "    <tr>\n",
              "      <th>d</th>\n",
              "      <td>NaN</td>\n",
              "      <td>4</td>\n",
              "    </tr>\n",
              "  </tbody>\n",
              "</table>\n",
              "</div>"
            ],
            "text/plain": [
              "   one  two\n",
              "b  2.0    2\n",
              "c  3.0    3\n",
              "d  NaN    4"
            ]
          },
          "metadata": {
            "tags": []
          },
          "execution_count": 61
        }
      ],
      "metadata": {
        "id": "GJFchFYWYPu5",
        "colab": {
          "base_uri": "https://localhost:8080/",
          "height": 141
        },
        "outputId": "cd8e5d2f-7945-443e-cc0f-a9eb9a0d2667"
      }
    },
    {
      "cell_type": "markdown",
      "source": [
        "\n",
        "Диапазон целых чисел даёт диапазон строк с такими номерами, не включая последнюю строку (как обычно при индексировании списков). Всё это кажется довольно нелогичным."
      ],
      "metadata": {
        "id": "w7mq1wxwYTZh"
      }
    },
    {
      "cell_type": "code",
      "execution_count": null,
      "source": [
        "df[1:3]"
      ],
      "outputs": [
        {
          "output_type": "execute_result",
          "data": {
            "text/html": [
              "<div>\n",
              "<style scoped>\n",
              "    .dataframe tbody tr th:only-of-type {\n",
              "        vertical-align: middle;\n",
              "    }\n",
              "\n",
              "    .dataframe tbody tr th {\n",
              "        vertical-align: top;\n",
              "    }\n",
              "\n",
              "    .dataframe thead th {\n",
              "        text-align: right;\n",
              "    }\n",
              "</style>\n",
              "<table border=\"1\" class=\"dataframe\">\n",
              "  <thead>\n",
              "    <tr style=\"text-align: right;\">\n",
              "      <th></th>\n",
              "      <th>one</th>\n",
              "      <th>two</th>\n",
              "    </tr>\n",
              "  </thead>\n",
              "  <tbody>\n",
              "    <tr>\n",
              "      <th>b</th>\n",
              "      <td>2.0</td>\n",
              "      <td>2</td>\n",
              "    </tr>\n",
              "    <tr>\n",
              "      <th>c</th>\n",
              "      <td>3.0</td>\n",
              "      <td>3</td>\n",
              "    </tr>\n",
              "  </tbody>\n",
              "</table>\n",
              "</div>"
            ],
            "text/plain": [
              "   one  two\n",
              "b  2.0    2\n",
              "c  3.0    3"
            ]
          },
          "metadata": {
            "tags": []
          },
          "execution_count": 184
        }
      ],
      "metadata": {
        "id": "5MfjL6FaYQ9x",
        "colab": {
          "base_uri": "https://localhost:8080/",
          "height": 110
        },
        "outputId": "50d6be64-08ff-4a15-9e8a-f89988735d2c"
      }
    },
    {
      "cell_type": "markdown",
      "source": [
        "\n",
        "Логичнее работает атрибут `loc`: первая позиция - всегда индекс строки, а вторая - столбца."
      ],
      "metadata": {
        "id": "_mgcvTWRYcZB"
      }
    },
    {
      "cell_type": "code",
      "execution_count": null,
      "source": [
        "df.loc['b']"
      ],
      "outputs": [
        {
          "output_type": "execute_result",
          "data": {
            "text/plain": [
              "one    2.0\n",
              "two    2.0\n",
              "Name: b, dtype: float64"
            ]
          },
          "metadata": {
            "tags": []
          },
          "execution_count": 63
        }
      ],
      "metadata": {
        "id": "HD9v7djkYamI",
        "colab": {
          "base_uri": "https://localhost:8080/",
          "height": 69
        },
        "outputId": "c1d08bbf-0460-42ae-dd18-ea5da7b6f10d"
      }
    },
    {
      "cell_type": "code",
      "execution_count": null,
      "source": [
        "df.loc['b','one']"
      ],
      "outputs": [
        {
          "output_type": "execute_result",
          "data": {
            "text/plain": [
              "2.0"
            ]
          },
          "metadata": {
            "tags": []
          },
          "execution_count": 185
        }
      ],
      "metadata": {
        "id": "nAIWifpNYdkK",
        "colab": {
          "base_uri": "https://localhost:8080/",
          "height": 34
        },
        "outputId": "5b78f758-3cff-4edd-fb04-abb803fe4b9a"
      }
    },
    {
      "cell_type": "code",
      "execution_count": null,
      "source": [
        "df.loc['a':'b','one']"
      ],
      "outputs": [
        {
          "output_type": "execute_result",
          "data": {
            "text/plain": [
              "a    1.0\n",
              "b    2.0\n",
              "Name: one, dtype: float64"
            ]
          },
          "metadata": {
            "tags": []
          },
          "execution_count": 186
        }
      ],
      "metadata": {
        "id": "dK9j0kAVYekg",
        "colab": {
          "base_uri": "https://localhost:8080/",
          "height": 69
        },
        "outputId": "9ddc9b7b-73a7-4de3-b3eb-5f4f0a4620b3"
      }
    },
    {
      "cell_type": "code",
      "execution_count": null,
      "source": [
        "df.loc['a':'b',:]"
      ],
      "outputs": [
        {
          "output_type": "execute_result",
          "data": {
            "text/html": [
              "<div>\n",
              "<style scoped>\n",
              "    .dataframe tbody tr th:only-of-type {\n",
              "        vertical-align: middle;\n",
              "    }\n",
              "\n",
              "    .dataframe tbody tr th {\n",
              "        vertical-align: top;\n",
              "    }\n",
              "\n",
              "    .dataframe thead th {\n",
              "        text-align: right;\n",
              "    }\n",
              "</style>\n",
              "<table border=\"1\" class=\"dataframe\">\n",
              "  <thead>\n",
              "    <tr style=\"text-align: right;\">\n",
              "      <th></th>\n",
              "      <th>one</th>\n",
              "      <th>two</th>\n",
              "    </tr>\n",
              "  </thead>\n",
              "  <tbody>\n",
              "    <tr>\n",
              "      <th>a</th>\n",
              "      <td>1.0</td>\n",
              "      <td>1</td>\n",
              "    </tr>\n",
              "    <tr>\n",
              "      <th>b</th>\n",
              "      <td>2.0</td>\n",
              "      <td>2</td>\n",
              "    </tr>\n",
              "  </tbody>\n",
              "</table>\n",
              "</div>"
            ],
            "text/plain": [
              "   one  two\n",
              "a  1.0    1\n",
              "b  2.0    2"
            ]
          },
          "metadata": {
            "tags": []
          },
          "execution_count": 31
        }
      ],
      "metadata": {
        "id": "FG0aTDlZYfpI",
        "colab": {
          "base_uri": "https://localhost:8080/",
          "height": 110
        },
        "outputId": "6894404d-b71d-47f9-cb2f-1cb9b7433ea2"
      }
    },
    {
      "cell_type": "code",
      "execution_count": null,
      "source": [
        "df.loc[:,'one']"
      ],
      "outputs": [
        {
          "output_type": "execute_result",
          "data": {
            "text/plain": [
              "a    1.0\n",
              "b    2.0\n",
              "c    3.0\n",
              "d    NaN\n",
              "Name: one, dtype: float64"
            ]
          },
          "metadata": {
            "tags": []
          },
          "execution_count": 188
        }
      ],
      "metadata": {
        "id": "L7bpZyqbYgxg",
        "colab": {
          "base_uri": "https://localhost:8080/",
          "height": 103
        },
        "outputId": "93ac73dc-dad5-4317-d1d5-7bfa622a10fc"
      }
    },
    {
      "cell_type": "markdown",
      "source": [
        "К таблице можно добавлять новые столбцы."
      ],
      "metadata": {
        "id": "TF4QWB6DYjzK"
      }
    },
    {
      "cell_type": "code",
      "execution_count": null,
      "source": [
        "df['three']=df['one']*df['two']\n",
        "df['flag']=df['two']>2\n",
        "df"
      ],
      "outputs": [
        {
          "output_type": "execute_result",
          "data": {
            "text/html": [
              "<div>\n",
              "<style scoped>\n",
              "    .dataframe tbody tr th:only-of-type {\n",
              "        vertical-align: middle;\n",
              "    }\n",
              "\n",
              "    .dataframe tbody tr th {\n",
              "        vertical-align: top;\n",
              "    }\n",
              "\n",
              "    .dataframe thead th {\n",
              "        text-align: right;\n",
              "    }\n",
              "</style>\n",
              "<table border=\"1\" class=\"dataframe\">\n",
              "  <thead>\n",
              "    <tr style=\"text-align: right;\">\n",
              "      <th></th>\n",
              "      <th>one</th>\n",
              "      <th>two</th>\n",
              "      <th>three</th>\n",
              "      <th>flag</th>\n",
              "    </tr>\n",
              "  </thead>\n",
              "  <tbody>\n",
              "    <tr>\n",
              "      <th>a</th>\n",
              "      <td>1.0</td>\n",
              "      <td>1</td>\n",
              "      <td>1.0</td>\n",
              "      <td>False</td>\n",
              "    </tr>\n",
              "    <tr>\n",
              "      <th>b</th>\n",
              "      <td>2.0</td>\n",
              "      <td>2</td>\n",
              "      <td>4.0</td>\n",
              "      <td>False</td>\n",
              "    </tr>\n",
              "    <tr>\n",
              "      <th>c</th>\n",
              "      <td>3.0</td>\n",
              "      <td>3</td>\n",
              "      <td>9.0</td>\n",
              "      <td>True</td>\n",
              "    </tr>\n",
              "    <tr>\n",
              "      <th>d</th>\n",
              "      <td>NaN</td>\n",
              "      <td>4</td>\n",
              "      <td>NaN</td>\n",
              "      <td>True</td>\n",
              "    </tr>\n",
              "  </tbody>\n",
              "</table>\n",
              "</div>"
            ],
            "text/plain": [
              "   one  two  three   flag\n",
              "a  1.0    1    1.0  False\n",
              "b  2.0    2    4.0  False\n",
              "c  3.0    3    9.0   True\n",
              "d  NaN    4    NaN   True"
            ]
          },
          "metadata": {
            "tags": []
          },
          "execution_count": 68
        }
      ],
      "metadata": {
        "id": "TqGCpXiAYh2w",
        "colab": {
          "base_uri": "https://localhost:8080/",
          "height": 171
        },
        "outputId": "7d0997c8-6674-405a-8486-4b633d0953e9"
      }
    },
    {
      "cell_type": "markdown",
      "source": [
        "Также можно удалять имеющиеся."
      ],
      "metadata": {
        "id": "S-j1YX0HYmGS"
      }
    },
    {
      "cell_type": "code",
      "execution_count": null,
      "source": [
        "#del df['two']\n",
        "df['foo']=0.\n",
        "# df.drop(['foo'], axis=1)\n",
        "del df['foo']\n",
        "df"
      ],
      "outputs": [
        {
          "output_type": "execute_result",
          "data": {
            "text/html": [
              "<div>\n",
              "<style scoped>\n",
              "    .dataframe tbody tr th:only-of-type {\n",
              "        vertical-align: middle;\n",
              "    }\n",
              "\n",
              "    .dataframe tbody tr th {\n",
              "        vertical-align: top;\n",
              "    }\n",
              "\n",
              "    .dataframe thead th {\n",
              "        text-align: right;\n",
              "    }\n",
              "</style>\n",
              "<table border=\"1\" class=\"dataframe\">\n",
              "  <thead>\n",
              "    <tr style=\"text-align: right;\">\n",
              "      <th></th>\n",
              "      <th>one</th>\n",
              "      <th>two</th>\n",
              "      <th>three</th>\n",
              "      <th>flag</th>\n",
              "    </tr>\n",
              "  </thead>\n",
              "  <tbody>\n",
              "    <tr>\n",
              "      <th>a</th>\n",
              "      <td>1.0</td>\n",
              "      <td>1</td>\n",
              "      <td>1.0</td>\n",
              "      <td>False</td>\n",
              "    </tr>\n",
              "    <tr>\n",
              "      <th>b</th>\n",
              "      <td>2.0</td>\n",
              "      <td>2</td>\n",
              "      <td>4.0</td>\n",
              "      <td>False</td>\n",
              "    </tr>\n",
              "    <tr>\n",
              "      <th>c</th>\n",
              "      <td>3.0</td>\n",
              "      <td>3</td>\n",
              "      <td>9.0</td>\n",
              "      <td>True</td>\n",
              "    </tr>\n",
              "    <tr>\n",
              "      <th>d</th>\n",
              "      <td>NaN</td>\n",
              "      <td>4</td>\n",
              "      <td>NaN</td>\n",
              "      <td>True</td>\n",
              "    </tr>\n",
              "  </tbody>\n",
              "</table>\n",
              "</div>"
            ],
            "text/plain": [
              "   one  two  three   flag\n",
              "a  1.0    1    1.0  False\n",
              "b  2.0    2    4.0  False\n",
              "c  3.0    3    9.0   True\n",
              "d  NaN    4    NaN   True"
            ]
          },
          "metadata": {
            "tags": []
          },
          "execution_count": 69
        }
      ],
      "metadata": {
        "id": "0WiYzzoUYk7Y",
        "colab": {
          "base_uri": "https://localhost:8080/",
          "height": 171
        },
        "outputId": "a165466e-8dba-46c9-f939-1616a94e5aa8"
      }
    },
    {
      "cell_type": "markdown",
      "source": [
        "### Функции для сортировки"
      ],
      "metadata": {
        "id": "XFgxOqQPZlBW"
      }
    },
    {
      "cell_type": "code",
      "execution_count": null,
      "source": [
        "mask = df.apply(lambda x: x['one'] < 1.5 or x['two'] > 2.5, axis=1)\n",
        "mask"
      ],
      "outputs": [
        {
          "output_type": "execute_result",
          "data": {
            "text/plain": [
              "a     True\n",
              "b    False\n",
              "c     True\n",
              "d     True\n",
              "dtype: bool"
            ]
          },
          "metadata": {
            "tags": []
          },
          "execution_count": 32
        }
      ],
      "metadata": {
        "id": "qFnN69CmYm7o",
        "colab": {
          "base_uri": "https://localhost:8080/",
          "height": 103
        },
        "outputId": "8bcb6384-ebfc-40aa-d25c-139eb04f6e82"
      }
    },
    {
      "cell_type": "code",
      "execution_count": null,
      "source": [
        "df[mask]"
      ],
      "outputs": [
        {
          "output_type": "execute_result",
          "data": {
            "text/html": [
              "<div>\n",
              "<style scoped>\n",
              "    .dataframe tbody tr th:only-of-type {\n",
              "        vertical-align: middle;\n",
              "    }\n",
              "\n",
              "    .dataframe tbody tr th {\n",
              "        vertical-align: top;\n",
              "    }\n",
              "\n",
              "    .dataframe thead th {\n",
              "        text-align: right;\n",
              "    }\n",
              "</style>\n",
              "<table border=\"1\" class=\"dataframe\">\n",
              "  <thead>\n",
              "    <tr style=\"text-align: right;\">\n",
              "      <th></th>\n",
              "      <th>one</th>\n",
              "      <th>two</th>\n",
              "    </tr>\n",
              "  </thead>\n",
              "  <tbody>\n",
              "    <tr>\n",
              "      <th>a</th>\n",
              "      <td>1.0</td>\n",
              "      <td>1</td>\n",
              "    </tr>\n",
              "    <tr>\n",
              "      <th>c</th>\n",
              "      <td>3.0</td>\n",
              "      <td>3</td>\n",
              "    </tr>\n",
              "    <tr>\n",
              "      <th>d</th>\n",
              "      <td>NaN</td>\n",
              "      <td>4</td>\n",
              "    </tr>\n",
              "  </tbody>\n",
              "</table>\n",
              "</div>"
            ],
            "text/plain": [
              "   one  two\n",
              "a  1.0    1\n",
              "c  3.0    3\n",
              "d  NaN    4"
            ]
          },
          "metadata": {
            "tags": []
          },
          "execution_count": 33
        }
      ],
      "metadata": {
        "id": "ZcaYjRL8YsSI",
        "colab": {
          "base_uri": "https://localhost:8080/",
          "height": 140
        },
        "outputId": "46fa591b-f329-4d44-dda7-4e24bbae8cdd"
      }
    },
    {
      "cell_type": "markdown",
      "source": [
        "### Объединение и добавление новых столбцов"
      ],
      "metadata": {
        "id": "LsL7EZAMZv6_"
      }
    },
    {
      "cell_type": "markdown",
      "source": [
        "\n",
        "Добавим копию столбца `one`, в которую входят только строки до второй."
      ],
      "metadata": {
        "id": "BRNtivXFYzu0"
      }
    },
    {
      "cell_type": "code",
      "execution_count": null,
      "source": [
        "df['one_tr']=df['one'][:2]\n",
        "df"
      ],
      "outputs": [
        {
          "output_type": "execute_result",
          "data": {
            "text/html": [
              "<div>\n",
              "<style scoped>\n",
              "    .dataframe tbody tr th:only-of-type {\n",
              "        vertical-align: middle;\n",
              "    }\n",
              "\n",
              "    .dataframe tbody tr th {\n",
              "        vertical-align: top;\n",
              "    }\n",
              "\n",
              "    .dataframe thead th {\n",
              "        text-align: right;\n",
              "    }\n",
              "</style>\n",
              "<table border=\"1\" class=\"dataframe\">\n",
              "  <thead>\n",
              "    <tr style=\"text-align: right;\">\n",
              "      <th></th>\n",
              "      <th>one</th>\n",
              "      <th>two</th>\n",
              "      <th>one_tr</th>\n",
              "    </tr>\n",
              "  </thead>\n",
              "  <tbody>\n",
              "    <tr>\n",
              "      <th>a</th>\n",
              "      <td>1.0</td>\n",
              "      <td>1</td>\n",
              "      <td>1.0</td>\n",
              "    </tr>\n",
              "    <tr>\n",
              "      <th>b</th>\n",
              "      <td>2.0</td>\n",
              "      <td>2</td>\n",
              "      <td>2.0</td>\n",
              "    </tr>\n",
              "    <tr>\n",
              "      <th>c</th>\n",
              "      <td>3.0</td>\n",
              "      <td>3</td>\n",
              "      <td>NaN</td>\n",
              "    </tr>\n",
              "    <tr>\n",
              "      <th>d</th>\n",
              "      <td>NaN</td>\n",
              "      <td>4</td>\n",
              "      <td>NaN</td>\n",
              "    </tr>\n",
              "  </tbody>\n",
              "</table>\n",
              "</div>"
            ],
            "text/plain": [
              "   one  two  one_tr\n",
              "a  1.0    1     1.0\n",
              "b  2.0    2     2.0\n",
              "c  3.0    3     NaN\n",
              "d  NaN    4     NaN"
            ]
          },
          "metadata": {
            "tags": []
          },
          "execution_count": 192
        }
      ],
      "metadata": {
        "id": "zrkvEJtsYuno",
        "colab": {
          "base_uri": "https://localhost:8080/",
          "height": 171
        },
        "outputId": "14322a1b-1ab8-4acb-f3f8-f277f8a95d93"
      }
    },
    {
      "cell_type": "code",
      "execution_count": null,
      "source": [
        "df1=df.loc[:,['one','one_tr']]\n",
        "df1"
      ],
      "outputs": [
        {
          "output_type": "execute_result",
          "data": {
            "text/html": [
              "<div>\n",
              "<style scoped>\n",
              "    .dataframe tbody tr th:only-of-type {\n",
              "        vertical-align: middle;\n",
              "    }\n",
              "\n",
              "    .dataframe tbody tr th {\n",
              "        vertical-align: top;\n",
              "    }\n",
              "\n",
              "    .dataframe thead th {\n",
              "        text-align: right;\n",
              "    }\n",
              "</style>\n",
              "<table border=\"1\" class=\"dataframe\">\n",
              "  <thead>\n",
              "    <tr style=\"text-align: right;\">\n",
              "      <th></th>\n",
              "      <th>one</th>\n",
              "      <th>one_tr</th>\n",
              "    </tr>\n",
              "  </thead>\n",
              "  <tbody>\n",
              "    <tr>\n",
              "      <th>a</th>\n",
              "      <td>1.0</td>\n",
              "      <td>1.0</td>\n",
              "    </tr>\n",
              "    <tr>\n",
              "      <th>b</th>\n",
              "      <td>2.0</td>\n",
              "      <td>2.0</td>\n",
              "    </tr>\n",
              "    <tr>\n",
              "      <th>c</th>\n",
              "      <td>3.0</td>\n",
              "      <td>NaN</td>\n",
              "    </tr>\n",
              "    <tr>\n",
              "      <th>d</th>\n",
              "      <td>NaN</td>\n",
              "      <td>NaN</td>\n",
              "    </tr>\n",
              "  </tbody>\n",
              "</table>\n",
              "</div>"
            ],
            "text/plain": [
              "   one  one_tr\n",
              "a  1.0     1.0\n",
              "b  2.0     2.0\n",
              "c  3.0     NaN\n",
              "d  NaN     NaN"
            ]
          },
          "metadata": {
            "tags": []
          },
          "execution_count": 193
        }
      ],
      "metadata": {
        "id": "-59tvBD7Y2To",
        "colab": {
          "base_uri": "https://localhost:8080/",
          "height": 171
        },
        "outputId": "fb320d71-8113-4e65-9c29-50ea9f7381db"
      }
    },
    {
      "cell_type": "markdown",
      "source": [
        "Можно объединять таблицы по вертикали и по горизонтали."
      ],
      "metadata": {
        "id": "b9ozvKC7ZJZa"
      }
    },
    {
      "cell_type": "code",
      "execution_count": null,
      "source": [
        "df2=pd.DataFrame({'one':{'a':0,'b':1},'one_tr':{'b':2}})\n",
        "df2"
      ],
      "outputs": [
        {
          "output_type": "execute_result",
          "data": {
            "text/html": [
              "<div>\n",
              "<style scoped>\n",
              "    .dataframe tbody tr th:only-of-type {\n",
              "        vertical-align: middle;\n",
              "    }\n",
              "\n",
              "    .dataframe tbody tr th {\n",
              "        vertical-align: top;\n",
              "    }\n",
              "\n",
              "    .dataframe thead th {\n",
              "        text-align: right;\n",
              "    }\n",
              "</style>\n",
              "<table border=\"1\" class=\"dataframe\">\n",
              "  <thead>\n",
              "    <tr style=\"text-align: right;\">\n",
              "      <th></th>\n",
              "      <th>one</th>\n",
              "      <th>one_tr</th>\n",
              "    </tr>\n",
              "  </thead>\n",
              "  <tbody>\n",
              "    <tr>\n",
              "      <th>a</th>\n",
              "      <td>0</td>\n",
              "      <td>NaN</td>\n",
              "    </tr>\n",
              "    <tr>\n",
              "      <th>b</th>\n",
              "      <td>1</td>\n",
              "      <td>2.0</td>\n",
              "    </tr>\n",
              "  </tbody>\n",
              "</table>\n",
              "</div>"
            ],
            "text/plain": [
              "   one  one_tr\n",
              "a    0     NaN\n",
              "b    1     2.0"
            ]
          },
          "metadata": {
            "tags": []
          },
          "execution_count": 74
        }
      ],
      "metadata": {
        "id": "snimQl3LY3tA",
        "colab": {
          "base_uri": "https://localhost:8080/",
          "height": 110
        },
        "outputId": "b031feff-2b32-4136-c10a-bf171a28ff2c"
      }
    },
    {
      "cell_type": "code",
      "execution_count": null,
      "source": [
        "df3 = pd.concat([df,df2], axis=0)\n",
        "df3"
      ],
      "outputs": [
        {
          "output_type": "execute_result",
          "data": {
            "text/html": [
              "<div>\n",
              "<style scoped>\n",
              "    .dataframe tbody tr th:only-of-type {\n",
              "        vertical-align: middle;\n",
              "    }\n",
              "\n",
              "    .dataframe tbody tr th {\n",
              "        vertical-align: top;\n",
              "    }\n",
              "\n",
              "    .dataframe thead th {\n",
              "        text-align: right;\n",
              "    }\n",
              "</style>\n",
              "<table border=\"1\" class=\"dataframe\">\n",
              "  <thead>\n",
              "    <tr style=\"text-align: right;\">\n",
              "      <th></th>\n",
              "      <th>flag</th>\n",
              "      <th>one</th>\n",
              "      <th>one_tr</th>\n",
              "      <th>three</th>\n",
              "      <th>two</th>\n",
              "    </tr>\n",
              "  </thead>\n",
              "  <tbody>\n",
              "    <tr>\n",
              "      <th>a</th>\n",
              "      <td>False</td>\n",
              "      <td>1.0</td>\n",
              "      <td>1.0</td>\n",
              "      <td>1.0</td>\n",
              "      <td>1.0</td>\n",
              "    </tr>\n",
              "    <tr>\n",
              "      <th>b</th>\n",
              "      <td>False</td>\n",
              "      <td>2.0</td>\n",
              "      <td>2.0</td>\n",
              "      <td>4.0</td>\n",
              "      <td>2.0</td>\n",
              "    </tr>\n",
              "    <tr>\n",
              "      <th>c</th>\n",
              "      <td>True</td>\n",
              "      <td>3.0</td>\n",
              "      <td>NaN</td>\n",
              "      <td>9.0</td>\n",
              "      <td>3.0</td>\n",
              "    </tr>\n",
              "    <tr>\n",
              "      <th>d</th>\n",
              "      <td>True</td>\n",
              "      <td>NaN</td>\n",
              "      <td>NaN</td>\n",
              "      <td>NaN</td>\n",
              "      <td>4.0</td>\n",
              "    </tr>\n",
              "    <tr>\n",
              "      <th>a</th>\n",
              "      <td>NaN</td>\n",
              "      <td>0.0</td>\n",
              "      <td>NaN</td>\n",
              "      <td>NaN</td>\n",
              "      <td>NaN</td>\n",
              "    </tr>\n",
              "    <tr>\n",
              "      <th>b</th>\n",
              "      <td>NaN</td>\n",
              "      <td>1.0</td>\n",
              "      <td>2.0</td>\n",
              "      <td>NaN</td>\n",
              "      <td>NaN</td>\n",
              "    </tr>\n",
              "  </tbody>\n",
              "</table>\n",
              "</div>"
            ],
            "text/plain": [
              "    flag  one  one_tr  three  two\n",
              "a  False  1.0     1.0    1.0  1.0\n",
              "b  False  2.0     2.0    4.0  2.0\n",
              "c   True  3.0     NaN    9.0  3.0\n",
              "d   True  NaN     NaN    NaN  4.0\n",
              "a    NaN  0.0     NaN    NaN  NaN\n",
              "b    NaN  1.0     2.0    NaN  NaN"
            ]
          },
          "metadata": {
            "tags": []
          },
          "execution_count": 75
        }
      ],
      "metadata": {
        "id": "SWwLouGuY9xo",
        "colab": {
          "base_uri": "https://localhost:8080/",
          "height": 233
        },
        "outputId": "c959a494-14ce-4b90-a332-fa6f1fb0a71e"
      }
    },
    {
      "cell_type": "markdown",
      "source": [
        "# Полезные ссылки и доп материалы\n",
        "\n",
        "Освоить основы каждой библиотеки за 10-15 минут:\n",
        "#### numpy\n",
        "https://docs.scipy.org/doc/numpy/user/quickstart.html\n",
        "#### pandas\n",
        "https://pandas.pydata.org/pandas-docs/stable/getting_started/10min.html\n",
        "\n",
        "#### matplotlib\n",
        "\n",
        "https://matplotlib.org/3.1.1/tutorials/index.html"
      ],
      "metadata": {
        "id": "euQ-XG97ESr4"
      }
    },
    {
      "cell_type": "markdown",
      "source": [
        "# Exploratory data analysis 1\n",
        "\n",
        "## Предобработка данных\n",
        "скачайте данные с помощью pd.read_csv по ссылке https://archive.ics.uci.edu/ml/machine-learning-databases/adult/adult.data и уберите заголовок"
      ],
      "metadata": {
        "id": "4oyGC1ZIurpC"
      }
    },
    {
      "cell_type": "code",
      "execution_count": null,
      "source": [
        "# Считываем данные\n",
        "df = pd.read_csv('https://archive.ics.uci.edu/ml/machine-learning-databases/adult/adult.data')\n",
        "\n",
        "# Назначаем имена колонок\n",
        "columns = ('age workclass fnlwgt education educ-num marital-status occupation relationship '\n",
        "           'race sex capital-gain capital-loss  hours-per-week native-country salary')\n",
        "\n",
        "df.columns = columns.split() #этот метод разделит датасет по колонкам как в массиве columns\n",
        "\n",
        "df.head()"
      ],
      "outputs": [
        {
          "output_type": "execute_result",
          "data": {
            "text/html": [
              "<div>\n",
              "<style scoped>\n",
              "    .dataframe tbody tr th:only-of-type {\n",
              "        vertical-align: middle;\n",
              "    }\n",
              "\n",
              "    .dataframe tbody tr th {\n",
              "        vertical-align: top;\n",
              "    }\n",
              "\n",
              "    .dataframe thead th {\n",
              "        text-align: right;\n",
              "    }\n",
              "</style>\n",
              "<table border=\"1\" class=\"dataframe\">\n",
              "  <thead>\n",
              "    <tr style=\"text-align: right;\">\n",
              "      <th></th>\n",
              "      <th>age</th>\n",
              "      <th>workclass</th>\n",
              "      <th>fnlwgt</th>\n",
              "      <th>education</th>\n",
              "      <th>educ-num</th>\n",
              "      <th>marital-status</th>\n",
              "      <th>occupation</th>\n",
              "      <th>relationship</th>\n",
              "      <th>race</th>\n",
              "      <th>sex</th>\n",
              "      <th>capital-gain</th>\n",
              "      <th>capital-loss</th>\n",
              "      <th>hours-per-week</th>\n",
              "      <th>native-country</th>\n",
              "      <th>salary</th>\n",
              "    </tr>\n",
              "  </thead>\n",
              "  <tbody>\n",
              "    <tr>\n",
              "      <th>0</th>\n",
              "      <td>50</td>\n",
              "      <td>Self-emp-not-inc</td>\n",
              "      <td>83311</td>\n",
              "      <td>Bachelors</td>\n",
              "      <td>13</td>\n",
              "      <td>Married-civ-spouse</td>\n",
              "      <td>Exec-managerial</td>\n",
              "      <td>Husband</td>\n",
              "      <td>White</td>\n",
              "      <td>Male</td>\n",
              "      <td>0</td>\n",
              "      <td>0</td>\n",
              "      <td>13</td>\n",
              "      <td>United-States</td>\n",
              "      <td>&lt;=50K</td>\n",
              "    </tr>\n",
              "    <tr>\n",
              "      <th>1</th>\n",
              "      <td>38</td>\n",
              "      <td>Private</td>\n",
              "      <td>215646</td>\n",
              "      <td>HS-grad</td>\n",
              "      <td>9</td>\n",
              "      <td>Divorced</td>\n",
              "      <td>Handlers-cleaners</td>\n",
              "      <td>Not-in-family</td>\n",
              "      <td>White</td>\n",
              "      <td>Male</td>\n",
              "      <td>0</td>\n",
              "      <td>0</td>\n",
              "      <td>40</td>\n",
              "      <td>United-States</td>\n",
              "      <td>&lt;=50K</td>\n",
              "    </tr>\n",
              "    <tr>\n",
              "      <th>2</th>\n",
              "      <td>53</td>\n",
              "      <td>Private</td>\n",
              "      <td>234721</td>\n",
              "      <td>11th</td>\n",
              "      <td>7</td>\n",
              "      <td>Married-civ-spouse</td>\n",
              "      <td>Handlers-cleaners</td>\n",
              "      <td>Husband</td>\n",
              "      <td>Black</td>\n",
              "      <td>Male</td>\n",
              "      <td>0</td>\n",
              "      <td>0</td>\n",
              "      <td>40</td>\n",
              "      <td>United-States</td>\n",
              "      <td>&lt;=50K</td>\n",
              "    </tr>\n",
              "    <tr>\n",
              "      <th>3</th>\n",
              "      <td>28</td>\n",
              "      <td>Private</td>\n",
              "      <td>338409</td>\n",
              "      <td>Bachelors</td>\n",
              "      <td>13</td>\n",
              "      <td>Married-civ-spouse</td>\n",
              "      <td>Prof-specialty</td>\n",
              "      <td>Wife</td>\n",
              "      <td>Black</td>\n",
              "      <td>Female</td>\n",
              "      <td>0</td>\n",
              "      <td>0</td>\n",
              "      <td>40</td>\n",
              "      <td>Cuba</td>\n",
              "      <td>&lt;=50K</td>\n",
              "    </tr>\n",
              "    <tr>\n",
              "      <th>4</th>\n",
              "      <td>37</td>\n",
              "      <td>Private</td>\n",
              "      <td>284582</td>\n",
              "      <td>Masters</td>\n",
              "      <td>14</td>\n",
              "      <td>Married-civ-spouse</td>\n",
              "      <td>Exec-managerial</td>\n",
              "      <td>Wife</td>\n",
              "      <td>White</td>\n",
              "      <td>Female</td>\n",
              "      <td>0</td>\n",
              "      <td>0</td>\n",
              "      <td>40</td>\n",
              "      <td>United-States</td>\n",
              "      <td>&lt;=50K</td>\n",
              "    </tr>\n",
              "  </tbody>\n",
              "</table>\n",
              "</div>"
            ],
            "text/plain": [
              "   age          workclass  fnlwgt  ... hours-per-week  native-country  salary\n",
              "0   50   Self-emp-not-inc   83311  ...             13   United-States   <=50K\n",
              "1   38            Private  215646  ...             40   United-States   <=50K\n",
              "2   53            Private  234721  ...             40   United-States   <=50K\n",
              "3   28            Private  338409  ...             40            Cuba   <=50K\n",
              "4   37            Private  284582  ...             40   United-States   <=50K\n",
              "\n",
              "[5 rows x 15 columns]"
            ]
          },
          "metadata": {
            "tags": []
          },
          "execution_count": 5
        }
      ],
      "metadata": {
        "id": "p2aZnjubuycQ",
        "colab": {
          "base_uri": "https://localhost:8080/",
          "height": 306
        },
        "outputId": "cd3356d1-4e89-45c9-b672-0ca260942738"
      }
    },
    {
      "cell_type": "markdown",
      "source": [
        "### Исследование данных"
      ],
      "metadata": {
        "id": "ZlTefOvsu0Oq"
      }
    },
    {
      "cell_type": "markdown",
      "source": [
        "Основные пункты, которые надо исследовать в ходе обработки данных:\n",
        "\n",
        "* основные статистики\n",
        "* распределения данных\n",
        "* пропуски\n",
        "* корректность заполнения данных с точки зрения здравого смысла (например, нету ли возраста > 150 лет)\n"
      ],
      "metadata": {
        "id": "qeiA4J-Xu4T6"
      }
    },
    {
      "cell_type": "markdown",
      "source": [
        "Функция describe отобразит основные статистики по каждому столбцу (тип данных которого числовой). По этим показателям можно понять корректность данных, их разброс."
      ],
      "metadata": {
        "id": "bb-42WIdu7FP"
      }
    },
    {
      "cell_type": "code",
      "execution_count": null,
      "source": [
        "df.describe()"
      ],
      "outputs": [
        {
          "output_type": "execute_result",
          "data": {
            "text/html": [
              "<div>\n",
              "<style scoped>\n",
              "    .dataframe tbody tr th:only-of-type {\n",
              "        vertical-align: middle;\n",
              "    }\n",
              "\n",
              "    .dataframe tbody tr th {\n",
              "        vertical-align: top;\n",
              "    }\n",
              "\n",
              "    .dataframe thead th {\n",
              "        text-align: right;\n",
              "    }\n",
              "</style>\n",
              "<table border=\"1\" class=\"dataframe\">\n",
              "  <thead>\n",
              "    <tr style=\"text-align: right;\">\n",
              "      <th></th>\n",
              "      <th>age</th>\n",
              "      <th>fnlwgt</th>\n",
              "      <th>educ-num</th>\n",
              "      <th>capital-gain</th>\n",
              "      <th>capital-loss</th>\n",
              "      <th>hours-per-week</th>\n",
              "    </tr>\n",
              "  </thead>\n",
              "  <tbody>\n",
              "    <tr>\n",
              "      <th>count</th>\n",
              "      <td>32560.000000</td>\n",
              "      <td>3.256000e+04</td>\n",
              "      <td>32560.000000</td>\n",
              "      <td>32560.000000</td>\n",
              "      <td>32560.000000</td>\n",
              "      <td>32560.000000</td>\n",
              "    </tr>\n",
              "    <tr>\n",
              "      <th>mean</th>\n",
              "      <td>38.581634</td>\n",
              "      <td>1.897818e+05</td>\n",
              "      <td>10.080590</td>\n",
              "      <td>1077.615172</td>\n",
              "      <td>87.306511</td>\n",
              "      <td>40.437469</td>\n",
              "    </tr>\n",
              "    <tr>\n",
              "      <th>std</th>\n",
              "      <td>13.640642</td>\n",
              "      <td>1.055498e+05</td>\n",
              "      <td>2.572709</td>\n",
              "      <td>7385.402999</td>\n",
              "      <td>402.966116</td>\n",
              "      <td>12.347618</td>\n",
              "    </tr>\n",
              "    <tr>\n",
              "      <th>min</th>\n",
              "      <td>17.000000</td>\n",
              "      <td>1.228500e+04</td>\n",
              "      <td>1.000000</td>\n",
              "      <td>0.000000</td>\n",
              "      <td>0.000000</td>\n",
              "      <td>1.000000</td>\n",
              "    </tr>\n",
              "    <tr>\n",
              "      <th>25%</th>\n",
              "      <td>28.000000</td>\n",
              "      <td>1.178315e+05</td>\n",
              "      <td>9.000000</td>\n",
              "      <td>0.000000</td>\n",
              "      <td>0.000000</td>\n",
              "      <td>40.000000</td>\n",
              "    </tr>\n",
              "    <tr>\n",
              "      <th>50%</th>\n",
              "      <td>37.000000</td>\n",
              "      <td>1.783630e+05</td>\n",
              "      <td>10.000000</td>\n",
              "      <td>0.000000</td>\n",
              "      <td>0.000000</td>\n",
              "      <td>40.000000</td>\n",
              "    </tr>\n",
              "    <tr>\n",
              "      <th>75%</th>\n",
              "      <td>48.000000</td>\n",
              "      <td>2.370545e+05</td>\n",
              "      <td>12.000000</td>\n",
              "      <td>0.000000</td>\n",
              "      <td>0.000000</td>\n",
              "      <td>45.000000</td>\n",
              "    </tr>\n",
              "    <tr>\n",
              "      <th>max</th>\n",
              "      <td>90.000000</td>\n",
              "      <td>1.484705e+06</td>\n",
              "      <td>16.000000</td>\n",
              "      <td>99999.000000</td>\n",
              "      <td>4356.000000</td>\n",
              "      <td>99.000000</td>\n",
              "    </tr>\n",
              "  </tbody>\n",
              "</table>\n",
              "</div>"
            ],
            "text/plain": [
              "                age        fnlwgt  ...  capital-loss  hours-per-week\n",
              "count  32560.000000  3.256000e+04  ...  32560.000000    32560.000000\n",
              "mean      38.581634  1.897818e+05  ...     87.306511       40.437469\n",
              "std       13.640642  1.055498e+05  ...    402.966116       12.347618\n",
              "min       17.000000  1.228500e+04  ...      0.000000        1.000000\n",
              "25%       28.000000  1.178315e+05  ...      0.000000       40.000000\n",
              "50%       37.000000  1.783630e+05  ...      0.000000       40.000000\n",
              "75%       48.000000  2.370545e+05  ...      0.000000       45.000000\n",
              "max       90.000000  1.484705e+06  ...   4356.000000       99.000000\n",
              "\n",
              "[8 rows x 6 columns]"
            ]
          },
          "metadata": {
            "tags": []
          },
          "execution_count": 6
        }
      ],
      "metadata": {
        "id": "XieO1DL6u5Cy",
        "colab": {
          "base_uri": "https://localhost:8080/",
          "height": 294
        },
        "outputId": "ced75a18-d197-408e-a8f7-9e9e2cd077ae"
      }
    },
    {
      "cell_type": "code",
      "execution_count": null,
      "source": [
        "# встроенный матплотлиб позволит отобразить их вместе с графиками!\n",
        "# посмотрим на гистограммы\n",
        "df.hist()"
      ],
      "outputs": [
        {
          "output_type": "execute_result",
          "data": {
            "text/plain": [
              "array([[<matplotlib.axes._subplots.AxesSubplot object at 0x7f06b4d76b38>,\n",
              "        <matplotlib.axes._subplots.AxesSubplot object at 0x7f06b4d51e48>],\n",
              "       [<matplotlib.axes._subplots.AxesSubplot object at 0x7f06b4d0d0f0>,\n",
              "        <matplotlib.axes._subplots.AxesSubplot object at 0x7f06b4cbc358>],\n",
              "       [<matplotlib.axes._subplots.AxesSubplot object at 0x7f06b4c6b5c0>,\n",
              "        <matplotlib.axes._subplots.AxesSubplot object at 0x7f06b4c9b828>]],\n",
              "      dtype=object)"
            ]
          },
          "metadata": {
            "tags": []
          },
          "execution_count": 7
        },
        {
          "output_type": "display_data",
          "data": {
            "image/png": "[encoded data removed]",
            "text/plain": [
              "<Figure size 432x288 with 6 Axes>"
            ]
          },
          "metadata": {
            "tags": [],
            "needs_background": "light"
          }
        }
      ],
      "metadata": {
        "id": "vcjt4drbvFLT",
        "colab": {
          "base_uri": "https://localhost:8080/",
          "height": 415
        },
        "outputId": "2f746fbc-06ea-448a-8c02-6448d33ab14a"
      }
    },
    {
      "cell_type": "code",
      "execution_count": null,
      "source": [
        "# найдем ненулевые значения\n",
        "df.info()"
      ],
      "outputs": [
        {
          "output_type": "stream",
          "name": "stdout",
          "text": [
            "<class 'pandas.core.frame.DataFrame'>\n",
            "RangeIndex: 32560 entries, 0 to 32559\n",
            "Data columns (total 15 columns):\n",
            " #   Column          Non-Null Count  Dtype \n",
            "---  ------          --------------  ----- \n",
            " 0   age             32560 non-null  int64 \n",
            " 1   workclass       32560 non-null  object\n",
            " 2   fnlwgt          32560 non-null  int64 \n",
            " 3   education       32560 non-null  object\n",
            " 4   educ-num        32560 non-null  int64 \n",
            " 5   marital-status  32560 non-null  object\n",
            " 6   occupation      32560 non-null  object\n",
            " 7   relationship    32560 non-null  object\n",
            " 8   race            32560 non-null  object\n",
            " 9   sex             32560 non-null  object\n",
            " 10  capital-gain    32560 non-null  int64 \n",
            " 11  capital-loss    32560 non-null  int64 \n",
            " 12  hours-per-week  32560 non-null  int64 \n",
            " 13  native-country  32560 non-null  object\n",
            " 14  salary          32560 non-null  object\n",
            "dtypes: int64(6), object(9)\n",
            "memory usage: 3.7+ MB\n"
          ]
        }
      ],
      "metadata": {
        "id": "x6g2OpU3vIxi",
        "colab": {
          "base_uri": "https://localhost:8080/",
          "height": 398
        },
        "outputId": "63ea4b29-d448-47c9-8c15-38dc6c6a4b10"
      }
    },
    {
      "cell_type": "code",
      "execution_count": null,
      "source": [
        "# найдем ненулевые значения\n",
        "df.notnull().head()"
      ],
      "outputs": [
        {
          "output_type": "execute_result",
          "data": {
            "text/html": [
              "<div>\n",
              "<style scoped>\n",
              "    .dataframe tbody tr th:only-of-type {\n",
              "        vertical-align: middle;\n",
              "    }\n",
              "\n",
              "    .dataframe tbody tr th {\n",
              "        vertical-align: top;\n",
              "    }\n",
              "\n",
              "    .dataframe thead th {\n",
              "        text-align: right;\n",
              "    }\n",
              "</style>\n",
              "<table border=\"1\" class=\"dataframe\">\n",
              "  <thead>\n",
              "    <tr style=\"text-align: right;\">\n",
              "      <th></th>\n",
              "      <th>age</th>\n",
              "      <th>workclass</th>\n",
              "      <th>fnlwgt</th>\n",
              "      <th>education</th>\n",
              "      <th>educ-num</th>\n",
              "      <th>marital-status</th>\n",
              "      <th>occupation</th>\n",
              "      <th>relationship</th>\n",
              "      <th>race</th>\n",
              "      <th>sex</th>\n",
              "      <th>capital-gain</th>\n",
              "      <th>capital-loss</th>\n",
              "      <th>hours-per-week</th>\n",
              "      <th>native-country</th>\n",
              "      <th>salary</th>\n",
              "    </tr>\n",
              "  </thead>\n",
              "  <tbody>\n",
              "    <tr>\n",
              "      <th>0</th>\n",
              "      <td>True</td>\n",
              "      <td>True</td>\n",
              "      <td>True</td>\n",
              "      <td>True</td>\n",
              "      <td>True</td>\n",
              "      <td>True</td>\n",
              "      <td>True</td>\n",
              "      <td>True</td>\n",
              "      <td>True</td>\n",
              "      <td>True</td>\n",
              "      <td>True</td>\n",
              "      <td>True</td>\n",
              "      <td>True</td>\n",
              "      <td>True</td>\n",
              "      <td>True</td>\n",
              "    </tr>\n",
              "    <tr>\n",
              "      <th>1</th>\n",
              "      <td>True</td>\n",
              "      <td>True</td>\n",
              "      <td>True</td>\n",
              "      <td>True</td>\n",
              "      <td>True</td>\n",
              "      <td>True</td>\n",
              "      <td>True</td>\n",
              "      <td>True</td>\n",
              "      <td>True</td>\n",
              "      <td>True</td>\n",
              "      <td>True</td>\n",
              "      <td>True</td>\n",
              "      <td>True</td>\n",
              "      <td>True</td>\n",
              "      <td>True</td>\n",
              "    </tr>\n",
              "    <tr>\n",
              "      <th>2</th>\n",
              "      <td>True</td>\n",
              "      <td>True</td>\n",
              "      <td>True</td>\n",
              "      <td>True</td>\n",
              "      <td>True</td>\n",
              "      <td>True</td>\n",
              "      <td>True</td>\n",
              "      <td>True</td>\n",
              "      <td>True</td>\n",
              "      <td>True</td>\n",
              "      <td>True</td>\n",
              "      <td>True</td>\n",
              "      <td>True</td>\n",
              "      <td>True</td>\n",
              "      <td>True</td>\n",
              "    </tr>\n",
              "    <tr>\n",
              "      <th>3</th>\n",
              "      <td>True</td>\n",
              "      <td>True</td>\n",
              "      <td>True</td>\n",
              "      <td>True</td>\n",
              "      <td>True</td>\n",
              "      <td>True</td>\n",
              "      <td>True</td>\n",
              "      <td>True</td>\n",
              "      <td>True</td>\n",
              "      <td>True</td>\n",
              "      <td>True</td>\n",
              "      <td>True</td>\n",
              "      <td>True</td>\n",
              "      <td>True</td>\n",
              "      <td>True</td>\n",
              "    </tr>\n",
              "    <tr>\n",
              "      <th>4</th>\n",
              "      <td>True</td>\n",
              "      <td>True</td>\n",
              "      <td>True</td>\n",
              "      <td>True</td>\n",
              "      <td>True</td>\n",
              "      <td>True</td>\n",
              "      <td>True</td>\n",
              "      <td>True</td>\n",
              "      <td>True</td>\n",
              "      <td>True</td>\n",
              "      <td>True</td>\n",
              "      <td>True</td>\n",
              "      <td>True</td>\n",
              "      <td>True</td>\n",
              "      <td>True</td>\n",
              "    </tr>\n",
              "  </tbody>\n",
              "</table>\n",
              "</div>"
            ],
            "text/plain": [
              "    age  workclass  fnlwgt  ...  hours-per-week  native-country  salary\n",
              "0  True       True    True  ...            True            True    True\n",
              "1  True       True    True  ...            True            True    True\n",
              "2  True       True    True  ...            True            True    True\n",
              "3  True       True    True  ...            True            True    True\n",
              "4  True       True    True  ...            True            True    True\n",
              "\n",
              "[5 rows x 15 columns]"
            ]
          },
          "metadata": {
            "tags": []
          },
          "execution_count": 8
        }
      ],
      "metadata": {
        "id": "jzIdqZW8vGYn",
        "colab": {
          "base_uri": "https://localhost:8080/",
          "height": 219
        },
        "outputId": "82752ebe-f83b-4c01-ef09-122e81e7b198"
      }
    },
    {
      "cell_type": "code",
      "execution_count": null,
      "source": [
        "df[df.notnull()].head()"
      ],
      "outputs": [
        {
          "output_type": "execute_result",
          "data": {
            "text/html": [
              "<div>\n",
              "<style scoped>\n",
              "    .dataframe tbody tr th:only-of-type {\n",
              "        vertical-align: middle;\n",
              "    }\n",
              "\n",
              "    .dataframe tbody tr th {\n",
              "        vertical-align: top;\n",
              "    }\n",
              "\n",
              "    .dataframe thead th {\n",
              "        text-align: right;\n",
              "    }\n",
              "</style>\n",
              "<table border=\"1\" class=\"dataframe\">\n",
              "  <thead>\n",
              "    <tr style=\"text-align: right;\">\n",
              "      <th></th>\n",
              "      <th>age</th>\n",
              "      <th>workclass</th>\n",
              "      <th>fnlwgt</th>\n",
              "      <th>education</th>\n",
              "      <th>educ-num</th>\n",
              "      <th>marital-status</th>\n",
              "      <th>occupation</th>\n",
              "      <th>relationship</th>\n",
              "      <th>race</th>\n",
              "      <th>sex</th>\n",
              "      <th>capital-gain</th>\n",
              "      <th>capital-loss</th>\n",
              "      <th>hours-per-week</th>\n",
              "      <th>native-country</th>\n",
              "      <th>salary</th>\n",
              "    </tr>\n",
              "  </thead>\n",
              "  <tbody>\n",
              "    <tr>\n",
              "      <th>0</th>\n",
              "      <td>50</td>\n",
              "      <td>Self-emp-not-inc</td>\n",
              "      <td>83311</td>\n",
              "      <td>Bachelors</td>\n",
              "      <td>13</td>\n",
              "      <td>Married-civ-spouse</td>\n",
              "      <td>Exec-managerial</td>\n",
              "      <td>Husband</td>\n",
              "      <td>White</td>\n",
              "      <td>Male</td>\n",
              "      <td>0</td>\n",
              "      <td>0</td>\n",
              "      <td>13</td>\n",
              "      <td>United-States</td>\n",
              "      <td>&lt;=50K</td>\n",
              "    </tr>\n",
              "    <tr>\n",
              "      <th>1</th>\n",
              "      <td>38</td>\n",
              "      <td>Private</td>\n",
              "      <td>215646</td>\n",
              "      <td>HS-grad</td>\n",
              "      <td>9</td>\n",
              "      <td>Divorced</td>\n",
              "      <td>Handlers-cleaners</td>\n",
              "      <td>Not-in-family</td>\n",
              "      <td>White</td>\n",
              "      <td>Male</td>\n",
              "      <td>0</td>\n",
              "      <td>0</td>\n",
              "      <td>40</td>\n",
              "      <td>United-States</td>\n",
              "      <td>&lt;=50K</td>\n",
              "    </tr>\n",
              "    <tr>\n",
              "      <th>2</th>\n",
              "      <td>53</td>\n",
              "      <td>Private</td>\n",
              "      <td>234721</td>\n",
              "      <td>11th</td>\n",
              "      <td>7</td>\n",
              "      <td>Married-civ-spouse</td>\n",
              "      <td>Handlers-cleaners</td>\n",
              "      <td>Husband</td>\n",
              "      <td>Black</td>\n",
              "      <td>Male</td>\n",
              "      <td>0</td>\n",
              "      <td>0</td>\n",
              "      <td>40</td>\n",
              "      <td>United-States</td>\n",
              "      <td>&lt;=50K</td>\n",
              "    </tr>\n",
              "    <tr>\n",
              "      <th>3</th>\n",
              "      <td>28</td>\n",
              "      <td>Private</td>\n",
              "      <td>338409</td>\n",
              "      <td>Bachelors</td>\n",
              "      <td>13</td>\n",
              "      <td>Married-civ-spouse</td>\n",
              "      <td>Prof-specialty</td>\n",
              "      <td>Wife</td>\n",
              "      <td>Black</td>\n",
              "      <td>Female</td>\n",
              "      <td>0</td>\n",
              "      <td>0</td>\n",
              "      <td>40</td>\n",
              "      <td>Cuba</td>\n",
              "      <td>&lt;=50K</td>\n",
              "    </tr>\n",
              "    <tr>\n",
              "      <th>4</th>\n",
              "      <td>37</td>\n",
              "      <td>Private</td>\n",
              "      <td>284582</td>\n",
              "      <td>Masters</td>\n",
              "      <td>14</td>\n",
              "      <td>Married-civ-spouse</td>\n",
              "      <td>Exec-managerial</td>\n",
              "      <td>Wife</td>\n",
              "      <td>White</td>\n",
              "      <td>Female</td>\n",
              "      <td>0</td>\n",
              "      <td>0</td>\n",
              "      <td>40</td>\n",
              "      <td>United-States</td>\n",
              "      <td>&lt;=50K</td>\n",
              "    </tr>\n",
              "  </tbody>\n",
              "</table>\n",
              "</div>"
            ],
            "text/plain": [
              "   age          workclass  fnlwgt  ... hours-per-week  native-country  salary\n",
              "0   50   Self-emp-not-inc   83311  ...             13   United-States   <=50K\n",
              "1   38            Private  215646  ...             40   United-States   <=50K\n",
              "2   53            Private  234721  ...             40   United-States   <=50K\n",
              "3   28            Private  338409  ...             40            Cuba   <=50K\n",
              "4   37            Private  284582  ...             40   United-States   <=50K\n",
              "\n",
              "[5 rows x 15 columns]"
            ]
          },
          "metadata": {
            "tags": []
          },
          "execution_count": 9
        }
      ],
      "metadata": {
        "id": "TZx78TWWvIAS",
        "colab": {
          "base_uri": "https://localhost:8080/",
          "height": 306
        },
        "outputId": "682f9b1d-c0a8-4d81-a937-65a226f77967"
      }
    },
    {
      "cell_type": "code",
      "execution_count": null,
      "source": [
        "# видим, что пиропущенных значений нет\n",
        "df.notnull().describe()"
      ],
      "outputs": [
        {
          "output_type": "execute_result",
          "data": {
            "text/html": [
              "<div>\n",
              "<style scoped>\n",
              "    .dataframe tbody tr th:only-of-type {\n",
              "        vertical-align: middle;\n",
              "    }\n",
              "\n",
              "    .dataframe tbody tr th {\n",
              "        vertical-align: top;\n",
              "    }\n",
              "\n",
              "    .dataframe thead th {\n",
              "        text-align: right;\n",
              "    }\n",
              "</style>\n",
              "<table border=\"1\" class=\"dataframe\">\n",
              "  <thead>\n",
              "    <tr style=\"text-align: right;\">\n",
              "      <th></th>\n",
              "      <th>age</th>\n",
              "      <th>workclass</th>\n",
              "      <th>fnlwgt</th>\n",
              "      <th>education</th>\n",
              "      <th>educ-num</th>\n",
              "      <th>marital-status</th>\n",
              "      <th>occupation</th>\n",
              "      <th>relationship</th>\n",
              "      <th>race</th>\n",
              "      <th>sex</th>\n",
              "      <th>capital-gain</th>\n",
              "      <th>capital-loss</th>\n",
              "      <th>hours-per-week</th>\n",
              "      <th>native-country</th>\n",
              "      <th>salary</th>\n",
              "    </tr>\n",
              "  </thead>\n",
              "  <tbody>\n",
              "    <tr>\n",
              "      <th>count</th>\n",
              "      <td>32560</td>\n",
              "      <td>32560</td>\n",
              "      <td>32560</td>\n",
              "      <td>32560</td>\n",
              "      <td>32560</td>\n",
              "      <td>32560</td>\n",
              "      <td>32560</td>\n",
              "      <td>32560</td>\n",
              "      <td>32560</td>\n",
              "      <td>32560</td>\n",
              "      <td>32560</td>\n",
              "      <td>32560</td>\n",
              "      <td>32560</td>\n",
              "      <td>32560</td>\n",
              "      <td>32560</td>\n",
              "    </tr>\n",
              "    <tr>\n",
              "      <th>unique</th>\n",
              "      <td>1</td>\n",
              "      <td>1</td>\n",
              "      <td>1</td>\n",
              "      <td>1</td>\n",
              "      <td>1</td>\n",
              "      <td>1</td>\n",
              "      <td>1</td>\n",
              "      <td>1</td>\n",
              "      <td>1</td>\n",
              "      <td>1</td>\n",
              "      <td>1</td>\n",
              "      <td>1</td>\n",
              "      <td>1</td>\n",
              "      <td>1</td>\n",
              "      <td>1</td>\n",
              "    </tr>\n",
              "    <tr>\n",
              "      <th>top</th>\n",
              "      <td>True</td>\n",
              "      <td>True</td>\n",
              "      <td>True</td>\n",
              "      <td>True</td>\n",
              "      <td>True</td>\n",
              "      <td>True</td>\n",
              "      <td>True</td>\n",
              "      <td>True</td>\n",
              "      <td>True</td>\n",
              "      <td>True</td>\n",
              "      <td>True</td>\n",
              "      <td>True</td>\n",
              "      <td>True</td>\n",
              "      <td>True</td>\n",
              "      <td>True</td>\n",
              "    </tr>\n",
              "    <tr>\n",
              "      <th>freq</th>\n",
              "      <td>32560</td>\n",
              "      <td>32560</td>\n",
              "      <td>32560</td>\n",
              "      <td>32560</td>\n",
              "      <td>32560</td>\n",
              "      <td>32560</td>\n",
              "      <td>32560</td>\n",
              "      <td>32560</td>\n",
              "      <td>32560</td>\n",
              "      <td>32560</td>\n",
              "      <td>32560</td>\n",
              "      <td>32560</td>\n",
              "      <td>32560</td>\n",
              "      <td>32560</td>\n",
              "      <td>32560</td>\n",
              "    </tr>\n",
              "  </tbody>\n",
              "</table>\n",
              "</div>"
            ],
            "text/plain": [
              "          age workclass fnlwgt  ... hours-per-week native-country salary\n",
              "count   32560     32560  32560  ...          32560          32560  32560\n",
              "unique      1         1      1  ...              1              1      1\n",
              "top      True      True   True  ...           True           True   True\n",
              "freq    32560     32560  32560  ...          32560          32560  32560\n",
              "\n",
              "[4 rows x 15 columns]"
            ]
          },
          "metadata": {
            "tags": []
          },
          "execution_count": 11
        }
      ],
      "metadata": {
        "id": "ZJlDgmkZvNsj",
        "colab": {
          "base_uri": "https://localhost:8080/",
          "height": 188
        },
        "outputId": "51d2112f-3a90-4188-b0ad-b53c3012a787"
      }
    },
    {
      "cell_type": "code",
      "execution_count": null,
      "source": [
        "# проверим, зананим одну строчку\n",
        "df['education'][0] = np.NaN"
      ],
      "outputs": [
        {
          "output_type": "stream",
          "name": "stderr",
          "text": [
            "/usr/local/lib/python3.6/dist-packages/ipykernel_launcher.py:2: SettingWithCopyWarning: \n",
            "A value is trying to be set on a copy of a slice from a DataFrame\n",
            "\n",
            "See the caveats in the documentation: https://pandas.pydata.org/pandas-docs/stable/user_guide/indexing.html#returning-a-view-versus-a-copy\n",
            "  \n"
          ]
        }
      ],
      "metadata": {
        "id": "WcWyeJXGvQSy",
        "colab": {
          "base_uri": "https://localhost:8080/",
          "height": 105
        },
        "outputId": "6dcf118d-491d-4111-dc72-ac9bd0ab3b70"
      }
    },
    {
      "cell_type": "code",
      "execution_count": null,
      "source": [
        "df.notnull().describe()"
      ],
      "outputs": [
        {
          "output_type": "execute_result",
          "data": {
            "text/html": [
              "<div>\n",
              "<style scoped>\n",
              "    .dataframe tbody tr th:only-of-type {\n",
              "        vertical-align: middle;\n",
              "    }\n",
              "\n",
              "    .dataframe tbody tr th {\n",
              "        vertical-align: top;\n",
              "    }\n",
              "\n",
              "    .dataframe thead th {\n",
              "        text-align: right;\n",
              "    }\n",
              "</style>\n",
              "<table border=\"1\" class=\"dataframe\">\n",
              "  <thead>\n",
              "    <tr style=\"text-align: right;\">\n",
              "      <th></th>\n",
              "      <th>age</th>\n",
              "      <th>workclass</th>\n",
              "      <th>fnlwgt</th>\n",
              "      <th>education</th>\n",
              "      <th>educ-num</th>\n",
              "      <th>marital-status</th>\n",
              "      <th>occupation</th>\n",
              "      <th>relationship</th>\n",
              "      <th>race</th>\n",
              "      <th>sex</th>\n",
              "      <th>capital-gain</th>\n",
              "      <th>capital-loss</th>\n",
              "      <th>hours-per-week</th>\n",
              "      <th>native-country</th>\n",
              "      <th>salary</th>\n",
              "    </tr>\n",
              "  </thead>\n",
              "  <tbody>\n",
              "    <tr>\n",
              "      <th>count</th>\n",
              "      <td>32560</td>\n",
              "      <td>32560</td>\n",
              "      <td>32560</td>\n",
              "      <td>32560</td>\n",
              "      <td>32560</td>\n",
              "      <td>32560</td>\n",
              "      <td>32560</td>\n",
              "      <td>32560</td>\n",
              "      <td>32560</td>\n",
              "      <td>32560</td>\n",
              "      <td>32560</td>\n",
              "      <td>32560</td>\n",
              "      <td>32560</td>\n",
              "      <td>32560</td>\n",
              "      <td>32560</td>\n",
              "    </tr>\n",
              "    <tr>\n",
              "      <th>unique</th>\n",
              "      <td>1</td>\n",
              "      <td>1</td>\n",
              "      <td>1</td>\n",
              "      <td>2</td>\n",
              "      <td>1</td>\n",
              "      <td>1</td>\n",
              "      <td>1</td>\n",
              "      <td>1</td>\n",
              "      <td>1</td>\n",
              "      <td>1</td>\n",
              "      <td>1</td>\n",
              "      <td>1</td>\n",
              "      <td>1</td>\n",
              "      <td>1</td>\n",
              "      <td>1</td>\n",
              "    </tr>\n",
              "    <tr>\n",
              "      <th>top</th>\n",
              "      <td>True</td>\n",
              "      <td>True</td>\n",
              "      <td>True</td>\n",
              "      <td>True</td>\n",
              "      <td>True</td>\n",
              "      <td>True</td>\n",
              "      <td>True</td>\n",
              "      <td>True</td>\n",
              "      <td>True</td>\n",
              "      <td>True</td>\n",
              "      <td>True</td>\n",
              "      <td>True</td>\n",
              "      <td>True</td>\n",
              "      <td>True</td>\n",
              "      <td>True</td>\n",
              "    </tr>\n",
              "    <tr>\n",
              "      <th>freq</th>\n",
              "      <td>32560</td>\n",
              "      <td>32560</td>\n",
              "      <td>32560</td>\n",
              "      <td>32559</td>\n",
              "      <td>32560</td>\n",
              "      <td>32560</td>\n",
              "      <td>32560</td>\n",
              "      <td>32560</td>\n",
              "      <td>32560</td>\n",
              "      <td>32560</td>\n",
              "      <td>32560</td>\n",
              "      <td>32560</td>\n",
              "      <td>32560</td>\n",
              "      <td>32560</td>\n",
              "      <td>32560</td>\n",
              "    </tr>\n",
              "  </tbody>\n",
              "</table>\n",
              "</div>"
            ],
            "text/plain": [
              "          age workclass fnlwgt  ... hours-per-week native-country salary\n",
              "count   32560     32560  32560  ...          32560          32560  32560\n",
              "unique      1         1      1  ...              1              1      1\n",
              "top      True      True   True  ...           True           True   True\n",
              "freq    32560     32560  32560  ...          32560          32560  32560\n",
              "\n",
              "[4 rows x 15 columns]"
            ]
          },
          "metadata": {
            "tags": []
          },
          "execution_count": 13
        }
      ],
      "metadata": {
        "id": "Js6vqnm5vReU",
        "colab": {
          "base_uri": "https://localhost:8080/",
          "height": 172
        },
        "outputId": "3171f8fa-f76e-4e06-b6d5-967f3713f977"
      }
    },
    {
      "cell_type": "code",
      "execution_count": null,
      "source": [
        "df['education'][0] = ' Bachelors'"
      ],
      "outputs": [
        {
          "output_type": "stream",
          "name": "stderr",
          "text": [
            "/usr/local/lib/python3.6/dist-packages/ipykernel_launcher.py:1: SettingWithCopyWarning: \n",
            "A value is trying to be set on a copy of a slice from a DataFrame\n",
            "\n",
            "See the caveats in the documentation: https://pandas.pydata.org/pandas-docs/stable/user_guide/indexing.html#returning-a-view-versus-a-copy\n",
            "  \"\"\"Entry point for launching an IPython kernel.\n"
          ]
        }
      ],
      "metadata": {
        "id": "dJPNK74SvS6S",
        "colab": {
          "base_uri": "https://localhost:8080/",
          "height": 105
        },
        "outputId": "890886a3-6412-4ead-9a9e-e207532914fa"
      }
    },
    {
      "cell_type": "markdown",
      "source": [
        "### Кодировка данных"
      ],
      "metadata": {
        "id": "uxVdpFptvVXT"
      }
    },
    {
      "cell_type": "markdown",
      "source": [
        "### Нахождение нужных типов данных\n",
        "\n",
        "Посмотрим на типы данных наших столбцов"
      ],
      "metadata": {
        "id": "pNTjB0nIvXeX"
      }
    },
    {
      "cell_type": "code",
      "execution_count": null,
      "source": [
        "df.dtypes"
      ],
      "outputs": [
        {
          "output_type": "execute_result",
          "data": {
            "text/plain": [
              "age                int64\n",
              "workclass         object\n",
              "fnlwgt             int64\n",
              "education         object\n",
              "educ-num           int64\n",
              "marital-status    object\n",
              "occupation        object\n",
              "relationship      object\n",
              "race              object\n",
              "sex               object\n",
              "capital-gain       int64\n",
              "capital-loss       int64\n",
              "hours-per-week     int64\n",
              "native-country    object\n",
              "salary            object\n",
              "dtype: object"
            ]
          },
          "metadata": {
            "tags": []
          },
          "execution_count": 15
        }
      ],
      "metadata": {
        "id": "slzXysavvV9V",
        "colab": {
          "base_uri": "https://localhost:8080/",
          "height": 298
        },
        "outputId": "9bea5935-6441-4f06-831c-6025b791f3ee"
      }
    },
    {
      "cell_type": "code",
      "execution_count": null,
      "source": [
        "# найдем те колонки, у которых тип данных - строка\n",
        "df.dtypes == object"
      ],
      "outputs": [
        {
          "output_type": "execute_result",
          "data": {
            "text/plain": [
              "age               False\n",
              "workclass          True\n",
              "fnlwgt            False\n",
              "education          True\n",
              "educ-num          False\n",
              "marital-status     True\n",
              "occupation         True\n",
              "relationship       True\n",
              "race               True\n",
              "sex                True\n",
              "capital-gain      False\n",
              "capital-loss      False\n",
              "hours-per-week    False\n",
              "native-country     True\n",
              "salary             True\n",
              "dtype: bool"
            ]
          },
          "metadata": {
            "tags": []
          },
          "execution_count": 16
        }
      ],
      "metadata": {
        "id": "Tmr6QHSZvb7I",
        "colab": {
          "base_uri": "https://localhost:8080/",
          "height": 298
        },
        "outputId": "fa1f89f2-de5b-447d-8e84-71e7ea4808f6"
      }
    },
    {
      "cell_type": "code",
      "execution_count": null,
      "source": [
        "# отсортируем только строчные\n",
        "df.dtypes[df.dtypes == object]"
      ],
      "outputs": [
        {
          "output_type": "execute_result",
          "data": {
            "text/plain": [
              "workclass         object\n",
              "education         object\n",
              "marital-status    object\n",
              "occupation        object\n",
              "relationship      object\n",
              "race              object\n",
              "sex               object\n",
              "native-country    object\n",
              "salary            object\n",
              "dtype: object"
            ]
          },
          "metadata": {
            "tags": []
          },
          "execution_count": 17
        }
      ],
      "metadata": {
        "id": "TPoH7vjwvduI",
        "colab": {
          "base_uri": "https://localhost:8080/",
          "height": 193
        },
        "outputId": "a0a132f7-a9d5-4929-f5b0-bbe0b304b318"
      }
    },
    {
      "cell_type": "code",
      "execution_count": null,
      "source": [
        "# отсортируем только строчные\n",
        "df.dtypes[df.dtypes == object]"
      ],
      "outputs": [
        {
          "output_type": "execute_result",
          "data": {
            "text/plain": [
              "workclass         object\n",
              "education         object\n",
              "marital-status    object\n",
              "occupation        object\n",
              "relationship      object\n",
              "race              object\n",
              "sex               object\n",
              "native-country    object\n",
              "salary            object\n",
              "dtype: object"
            ]
          },
          "metadata": {
            "tags": []
          },
          "execution_count": 18
        }
      ],
      "metadata": {
        "id": "xhEVB8f-vpb-",
        "colab": {
          "base_uri": "https://localhost:8080/",
          "height": 193
        },
        "outputId": "9f3a3dcd-a4c1-4768-d50d-4729c5a9b004"
      }
    },
    {
      "cell_type": "code",
      "execution_count": null,
      "source": [
        "# найдем их названия\n",
        "df.dtypes[df.dtypes == object].index"
      ],
      "outputs": [
        {
          "output_type": "execute_result",
          "data": {
            "text/plain": [
              "Index(['workclass', 'education', 'marital-status', 'occupation',\n",
              "       'relationship', 'race', 'sex', 'native-country', 'salary'],\n",
              "      dtype='object')"
            ]
          },
          "metadata": {
            "tags": []
          },
          "execution_count": 19
        }
      ],
      "metadata": {
        "id": "Cefgpg4AvsaP",
        "colab": {
          "base_uri": "https://localhost:8080/",
          "height": 70
        },
        "outputId": "097f8c31-810e-4b2b-e9b8-6791c9815f4b"
      }
    },
    {
      "cell_type": "code",
      "execution_count": null,
      "source": [
        "# Используем их для отображения датасета\n",
        "\n",
        "df[list( df.dtypes[df.dtypes == object].index )]"
      ],
      "outputs": [
        {
          "output_type": "execute_result",
          "data": {
            "text/html": [
              "<div>\n",
              "<style scoped>\n",
              "    .dataframe tbody tr th:only-of-type {\n",
              "        vertical-align: middle;\n",
              "    }\n",
              "\n",
              "    .dataframe tbody tr th {\n",
              "        vertical-align: top;\n",
              "    }\n",
              "\n",
              "    .dataframe thead th {\n",
              "        text-align: right;\n",
              "    }\n",
              "</style>\n",
              "<table border=\"1\" class=\"dataframe\">\n",
              "  <thead>\n",
              "    <tr style=\"text-align: right;\">\n",
              "      <th></th>\n",
              "      <th>workclass</th>\n",
              "      <th>education</th>\n",
              "      <th>marital-status</th>\n",
              "      <th>occupation</th>\n",
              "      <th>relationship</th>\n",
              "      <th>race</th>\n",
              "      <th>sex</th>\n",
              "      <th>native-country</th>\n",
              "      <th>salary</th>\n",
              "    </tr>\n",
              "  </thead>\n",
              "  <tbody>\n",
              "    <tr>\n",
              "      <th>0</th>\n",
              "      <td>Self-emp-not-inc</td>\n",
              "      <td>Bachelors</td>\n",
              "      <td>Married-civ-spouse</td>\n",
              "      <td>Exec-managerial</td>\n",
              "      <td>Husband</td>\n",
              "      <td>White</td>\n",
              "      <td>Male</td>\n",
              "      <td>United-States</td>\n",
              "      <td>&lt;=50K</td>\n",
              "    </tr>\n",
              "    <tr>\n",
              "      <th>1</th>\n",
              "      <td>Private</td>\n",
              "      <td>HS-grad</td>\n",
              "      <td>Divorced</td>\n",
              "      <td>Handlers-cleaners</td>\n",
              "      <td>Not-in-family</td>\n",
              "      <td>White</td>\n",
              "      <td>Male</td>\n",
              "      <td>United-States</td>\n",
              "      <td>&lt;=50K</td>\n",
              "    </tr>\n",
              "    <tr>\n",
              "      <th>2</th>\n",
              "      <td>Private</td>\n",
              "      <td>11th</td>\n",
              "      <td>Married-civ-spouse</td>\n",
              "      <td>Handlers-cleaners</td>\n",
              "      <td>Husband</td>\n",
              "      <td>Black</td>\n",
              "      <td>Male</td>\n",
              "      <td>United-States</td>\n",
              "      <td>&lt;=50K</td>\n",
              "    </tr>\n",
              "    <tr>\n",
              "      <th>3</th>\n",
              "      <td>Private</td>\n",
              "      <td>Bachelors</td>\n",
              "      <td>Married-civ-spouse</td>\n",
              "      <td>Prof-specialty</td>\n",
              "      <td>Wife</td>\n",
              "      <td>Black</td>\n",
              "      <td>Female</td>\n",
              "      <td>Cuba</td>\n",
              "      <td>&lt;=50K</td>\n",
              "    </tr>\n",
              "    <tr>\n",
              "      <th>4</th>\n",
              "      <td>Private</td>\n",
              "      <td>Masters</td>\n",
              "      <td>Married-civ-spouse</td>\n",
              "      <td>Exec-managerial</td>\n",
              "      <td>Wife</td>\n",
              "      <td>White</td>\n",
              "      <td>Female</td>\n",
              "      <td>United-States</td>\n",
              "      <td>&lt;=50K</td>\n",
              "    </tr>\n",
              "    <tr>\n",
              "      <th>...</th>\n",
              "      <td>...</td>\n",
              "      <td>...</td>\n",
              "      <td>...</td>\n",
              "      <td>...</td>\n",
              "      <td>...</td>\n",
              "      <td>...</td>\n",
              "      <td>...</td>\n",
              "      <td>...</td>\n",
              "      <td>...</td>\n",
              "    </tr>\n",
              "    <tr>\n",
              "      <th>32555</th>\n",
              "      <td>Private</td>\n",
              "      <td>Assoc-acdm</td>\n",
              "      <td>Married-civ-spouse</td>\n",
              "      <td>Tech-support</td>\n",
              "      <td>Wife</td>\n",
              "      <td>White</td>\n",
              "      <td>Female</td>\n",
              "      <td>United-States</td>\n",
              "      <td>&lt;=50K</td>\n",
              "    </tr>\n",
              "    <tr>\n",
              "      <th>32556</th>\n",
              "      <td>Private</td>\n",
              "      <td>HS-grad</td>\n",
              "      <td>Married-civ-spouse</td>\n",
              "      <td>Machine-op-inspct</td>\n",
              "      <td>Husband</td>\n",
              "      <td>White</td>\n",
              "      <td>Male</td>\n",
              "      <td>United-States</td>\n",
              "      <td>&gt;50K</td>\n",
              "    </tr>\n",
              "    <tr>\n",
              "      <th>32557</th>\n",
              "      <td>Private</td>\n",
              "      <td>HS-grad</td>\n",
              "      <td>Widowed</td>\n",
              "      <td>Adm-clerical</td>\n",
              "      <td>Unmarried</td>\n",
              "      <td>White</td>\n",
              "      <td>Female</td>\n",
              "      <td>United-States</td>\n",
              "      <td>&lt;=50K</td>\n",
              "    </tr>\n",
              "    <tr>\n",
              "      <th>32558</th>\n",
              "      <td>Private</td>\n",
              "      <td>HS-grad</td>\n",
              "      <td>Never-married</td>\n",
              "      <td>Adm-clerical</td>\n",
              "      <td>Own-child</td>\n",
              "      <td>White</td>\n",
              "      <td>Male</td>\n",
              "      <td>United-States</td>\n",
              "      <td>&lt;=50K</td>\n",
              "    </tr>\n",
              "    <tr>\n",
              "      <th>32559</th>\n",
              "      <td>Self-emp-inc</td>\n",
              "      <td>HS-grad</td>\n",
              "      <td>Married-civ-spouse</td>\n",
              "      <td>Exec-managerial</td>\n",
              "      <td>Wife</td>\n",
              "      <td>White</td>\n",
              "      <td>Female</td>\n",
              "      <td>United-States</td>\n",
              "      <td>&gt;50K</td>\n",
              "    </tr>\n",
              "  </tbody>\n",
              "</table>\n",
              "<p>32560 rows × 9 columns</p>\n",
              "</div>"
            ],
            "text/plain": [
              "               workclass    education  ...  native-country  salary\n",
              "0       Self-emp-not-inc    Bachelors  ...   United-States   <=50K\n",
              "1                Private      HS-grad  ...   United-States   <=50K\n",
              "2                Private         11th  ...   United-States   <=50K\n",
              "3                Private    Bachelors  ...            Cuba   <=50K\n",
              "4                Private      Masters  ...   United-States   <=50K\n",
              "...                  ...          ...  ...             ...     ...\n",
              "32555            Private   Assoc-acdm  ...   United-States   <=50K\n",
              "32556            Private      HS-grad  ...   United-States    >50K\n",
              "32557            Private      HS-grad  ...   United-States   <=50K\n",
              "32558            Private      HS-grad  ...   United-States   <=50K\n",
              "32559       Self-emp-inc      HS-grad  ...   United-States    >50K\n",
              "\n",
              "[32560 rows x 9 columns]"
            ]
          },
          "metadata": {
            "tags": []
          },
          "execution_count": 20
        }
      ],
      "metadata": {
        "id": "Jb7F3ejXvtyF",
        "colab": {
          "base_uri": "https://localhost:8080/",
          "height": 417
        },
        "outputId": "f51c95d9-2fed-4008-c14f-3666d135f51b"
      }
    },
    {
      "cell_type": "markdown",
      "source": [
        "### Нахождение уникальных записей"
      ],
      "metadata": {
        "id": "mkcMbfkfvwQH"
      }
    },
    {
      "cell_type": "code",
      "execution_count": null,
      "source": [
        "# найдем все уникальные записи в одной из колонок\n",
        "set(df['workclass'])"
      ],
      "outputs": [
        {
          "output_type": "execute_result",
          "data": {
            "text/plain": [
              "{' ?',\n",
              " ' Federal-gov',\n",
              " ' Local-gov',\n",
              " ' Never-worked',\n",
              " ' Private',\n",
              " ' Self-emp-inc',\n",
              " ' Self-emp-not-inc',\n",
              " ' State-gov',\n",
              " ' Without-pay'}"
            ]
          },
          "metadata": {
            "tags": []
          },
          "execution_count": 21
        }
      ],
      "metadata": {
        "id": "TWVdQ1r-vw9b",
        "colab": {
          "base_uri": "https://localhost:8080/",
          "height": 175
        },
        "outputId": "c0481e7c-8e29-4679-e76f-78e50e249c39"
      }
    },
    {
      "cell_type": "markdown",
      "source": [
        "Реализуем функцию, которая каждый текстовый элемент набора данных кодировала бы уникальникальным числом. Таким образом на выходе у Вас должен быть словарь кодировщиков, который, при нужде, переведет все закодированные значения обратно в текст + сам закодированный датасет.\n",
        "\n",
        "Аналогично реализовать функцию, которая совершала бы обратную операцию декодирования.\n",
        "\n",
        "Так же нужно создать отдельную функцию, которая бы кодировала датасет с учетом ктодирвок. Это можнт понадобиться в ситуации, когда нужно закодировать новые данные в соответсвии со старым форматом (на котором обучались алгоритмы)."
      ],
      "metadata": {
        "id": "S0l6nXGzv0Bf"
      }
    },
    {
      "cell_type": "markdown",
      "source": [
        "Таким образом набор значения \n",
        "\n",
        "```\n",
        "{\n",
        " ' ?',\n",
        " ' Federal-gov',\n",
        " ' Local-gov',\n",
        " ' Never-worked',\n",
        " ' Private',\n",
        " ' Self-emp-inc',\n",
        " ' Self-emp-not-inc',\n",
        " ' State-gov',\n",
        " ' Without-pay'}\n",
        "```\n",
        "\n",
        " перейдут в\n",
        "\n",
        "\n",
        "```\n",
        "{\n",
        " 1,\n",
        " 2,\n",
        " 3,\n",
        " 4,\n",
        " 5,\n",
        " 6,\n",
        " 7,\n",
        " 8,\n",
        " 9}\n",
        "```\n",
        "\n",
        "А если встречается новое слово, которого нет в изначальном наборе, а нужно закодировать в старом формате - ставим 0."
      ],
      "metadata": {
        "id": "LFk9v61uv1S6"
      }
    },
    {
      "cell_type": "markdown",
      "source": [
        "Давайте посмотрим на одну колонку, чтоб понимать, что мы хотим получить:"
      ],
      "metadata": {
        "id": "yGSNOxhJv3OR"
      }
    },
    {
      "cell_type": "code",
      "execution_count": null,
      "source": [
        "for i, n in enumerate(set(df['workclass'])):\n",
        "    print(f'Чем кодируем {i+1}, что кодируем: {n} ')"
      ],
      "outputs": [
        {
          "output_type": "stream",
          "name": "stdout",
          "text": [
            "Чем кодируем 1, что кодируем:  State-gov \n",
            "Чем кодируем 2, что кодируем:  Federal-gov \n",
            "Чем кодируем 3, что кодируем:  Local-gov \n",
            "Чем кодируем 4, что кодируем:  Without-pay \n",
            "Чем кодируем 5, что кодируем:  Never-worked \n",
            "Чем кодируем 6, что кодируем:  ? \n",
            "Чем кодируем 7, что кодируем:  Self-emp-not-inc \n",
            "Чем кодируем 8, что кодируем:  Private \n",
            "Чем кодируем 9, что кодируем:  Self-emp-inc \n"
          ]
        }
      ],
      "metadata": {
        "id": "P7FK4Bf0v4zR",
        "colab": {
          "base_uri": "https://localhost:8080/",
          "height": 175
        },
        "outputId": "fbdb1f0a-c1b3-45ab-882a-cc3d4860ab02"
      }
    },
    {
      "cell_type": "code",
      "execution_count": null,
      "source": [
        "# создаем генератор словаря,\n",
        "# ключ - то, что кодируем (слово)\n",
        "# значение - то, чем кодируем (уникальная цифра)\n",
        "# пройдемся по нашим уникальным значениям через enumerate (распаковывая индекс и слово)\n",
        "encoder = {word:index + 1 for index, word in enumerate(set(df['workclass']))}\n",
        "\n",
        "print(encoder, end = '\\n')\n",
        "for elem in encoder:\n",
        "    print(elem, encoder[elem])\n",
        "\n",
        "print()\n",
        "\n",
        "# в pandas есть функция map, которая сама заменит каждое слово по выданному словарю\n",
        "print('Посмотрим на результат применения к копии первого столбца:')\n",
        "df['workclass'].copy().map(encoder)"
      ],
      "outputs": [
        {
          "output_type": "stream",
          "name": "stdout",
          "text": [
            "{' State-gov': 1, ' Federal-gov': 2, ' Local-gov': 3, ' Without-pay': 4, ' Never-worked': 5, ' ?': 6, ' Self-emp-not-inc': 7, ' Private': 8, ' Self-emp-inc': 9}\n",
            " State-gov 1\n",
            " Federal-gov 2\n",
            " Local-gov 3\n",
            " Without-pay 4\n",
            " Never-worked 5\n",
            " ? 6\n",
            " Self-emp-not-inc 7\n",
            " Private 8\n",
            " Self-emp-inc 9\n",
            "\n",
            "Посмотрим на результат применения к копии первого столбца:\n"
          ]
        },
        {
          "output_type": "execute_result",
          "data": {
            "text/plain": [
              "0        7\n",
              "1        8\n",
              "2        8\n",
              "3        8\n",
              "4        8\n",
              "        ..\n",
              "32555    8\n",
              "32556    8\n",
              "32557    8\n",
              "32558    8\n",
              "32559    9\n",
              "Name: workclass, Length: 32560, dtype: int64"
            ]
          },
          "metadata": {
            "tags": []
          },
          "execution_count": 23
        }
      ],
      "metadata": {
        "id": "ynF9GxAmv6Ud",
        "colab": {
          "base_uri": "https://localhost:8080/",
          "height": 439
        },
        "outputId": "25fbe74e-1c76-4b77-e17d-f90cd66394cc"
      }
    },
    {
      "cell_type": "markdown",
      "source": [
        "Теперь объединим это все в одну функцию кодировки для каждой колонки с текстовым типом данных:"
      ],
      "metadata": {
        "id": "DfOhtNadv7px"
      }
    },
    {
      "cell_type": "code",
      "execution_count": null,
      "source": [
        "# Напишем функцию, которая принимает на вход DataFrame, кодирует числовыми значениями категориальные признаки\n",
        "# и возвращает обновленный DataFrame и сами кодировщики.\n",
        "def number_encode_features(init_df):\n",
        "    result = init_df.copy() # копируем нашу исходную таблицу\n",
        "    encoders = {} # создаем словарь кодировщиков (пары название столбца:кодировщик)\n",
        "    # проходимся по названиям колонок\n",
        "    for column in result.columns:\n",
        "        # если тип данных текущей колонки в цикле строковый, то\n",
        "        if result.dtypes[column] == np.object: # np.object -- строковый тип / если тип столбца - строка, то нужно его закодировать\n",
        "            # находим уникальные значения в столбце\n",
        "            uniqe_vals = set(result[column])\n",
        "            # создаем словарь из значений (по примеру выше)\n",
        "            coder = {word:index + 1 for index, word in enumerate(uniqe_vals)}\n",
        "            # записываем результат (кодировщик) в словарь кодировщиков\n",
        "            encoders[column] = coder\n",
        "            result[column] = result[column].map(encoders[column])\n",
        "\n",
        "    return result, encoders"
      ],
      "outputs": [],
      "metadata": {
        "id": "7Q4ZskSTv8xd"
      }
    },
    {
      "cell_type": "code",
      "execution_count": null,
      "source": [
        "df_encoded, encoders = number_encode_features(df)"
      ],
      "outputs": [],
      "metadata": {
        "id": "L5EAs1DAv97t"
      }
    },
    {
      "cell_type": "code",
      "execution_count": null,
      "source": [
        "# отобразим encoders\n",
        "encoders['education']"
      ],
      "outputs": [
        {
          "output_type": "execute_result",
          "data": {
            "text/plain": [
              "{' 10th': 10,\n",
              " ' 11th': 9,\n",
              " ' 12th': 3,\n",
              " ' 1st-4th': 11,\n",
              " ' 5th-6th': 16,\n",
              " ' 7th-8th': 2,\n",
              " ' 9th': 8,\n",
              " ' Assoc-acdm': 4,\n",
              " ' Assoc-voc': 6,\n",
              " ' Bachelors': 14,\n",
              " ' Doctorate': 13,\n",
              " ' HS-grad': 5,\n",
              " ' Masters': 15,\n",
              " ' Preschool': 12,\n",
              " ' Prof-school': 7,\n",
              " ' Some-college': 1}"
            ]
          },
          "metadata": {
            "tags": []
          },
          "execution_count": 26
        }
      ],
      "metadata": {
        "id": "0NXMvmk_v_Py",
        "colab": {
          "base_uri": "https://localhost:8080/",
          "height": 298
        },
        "outputId": "926c6d23-1557-4ddc-9911-55a41168223e"
      }
    },
    {
      "cell_type": "code",
      "execution_count": null,
      "source": [
        "# и закодированные данные\n",
        "df_encoded"
      ],
      "outputs": [
        {
          "output_type": "execute_result",
          "data": {
            "text/html": [
              "<div>\n",
              "<style scoped>\n",
              "    .dataframe tbody tr th:only-of-type {\n",
              "        vertical-align: middle;\n",
              "    }\n",
              "\n",
              "    .dataframe tbody tr th {\n",
              "        vertical-align: top;\n",
              "    }\n",
              "\n",
              "    .dataframe thead th {\n",
              "        text-align: right;\n",
              "    }\n",
              "</style>\n",
              "<table border=\"1\" class=\"dataframe\">\n",
              "  <thead>\n",
              "    <tr style=\"text-align: right;\">\n",
              "      <th></th>\n",
              "      <th>age</th>\n",
              "      <th>workclass</th>\n",
              "      <th>fnlwgt</th>\n",
              "      <th>education</th>\n",
              "      <th>educ-num</th>\n",
              "      <th>marital-status</th>\n",
              "      <th>occupation</th>\n",
              "      <th>relationship</th>\n",
              "      <th>race</th>\n",
              "      <th>sex</th>\n",
              "      <th>capital-gain</th>\n",
              "      <th>capital-loss</th>\n",
              "      <th>hours-per-week</th>\n",
              "      <th>native-country</th>\n",
              "      <th>salary</th>\n",
              "    </tr>\n",
              "  </thead>\n",
              "  <tbody>\n",
              "    <tr>\n",
              "      <th>0</th>\n",
              "      <td>50</td>\n",
              "      <td>7</td>\n",
              "      <td>83311</td>\n",
              "      <td>14</td>\n",
              "      <td>13</td>\n",
              "      <td>2</td>\n",
              "      <td>3</td>\n",
              "      <td>6</td>\n",
              "      <td>5</td>\n",
              "      <td>1</td>\n",
              "      <td>0</td>\n",
              "      <td>0</td>\n",
              "      <td>13</td>\n",
              "      <td>1</td>\n",
              "      <td>2</td>\n",
              "    </tr>\n",
              "    <tr>\n",
              "      <th>1</th>\n",
              "      <td>38</td>\n",
              "      <td>8</td>\n",
              "      <td>215646</td>\n",
              "      <td>5</td>\n",
              "      <td>9</td>\n",
              "      <td>5</td>\n",
              "      <td>9</td>\n",
              "      <td>3</td>\n",
              "      <td>5</td>\n",
              "      <td>1</td>\n",
              "      <td>0</td>\n",
              "      <td>0</td>\n",
              "      <td>40</td>\n",
              "      <td>1</td>\n",
              "      <td>2</td>\n",
              "    </tr>\n",
              "    <tr>\n",
              "      <th>2</th>\n",
              "      <td>53</td>\n",
              "      <td>8</td>\n",
              "      <td>234721</td>\n",
              "      <td>9</td>\n",
              "      <td>7</td>\n",
              "      <td>2</td>\n",
              "      <td>9</td>\n",
              "      <td>6</td>\n",
              "      <td>1</td>\n",
              "      <td>1</td>\n",
              "      <td>0</td>\n",
              "      <td>0</td>\n",
              "      <td>40</td>\n",
              "      <td>1</td>\n",
              "      <td>2</td>\n",
              "    </tr>\n",
              "    <tr>\n",
              "      <th>3</th>\n",
              "      <td>28</td>\n",
              "      <td>8</td>\n",
              "      <td>338409</td>\n",
              "      <td>14</td>\n",
              "      <td>13</td>\n",
              "      <td>2</td>\n",
              "      <td>5</td>\n",
              "      <td>5</td>\n",
              "      <td>1</td>\n",
              "      <td>2</td>\n",
              "      <td>0</td>\n",
              "      <td>0</td>\n",
              "      <td>40</td>\n",
              "      <td>25</td>\n",
              "      <td>2</td>\n",
              "    </tr>\n",
              "    <tr>\n",
              "      <th>4</th>\n",
              "      <td>37</td>\n",
              "      <td>8</td>\n",
              "      <td>284582</td>\n",
              "      <td>15</td>\n",
              "      <td>14</td>\n",
              "      <td>2</td>\n",
              "      <td>3</td>\n",
              "      <td>5</td>\n",
              "      <td>5</td>\n",
              "      <td>2</td>\n",
              "      <td>0</td>\n",
              "      <td>0</td>\n",
              "      <td>40</td>\n",
              "      <td>1</td>\n",
              "      <td>2</td>\n",
              "    </tr>\n",
              "    <tr>\n",
              "      <th>...</th>\n",
              "      <td>...</td>\n",
              "      <td>...</td>\n",
              "      <td>...</td>\n",
              "      <td>...</td>\n",
              "      <td>...</td>\n",
              "      <td>...</td>\n",
              "      <td>...</td>\n",
              "      <td>...</td>\n",
              "      <td>...</td>\n",
              "      <td>...</td>\n",
              "      <td>...</td>\n",
              "      <td>...</td>\n",
              "      <td>...</td>\n",
              "      <td>...</td>\n",
              "      <td>...</td>\n",
              "    </tr>\n",
              "    <tr>\n",
              "      <th>32555</th>\n",
              "      <td>27</td>\n",
              "      <td>8</td>\n",
              "      <td>257302</td>\n",
              "      <td>4</td>\n",
              "      <td>12</td>\n",
              "      <td>2</td>\n",
              "      <td>1</td>\n",
              "      <td>5</td>\n",
              "      <td>5</td>\n",
              "      <td>2</td>\n",
              "      <td>0</td>\n",
              "      <td>0</td>\n",
              "      <td>38</td>\n",
              "      <td>1</td>\n",
              "      <td>2</td>\n",
              "    </tr>\n",
              "    <tr>\n",
              "      <th>32556</th>\n",
              "      <td>40</td>\n",
              "      <td>8</td>\n",
              "      <td>154374</td>\n",
              "      <td>5</td>\n",
              "      <td>9</td>\n",
              "      <td>2</td>\n",
              "      <td>7</td>\n",
              "      <td>6</td>\n",
              "      <td>5</td>\n",
              "      <td>1</td>\n",
              "      <td>0</td>\n",
              "      <td>0</td>\n",
              "      <td>40</td>\n",
              "      <td>1</td>\n",
              "      <td>1</td>\n",
              "    </tr>\n",
              "    <tr>\n",
              "      <th>32557</th>\n",
              "      <td>58</td>\n",
              "      <td>8</td>\n",
              "      <td>151910</td>\n",
              "      <td>5</td>\n",
              "      <td>9</td>\n",
              "      <td>3</td>\n",
              "      <td>14</td>\n",
              "      <td>2</td>\n",
              "      <td>5</td>\n",
              "      <td>2</td>\n",
              "      <td>0</td>\n",
              "      <td>0</td>\n",
              "      <td>40</td>\n",
              "      <td>1</td>\n",
              "      <td>2</td>\n",
              "    </tr>\n",
              "    <tr>\n",
              "      <th>32558</th>\n",
              "      <td>22</td>\n",
              "      <td>8</td>\n",
              "      <td>201490</td>\n",
              "      <td>5</td>\n",
              "      <td>9</td>\n",
              "      <td>4</td>\n",
              "      <td>14</td>\n",
              "      <td>1</td>\n",
              "      <td>5</td>\n",
              "      <td>1</td>\n",
              "      <td>0</td>\n",
              "      <td>0</td>\n",
              "      <td>20</td>\n",
              "      <td>1</td>\n",
              "      <td>2</td>\n",
              "    </tr>\n",
              "    <tr>\n",
              "      <th>32559</th>\n",
              "      <td>52</td>\n",
              "      <td>9</td>\n",
              "      <td>287927</td>\n",
              "      <td>5</td>\n",
              "      <td>9</td>\n",
              "      <td>2</td>\n",
              "      <td>3</td>\n",
              "      <td>5</td>\n",
              "      <td>5</td>\n",
              "      <td>2</td>\n",
              "      <td>15024</td>\n",
              "      <td>0</td>\n",
              "      <td>40</td>\n",
              "      <td>1</td>\n",
              "      <td>1</td>\n",
              "    </tr>\n",
              "  </tbody>\n",
              "</table>\n",
              "<p>32560 rows × 15 columns</p>\n",
              "</div>"
            ],
            "text/plain": [
              "       age  workclass  fnlwgt  ...  hours-per-week  native-country  salary\n",
              "0       50          7   83311  ...              13               1       2\n",
              "1       38          8  215646  ...              40               1       2\n",
              "2       53          8  234721  ...              40               1       2\n",
              "3       28          8  338409  ...              40              25       2\n",
              "4       37          8  284582  ...              40               1       2\n",
              "...    ...        ...     ...  ...             ...             ...     ...\n",
              "32555   27          8  257302  ...              38               1       2\n",
              "32556   40          8  154374  ...              40               1       1\n",
              "32557   58          8  151910  ...              40               1       2\n",
              "32558   22          8  201490  ...              20               1       2\n",
              "32559   52          9  287927  ...              40               1       1\n",
              "\n",
              "[32560 rows x 15 columns]"
            ]
          },
          "metadata": {
            "tags": []
          },
          "execution_count": 27
        }
      ],
      "metadata": {
        "id": "iIlw1cF5wAX2",
        "colab": {
          "base_uri": "https://localhost:8080/",
          "height": 417
        },
        "outputId": "73670bb3-0164-4960-ec80-f9e5932fdeb5"
      }
    },
    {
      "cell_type": "markdown",
      "source": [
        "### Декодировка датасета"
      ],
      "metadata": {
        "id": "6_DgxoObvy8G"
      }
    },
    {
      "cell_type": "markdown",
      "source": [
        "Напишем обратную функцию, которая принимает на вход закодированный датасет и набор кодировщиков"
      ],
      "metadata": {
        "id": "Sixri_DVwKSY"
      }
    },
    {
      "cell_type": "markdown",
      "source": [
        "Как и прежде, для начала, рассмотрим на примере одной колонки:"
      ],
      "metadata": {
        "id": "5MqeQl9gwQIu"
      }
    },
    {
      "cell_type": "code",
      "execution_count": null,
      "source": [
        "# возьмем копию данных\n",
        "copy = df['education'].copy()\n",
        "# закодируем\n",
        "copy = copy.map(encoders['education'])\n",
        "# heh[0] = 'test'\n",
        "# \"перевернем\" ключи и значения кодировщиков для обратной операции\n",
        "print({encoders['education'][word]: word for word in encoders['education']})\n",
        "# применим функцию для декодирования\n",
        "decoded = copy.map({encoders['education'][word]: word for word in encoders['education']})\n",
        "decoded"
      ],
      "outputs": [
        {
          "output_type": "stream",
          "name": "stdout",
          "text": [
            "{1: ' Some-college', 2: ' 7th-8th', 3: ' 12th', 4: ' Assoc-acdm', 5: ' HS-grad', 6: ' Assoc-voc', 7: ' Prof-school', 8: ' 9th', 9: ' 11th', 10: ' 10th', 11: ' 1st-4th', 12: ' Preschool', 13: ' Doctorate', 14: ' Bachelors', 15: ' Masters', 16: ' 5th-6th'}\n"
          ]
        },
        {
          "output_type": "execute_result",
          "data": {
            "text/plain": [
              "0          Bachelors\n",
              "1            HS-grad\n",
              "2               11th\n",
              "3          Bachelors\n",
              "4            Masters\n",
              "            ...     \n",
              "32555     Assoc-acdm\n",
              "32556        HS-grad\n",
              "32557        HS-grad\n",
              "32558        HS-grad\n",
              "32559        HS-grad\n",
              "Name: education, Length: 32560, dtype: object"
            ]
          },
          "metadata": {
            "tags": []
          },
          "execution_count": 28
        }
      ],
      "metadata": {
        "id": "9PZtHKGbwRNL",
        "colab": {
          "base_uri": "https://localhost:8080/",
          "height": 266
        },
        "outputId": "af82f2a9-f512-4aed-b5a9-4274ae4fb5ea"
      }
    },
    {
      "cell_type": "code",
      "execution_count": null,
      "source": [
        "# Напишем функцию, которая принимает на вход DataFrame, декодирует значения\n",
        "# и возвращает DataFrame и сами кодировщики.\n",
        "def decode_df(encoded_df, encoders):\n",
        "    # создаем копию закодированного датасета\n",
        "    decoded_df = encoded_df.copy()\n",
        "    # проходимся по названиям колонок (ключам) словаря кодировщиков\n",
        "    for column_name in encoders:\n",
        "        # выбираем колонку по названию и заменяем ее кодировщиком,\n",
        "        # в котором мы перевернули ключи и значения (для обратной операции)\n",
        "        decoded_df[column_name] = decoded_df[column_name].map(\n",
        "            {encoders[column_name][word]: word for word in encoders[column_name]})\n",
        "    return decoded_df\n",
        "\n",
        "decoded_df = decode_df(df_encoded, encoders)\n",
        "decoded_df.head()"
      ],
      "outputs": [
        {
          "output_type": "execute_result",
          "data": {
            "text/html": [
              "<div>\n",
              "<style scoped>\n",
              "    .dataframe tbody tr th:only-of-type {\n",
              "        vertical-align: middle;\n",
              "    }\n",
              "\n",
              "    .dataframe tbody tr th {\n",
              "        vertical-align: top;\n",
              "    }\n",
              "\n",
              "    .dataframe thead th {\n",
              "        text-align: right;\n",
              "    }\n",
              "</style>\n",
              "<table border=\"1\" class=\"dataframe\">\n",
              "  <thead>\n",
              "    <tr style=\"text-align: right;\">\n",
              "      <th></th>\n",
              "      <th>age</th>\n",
              "      <th>workclass</th>\n",
              "      <th>fnlwgt</th>\n",
              "      <th>education</th>\n",
              "      <th>educ-num</th>\n",
              "      <th>marital-status</th>\n",
              "      <th>occupation</th>\n",
              "      <th>relationship</th>\n",
              "      <th>race</th>\n",
              "      <th>sex</th>\n",
              "      <th>capital-gain</th>\n",
              "      <th>capital-loss</th>\n",
              "      <th>hours-per-week</th>\n",
              "      <th>native-country</th>\n",
              "      <th>salary</th>\n",
              "    </tr>\n",
              "  </thead>\n",
              "  <tbody>\n",
              "    <tr>\n",
              "      <th>0</th>\n",
              "      <td>50</td>\n",
              "      <td>Self-emp-not-inc</td>\n",
              "      <td>83311</td>\n",
              "      <td>Bachelors</td>\n",
              "      <td>13</td>\n",
              "      <td>Married-civ-spouse</td>\n",
              "      <td>Exec-managerial</td>\n",
              "      <td>Husband</td>\n",
              "      <td>White</td>\n",
              "      <td>Male</td>\n",
              "      <td>0</td>\n",
              "      <td>0</td>\n",
              "      <td>13</td>\n",
              "      <td>United-States</td>\n",
              "      <td>&lt;=50K</td>\n",
              "    </tr>\n",
              "    <tr>\n",
              "      <th>1</th>\n",
              "      <td>38</td>\n",
              "      <td>Private</td>\n",
              "      <td>215646</td>\n",
              "      <td>HS-grad</td>\n",
              "      <td>9</td>\n",
              "      <td>Divorced</td>\n",
              "      <td>Handlers-cleaners</td>\n",
              "      <td>Not-in-family</td>\n",
              "      <td>White</td>\n",
              "      <td>Male</td>\n",
              "      <td>0</td>\n",
              "      <td>0</td>\n",
              "      <td>40</td>\n",
              "      <td>United-States</td>\n",
              "      <td>&lt;=50K</td>\n",
              "    </tr>\n",
              "    <tr>\n",
              "      <th>2</th>\n",
              "      <td>53</td>\n",
              "      <td>Private</td>\n",
              "      <td>234721</td>\n",
              "      <td>11th</td>\n",
              "      <td>7</td>\n",
              "      <td>Married-civ-spouse</td>\n",
              "      <td>Handlers-cleaners</td>\n",
              "      <td>Husband</td>\n",
              "      <td>Black</td>\n",
              "      <td>Male</td>\n",
              "      <td>0</td>\n",
              "      <td>0</td>\n",
              "      <td>40</td>\n",
              "      <td>United-States</td>\n",
              "      <td>&lt;=50K</td>\n",
              "    </tr>\n",
              "    <tr>\n",
              "      <th>3</th>\n",
              "      <td>28</td>\n",
              "      <td>Private</td>\n",
              "      <td>338409</td>\n",
              "      <td>Bachelors</td>\n",
              "      <td>13</td>\n",
              "      <td>Married-civ-spouse</td>\n",
              "      <td>Prof-specialty</td>\n",
              "      <td>Wife</td>\n",
              "      <td>Black</td>\n",
              "      <td>Female</td>\n",
              "      <td>0</td>\n",
              "      <td>0</td>\n",
              "      <td>40</td>\n",
              "      <td>Cuba</td>\n",
              "      <td>&lt;=50K</td>\n",
              "    </tr>\n",
              "    <tr>\n",
              "      <th>4</th>\n",
              "      <td>37</td>\n",
              "      <td>Private</td>\n",
              "      <td>284582</td>\n",
              "      <td>Masters</td>\n",
              "      <td>14</td>\n",
              "      <td>Married-civ-spouse</td>\n",
              "      <td>Exec-managerial</td>\n",
              "      <td>Wife</td>\n",
              "      <td>White</td>\n",
              "      <td>Female</td>\n",
              "      <td>0</td>\n",
              "      <td>0</td>\n",
              "      <td>40</td>\n",
              "      <td>United-States</td>\n",
              "      <td>&lt;=50K</td>\n",
              "    </tr>\n",
              "  </tbody>\n",
              "</table>\n",
              "</div>"
            ],
            "text/plain": [
              "   age          workclass  fnlwgt  ... hours-per-week  native-country  salary\n",
              "0   50   Self-emp-not-inc   83311  ...             13   United-States   <=50K\n",
              "1   38            Private  215646  ...             40   United-States   <=50K\n",
              "2   53            Private  234721  ...             40   United-States   <=50K\n",
              "3   28            Private  338409  ...             40            Cuba   <=50K\n",
              "4   37            Private  284582  ...             40   United-States   <=50K\n",
              "\n",
              "[5 rows x 15 columns]"
            ]
          },
          "metadata": {
            "tags": []
          },
          "execution_count": 29
        }
      ],
      "metadata": {
        "id": "D-8YnaUiwSeS",
        "colab": {
          "base_uri": "https://localhost:8080/",
          "height": 203
        },
        "outputId": "29c1266b-a4f4-40c0-cce2-8bc7e74e7b68"
      }
    },
    {
      "cell_type": "code",
      "execution_count": null,
      "source": [
        "# по идее закодированны и декодированный обратно датасет - это исходный, проверим\n",
        "df == decoded_df"
      ],
      "outputs": [
        {
          "output_type": "execute_result",
          "data": {
            "text/html": [
              "<div>\n",
              "<style scoped>\n",
              "    .dataframe tbody tr th:only-of-type {\n",
              "        vertical-align: middle;\n",
              "    }\n",
              "\n",
              "    .dataframe tbody tr th {\n",
              "        vertical-align: top;\n",
              "    }\n",
              "\n",
              "    .dataframe thead th {\n",
              "        text-align: right;\n",
              "    }\n",
              "</style>\n",
              "<table border=\"1\" class=\"dataframe\">\n",
              "  <thead>\n",
              "    <tr style=\"text-align: right;\">\n",
              "      <th></th>\n",
              "      <th>age</th>\n",
              "      <th>workclass</th>\n",
              "      <th>fnlwgt</th>\n",
              "      <th>education</th>\n",
              "      <th>educ-num</th>\n",
              "      <th>marital-status</th>\n",
              "      <th>occupation</th>\n",
              "      <th>relationship</th>\n",
              "      <th>race</th>\n",
              "      <th>sex</th>\n",
              "      <th>capital-gain</th>\n",
              "      <th>capital-loss</th>\n",
              "      <th>hours-per-week</th>\n",
              "      <th>native-country</th>\n",
              "      <th>salary</th>\n",
              "    </tr>\n",
              "  </thead>\n",
              "  <tbody>\n",
              "    <tr>\n",
              "      <th>0</th>\n",
              "      <td>True</td>\n",
              "      <td>True</td>\n",
              "      <td>True</td>\n",
              "      <td>True</td>\n",
              "      <td>True</td>\n",
              "      <td>True</td>\n",
              "      <td>True</td>\n",
              "      <td>True</td>\n",
              "      <td>True</td>\n",
              "      <td>True</td>\n",
              "      <td>True</td>\n",
              "      <td>True</td>\n",
              "      <td>True</td>\n",
              "      <td>True</td>\n",
              "      <td>True</td>\n",
              "    </tr>\n",
              "    <tr>\n",
              "      <th>1</th>\n",
              "      <td>True</td>\n",
              "      <td>True</td>\n",
              "      <td>True</td>\n",
              "      <td>True</td>\n",
              "      <td>True</td>\n",
              "      <td>True</td>\n",
              "      <td>True</td>\n",
              "      <td>True</td>\n",
              "      <td>True</td>\n",
              "      <td>True</td>\n",
              "      <td>True</td>\n",
              "      <td>True</td>\n",
              "      <td>True</td>\n",
              "      <td>True</td>\n",
              "      <td>True</td>\n",
              "    </tr>\n",
              "    <tr>\n",
              "      <th>2</th>\n",
              "      <td>True</td>\n",
              "      <td>True</td>\n",
              "      <td>True</td>\n",
              "      <td>True</td>\n",
              "      <td>True</td>\n",
              "      <td>True</td>\n",
              "      <td>True</td>\n",
              "      <td>True</td>\n",
              "      <td>True</td>\n",
              "      <td>True</td>\n",
              "      <td>True</td>\n",
              "      <td>True</td>\n",
              "      <td>True</td>\n",
              "      <td>True</td>\n",
              "      <td>True</td>\n",
              "    </tr>\n",
              "    <tr>\n",
              "      <th>3</th>\n",
              "      <td>True</td>\n",
              "      <td>True</td>\n",
              "      <td>True</td>\n",
              "      <td>True</td>\n",
              "      <td>True</td>\n",
              "      <td>True</td>\n",
              "      <td>True</td>\n",
              "      <td>True</td>\n",
              "      <td>True</td>\n",
              "      <td>True</td>\n",
              "      <td>True</td>\n",
              "      <td>True</td>\n",
              "      <td>True</td>\n",
              "      <td>True</td>\n",
              "      <td>True</td>\n",
              "    </tr>\n",
              "    <tr>\n",
              "      <th>4</th>\n",
              "      <td>True</td>\n",
              "      <td>True</td>\n",
              "      <td>True</td>\n",
              "      <td>True</td>\n",
              "      <td>True</td>\n",
              "      <td>True</td>\n",
              "      <td>True</td>\n",
              "      <td>True</td>\n",
              "      <td>True</td>\n",
              "      <td>True</td>\n",
              "      <td>True</td>\n",
              "      <td>True</td>\n",
              "      <td>True</td>\n",
              "      <td>True</td>\n",
              "      <td>True</td>\n",
              "    </tr>\n",
              "    <tr>\n",
              "      <th>...</th>\n",
              "      <td>...</td>\n",
              "      <td>...</td>\n",
              "      <td>...</td>\n",
              "      <td>...</td>\n",
              "      <td>...</td>\n",
              "      <td>...</td>\n",
              "      <td>...</td>\n",
              "      <td>...</td>\n",
              "      <td>...</td>\n",
              "      <td>...</td>\n",
              "      <td>...</td>\n",
              "      <td>...</td>\n",
              "      <td>...</td>\n",
              "      <td>...</td>\n",
              "      <td>...</td>\n",
              "    </tr>\n",
              "    <tr>\n",
              "      <th>32555</th>\n",
              "      <td>True</td>\n",
              "      <td>True</td>\n",
              "      <td>True</td>\n",
              "      <td>True</td>\n",
              "      <td>True</td>\n",
              "      <td>True</td>\n",
              "      <td>True</td>\n",
              "      <td>True</td>\n",
              "      <td>True</td>\n",
              "      <td>True</td>\n",
              "      <td>True</td>\n",
              "      <td>True</td>\n",
              "      <td>True</td>\n",
              "      <td>True</td>\n",
              "      <td>True</td>\n",
              "    </tr>\n",
              "    <tr>\n",
              "      <th>32556</th>\n",
              "      <td>True</td>\n",
              "      <td>True</td>\n",
              "      <td>True</td>\n",
              "      <td>True</td>\n",
              "      <td>True</td>\n",
              "      <td>True</td>\n",
              "      <td>True</td>\n",
              "      <td>True</td>\n",
              "      <td>True</td>\n",
              "      <td>True</td>\n",
              "      <td>True</td>\n",
              "      <td>True</td>\n",
              "      <td>True</td>\n",
              "      <td>True</td>\n",
              "      <td>True</td>\n",
              "    </tr>\n",
              "    <tr>\n",
              "      <th>32557</th>\n",
              "      <td>True</td>\n",
              "      <td>True</td>\n",
              "      <td>True</td>\n",
              "      <td>True</td>\n",
              "      <td>True</td>\n",
              "      <td>True</td>\n",
              "      <td>True</td>\n",
              "      <td>True</td>\n",
              "      <td>True</td>\n",
              "      <td>True</td>\n",
              "      <td>True</td>\n",
              "      <td>True</td>\n",
              "      <td>True</td>\n",
              "      <td>True</td>\n",
              "      <td>True</td>\n",
              "    </tr>\n",
              "    <tr>\n",
              "      <th>32558</th>\n",
              "      <td>True</td>\n",
              "      <td>True</td>\n",
              "      <td>True</td>\n",
              "      <td>True</td>\n",
              "      <td>True</td>\n",
              "      <td>True</td>\n",
              "      <td>True</td>\n",
              "      <td>True</td>\n",
              "      <td>True</td>\n",
              "      <td>True</td>\n",
              "      <td>True</td>\n",
              "      <td>True</td>\n",
              "      <td>True</td>\n",
              "      <td>True</td>\n",
              "      <td>True</td>\n",
              "    </tr>\n",
              "    <tr>\n",
              "      <th>32559</th>\n",
              "      <td>True</td>\n",
              "      <td>True</td>\n",
              "      <td>True</td>\n",
              "      <td>True</td>\n",
              "      <td>True</td>\n",
              "      <td>True</td>\n",
              "      <td>True</td>\n",
              "      <td>True</td>\n",
              "      <td>True</td>\n",
              "      <td>True</td>\n",
              "      <td>True</td>\n",
              "      <td>True</td>\n",
              "      <td>True</td>\n",
              "      <td>True</td>\n",
              "      <td>True</td>\n",
              "    </tr>\n",
              "  </tbody>\n",
              "</table>\n",
              "<p>32560 rows × 15 columns</p>\n",
              "</div>"
            ],
            "text/plain": [
              "        age  workclass  fnlwgt  ...  hours-per-week  native-country  salary\n",
              "0      True       True    True  ...            True            True    True\n",
              "1      True       True    True  ...            True            True    True\n",
              "2      True       True    True  ...            True            True    True\n",
              "3      True       True    True  ...            True            True    True\n",
              "4      True       True    True  ...            True            True    True\n",
              "...     ...        ...     ...  ...             ...             ...     ...\n",
              "32555  True       True    True  ...            True            True    True\n",
              "32556  True       True    True  ...            True            True    True\n",
              "32557  True       True    True  ...            True            True    True\n",
              "32558  True       True    True  ...            True            True    True\n",
              "32559  True       True    True  ...            True            True    True\n",
              "\n",
              "[32560 rows x 15 columns]"
            ]
          },
          "metadata": {
            "tags": []
          },
          "execution_count": 30
        }
      ],
      "metadata": {
        "id": "WLapjkM-wULt",
        "colab": {
          "base_uri": "https://localhost:8080/",
          "height": 417
        },
        "outputId": "5d5625f9-a650-45b0-e8a8-dea279153c9d"
      }
    },
    {
      "cell_type": "markdown",
      "source": [
        "### Кодировка при поступлении новых значений \"старыми\""
      ],
      "metadata": {
        "id": "x21wW77owWi6"
      }
    },
    {
      "cell_type": "code",
      "execution_count": null,
      "source": [
        "# а что будет, если одно будет \"новым\"?\n",
        "# возьмем копию данных\n",
        "copy = df['education'].copy()\n",
        "# заменим первую строку на test\n",
        "copy[0] = 'test'\n",
        "# закодируем\n",
        "copy = copy.map(encoders['education'])\n",
        "print('после кодировки')\n",
        "print(copy)\n",
        "# heh[0] = 'test'\n",
        "# \"перевернем\" ключи и значения кодировщиков для обратной операции\n",
        "print({encoders['education'][word]: word for word in encoders['education']})\n",
        "# применим функцию для декодирования\n",
        "decoded = copy.map({encoders['education'][word]: word for word in encoders['education']})\n",
        "print('после декодировки')\n",
        "decoded"
      ],
      "outputs": [
        {
          "output_type": "stream",
          "name": "stdout",
          "text": [
            "после кодировки\n",
            "0         NaN\n",
            "1         5.0\n",
            "2         9.0\n",
            "3        14.0\n",
            "4        15.0\n",
            "         ... \n",
            "32555     4.0\n",
            "32556     5.0\n",
            "32557     5.0\n",
            "32558     5.0\n",
            "32559     5.0\n",
            "Name: education, Length: 32560, dtype: float64\n",
            "{1: ' Some-college', 2: ' 7th-8th', 3: ' 12th', 4: ' Assoc-acdm', 5: ' HS-grad', 6: ' Assoc-voc', 7: ' Prof-school', 8: ' 9th', 9: ' 11th', 10: ' 10th', 11: ' 1st-4th', 12: ' Preschool', 13: ' Doctorate', 14: ' Bachelors', 15: ' Masters', 16: ' 5th-6th'}\n",
            "после декодировки\n"
          ]
        },
        {
          "output_type": "execute_result",
          "data": {
            "text/plain": [
              "0                NaN\n",
              "1            HS-grad\n",
              "2               11th\n",
              "3          Bachelors\n",
              "4            Masters\n",
              "            ...     \n",
              "32555     Assoc-acdm\n",
              "32556        HS-grad\n",
              "32557        HS-grad\n",
              "32558        HS-grad\n",
              "32559        HS-grad\n",
              "Name: education, Length: 32560, dtype: object"
            ]
          },
          "metadata": {
            "tags": []
          },
          "execution_count": 31
        }
      ],
      "metadata": {
        "id": "jVWNQUSNwX_Q",
        "colab": {
          "base_uri": "https://localhost:8080/",
          "height": 512
        },
        "outputId": "ca86daef-5880-47e0-a69c-d6c5429ed3fe"
      }
    },
    {
      "cell_type": "markdown",
      "source": [
        "Мы получили NaN значение, которое не подходит для анализа алгоритмами машинного обучения, чтоб модель не сломалась в ходе анализа заменим все NaN (значения, которых не было в кодировщиках) на нули. По этой причине в реальных задачах так важно постоянно переобучать модели и расширять словарь новых признаков."
      ],
      "metadata": {
        "id": "EYlWe2-UwZ4-"
      }
    },
    {
      "cell_type": "code",
      "execution_count": null,
      "source": [
        "decoded.fillna(0)"
      ],
      "outputs": [
        {
          "output_type": "execute_result",
          "data": {
            "text/plain": [
              "0                  0\n",
              "1            HS-grad\n",
              "2               11th\n",
              "3          Bachelors\n",
              "4            Masters\n",
              "            ...     \n",
              "32555     Assoc-acdm\n",
              "32556        HS-grad\n",
              "32557        HS-grad\n",
              "32558        HS-grad\n",
              "32559        HS-grad\n",
              "Name: education, Length: 32560, dtype: object"
            ]
          },
          "metadata": {
            "tags": []
          },
          "execution_count": 32
        }
      ],
      "metadata": {
        "id": "FEmNHOiBwayz",
        "colab": {
          "base_uri": "https://localhost:8080/",
          "height": 228
        },
        "outputId": "45edc80d-5b17-4b55-c830-c34919c745d2"
      }
    },
    {
      "cell_type": "markdown",
      "source": [
        "Теперь создадим копию исходного датасета в которой поменяем значения Education в первой строке и закодируем такой датасет \"старыми\" кодировщиками."
      ],
      "metadata": {
        "id": "dzphCdozwb8Q"
      }
    },
    {
      "cell_type": "code",
      "execution_count": null,
      "source": [
        "df_new = df.copy()\n",
        "df_new['education'][0] = 'test'\n",
        "df_new.head()"
      ],
      "outputs": [
        {
          "output_type": "stream",
          "name": "stderr",
          "text": [
            "/usr/local/lib/python3.6/dist-packages/ipykernel_launcher.py:2: SettingWithCopyWarning: \n",
            "A value is trying to be set on a copy of a slice from a DataFrame\n",
            "\n",
            "See the caveats in the documentation: https://pandas.pydata.org/pandas-docs/stable/user_guide/indexing.html#returning-a-view-versus-a-copy\n",
            "  \n"
          ]
        },
        {
          "output_type": "execute_result",
          "data": {
            "text/html": [
              "<div>\n",
              "<style scoped>\n",
              "    .dataframe tbody tr th:only-of-type {\n",
              "        vertical-align: middle;\n",
              "    }\n",
              "\n",
              "    .dataframe tbody tr th {\n",
              "        vertical-align: top;\n",
              "    }\n",
              "\n",
              "    .dataframe thead th {\n",
              "        text-align: right;\n",
              "    }\n",
              "</style>\n",
              "<table border=\"1\" class=\"dataframe\">\n",
              "  <thead>\n",
              "    <tr style=\"text-align: right;\">\n",
              "      <th></th>\n",
              "      <th>age</th>\n",
              "      <th>workclass</th>\n",
              "      <th>fnlwgt</th>\n",
              "      <th>education</th>\n",
              "      <th>educ-num</th>\n",
              "      <th>marital-status</th>\n",
              "      <th>occupation</th>\n",
              "      <th>relationship</th>\n",
              "      <th>race</th>\n",
              "      <th>sex</th>\n",
              "      <th>capital-gain</th>\n",
              "      <th>capital-loss</th>\n",
              "      <th>hours-per-week</th>\n",
              "      <th>native-country</th>\n",
              "      <th>salary</th>\n",
              "    </tr>\n",
              "  </thead>\n",
              "  <tbody>\n",
              "    <tr>\n",
              "      <th>0</th>\n",
              "      <td>50</td>\n",
              "      <td>Self-emp-not-inc</td>\n",
              "      <td>83311</td>\n",
              "      <td>test</td>\n",
              "      <td>13</td>\n",
              "      <td>Married-civ-spouse</td>\n",
              "      <td>Exec-managerial</td>\n",
              "      <td>Husband</td>\n",
              "      <td>White</td>\n",
              "      <td>Male</td>\n",
              "      <td>0</td>\n",
              "      <td>0</td>\n",
              "      <td>13</td>\n",
              "      <td>United-States</td>\n",
              "      <td>&lt;=50K</td>\n",
              "    </tr>\n",
              "    <tr>\n",
              "      <th>1</th>\n",
              "      <td>38</td>\n",
              "      <td>Private</td>\n",
              "      <td>215646</td>\n",
              "      <td>HS-grad</td>\n",
              "      <td>9</td>\n",
              "      <td>Divorced</td>\n",
              "      <td>Handlers-cleaners</td>\n",
              "      <td>Not-in-family</td>\n",
              "      <td>White</td>\n",
              "      <td>Male</td>\n",
              "      <td>0</td>\n",
              "      <td>0</td>\n",
              "      <td>40</td>\n",
              "      <td>United-States</td>\n",
              "      <td>&lt;=50K</td>\n",
              "    </tr>\n",
              "    <tr>\n",
              "      <th>2</th>\n",
              "      <td>53</td>\n",
              "      <td>Private</td>\n",
              "      <td>234721</td>\n",
              "      <td>11th</td>\n",
              "      <td>7</td>\n",
              "      <td>Married-civ-spouse</td>\n",
              "      <td>Handlers-cleaners</td>\n",
              "      <td>Husband</td>\n",
              "      <td>Black</td>\n",
              "      <td>Male</td>\n",
              "      <td>0</td>\n",
              "      <td>0</td>\n",
              "      <td>40</td>\n",
              "      <td>United-States</td>\n",
              "      <td>&lt;=50K</td>\n",
              "    </tr>\n",
              "    <tr>\n",
              "      <th>3</th>\n",
              "      <td>28</td>\n",
              "      <td>Private</td>\n",
              "      <td>338409</td>\n",
              "      <td>Bachelors</td>\n",
              "      <td>13</td>\n",
              "      <td>Married-civ-spouse</td>\n",
              "      <td>Prof-specialty</td>\n",
              "      <td>Wife</td>\n",
              "      <td>Black</td>\n",
              "      <td>Female</td>\n",
              "      <td>0</td>\n",
              "      <td>0</td>\n",
              "      <td>40</td>\n",
              "      <td>Cuba</td>\n",
              "      <td>&lt;=50K</td>\n",
              "    </tr>\n",
              "    <tr>\n",
              "      <th>4</th>\n",
              "      <td>37</td>\n",
              "      <td>Private</td>\n",
              "      <td>284582</td>\n",
              "      <td>Masters</td>\n",
              "      <td>14</td>\n",
              "      <td>Married-civ-spouse</td>\n",
              "      <td>Exec-managerial</td>\n",
              "      <td>Wife</td>\n",
              "      <td>White</td>\n",
              "      <td>Female</td>\n",
              "      <td>0</td>\n",
              "      <td>0</td>\n",
              "      <td>40</td>\n",
              "      <td>United-States</td>\n",
              "      <td>&lt;=50K</td>\n",
              "    </tr>\n",
              "  </tbody>\n",
              "</table>\n",
              "</div>"
            ],
            "text/plain": [
              "   age          workclass  fnlwgt  ... hours-per-week  native-country  salary\n",
              "0   50   Self-emp-not-inc   83311  ...             13   United-States   <=50K\n",
              "1   38            Private  215646  ...             40   United-States   <=50K\n",
              "2   53            Private  234721  ...             40   United-States   <=50K\n",
              "3   28            Private  338409  ...             40            Cuba   <=50K\n",
              "4   37            Private  284582  ...             40   United-States   <=50K\n",
              "\n",
              "[5 rows x 15 columns]"
            ]
          },
          "metadata": {
            "tags": []
          },
          "execution_count": 33
        }
      ],
      "metadata": {
        "id": "xKQub_dpwdBg",
        "colab": {
          "base_uri": "https://localhost:8080/",
          "height": 291
        },
        "outputId": "220bdd98-4dad-4dc7-e292-bfd03a2f5a2c"
      }
    },
    {
      "cell_type": "code",
      "execution_count": null,
      "source": [
        "# Напишем функцию, которая принимает на вход DataFrame, кодирует числовыми значениями категориальные признаки\n",
        "# и возвращает обновленный DataFrame и сами кодировщики.\n",
        "def encode_with_old(new_df, encoders):\n",
        "    result = new_df.copy() # копируем нашу исходную таблицу\n",
        "\n",
        "    # проходимся по названиям колонок\n",
        "    for column in result.columns:\n",
        "        # если тип данных текущей колонки в цикле строковый, то\n",
        "        if result.dtypes[column] == np.object: # np.object -- строковый тип / если тип столбца - строка, то нужно его закодировать\n",
        "            result[column] = result[column].map(encoders[column])\n",
        "            # если втретили NaN в столбце - заменим на 0\n",
        "            result[column] = result[column].fillna(0)\n",
        "\n",
        "    return result\n",
        "\n",
        "encode_with_old(df_new, encoders)"
      ],
      "outputs": [
        {
          "output_type": "execute_result",
          "data": {
            "text/html": [
              "<div>\n",
              "<style scoped>\n",
              "    .dataframe tbody tr th:only-of-type {\n",
              "        vertical-align: middle;\n",
              "    }\n",
              "\n",
              "    .dataframe tbody tr th {\n",
              "        vertical-align: top;\n",
              "    }\n",
              "\n",
              "    .dataframe thead th {\n",
              "        text-align: right;\n",
              "    }\n",
              "</style>\n",
              "<table border=\"1\" class=\"dataframe\">\n",
              "  <thead>\n",
              "    <tr style=\"text-align: right;\">\n",
              "      <th></th>\n",
              "      <th>age</th>\n",
              "      <th>workclass</th>\n",
              "      <th>fnlwgt</th>\n",
              "      <th>education</th>\n",
              "      <th>educ-num</th>\n",
              "      <th>marital-status</th>\n",
              "      <th>occupation</th>\n",
              "      <th>relationship</th>\n",
              "      <th>race</th>\n",
              "      <th>sex</th>\n",
              "      <th>capital-gain</th>\n",
              "      <th>capital-loss</th>\n",
              "      <th>hours-per-week</th>\n",
              "      <th>native-country</th>\n",
              "      <th>salary</th>\n",
              "    </tr>\n",
              "  </thead>\n",
              "  <tbody>\n",
              "    <tr>\n",
              "      <th>0</th>\n",
              "      <td>50</td>\n",
              "      <td>7</td>\n",
              "      <td>83311</td>\n",
              "      <td>0.0</td>\n",
              "      <td>13</td>\n",
              "      <td>2</td>\n",
              "      <td>3</td>\n",
              "      <td>6</td>\n",
              "      <td>5</td>\n",
              "      <td>1</td>\n",
              "      <td>0</td>\n",
              "      <td>0</td>\n",
              "      <td>13</td>\n",
              "      <td>1</td>\n",
              "      <td>2</td>\n",
              "    </tr>\n",
              "    <tr>\n",
              "      <th>1</th>\n",
              "      <td>38</td>\n",
              "      <td>8</td>\n",
              "      <td>215646</td>\n",
              "      <td>5.0</td>\n",
              "      <td>9</td>\n",
              "      <td>5</td>\n",
              "      <td>9</td>\n",
              "      <td>3</td>\n",
              "      <td>5</td>\n",
              "      <td>1</td>\n",
              "      <td>0</td>\n",
              "      <td>0</td>\n",
              "      <td>40</td>\n",
              "      <td>1</td>\n",
              "      <td>2</td>\n",
              "    </tr>\n",
              "    <tr>\n",
              "      <th>2</th>\n",
              "      <td>53</td>\n",
              "      <td>8</td>\n",
              "      <td>234721</td>\n",
              "      <td>9.0</td>\n",
              "      <td>7</td>\n",
              "      <td>2</td>\n",
              "      <td>9</td>\n",
              "      <td>6</td>\n",
              "      <td>1</td>\n",
              "      <td>1</td>\n",
              "      <td>0</td>\n",
              "      <td>0</td>\n",
              "      <td>40</td>\n",
              "      <td>1</td>\n",
              "      <td>2</td>\n",
              "    </tr>\n",
              "    <tr>\n",
              "      <th>3</th>\n",
              "      <td>28</td>\n",
              "      <td>8</td>\n",
              "      <td>338409</td>\n",
              "      <td>14.0</td>\n",
              "      <td>13</td>\n",
              "      <td>2</td>\n",
              "      <td>5</td>\n",
              "      <td>5</td>\n",
              "      <td>1</td>\n",
              "      <td>2</td>\n",
              "      <td>0</td>\n",
              "      <td>0</td>\n",
              "      <td>40</td>\n",
              "      <td>25</td>\n",
              "      <td>2</td>\n",
              "    </tr>\n",
              "    <tr>\n",
              "      <th>4</th>\n",
              "      <td>37</td>\n",
              "      <td>8</td>\n",
              "      <td>284582</td>\n",
              "      <td>15.0</td>\n",
              "      <td>14</td>\n",
              "      <td>2</td>\n",
              "      <td>3</td>\n",
              "      <td>5</td>\n",
              "      <td>5</td>\n",
              "      <td>2</td>\n",
              "      <td>0</td>\n",
              "      <td>0</td>\n",
              "      <td>40</td>\n",
              "      <td>1</td>\n",
              "      <td>2</td>\n",
              "    </tr>\n",
              "    <tr>\n",
              "      <th>...</th>\n",
              "      <td>...</td>\n",
              "      <td>...</td>\n",
              "      <td>...</td>\n",
              "      <td>...</td>\n",
              "      <td>...</td>\n",
              "      <td>...</td>\n",
              "      <td>...</td>\n",
              "      <td>...</td>\n",
              "      <td>...</td>\n",
              "      <td>...</td>\n",
              "      <td>...</td>\n",
              "      <td>...</td>\n",
              "      <td>...</td>\n",
              "      <td>...</td>\n",
              "      <td>...</td>\n",
              "    </tr>\n",
              "    <tr>\n",
              "      <th>32555</th>\n",
              "      <td>27</td>\n",
              "      <td>8</td>\n",
              "      <td>257302</td>\n",
              "      <td>4.0</td>\n",
              "      <td>12</td>\n",
              "      <td>2</td>\n",
              "      <td>1</td>\n",
              "      <td>5</td>\n",
              "      <td>5</td>\n",
              "      <td>2</td>\n",
              "      <td>0</td>\n",
              "      <td>0</td>\n",
              "      <td>38</td>\n",
              "      <td>1</td>\n",
              "      <td>2</td>\n",
              "    </tr>\n",
              "    <tr>\n",
              "      <th>32556</th>\n",
              "      <td>40</td>\n",
              "      <td>8</td>\n",
              "      <td>154374</td>\n",
              "      <td>5.0</td>\n",
              "      <td>9</td>\n",
              "      <td>2</td>\n",
              "      <td>7</td>\n",
              "      <td>6</td>\n",
              "      <td>5</td>\n",
              "      <td>1</td>\n",
              "      <td>0</td>\n",
              "      <td>0</td>\n",
              "      <td>40</td>\n",
              "      <td>1</td>\n",
              "      <td>1</td>\n",
              "    </tr>\n",
              "    <tr>\n",
              "      <th>32557</th>\n",
              "      <td>58</td>\n",
              "      <td>8</td>\n",
              "      <td>151910</td>\n",
              "      <td>5.0</td>\n",
              "      <td>9</td>\n",
              "      <td>3</td>\n",
              "      <td>14</td>\n",
              "      <td>2</td>\n",
              "      <td>5</td>\n",
              "      <td>2</td>\n",
              "      <td>0</td>\n",
              "      <td>0</td>\n",
              "      <td>40</td>\n",
              "      <td>1</td>\n",
              "      <td>2</td>\n",
              "    </tr>\n",
              "    <tr>\n",
              "      <th>32558</th>\n",
              "      <td>22</td>\n",
              "      <td>8</td>\n",
              "      <td>201490</td>\n",
              "      <td>5.0</td>\n",
              "      <td>9</td>\n",
              "      <td>4</td>\n",
              "      <td>14</td>\n",
              "      <td>1</td>\n",
              "      <td>5</td>\n",
              "      <td>1</td>\n",
              "      <td>0</td>\n",
              "      <td>0</td>\n",
              "      <td>20</td>\n",
              "      <td>1</td>\n",
              "      <td>2</td>\n",
              "    </tr>\n",
              "    <tr>\n",
              "      <th>32559</th>\n",
              "      <td>52</td>\n",
              "      <td>9</td>\n",
              "      <td>287927</td>\n",
              "      <td>5.0</td>\n",
              "      <td>9</td>\n",
              "      <td>2</td>\n",
              "      <td>3</td>\n",
              "      <td>5</td>\n",
              "      <td>5</td>\n",
              "      <td>2</td>\n",
              "      <td>15024</td>\n",
              "      <td>0</td>\n",
              "      <td>40</td>\n",
              "      <td>1</td>\n",
              "      <td>1</td>\n",
              "    </tr>\n",
              "  </tbody>\n",
              "</table>\n",
              "<p>32560 rows × 15 columns</p>\n",
              "</div>"
            ],
            "text/plain": [
              "       age  workclass  fnlwgt  ...  hours-per-week  native-country  salary\n",
              "0       50          7   83311  ...              13               1       2\n",
              "1       38          8  215646  ...              40               1       2\n",
              "2       53          8  234721  ...              40               1       2\n",
              "3       28          8  338409  ...              40              25       2\n",
              "4       37          8  284582  ...              40               1       2\n",
              "...    ...        ...     ...  ...             ...             ...     ...\n",
              "32555   27          8  257302  ...              38               1       2\n",
              "32556   40          8  154374  ...              40               1       1\n",
              "32557   58          8  151910  ...              40               1       2\n",
              "32558   22          8  201490  ...              20               1       2\n",
              "32559   52          9  287927  ...              40               1       1\n",
              "\n",
              "[32560 rows x 15 columns]"
            ]
          },
          "metadata": {
            "tags": []
          },
          "execution_count": 34
        }
      ],
      "metadata": {
        "id": "ryJ0KwEYwfoP",
        "colab": {
          "base_uri": "https://localhost:8080/",
          "height": 432
        },
        "outputId": "5ad05601-cc4d-43cb-9de3-e370f2fb4ff9"
      }
    },
    {
      "cell_type": "markdown",
      "source": [
        "# Exploratory data analysis 2\n",
        "\n",
        "Давайте рассмотрим пример исследования набора данных на примере данных о пассажирах Титаника."
      ],
      "metadata": {
        "id": "WTbPwBz0ZUug"
      }
    },
    {
      "cell_type": "code",
      "execution_count": null,
      "source": [
        "!wget https://web.stanford.edu/class/archive/cs/cs109/cs109.1166/stuff/titanic.csv"
      ],
      "outputs": [
        {
          "output_type": "stream",
          "name": "stdout",
          "text": [
            "--2020-05-08 21:45:03--  https://web.stanford.edu/class/archive/cs/cs109/cs109.1166/stuff/titanic.csv\n",
            "Resolving web.stanford.edu (web.stanford.edu)... 171.67.215.200\n",
            "Connecting to web.stanford.edu (web.stanford.edu)|171.67.215.200|:443... connected.\n",
            "HTTP request sent, awaiting response... 200 OK\n",
            "Length: 44225 (43K) [text/csv]\n",
            "Saving to: ‘titanic.csv’\n",
            "\n",
            "\rtitanic.csv           0%[                    ]       0  --.-KB/s               \rtitanic.csv         100%[===================>]  43.19K  --.-KB/s    in 0.04s   \n",
            "\n",
            "2020-05-08 21:45:03 (1.04 MB/s) - ‘titanic.csv’ saved [44225/44225]\n",
            "\n"
          ]
        }
      ],
      "metadata": {
        "id": "vLDtdEMHZMSY",
        "colab": {
          "base_uri": "https://localhost:8080/",
          "height": 210
        },
        "outputId": "723ab91c-a42f-4bd2-c620-5b72d9bb951a"
      }
    },
    {
      "cell_type": "code",
      "execution_count": null,
      "source": [
        "!ls "
      ],
      "outputs": [
        {
          "output_type": "stream",
          "name": "stdout",
          "text": [
            "sample_data  titanic.csv\n"
          ]
        }
      ],
      "metadata": {
        "id": "fD8jfo5kZ95B",
        "colab": {
          "base_uri": "https://localhost:8080/",
          "height": 34
        },
        "outputId": "e0efbb70-a813-4467-fc13-118ea196e115"
      }
    },
    {
      "cell_type": "code",
      "execution_count": null,
      "source": [
        "from matplotlib import pyplot as plt\n",
        "%matplotlib inline"
      ],
      "outputs": [],
      "metadata": {
        "id": "4UVBYk_9Z-1y"
      }
    },
    {
      "cell_type": "markdown",
      "source": [
        "Набор данных включает в себя два CSV-файла. Обучающий набор содержит признак Survived для каждого пассажира, обозначающий, выжил данный пассажир или нет (0 для умерших, 1 для выживших).\n",
        "\n",
        "Каждая строчка наборов данных содержит следующие поля:\n",
        "\n",
        "* Pclass — класс пассажира (1 — высший, 2 — средний, 3 — низший);\n",
        "\n",
        "* Name — имя;\n",
        "\n",
        "* Sex — пол;\n",
        "\n",
        "* Age — возраст;\n",
        "\n",
        "* SibSp — количество братьев, сестер, сводных братьев, сводных сестер, супругов на борту титаника;\n",
        "\n",
        "* Parch — количество родителей, детей (в том числе приемных) на борту титаника;\n",
        "\n",
        "* Ticket — номер билета;\n",
        "\n",
        "* Fare — плата за проезд;\n",
        "\n",
        "* Cabin — каюта;\n",
        "\n",
        "* Embarked — порт посадки (C — Шербур; Q — Квинстаун; S — Саутгемптон).\n",
        "\n",
        "* Age приводится количество полных лет. Для детей меньше 1 года — дробное. Если возраст не известен точно, то указано примерное значение в формате xx.5."
      ],
      "metadata": {
        "id": "N3oBbJzpbBao"
      }
    },
    {
      "cell_type": "code",
      "execution_count": null,
      "source": [
        "data = pd.read_csv('titanic.csv', sep=',', header='infer')\n",
        "data.head(5)"
      ],
      "outputs": [
        {
          "output_type": "execute_result",
          "data": {
            "text/html": [
              "<div>\n",
              "<style scoped>\n",
              "    .dataframe tbody tr th:only-of-type {\n",
              "        vertical-align: middle;\n",
              "    }\n",
              "\n",
              "    .dataframe tbody tr th {\n",
              "        vertical-align: top;\n",
              "    }\n",
              "\n",
              "    .dataframe thead th {\n",
              "        text-align: right;\n",
              "    }\n",
              "</style>\n",
              "<table border=\"1\" class=\"dataframe\">\n",
              "  <thead>\n",
              "    <tr style=\"text-align: right;\">\n",
              "      <th></th>\n",
              "      <th>Survived</th>\n",
              "      <th>Pclass</th>\n",
              "      <th>Name</th>\n",
              "      <th>Sex</th>\n",
              "      <th>Age</th>\n",
              "      <th>Siblings/Spouses Aboard</th>\n",
              "      <th>Parents/Children Aboard</th>\n",
              "      <th>Fare</th>\n",
              "    </tr>\n",
              "  </thead>\n",
              "  <tbody>\n",
              "    <tr>\n",
              "      <th>0</th>\n",
              "      <td>0</td>\n",
              "      <td>3</td>\n",
              "      <td>Mr. Owen Harris Braund</td>\n",
              "      <td>male</td>\n",
              "      <td>22.0</td>\n",
              "      <td>1</td>\n",
              "      <td>0</td>\n",
              "      <td>7.2500</td>\n",
              "    </tr>\n",
              "    <tr>\n",
              "      <th>1</th>\n",
              "      <td>1</td>\n",
              "      <td>1</td>\n",
              "      <td>Mrs. John Bradley (Florence Briggs Thayer) Cum...</td>\n",
              "      <td>female</td>\n",
              "      <td>38.0</td>\n",
              "      <td>1</td>\n",
              "      <td>0</td>\n",
              "      <td>71.2833</td>\n",
              "    </tr>\n",
              "    <tr>\n",
              "      <th>2</th>\n",
              "      <td>1</td>\n",
              "      <td>3</td>\n",
              "      <td>Miss. Laina Heikkinen</td>\n",
              "      <td>female</td>\n",
              "      <td>26.0</td>\n",
              "      <td>0</td>\n",
              "      <td>0</td>\n",
              "      <td>7.9250</td>\n",
              "    </tr>\n",
              "    <tr>\n",
              "      <th>3</th>\n",
              "      <td>1</td>\n",
              "      <td>1</td>\n",
              "      <td>Mrs. Jacques Heath (Lily May Peel) Futrelle</td>\n",
              "      <td>female</td>\n",
              "      <td>35.0</td>\n",
              "      <td>1</td>\n",
              "      <td>0</td>\n",
              "      <td>53.1000</td>\n",
              "    </tr>\n",
              "    <tr>\n",
              "      <th>4</th>\n",
              "      <td>0</td>\n",
              "      <td>3</td>\n",
              "      <td>Mr. William Henry Allen</td>\n",
              "      <td>male</td>\n",
              "      <td>35.0</td>\n",
              "      <td>0</td>\n",
              "      <td>0</td>\n",
              "      <td>8.0500</td>\n",
              "    </tr>\n",
              "  </tbody>\n",
              "</table>\n",
              "</div>"
            ],
            "text/plain": [
              "   Survived  Pclass  ... Parents/Children Aboard     Fare\n",
              "0         0       3  ...                       0   7.2500\n",
              "1         1       1  ...                       0  71.2833\n",
              "2         1       3  ...                       0   7.9250\n",
              "3         1       1  ...                       0  53.1000\n",
              "4         0       3  ...                       0   8.0500\n",
              "\n",
              "[5 rows x 8 columns]"
            ]
          },
          "metadata": {
            "tags": []
          },
          "execution_count": 5
        }
      ],
      "metadata": {
        "id": "0knhsSpwaCmQ",
        "colab": {
          "base_uri": "https://localhost:8080/",
          "height": 203
        },
        "outputId": "6f686892-8ba5-4e33-ae4b-ca9457847278"
      }
    },
    {
      "cell_type": "code",
      "execution_count": null,
      "source": [
        "data['Survived'].head() # можно выбрать один столбец, выведет Series\n"
      ],
      "outputs": [
        {
          "output_type": "execute_result",
          "data": {
            "text/plain": [
              "0    0\n",
              "1    1\n",
              "2    1\n",
              "3    1\n",
              "4    0\n",
              "Name: Survived, dtype: int64"
            ]
          },
          "metadata": {
            "tags": []
          },
          "execution_count": 140
        }
      ],
      "metadata": {
        "id": "GzFJPS9EaEwQ",
        "colab": {
          "base_uri": "https://localhost:8080/",
          "height": 119
        },
        "outputId": "723534cb-44e3-40da-d5b8-3e5c657e43db"
      }
    },
    {
      "cell_type": "code",
      "execution_count": null,
      "source": [
        "data[['Survived', 'Name']] # несколько полей, выведет сокращённый Dataframe"
      ],
      "outputs": [
        {
          "output_type": "execute_result",
          "data": {
            "text/html": [
              "<div>\n",
              "<style scoped>\n",
              "    .dataframe tbody tr th:only-of-type {\n",
              "        vertical-align: middle;\n",
              "    }\n",
              "\n",
              "    .dataframe tbody tr th {\n",
              "        vertical-align: top;\n",
              "    }\n",
              "\n",
              "    .dataframe thead th {\n",
              "        text-align: right;\n",
              "    }\n",
              "</style>\n",
              "<table border=\"1\" class=\"dataframe\">\n",
              "  <thead>\n",
              "    <tr style=\"text-align: right;\">\n",
              "      <th></th>\n",
              "      <th>Survived</th>\n",
              "      <th>Name</th>\n",
              "    </tr>\n",
              "  </thead>\n",
              "  <tbody>\n",
              "    <tr>\n",
              "      <th>0</th>\n",
              "      <td>0</td>\n",
              "      <td>Mr. Owen Harris Braund</td>\n",
              "    </tr>\n",
              "    <tr>\n",
              "      <th>1</th>\n",
              "      <td>1</td>\n",
              "      <td>Mrs. John Bradley (Florence Briggs Thayer) Cum...</td>\n",
              "    </tr>\n",
              "    <tr>\n",
              "      <th>2</th>\n",
              "      <td>1</td>\n",
              "      <td>Miss. Laina Heikkinen</td>\n",
              "    </tr>\n",
              "    <tr>\n",
              "      <th>3</th>\n",
              "      <td>1</td>\n",
              "      <td>Mrs. Jacques Heath (Lily May Peel) Futrelle</td>\n",
              "    </tr>\n",
              "    <tr>\n",
              "      <th>4</th>\n",
              "      <td>0</td>\n",
              "      <td>Mr. William Henry Allen</td>\n",
              "    </tr>\n",
              "    <tr>\n",
              "      <th>5</th>\n",
              "      <td>0</td>\n",
              "      <td>Mr. James Moran</td>\n",
              "    </tr>\n",
              "    <tr>\n",
              "      <th>6</th>\n",
              "      <td>0</td>\n",
              "      <td>Mr. Timothy J McCarthy</td>\n",
              "    </tr>\n",
              "    <tr>\n",
              "      <th>7</th>\n",
              "      <td>0</td>\n",
              "      <td>Master. Gosta Leonard Palsson</td>\n",
              "    </tr>\n",
              "    <tr>\n",
              "      <th>8</th>\n",
              "      <td>1</td>\n",
              "      <td>Mrs. Oscar W (Elisabeth Vilhelmina Berg) Johnson</td>\n",
              "    </tr>\n",
              "    <tr>\n",
              "      <th>9</th>\n",
              "      <td>1</td>\n",
              "      <td>Mrs. Nicholas (Adele Achem) Nasser</td>\n",
              "    </tr>\n",
              "    <tr>\n",
              "      <th>10</th>\n",
              "      <td>1</td>\n",
              "      <td>Miss. Marguerite Rut Sandstrom</td>\n",
              "    </tr>\n",
              "    <tr>\n",
              "      <th>11</th>\n",
              "      <td>1</td>\n",
              "      <td>Miss. Elizabeth Bonnell</td>\n",
              "    </tr>\n",
              "    <tr>\n",
              "      <th>12</th>\n",
              "      <td>0</td>\n",
              "      <td>Mr. William Henry Saundercock</td>\n",
              "    </tr>\n",
              "    <tr>\n",
              "      <th>13</th>\n",
              "      <td>0</td>\n",
              "      <td>Mr. Anders Johan Andersson</td>\n",
              "    </tr>\n",
              "    <tr>\n",
              "      <th>14</th>\n",
              "      <td>0</td>\n",
              "      <td>Miss. Hulda Amanda Adolfina Vestrom</td>\n",
              "    </tr>\n",
              "    <tr>\n",
              "      <th>15</th>\n",
              "      <td>1</td>\n",
              "      <td>Mrs. (Mary D Kingcome) Hewlett</td>\n",
              "    </tr>\n",
              "    <tr>\n",
              "      <th>16</th>\n",
              "      <td>0</td>\n",
              "      <td>Master. Eugene Rice</td>\n",
              "    </tr>\n",
              "    <tr>\n",
              "      <th>17</th>\n",
              "      <td>1</td>\n",
              "      <td>Mr. Charles Eugene Williams</td>\n",
              "    </tr>\n",
              "    <tr>\n",
              "      <th>18</th>\n",
              "      <td>0</td>\n",
              "      <td>Mrs. Julius (Emelia Maria Vandemoortele) Vande...</td>\n",
              "    </tr>\n",
              "    <tr>\n",
              "      <th>19</th>\n",
              "      <td>1</td>\n",
              "      <td>Mrs. Fatima Masselmani</td>\n",
              "    </tr>\n",
              "    <tr>\n",
              "      <th>20</th>\n",
              "      <td>0</td>\n",
              "      <td>Mr. Joseph J Fynney</td>\n",
              "    </tr>\n",
              "    <tr>\n",
              "      <th>21</th>\n",
              "      <td>1</td>\n",
              "      <td>Mr. Lawrence Beesley</td>\n",
              "    </tr>\n",
              "    <tr>\n",
              "      <th>22</th>\n",
              "      <td>1</td>\n",
              "      <td>Miss. Anna McGowan</td>\n",
              "    </tr>\n",
              "    <tr>\n",
              "      <th>23</th>\n",
              "      <td>1</td>\n",
              "      <td>Mr. William Thompson Sloper</td>\n",
              "    </tr>\n",
              "    <tr>\n",
              "      <th>24</th>\n",
              "      <td>0</td>\n",
              "      <td>Miss. Torborg Danira Palsson</td>\n",
              "    </tr>\n",
              "    <tr>\n",
              "      <th>25</th>\n",
              "      <td>1</td>\n",
              "      <td>Mrs. Carl Oscar (Selma Augusta Emilia Johansso...</td>\n",
              "    </tr>\n",
              "    <tr>\n",
              "      <th>26</th>\n",
              "      <td>0</td>\n",
              "      <td>Mr. Farred Chehab Emir</td>\n",
              "    </tr>\n",
              "    <tr>\n",
              "      <th>27</th>\n",
              "      <td>0</td>\n",
              "      <td>Mr. Charles Alexander Fortune</td>\n",
              "    </tr>\n",
              "    <tr>\n",
              "      <th>28</th>\n",
              "      <td>1</td>\n",
              "      <td>Miss. Ellen O'Dwyer</td>\n",
              "    </tr>\n",
              "    <tr>\n",
              "      <th>29</th>\n",
              "      <td>0</td>\n",
              "      <td>Mr. Lalio Todoroff</td>\n",
              "    </tr>\n",
              "    <tr>\n",
              "      <th>...</th>\n",
              "      <td>...</td>\n",
              "      <td>...</td>\n",
              "    </tr>\n",
              "    <tr>\n",
              "      <th>857</th>\n",
              "      <td>0</td>\n",
              "      <td>Mr. Frederick Edward Giles</td>\n",
              "    </tr>\n",
              "    <tr>\n",
              "      <th>858</th>\n",
              "      <td>1</td>\n",
              "      <td>Mrs. Frederick Joel (Margaret Welles Barron) S...</td>\n",
              "    </tr>\n",
              "    <tr>\n",
              "      <th>859</th>\n",
              "      <td>0</td>\n",
              "      <td>Miss. Dorothy Edith Sage</td>\n",
              "    </tr>\n",
              "    <tr>\n",
              "      <th>860</th>\n",
              "      <td>0</td>\n",
              "      <td>Mr. John William Gill</td>\n",
              "    </tr>\n",
              "    <tr>\n",
              "      <th>861</th>\n",
              "      <td>1</td>\n",
              "      <td>Mrs. (Karolina) Bystrom</td>\n",
              "    </tr>\n",
              "    <tr>\n",
              "      <th>862</th>\n",
              "      <td>1</td>\n",
              "      <td>Miss. Asuncion Duran y More</td>\n",
              "    </tr>\n",
              "    <tr>\n",
              "      <th>863</th>\n",
              "      <td>0</td>\n",
              "      <td>Mr. Washington Augustus II Roebling</td>\n",
              "    </tr>\n",
              "    <tr>\n",
              "      <th>864</th>\n",
              "      <td>0</td>\n",
              "      <td>Mr. Philemon van Melkebeke</td>\n",
              "    </tr>\n",
              "    <tr>\n",
              "      <th>865</th>\n",
              "      <td>1</td>\n",
              "      <td>Master. Harold Theodor Johnson</td>\n",
              "    </tr>\n",
              "    <tr>\n",
              "      <th>866</th>\n",
              "      <td>0</td>\n",
              "      <td>Mr. Cerin Balkic</td>\n",
              "    </tr>\n",
              "    <tr>\n",
              "      <th>867</th>\n",
              "      <td>1</td>\n",
              "      <td>Mrs. Richard Leonard (Sallie Monypeny) Beckwith</td>\n",
              "    </tr>\n",
              "    <tr>\n",
              "      <th>868</th>\n",
              "      <td>0</td>\n",
              "      <td>Mr. Frans Olof Carlsson</td>\n",
              "    </tr>\n",
              "    <tr>\n",
              "      <th>869</th>\n",
              "      <td>0</td>\n",
              "      <td>Mr. Victor Vander Cruyssen</td>\n",
              "    </tr>\n",
              "    <tr>\n",
              "      <th>870</th>\n",
              "      <td>1</td>\n",
              "      <td>Mrs. Samuel (Hannah Wizosky) Abelson</td>\n",
              "    </tr>\n",
              "    <tr>\n",
              "      <th>871</th>\n",
              "      <td>1</td>\n",
              "      <td>Miss. Adele Kiamie Najib</td>\n",
              "    </tr>\n",
              "    <tr>\n",
              "      <th>872</th>\n",
              "      <td>0</td>\n",
              "      <td>Mr. Alfred Ossian Gustafsson</td>\n",
              "    </tr>\n",
              "    <tr>\n",
              "      <th>873</th>\n",
              "      <td>0</td>\n",
              "      <td>Mr. Nedelio Petroff</td>\n",
              "    </tr>\n",
              "    <tr>\n",
              "      <th>874</th>\n",
              "      <td>0</td>\n",
              "      <td>Mr. Kristo Laleff</td>\n",
              "    </tr>\n",
              "    <tr>\n",
              "      <th>875</th>\n",
              "      <td>1</td>\n",
              "      <td>Mrs. Thomas Jr (Lily Alexenia Wilson) Potter</td>\n",
              "    </tr>\n",
              "    <tr>\n",
              "      <th>876</th>\n",
              "      <td>1</td>\n",
              "      <td>Mrs. William (Imanita Parrish Hall) Shelley</td>\n",
              "    </tr>\n",
              "    <tr>\n",
              "      <th>877</th>\n",
              "      <td>0</td>\n",
              "      <td>Mr. Johann Markun</td>\n",
              "    </tr>\n",
              "    <tr>\n",
              "      <th>878</th>\n",
              "      <td>0</td>\n",
              "      <td>Miss. Gerda Ulrika Dahlberg</td>\n",
              "    </tr>\n",
              "    <tr>\n",
              "      <th>879</th>\n",
              "      <td>0</td>\n",
              "      <td>Mr. Frederick James Banfield</td>\n",
              "    </tr>\n",
              "    <tr>\n",
              "      <th>880</th>\n",
              "      <td>0</td>\n",
              "      <td>Mr. Henry Jr Sutehall</td>\n",
              "    </tr>\n",
              "    <tr>\n",
              "      <th>881</th>\n",
              "      <td>0</td>\n",
              "      <td>Mrs. William (Margaret Norton) Rice</td>\n",
              "    </tr>\n",
              "    <tr>\n",
              "      <th>882</th>\n",
              "      <td>0</td>\n",
              "      <td>Rev. Juozas Montvila</td>\n",
              "    </tr>\n",
              "    <tr>\n",
              "      <th>883</th>\n",
              "      <td>1</td>\n",
              "      <td>Miss. Margaret Edith Graham</td>\n",
              "    </tr>\n",
              "    <tr>\n",
              "      <th>884</th>\n",
              "      <td>0</td>\n",
              "      <td>Miss. Catherine Helen Johnston</td>\n",
              "    </tr>\n",
              "    <tr>\n",
              "      <th>885</th>\n",
              "      <td>1</td>\n",
              "      <td>Mr. Karl Howell Behr</td>\n",
              "    </tr>\n",
              "    <tr>\n",
              "      <th>886</th>\n",
              "      <td>0</td>\n",
              "      <td>Mr. Patrick Dooley</td>\n",
              "    </tr>\n",
              "  </tbody>\n",
              "</table>\n",
              "<p>887 rows × 2 columns</p>\n",
              "</div>"
            ],
            "text/plain": [
              "     Survived                                               Name\n",
              "0           0                             Mr. Owen Harris Braund\n",
              "1           1  Mrs. John Bradley (Florence Briggs Thayer) Cum...\n",
              "2           1                              Miss. Laina Heikkinen\n",
              "3           1        Mrs. Jacques Heath (Lily May Peel) Futrelle\n",
              "4           0                            Mr. William Henry Allen\n",
              "5           0                                    Mr. James Moran\n",
              "6           0                             Mr. Timothy J McCarthy\n",
              "7           0                      Master. Gosta Leonard Palsson\n",
              "8           1   Mrs. Oscar W (Elisabeth Vilhelmina Berg) Johnson\n",
              "9           1                 Mrs. Nicholas (Adele Achem) Nasser\n",
              "10          1                     Miss. Marguerite Rut Sandstrom\n",
              "11          1                            Miss. Elizabeth Bonnell\n",
              "12          0                      Mr. William Henry Saundercock\n",
              "13          0                         Mr. Anders Johan Andersson\n",
              "14          0                Miss. Hulda Amanda Adolfina Vestrom\n",
              "15          1                     Mrs. (Mary D Kingcome) Hewlett\n",
              "16          0                                Master. Eugene Rice\n",
              "17          1                        Mr. Charles Eugene Williams\n",
              "18          0  Mrs. Julius (Emelia Maria Vandemoortele) Vande...\n",
              "19          1                             Mrs. Fatima Masselmani\n",
              "20          0                                Mr. Joseph J Fynney\n",
              "21          1                               Mr. Lawrence Beesley\n",
              "22          1                                 Miss. Anna McGowan\n",
              "23          1                        Mr. William Thompson Sloper\n",
              "24          0                       Miss. Torborg Danira Palsson\n",
              "25          1  Mrs. Carl Oscar (Selma Augusta Emilia Johansso...\n",
              "26          0                             Mr. Farred Chehab Emir\n",
              "27          0                      Mr. Charles Alexander Fortune\n",
              "28          1                                Miss. Ellen O'Dwyer\n",
              "29          0                                 Mr. Lalio Todoroff\n",
              "..        ...                                                ...\n",
              "857         0                         Mr. Frederick Edward Giles\n",
              "858         1  Mrs. Frederick Joel (Margaret Welles Barron) S...\n",
              "859         0                           Miss. Dorothy Edith Sage\n",
              "860         0                              Mr. John William Gill\n",
              "861         1                            Mrs. (Karolina) Bystrom\n",
              "862         1                        Miss. Asuncion Duran y More\n",
              "863         0                Mr. Washington Augustus II Roebling\n",
              "864         0                         Mr. Philemon van Melkebeke\n",
              "865         1                     Master. Harold Theodor Johnson\n",
              "866         0                                   Mr. Cerin Balkic\n",
              "867         1    Mrs. Richard Leonard (Sallie Monypeny) Beckwith\n",
              "868         0                            Mr. Frans Olof Carlsson\n",
              "869         0                         Mr. Victor Vander Cruyssen\n",
              "870         1               Mrs. Samuel (Hannah Wizosky) Abelson\n",
              "871         1                           Miss. Adele Kiamie Najib\n",
              "872         0                       Mr. Alfred Ossian Gustafsson\n",
              "873         0                                Mr. Nedelio Petroff\n",
              "874         0                                  Mr. Kristo Laleff\n",
              "875         1       Mrs. Thomas Jr (Lily Alexenia Wilson) Potter\n",
              "876         1        Mrs. William (Imanita Parrish Hall) Shelley\n",
              "877         0                                  Mr. Johann Markun\n",
              "878         0                        Miss. Gerda Ulrika Dahlberg\n",
              "879         0                       Mr. Frederick James Banfield\n",
              "880         0                              Mr. Henry Jr Sutehall\n",
              "881         0                Mrs. William (Margaret Norton) Rice\n",
              "882         0                               Rev. Juozas Montvila\n",
              "883         1                        Miss. Margaret Edith Graham\n",
              "884         0                     Miss. Catherine Helen Johnston\n",
              "885         1                               Mr. Karl Howell Behr\n",
              "886         0                                 Mr. Patrick Dooley\n",
              "\n",
              "[887 rows x 2 columns]"
            ]
          },
          "metadata": {
            "tags": []
          },
          "execution_count": 141
        }
      ],
      "metadata": {
        "id": "65Hc_sWpaGmY",
        "colab": {
          "base_uri": "https://localhost:8080/",
          "height": 1000
        },
        "outputId": "67d53027-9860-42d0-c678-1d8c5e006e20"
      }
    },
    {
      "cell_type": "code",
      "execution_count": null,
      "source": [
        "data.columns # все колонки"
      ],
      "outputs": [
        {
          "output_type": "execute_result",
          "data": {
            "text/plain": [
              "Index(['Survived', 'Pclass', 'Name', 'Sex', 'Age', 'Siblings/Spouses Aboard',\n",
              "       'Parents/Children Aboard', 'Fare'],\n",
              "      dtype='object')"
            ]
          },
          "metadata": {
            "tags": []
          },
          "execution_count": 142
        }
      ],
      "metadata": {
        "id": "SU5b51TGaS-o",
        "colab": {
          "base_uri": "https://localhost:8080/",
          "height": 68
        },
        "outputId": "7e0da6b3-61d8-4ea8-b45b-e4aaababe6db"
      }
    },
    {
      "cell_type": "markdown",
      "source": [
        "### Типы данных и полезная информация"
      ],
      "metadata": {
        "id": "xgPfRiJxafa6"
      }
    },
    {
      "cell_type": "code",
      "execution_count": null,
      "source": [
        "type(data)"
      ],
      "outputs": [
        {
          "output_type": "execute_result",
          "data": {
            "text/plain": [
              "pandas.core.frame.DataFrame"
            ]
          },
          "metadata": {
            "tags": []
          },
          "execution_count": 143
        }
      ],
      "metadata": {
        "id": "w52wsCm_aV6Q",
        "colab": {
          "base_uri": "https://localhost:8080/",
          "height": 34
        },
        "outputId": "5f76205e-3a67-4a15-8a9e-467378ba89b1"
      }
    },
    {
      "cell_type": "code",
      "execution_count": null,
      "source": [
        "type(data['Siblings/Spouses Aboard'])"
      ],
      "outputs": [
        {
          "output_type": "execute_result",
          "data": {
            "text/plain": [
              "pandas.core.series.Series"
            ]
          },
          "metadata": {
            "tags": []
          },
          "execution_count": 144
        }
      ],
      "metadata": {
        "id": "eLYeiFLhaYpw",
        "colab": {
          "base_uri": "https://localhost:8080/",
          "height": 34
        },
        "outputId": "d5a7023b-6222-493b-e174-631c398412a9"
      }
    },
    {
      "cell_type": "markdown",
      "source": [
        "По аналогии с Series можно накладывать условия на данные"
      ],
      "metadata": {
        "id": "L-cEb8BDcuFh"
      }
    },
    {
      "cell_type": "code",
      "execution_count": null,
      "source": [
        "data[data['Age']>70][data['Pclass']==1]"
      ],
      "outputs": [
        {
          "output_type": "stream",
          "name": "stderr",
          "text": [
            "/usr/local/lib/python3.6/dist-packages/ipykernel_launcher.py:1: UserWarning: Boolean Series key will be reindexed to match DataFrame index.\n",
            "  \"\"\"Entry point for launching an IPython kernel.\n"
          ]
        },
        {
          "output_type": "execute_result",
          "data": {
            "text/html": [
              "<div>\n",
              "<style scoped>\n",
              "    .dataframe tbody tr th:only-of-type {\n",
              "        vertical-align: middle;\n",
              "    }\n",
              "\n",
              "    .dataframe tbody tr th {\n",
              "        vertical-align: top;\n",
              "    }\n",
              "\n",
              "    .dataframe thead th {\n",
              "        text-align: right;\n",
              "    }\n",
              "</style>\n",
              "<table border=\"1\" class=\"dataframe\">\n",
              "  <thead>\n",
              "    <tr style=\"text-align: right;\">\n",
              "      <th></th>\n",
              "      <th>Survived</th>\n",
              "      <th>Pclass</th>\n",
              "      <th>Name</th>\n",
              "      <th>Sex</th>\n",
              "      <th>Age</th>\n",
              "      <th>Siblings/Spouses Aboard</th>\n",
              "      <th>Parents/Children Aboard</th>\n",
              "      <th>Fare</th>\n",
              "    </tr>\n",
              "  </thead>\n",
              "  <tbody>\n",
              "    <tr>\n",
              "      <th>95</th>\n",
              "      <td>0</td>\n",
              "      <td>1</td>\n",
              "      <td>Mr. George B Goldschmidt</td>\n",
              "      <td>male</td>\n",
              "      <td>71.0</td>\n",
              "      <td>0</td>\n",
              "      <td>0</td>\n",
              "      <td>34.6542</td>\n",
              "    </tr>\n",
              "    <tr>\n",
              "      <th>490</th>\n",
              "      <td>0</td>\n",
              "      <td>1</td>\n",
              "      <td>Mr. Ramon Artagaveytia</td>\n",
              "      <td>male</td>\n",
              "      <td>71.0</td>\n",
              "      <td>0</td>\n",
              "      <td>0</td>\n",
              "      <td>49.5042</td>\n",
              "    </tr>\n",
              "    <tr>\n",
              "      <th>627</th>\n",
              "      <td>1</td>\n",
              "      <td>1</td>\n",
              "      <td>Mr. Algernon Henry Wilson Barkworth</td>\n",
              "      <td>male</td>\n",
              "      <td>80.0</td>\n",
              "      <td>0</td>\n",
              "      <td>0</td>\n",
              "      <td>30.0000</td>\n",
              "    </tr>\n",
              "  </tbody>\n",
              "</table>\n",
              "</div>"
            ],
            "text/plain": [
              "     Survived  Pclass  ... Parents/Children Aboard     Fare\n",
              "95          0       1  ...                       0  34.6542\n",
              "490         0       1  ...                       0  49.5042\n",
              "627         1       1  ...                       0  30.0000\n",
              "\n",
              "[3 rows x 8 columns]"
            ]
          },
          "metadata": {
            "tags": []
          },
          "execution_count": 6
        }
      ],
      "metadata": {
        "id": "F-4dnNVXcxY3",
        "colab": {
          "base_uri": "https://localhost:8080/",
          "height": 175
        },
        "outputId": "796ab751-2349-469a-c1ab-a9090fc229eb"
      }
    },
    {
      "cell_type": "code",
      "execution_count": null,
      "source": [
        "data.shape"
      ],
      "outputs": [
        {
          "output_type": "execute_result",
          "data": {
            "text/plain": [
              "(887, 8)"
            ]
          },
          "metadata": {
            "tags": []
          },
          "execution_count": 145
        }
      ],
      "metadata": {
        "id": "W-11n109abIY",
        "colab": {
          "base_uri": "https://localhost:8080/",
          "height": 34
        },
        "outputId": "f424c964-350e-43ed-b4b2-ecefa73d0aa5"
      }
    },
    {
      "cell_type": "code",
      "execution_count": null,
      "source": [
        "data.dtypes"
      ],
      "outputs": [
        {
          "output_type": "execute_result",
          "data": {
            "text/plain": [
              "Survived                     int64\n",
              "Pclass                       int64\n",
              "Name                        object\n",
              "Sex                         object\n",
              "Age                        float64\n",
              "Siblings/Spouses Aboard      int64\n",
              "Parents/Children Aboard      int64\n",
              "Fare                       float64\n",
              "dtype: object"
            ]
          },
          "metadata": {
            "tags": []
          },
          "execution_count": 146
        }
      ],
      "metadata": {
        "id": "pRT42iEUacPo",
        "colab": {
          "base_uri": "https://localhost:8080/",
          "height": 170
        },
        "outputId": "9f947650-16a7-40fe-a628-4393d8129f40"
      }
    },
    {
      "cell_type": "code",
      "execution_count": null,
      "source": [
        "data['Age'].mean()"
      ],
      "outputs": [
        {
          "output_type": "execute_result",
          "data": {
            "text/plain": [
              "29.471443066516347"
            ]
          },
          "metadata": {
            "tags": []
          },
          "execution_count": 147
        }
      ],
      "metadata": {
        "id": "V2dV1Ty4adVI",
        "colab": {
          "base_uri": "https://localhost:8080/",
          "height": 34
        },
        "outputId": "35aa4724-018e-4978-daaa-c9209d5d23fe"
      }
    },
    {
      "cell_type": "code",
      "execution_count": null,
      "source": [
        "data['Age'].var()"
      ],
      "outputs": [
        {
          "output_type": "execute_result",
          "data": {
            "text/plain": [
              "199.428297012274"
            ]
          },
          "metadata": {
            "tags": []
          },
          "execution_count": 148
        }
      ],
      "metadata": {
        "id": "en3my8zfals4",
        "colab": {
          "base_uri": "https://localhost:8080/",
          "height": 34
        },
        "outputId": "c6eef49f-b1eb-4aa4-8e1b-0badea42abef"
      }
    },
    {
      "cell_type": "code",
      "execution_count": null,
      "source": [
        "data['Age'].std()"
      ],
      "outputs": [
        {
          "output_type": "execute_result",
          "data": {
            "text/plain": [
              "14.121908405462555"
            ]
          },
          "metadata": {
            "tags": []
          },
          "execution_count": 149
        }
      ],
      "metadata": {
        "id": "fiWKSZkZamuI",
        "colab": {
          "base_uri": "https://localhost:8080/",
          "height": 34
        },
        "outputId": "c88eb582-cca9-4729-cdbd-b0026b9e82e1"
      }
    },
    {
      "cell_type": "code",
      "execution_count": null,
      "source": [
        "data.describe() # сводные данные"
      ],
      "outputs": [
        {
          "output_type": "execute_result",
          "data": {
            "text/html": [
              "<div>\n",
              "<style scoped>\n",
              "    .dataframe tbody tr th:only-of-type {\n",
              "        vertical-align: middle;\n",
              "    }\n",
              "\n",
              "    .dataframe tbody tr th {\n",
              "        vertical-align: top;\n",
              "    }\n",
              "\n",
              "    .dataframe thead th {\n",
              "        text-align: right;\n",
              "    }\n",
              "</style>\n",
              "<table border=\"1\" class=\"dataframe\">\n",
              "  <thead>\n",
              "    <tr style=\"text-align: right;\">\n",
              "      <th></th>\n",
              "      <th>Survived</th>\n",
              "      <th>Pclass</th>\n",
              "      <th>Age</th>\n",
              "      <th>Siblings/Spouses Aboard</th>\n",
              "      <th>Parents/Children Aboard</th>\n",
              "      <th>Fare</th>\n",
              "    </tr>\n",
              "  </thead>\n",
              "  <tbody>\n",
              "    <tr>\n",
              "      <th>count</th>\n",
              "      <td>887.000000</td>\n",
              "      <td>887.000000</td>\n",
              "      <td>887.000000</td>\n",
              "      <td>887.000000</td>\n",
              "      <td>887.000000</td>\n",
              "      <td>887.00000</td>\n",
              "    </tr>\n",
              "    <tr>\n",
              "      <th>mean</th>\n",
              "      <td>0.385569</td>\n",
              "      <td>2.305524</td>\n",
              "      <td>29.471443</td>\n",
              "      <td>0.525366</td>\n",
              "      <td>0.383315</td>\n",
              "      <td>32.30542</td>\n",
              "    </tr>\n",
              "    <tr>\n",
              "      <th>std</th>\n",
              "      <td>0.487004</td>\n",
              "      <td>0.836662</td>\n",
              "      <td>14.121908</td>\n",
              "      <td>1.104669</td>\n",
              "      <td>0.807466</td>\n",
              "      <td>49.78204</td>\n",
              "    </tr>\n",
              "    <tr>\n",
              "      <th>min</th>\n",
              "      <td>0.000000</td>\n",
              "      <td>1.000000</td>\n",
              "      <td>0.420000</td>\n",
              "      <td>0.000000</td>\n",
              "      <td>0.000000</td>\n",
              "      <td>0.00000</td>\n",
              "    </tr>\n",
              "    <tr>\n",
              "      <th>25%</th>\n",
              "      <td>0.000000</td>\n",
              "      <td>2.000000</td>\n",
              "      <td>20.250000</td>\n",
              "      <td>0.000000</td>\n",
              "      <td>0.000000</td>\n",
              "      <td>7.92500</td>\n",
              "    </tr>\n",
              "    <tr>\n",
              "      <th>50%</th>\n",
              "      <td>0.000000</td>\n",
              "      <td>3.000000</td>\n",
              "      <td>28.000000</td>\n",
              "      <td>0.000000</td>\n",
              "      <td>0.000000</td>\n",
              "      <td>14.45420</td>\n",
              "    </tr>\n",
              "    <tr>\n",
              "      <th>75%</th>\n",
              "      <td>1.000000</td>\n",
              "      <td>3.000000</td>\n",
              "      <td>38.000000</td>\n",
              "      <td>1.000000</td>\n",
              "      <td>0.000000</td>\n",
              "      <td>31.13750</td>\n",
              "    </tr>\n",
              "    <tr>\n",
              "      <th>max</th>\n",
              "      <td>1.000000</td>\n",
              "      <td>3.000000</td>\n",
              "      <td>80.000000</td>\n",
              "      <td>8.000000</td>\n",
              "      <td>6.000000</td>\n",
              "      <td>512.32920</td>\n",
              "    </tr>\n",
              "  </tbody>\n",
              "</table>\n",
              "</div>"
            ],
            "text/plain": [
              "         Survived      Pclass  ...  Parents/Children Aboard       Fare\n",
              "count  887.000000  887.000000  ...               887.000000  887.00000\n",
              "mean     0.385569    2.305524  ...                 0.383315   32.30542\n",
              "std      0.487004    0.836662  ...                 0.807466   49.78204\n",
              "min      0.000000    1.000000  ...                 0.000000    0.00000\n",
              "25%      0.000000    2.000000  ...                 0.000000    7.92500\n",
              "50%      0.000000    3.000000  ...                 0.000000   14.45420\n",
              "75%      1.000000    3.000000  ...                 0.000000   31.13750\n",
              "max      1.000000    3.000000  ...                 6.000000  512.32920\n",
              "\n",
              "[8 rows x 6 columns]"
            ]
          },
          "metadata": {
            "tags": []
          },
          "execution_count": 150
        }
      ],
      "metadata": {
        "id": "xzAHOckzanrQ",
        "colab": {
          "base_uri": "https://localhost:8080/",
          "height": 297
        },
        "outputId": "96b6ca50-e638-489d-e2bc-0c9e1fd627b1"
      }
    },
    {
      "cell_type": "code",
      "execution_count": null,
      "source": [
        "data[['Age', 'Fare']].mean()"
      ],
      "outputs": [
        {
          "output_type": "execute_result",
          "data": {
            "text/plain": [
              "Age     29.471443\n",
              "Fare    32.305420\n",
              "dtype: float64"
            ]
          },
          "metadata": {
            "tags": []
          },
          "execution_count": 151
        }
      ],
      "metadata": {
        "id": "zFoTFD-saosI",
        "colab": {
          "base_uri": "https://localhost:8080/",
          "height": 68
        },
        "outputId": "20b178f5-7ea9-455a-dc3c-cfef3ac68289"
      }
    },
    {
      "cell_type": "markdown",
      "source": [
        "### Гистограммы"
      ],
      "metadata": {
        "id": "RRJeSzJYbmv7"
      }
    },
    {
      "cell_type": "code",
      "execution_count": null,
      "source": [
        "data['Age'].hist(density=True) # density=True выведет долю, а не количество"
      ],
      "outputs": [
        {
          "output_type": "execute_result",
          "data": {
            "text/plain": [
              "<matplotlib.axes._subplots.AxesSubplot at 0x7fd15a02eb00>"
            ]
          },
          "metadata": {
            "tags": []
          },
          "execution_count": 159
        },
        {
          "output_type": "display_data",
          "data": {
            "image/png": "[encoded data removed]",
            "text/plain": [
              "<Figure size 432x288 with 1 Axes>"
            ]
          },
          "metadata": {
            "tags": []
          }
        }
      ],
      "metadata": {
        "id": "_FvxG1IhapwI",
        "colab": {
          "base_uri": "https://localhost:8080/",
          "height": 286
        },
        "outputId": "8731f1bc-4e80-4de1-9112-6de88bd55b3f"
      }
    },
    {
      "cell_type": "code",
      "execution_count": null,
      "source": [
        "data['Pclass'].hist(density=True)"
      ],
      "outputs": [
        {
          "output_type": "execute_result",
          "data": {
            "text/plain": [
              "<matplotlib.axes._subplots.AxesSubplot at 0x7fd15e8e89e8>"
            ]
          },
          "metadata": {
            "tags": []
          },
          "execution_count": 160
        },
        {
          "output_type": "display_data",
          "data": {
            "image/png": "[encoded data removed]",
            "text/plain": [
              "<Figure size 432x288 with 1 Axes>"
            ]
          },
          "metadata": {
            "tags": []
          }
        }
      ],
      "metadata": {
        "id": "JUPlAxBAas-g",
        "colab": {
          "base_uri": "https://localhost:8080/",
          "height": 286
        },
        "outputId": "686c5bba-8178-42d7-9032-b466163c1256"
      }
    },
    {
      "cell_type": "code",
      "execution_count": null,
      "source": [
        "data['Survived'].hist()"
      ],
      "outputs": [
        {
          "output_type": "execute_result",
          "data": {
            "text/plain": [
              "<matplotlib.axes._subplots.AxesSubplot at 0x7fd15a040048>"
            ]
          },
          "metadata": {
            "tags": []
          },
          "execution_count": 161
        },
        {
          "output_type": "display_data",
          "data": {
            "image/png": "[encoded data removed]",
            "text/plain": [
              "<Figure size 432x288 with 1 Axes>"
            ]
          },
          "metadata": {
            "tags": []
          }
        }
      ],
      "metadata": {
        "id": "h3Gq5s4Zauaw",
        "colab": {
          "base_uri": "https://localhost:8080/",
          "height": 286
        },
        "outputId": "2e7941a9-a20a-4479-8428-1e6720788427"
      }
    },
    {
      "cell_type": "code",
      "execution_count": null,
      "source": [
        "data[['Age', 'Survived']].hist()"
      ],
      "outputs": [
        {
          "output_type": "execute_result",
          "data": {
            "text/plain": [
              "array([[<matplotlib.axes._subplots.AxesSubplot object at 0x7fd15a08c4a8>,\n",
              "        <matplotlib.axes._subplots.AxesSubplot object at 0x7fd159f1a550>]],\n",
              "      dtype=object)"
            ]
          },
          "metadata": {
            "tags": []
          },
          "execution_count": 162
        },
        {
          "output_type": "display_data",
          "data": {
            "image/png": "[encoded data removed]",
            "text/plain": [
              "<Figure size 432x288 with 2 Axes>"
            ]
          },
          "metadata": {
            "tags": []
          }
        }
      ],
      "metadata": {
        "id": "QDRuNhywa0p4",
        "colab": {
          "base_uri": "https://localhost:8080/",
          "height": 332
        },
        "outputId": "498dd8a5-dffb-47c4-c851-74deea20ae9a"
      }
    },
    {
      "cell_type": "code",
      "execution_count": null,
      "source": [
        "data.groupby(['Sex', 'Survived'])['Survived'].count()"
      ],
      "outputs": [
        {
          "output_type": "execute_result",
          "data": {
            "text/plain": [
              "Sex     Survived\n",
              "female  0            81\n",
              "        1           233\n",
              "male    0           464\n",
              "        1           109\n",
              "Name: Survived, dtype: int64"
            ]
          },
          "metadata": {
            "tags": []
          },
          "execution_count": 163
        }
      ],
      "metadata": {
        "id": "m72Ex2-HbVtK",
        "colab": {
          "base_uri": "https://localhost:8080/",
          "height": 119
        },
        "outputId": "a28cd35d-8c81-4319-f5cd-4022e2b0f3d9"
      }
    },
    {
      "cell_type": "code",
      "execution_count": null,
      "source": [
        "data[['Sex', 'Survived']].groupby('Sex').mean().plot.bar()"
      ],
      "outputs": [
        {
          "output_type": "execute_result",
          "data": {
            "text/plain": [
              "<matplotlib.axes._subplots.AxesSubplot at 0x7fd159eb8748>"
            ]
          },
          "metadata": {
            "tags": []
          },
          "execution_count": 164
        },
        {
          "output_type": "display_data",
          "data": {
            "image/png": "[encoded data removed]",
            "text/plain": [
              "<Figure size 432x288 with 1 Axes>"
            ]
          },
          "metadata": {
            "tags": []
          }
        }
      ],
      "metadata": {
        "id": "Rnoz3rlIbYCo",
        "colab": {
          "base_uri": "https://localhost:8080/",
          "height": 324
        },
        "outputId": "be2fdc9b-d7c6-411b-b255-326388a0197a"
      }
    },
    {
      "cell_type": "code",
      "execution_count": null,
      "source": [
        "data.drop_duplicates()"
      ],
      "outputs": [
        {
          "output_type": "execute_result",
          "data": {
            "text/html": [
              "<div>\n",
              "<style scoped>\n",
              "    .dataframe tbody tr th:only-of-type {\n",
              "        vertical-align: middle;\n",
              "    }\n",
              "\n",
              "    .dataframe tbody tr th {\n",
              "        vertical-align: top;\n",
              "    }\n",
              "\n",
              "    .dataframe thead th {\n",
              "        text-align: right;\n",
              "    }\n",
              "</style>\n",
              "<table border=\"1\" class=\"dataframe\">\n",
              "  <thead>\n",
              "    <tr style=\"text-align: right;\">\n",
              "      <th></th>\n",
              "      <th>Survived</th>\n",
              "      <th>Pclass</th>\n",
              "      <th>Name</th>\n",
              "      <th>Sex</th>\n",
              "      <th>Age</th>\n",
              "      <th>Siblings/Spouses Aboard</th>\n",
              "      <th>Parents/Children Aboard</th>\n",
              "      <th>Fare</th>\n",
              "    </tr>\n",
              "  </thead>\n",
              "  <tbody>\n",
              "    <tr>\n",
              "      <th>0</th>\n",
              "      <td>0</td>\n",
              "      <td>3</td>\n",
              "      <td>Mr. Owen Harris Braund</td>\n",
              "      <td>male</td>\n",
              "      <td>22.0</td>\n",
              "      <td>1</td>\n",
              "      <td>0</td>\n",
              "      <td>7.2500</td>\n",
              "    </tr>\n",
              "    <tr>\n",
              "      <th>1</th>\n",
              "      <td>1</td>\n",
              "      <td>1</td>\n",
              "      <td>Mrs. John Bradley (Florence Briggs Thayer) Cum...</td>\n",
              "      <td>female</td>\n",
              "      <td>38.0</td>\n",
              "      <td>1</td>\n",
              "      <td>0</td>\n",
              "      <td>71.2833</td>\n",
              "    </tr>\n",
              "    <tr>\n",
              "      <th>2</th>\n",
              "      <td>1</td>\n",
              "      <td>3</td>\n",
              "      <td>Miss. Laina Heikkinen</td>\n",
              "      <td>female</td>\n",
              "      <td>26.0</td>\n",
              "      <td>0</td>\n",
              "      <td>0</td>\n",
              "      <td>7.9250</td>\n",
              "    </tr>\n",
              "    <tr>\n",
              "      <th>3</th>\n",
              "      <td>1</td>\n",
              "      <td>1</td>\n",
              "      <td>Mrs. Jacques Heath (Lily May Peel) Futrelle</td>\n",
              "      <td>female</td>\n",
              "      <td>35.0</td>\n",
              "      <td>1</td>\n",
              "      <td>0</td>\n",
              "      <td>53.1000</td>\n",
              "    </tr>\n",
              "    <tr>\n",
              "      <th>4</th>\n",
              "      <td>0</td>\n",
              "      <td>3</td>\n",
              "      <td>Mr. William Henry Allen</td>\n",
              "      <td>male</td>\n",
              "      <td>35.0</td>\n",
              "      <td>0</td>\n",
              "      <td>0</td>\n",
              "      <td>8.0500</td>\n",
              "    </tr>\n",
              "    <tr>\n",
              "      <th>5</th>\n",
              "      <td>0</td>\n",
              "      <td>3</td>\n",
              "      <td>Mr. James Moran</td>\n",
              "      <td>male</td>\n",
              "      <td>27.0</td>\n",
              "      <td>0</td>\n",
              "      <td>0</td>\n",
              "      <td>8.4583</td>\n",
              "    </tr>\n",
              "    <tr>\n",
              "      <th>6</th>\n",
              "      <td>0</td>\n",
              "      <td>1</td>\n",
              "      <td>Mr. Timothy J McCarthy</td>\n",
              "      <td>male</td>\n",
              "      <td>54.0</td>\n",
              "      <td>0</td>\n",
              "      <td>0</td>\n",
              "      <td>51.8625</td>\n",
              "    </tr>\n",
              "    <tr>\n",
              "      <th>7</th>\n",
              "      <td>0</td>\n",
              "      <td>3</td>\n",
              "      <td>Master. Gosta Leonard Palsson</td>\n",
              "      <td>male</td>\n",
              "      <td>2.0</td>\n",
              "      <td>3</td>\n",
              "      <td>1</td>\n",
              "      <td>21.0750</td>\n",
              "    </tr>\n",
              "    <tr>\n",
              "      <th>8</th>\n",
              "      <td>1</td>\n",
              "      <td>3</td>\n",
              "      <td>Mrs. Oscar W (Elisabeth Vilhelmina Berg) Johnson</td>\n",
              "      <td>female</td>\n",
              "      <td>27.0</td>\n",
              "      <td>0</td>\n",
              "      <td>2</td>\n",
              "      <td>11.1333</td>\n",
              "    </tr>\n",
              "    <tr>\n",
              "      <th>9</th>\n",
              "      <td>1</td>\n",
              "      <td>2</td>\n",
              "      <td>Mrs. Nicholas (Adele Achem) Nasser</td>\n",
              "      <td>female</td>\n",
              "      <td>14.0</td>\n",
              "      <td>1</td>\n",
              "      <td>0</td>\n",
              "      <td>30.0708</td>\n",
              "    </tr>\n",
              "    <tr>\n",
              "      <th>10</th>\n",
              "      <td>1</td>\n",
              "      <td>3</td>\n",
              "      <td>Miss. Marguerite Rut Sandstrom</td>\n",
              "      <td>female</td>\n",
              "      <td>4.0</td>\n",
              "      <td>1</td>\n",
              "      <td>1</td>\n",
              "      <td>16.7000</td>\n",
              "    </tr>\n",
              "    <tr>\n",
              "      <th>11</th>\n",
              "      <td>1</td>\n",
              "      <td>1</td>\n",
              "      <td>Miss. Elizabeth Bonnell</td>\n",
              "      <td>female</td>\n",
              "      <td>58.0</td>\n",
              "      <td>0</td>\n",
              "      <td>0</td>\n",
              "      <td>26.5500</td>\n",
              "    </tr>\n",
              "    <tr>\n",
              "      <th>12</th>\n",
              "      <td>0</td>\n",
              "      <td>3</td>\n",
              "      <td>Mr. William Henry Saundercock</td>\n",
              "      <td>male</td>\n",
              "      <td>20.0</td>\n",
              "      <td>0</td>\n",
              "      <td>0</td>\n",
              "      <td>8.0500</td>\n",
              "    </tr>\n",
              "    <tr>\n",
              "      <th>13</th>\n",
              "      <td>0</td>\n",
              "      <td>3</td>\n",
              "      <td>Mr. Anders Johan Andersson</td>\n",
              "      <td>male</td>\n",
              "      <td>39.0</td>\n",
              "      <td>1</td>\n",
              "      <td>5</td>\n",
              "      <td>31.2750</td>\n",
              "    </tr>\n",
              "    <tr>\n",
              "      <th>14</th>\n",
              "      <td>0</td>\n",
              "      <td>3</td>\n",
              "      <td>Miss. Hulda Amanda Adolfina Vestrom</td>\n",
              "      <td>female</td>\n",
              "      <td>14.0</td>\n",
              "      <td>0</td>\n",
              "      <td>0</td>\n",
              "      <td>7.8542</td>\n",
              "    </tr>\n",
              "    <tr>\n",
              "      <th>15</th>\n",
              "      <td>1</td>\n",
              "      <td>2</td>\n",
              "      <td>Mrs. (Mary D Kingcome) Hewlett</td>\n",
              "      <td>female</td>\n",
              "      <td>55.0</td>\n",
              "      <td>0</td>\n",
              "      <td>0</td>\n",
              "      <td>16.0000</td>\n",
              "    </tr>\n",
              "    <tr>\n",
              "      <th>16</th>\n",
              "      <td>0</td>\n",
              "      <td>3</td>\n",
              "      <td>Master. Eugene Rice</td>\n",
              "      <td>male</td>\n",
              "      <td>2.0</td>\n",
              "      <td>4</td>\n",
              "      <td>1</td>\n",
              "      <td>29.1250</td>\n",
              "    </tr>\n",
              "    <tr>\n",
              "      <th>17</th>\n",
              "      <td>1</td>\n",
              "      <td>2</td>\n",
              "      <td>Mr. Charles Eugene Williams</td>\n",
              "      <td>male</td>\n",
              "      <td>23.0</td>\n",
              "      <td>0</td>\n",
              "      <td>0</td>\n",
              "      <td>13.0000</td>\n",
              "    </tr>\n",
              "    <tr>\n",
              "      <th>18</th>\n",
              "      <td>0</td>\n",
              "      <td>3</td>\n",
              "      <td>Mrs. Julius (Emelia Maria Vandemoortele) Vande...</td>\n",
              "      <td>female</td>\n",
              "      <td>31.0</td>\n",
              "      <td>1</td>\n",
              "      <td>0</td>\n",
              "      <td>18.0000</td>\n",
              "    </tr>\n",
              "    <tr>\n",
              "      <th>19</th>\n",
              "      <td>1</td>\n",
              "      <td>3</td>\n",
              "      <td>Mrs. Fatima Masselmani</td>\n",
              "      <td>female</td>\n",
              "      <td>22.0</td>\n",
              "      <td>0</td>\n",
              "      <td>0</td>\n",
              "      <td>7.2250</td>\n",
              "    </tr>\n",
              "    <tr>\n",
              "      <th>20</th>\n",
              "      <td>0</td>\n",
              "      <td>2</td>\n",
              "      <td>Mr. Joseph J Fynney</td>\n",
              "      <td>male</td>\n",
              "      <td>35.0</td>\n",
              "      <td>0</td>\n",
              "      <td>0</td>\n",
              "      <td>26.0000</td>\n",
              "    </tr>\n",
              "    <tr>\n",
              "      <th>21</th>\n",
              "      <td>1</td>\n",
              "      <td>2</td>\n",
              "      <td>Mr. Lawrence Beesley</td>\n",
              "      <td>male</td>\n",
              "      <td>34.0</td>\n",
              "      <td>0</td>\n",
              "      <td>0</td>\n",
              "      <td>13.0000</td>\n",
              "    </tr>\n",
              "    <tr>\n",
              "      <th>22</th>\n",
              "      <td>1</td>\n",
              "      <td>3</td>\n",
              "      <td>Miss. Anna McGowan</td>\n",
              "      <td>female</td>\n",
              "      <td>15.0</td>\n",
              "      <td>0</td>\n",
              "      <td>0</td>\n",
              "      <td>8.0292</td>\n",
              "    </tr>\n",
              "    <tr>\n",
              "      <th>23</th>\n",
              "      <td>1</td>\n",
              "      <td>1</td>\n",
              "      <td>Mr. William Thompson Sloper</td>\n",
              "      <td>male</td>\n",
              "      <td>28.0</td>\n",
              "      <td>0</td>\n",
              "      <td>0</td>\n",
              "      <td>35.5000</td>\n",
              "    </tr>\n",
              "    <tr>\n",
              "      <th>24</th>\n",
              "      <td>0</td>\n",
              "      <td>3</td>\n",
              "      <td>Miss. Torborg Danira Palsson</td>\n",
              "      <td>female</td>\n",
              "      <td>8.0</td>\n",
              "      <td>3</td>\n",
              "      <td>1</td>\n",
              "      <td>21.0750</td>\n",
              "    </tr>\n",
              "    <tr>\n",
              "      <th>25</th>\n",
              "      <td>1</td>\n",
              "      <td>3</td>\n",
              "      <td>Mrs. Carl Oscar (Selma Augusta Emilia Johansso...</td>\n",
              "      <td>female</td>\n",
              "      <td>38.0</td>\n",
              "      <td>1</td>\n",
              "      <td>5</td>\n",
              "      <td>31.3875</td>\n",
              "    </tr>\n",
              "    <tr>\n",
              "      <th>26</th>\n",
              "      <td>0</td>\n",
              "      <td>3</td>\n",
              "      <td>Mr. Farred Chehab Emir</td>\n",
              "      <td>male</td>\n",
              "      <td>26.0</td>\n",
              "      <td>0</td>\n",
              "      <td>0</td>\n",
              "      <td>7.2250</td>\n",
              "    </tr>\n",
              "    <tr>\n",
              "      <th>27</th>\n",
              "      <td>0</td>\n",
              "      <td>1</td>\n",
              "      <td>Mr. Charles Alexander Fortune</td>\n",
              "      <td>male</td>\n",
              "      <td>19.0</td>\n",
              "      <td>3</td>\n",
              "      <td>2</td>\n",
              "      <td>263.0000</td>\n",
              "    </tr>\n",
              "    <tr>\n",
              "      <th>28</th>\n",
              "      <td>1</td>\n",
              "      <td>3</td>\n",
              "      <td>Miss. Ellen O'Dwyer</td>\n",
              "      <td>female</td>\n",
              "      <td>24.0</td>\n",
              "      <td>0</td>\n",
              "      <td>0</td>\n",
              "      <td>7.8792</td>\n",
              "    </tr>\n",
              "    <tr>\n",
              "      <th>29</th>\n",
              "      <td>0</td>\n",
              "      <td>3</td>\n",
              "      <td>Mr. Lalio Todoroff</td>\n",
              "      <td>male</td>\n",
              "      <td>23.0</td>\n",
              "      <td>0</td>\n",
              "      <td>0</td>\n",
              "      <td>7.8958</td>\n",
              "    </tr>\n",
              "    <tr>\n",
              "      <th>...</th>\n",
              "      <td>...</td>\n",
              "      <td>...</td>\n",
              "      <td>...</td>\n",
              "      <td>...</td>\n",
              "      <td>...</td>\n",
              "      <td>...</td>\n",
              "      <td>...</td>\n",
              "      <td>...</td>\n",
              "    </tr>\n",
              "    <tr>\n",
              "      <th>857</th>\n",
              "      <td>0</td>\n",
              "      <td>2</td>\n",
              "      <td>Mr. Frederick Edward Giles</td>\n",
              "      <td>male</td>\n",
              "      <td>21.0</td>\n",
              "      <td>1</td>\n",
              "      <td>0</td>\n",
              "      <td>11.5000</td>\n",
              "    </tr>\n",
              "    <tr>\n",
              "      <th>858</th>\n",
              "      <td>1</td>\n",
              "      <td>1</td>\n",
              "      <td>Mrs. Frederick Joel (Margaret Welles Barron) S...</td>\n",
              "      <td>female</td>\n",
              "      <td>48.0</td>\n",
              "      <td>0</td>\n",
              "      <td>0</td>\n",
              "      <td>25.9292</td>\n",
              "    </tr>\n",
              "    <tr>\n",
              "      <th>859</th>\n",
              "      <td>0</td>\n",
              "      <td>3</td>\n",
              "      <td>Miss. Dorothy Edith Sage</td>\n",
              "      <td>female</td>\n",
              "      <td>14.0</td>\n",
              "      <td>8</td>\n",
              "      <td>2</td>\n",
              "      <td>69.5500</td>\n",
              "    </tr>\n",
              "    <tr>\n",
              "      <th>860</th>\n",
              "      <td>0</td>\n",
              "      <td>2</td>\n",
              "      <td>Mr. John William Gill</td>\n",
              "      <td>male</td>\n",
              "      <td>24.0</td>\n",
              "      <td>0</td>\n",
              "      <td>0</td>\n",
              "      <td>13.0000</td>\n",
              "    </tr>\n",
              "    <tr>\n",
              "      <th>861</th>\n",
              "      <td>1</td>\n",
              "      <td>2</td>\n",
              "      <td>Mrs. (Karolina) Bystrom</td>\n",
              "      <td>female</td>\n",
              "      <td>42.0</td>\n",
              "      <td>0</td>\n",
              "      <td>0</td>\n",
              "      <td>13.0000</td>\n",
              "    </tr>\n",
              "    <tr>\n",
              "      <th>862</th>\n",
              "      <td>1</td>\n",
              "      <td>2</td>\n",
              "      <td>Miss. Asuncion Duran y More</td>\n",
              "      <td>female</td>\n",
              "      <td>27.0</td>\n",
              "      <td>1</td>\n",
              "      <td>0</td>\n",
              "      <td>13.8583</td>\n",
              "    </tr>\n",
              "    <tr>\n",
              "      <th>863</th>\n",
              "      <td>0</td>\n",
              "      <td>1</td>\n",
              "      <td>Mr. Washington Augustus II Roebling</td>\n",
              "      <td>male</td>\n",
              "      <td>31.0</td>\n",
              "      <td>0</td>\n",
              "      <td>0</td>\n",
              "      <td>50.4958</td>\n",
              "    </tr>\n",
              "    <tr>\n",
              "      <th>864</th>\n",
              "      <td>0</td>\n",
              "      <td>3</td>\n",
              "      <td>Mr. Philemon van Melkebeke</td>\n",
              "      <td>male</td>\n",
              "      <td>23.0</td>\n",
              "      <td>0</td>\n",
              "      <td>0</td>\n",
              "      <td>9.5000</td>\n",
              "    </tr>\n",
              "    <tr>\n",
              "      <th>865</th>\n",
              "      <td>1</td>\n",
              "      <td>3</td>\n",
              "      <td>Master. Harold Theodor Johnson</td>\n",
              "      <td>male</td>\n",
              "      <td>4.0</td>\n",
              "      <td>1</td>\n",
              "      <td>1</td>\n",
              "      <td>11.1333</td>\n",
              "    </tr>\n",
              "    <tr>\n",
              "      <th>866</th>\n",
              "      <td>0</td>\n",
              "      <td>3</td>\n",
              "      <td>Mr. Cerin Balkic</td>\n",
              "      <td>male</td>\n",
              "      <td>26.0</td>\n",
              "      <td>0</td>\n",
              "      <td>0</td>\n",
              "      <td>7.8958</td>\n",
              "    </tr>\n",
              "    <tr>\n",
              "      <th>867</th>\n",
              "      <td>1</td>\n",
              "      <td>1</td>\n",
              "      <td>Mrs. Richard Leonard (Sallie Monypeny) Beckwith</td>\n",
              "      <td>female</td>\n",
              "      <td>47.0</td>\n",
              "      <td>1</td>\n",
              "      <td>1</td>\n",
              "      <td>52.5542</td>\n",
              "    </tr>\n",
              "    <tr>\n",
              "      <th>868</th>\n",
              "      <td>0</td>\n",
              "      <td>1</td>\n",
              "      <td>Mr. Frans Olof Carlsson</td>\n",
              "      <td>male</td>\n",
              "      <td>33.0</td>\n",
              "      <td>0</td>\n",
              "      <td>0</td>\n",
              "      <td>5.0000</td>\n",
              "    </tr>\n",
              "    <tr>\n",
              "      <th>869</th>\n",
              "      <td>0</td>\n",
              "      <td>3</td>\n",
              "      <td>Mr. Victor Vander Cruyssen</td>\n",
              "      <td>male</td>\n",
              "      <td>47.0</td>\n",
              "      <td>0</td>\n",
              "      <td>0</td>\n",
              "      <td>9.0000</td>\n",
              "    </tr>\n",
              "    <tr>\n",
              "      <th>870</th>\n",
              "      <td>1</td>\n",
              "      <td>2</td>\n",
              "      <td>Mrs. Samuel (Hannah Wizosky) Abelson</td>\n",
              "      <td>female</td>\n",
              "      <td>28.0</td>\n",
              "      <td>1</td>\n",
              "      <td>0</td>\n",
              "      <td>24.0000</td>\n",
              "    </tr>\n",
              "    <tr>\n",
              "      <th>871</th>\n",
              "      <td>1</td>\n",
              "      <td>3</td>\n",
              "      <td>Miss. Adele Kiamie Najib</td>\n",
              "      <td>female</td>\n",
              "      <td>15.0</td>\n",
              "      <td>0</td>\n",
              "      <td>0</td>\n",
              "      <td>7.2250</td>\n",
              "    </tr>\n",
              "    <tr>\n",
              "      <th>872</th>\n",
              "      <td>0</td>\n",
              "      <td>3</td>\n",
              "      <td>Mr. Alfred Ossian Gustafsson</td>\n",
              "      <td>male</td>\n",
              "      <td>20.0</td>\n",
              "      <td>0</td>\n",
              "      <td>0</td>\n",
              "      <td>9.8458</td>\n",
              "    </tr>\n",
              "    <tr>\n",
              "      <th>873</th>\n",
              "      <td>0</td>\n",
              "      <td>3</td>\n",
              "      <td>Mr. Nedelio Petroff</td>\n",
              "      <td>male</td>\n",
              "      <td>19.0</td>\n",
              "      <td>0</td>\n",
              "      <td>0</td>\n",
              "      <td>7.8958</td>\n",
              "    </tr>\n",
              "    <tr>\n",
              "      <th>874</th>\n",
              "      <td>0</td>\n",
              "      <td>3</td>\n",
              "      <td>Mr. Kristo Laleff</td>\n",
              "      <td>male</td>\n",
              "      <td>23.0</td>\n",
              "      <td>0</td>\n",
              "      <td>0</td>\n",
              "      <td>7.8958</td>\n",
              "    </tr>\n",
              "    <tr>\n",
              "      <th>875</th>\n",
              "      <td>1</td>\n",
              "      <td>1</td>\n",
              "      <td>Mrs. Thomas Jr (Lily Alexenia Wilson) Potter</td>\n",
              "      <td>female</td>\n",
              "      <td>56.0</td>\n",
              "      <td>0</td>\n",
              "      <td>1</td>\n",
              "      <td>83.1583</td>\n",
              "    </tr>\n",
              "    <tr>\n",
              "      <th>876</th>\n",
              "      <td>1</td>\n",
              "      <td>2</td>\n",
              "      <td>Mrs. William (Imanita Parrish Hall) Shelley</td>\n",
              "      <td>female</td>\n",
              "      <td>25.0</td>\n",
              "      <td>0</td>\n",
              "      <td>1</td>\n",
              "      <td>26.0000</td>\n",
              "    </tr>\n",
              "    <tr>\n",
              "      <th>877</th>\n",
              "      <td>0</td>\n",
              "      <td>3</td>\n",
              "      <td>Mr. Johann Markun</td>\n",
              "      <td>male</td>\n",
              "      <td>33.0</td>\n",
              "      <td>0</td>\n",
              "      <td>0</td>\n",
              "      <td>7.8958</td>\n",
              "    </tr>\n",
              "    <tr>\n",
              "      <th>878</th>\n",
              "      <td>0</td>\n",
              "      <td>3</td>\n",
              "      <td>Miss. Gerda Ulrika Dahlberg</td>\n",
              "      <td>female</td>\n",
              "      <td>22.0</td>\n",
              "      <td>0</td>\n",
              "      <td>0</td>\n",
              "      <td>10.5167</td>\n",
              "    </tr>\n",
              "    <tr>\n",
              "      <th>879</th>\n",
              "      <td>0</td>\n",
              "      <td>2</td>\n",
              "      <td>Mr. Frederick James Banfield</td>\n",
              "      <td>male</td>\n",
              "      <td>28.0</td>\n",
              "      <td>0</td>\n",
              "      <td>0</td>\n",
              "      <td>10.5000</td>\n",
              "    </tr>\n",
              "    <tr>\n",
              "      <th>880</th>\n",
              "      <td>0</td>\n",
              "      <td>3</td>\n",
              "      <td>Mr. Henry Jr Sutehall</td>\n",
              "      <td>male</td>\n",
              "      <td>25.0</td>\n",
              "      <td>0</td>\n",
              "      <td>0</td>\n",
              "      <td>7.0500</td>\n",
              "    </tr>\n",
              "    <tr>\n",
              "      <th>881</th>\n",
              "      <td>0</td>\n",
              "      <td>3</td>\n",
              "      <td>Mrs. William (Margaret Norton) Rice</td>\n",
              "      <td>female</td>\n",
              "      <td>39.0</td>\n",
              "      <td>0</td>\n",
              "      <td>5</td>\n",
              "      <td>29.1250</td>\n",
              "    </tr>\n",
              "    <tr>\n",
              "      <th>882</th>\n",
              "      <td>0</td>\n",
              "      <td>2</td>\n",
              "      <td>Rev. Juozas Montvila</td>\n",
              "      <td>male</td>\n",
              "      <td>27.0</td>\n",
              "      <td>0</td>\n",
              "      <td>0</td>\n",
              "      <td>13.0000</td>\n",
              "    </tr>\n",
              "    <tr>\n",
              "      <th>883</th>\n",
              "      <td>1</td>\n",
              "      <td>1</td>\n",
              "      <td>Miss. Margaret Edith Graham</td>\n",
              "      <td>female</td>\n",
              "      <td>19.0</td>\n",
              "      <td>0</td>\n",
              "      <td>0</td>\n",
              "      <td>30.0000</td>\n",
              "    </tr>\n",
              "    <tr>\n",
              "      <th>884</th>\n",
              "      <td>0</td>\n",
              "      <td>3</td>\n",
              "      <td>Miss. Catherine Helen Johnston</td>\n",
              "      <td>female</td>\n",
              "      <td>7.0</td>\n",
              "      <td>1</td>\n",
              "      <td>2</td>\n",
              "      <td>23.4500</td>\n",
              "    </tr>\n",
              "    <tr>\n",
              "      <th>885</th>\n",
              "      <td>1</td>\n",
              "      <td>1</td>\n",
              "      <td>Mr. Karl Howell Behr</td>\n",
              "      <td>male</td>\n",
              "      <td>26.0</td>\n",
              "      <td>0</td>\n",
              "      <td>0</td>\n",
              "      <td>30.0000</td>\n",
              "    </tr>\n",
              "    <tr>\n",
              "      <th>886</th>\n",
              "      <td>0</td>\n",
              "      <td>3</td>\n",
              "      <td>Mr. Patrick Dooley</td>\n",
              "      <td>male</td>\n",
              "      <td>32.0</td>\n",
              "      <td>0</td>\n",
              "      <td>0</td>\n",
              "      <td>7.7500</td>\n",
              "    </tr>\n",
              "  </tbody>\n",
              "</table>\n",
              "<p>887 rows × 8 columns</p>\n",
              "</div>"
            ],
            "text/plain": [
              "     Survived  Pclass  ... Parents/Children Aboard      Fare\n",
              "0           0       3  ...                       0    7.2500\n",
              "1           1       1  ...                       0   71.2833\n",
              "2           1       3  ...                       0    7.9250\n",
              "3           1       1  ...                       0   53.1000\n",
              "4           0       3  ...                       0    8.0500\n",
              "5           0       3  ...                       0    8.4583\n",
              "6           0       1  ...                       0   51.8625\n",
              "7           0       3  ...                       1   21.0750\n",
              "8           1       3  ...                       2   11.1333\n",
              "9           1       2  ...                       0   30.0708\n",
              "10          1       3  ...                       1   16.7000\n",
              "11          1       1  ...                       0   26.5500\n",
              "12          0       3  ...                       0    8.0500\n",
              "13          0       3  ...                       5   31.2750\n",
              "14          0       3  ...                       0    7.8542\n",
              "15          1       2  ...                       0   16.0000\n",
              "16          0       3  ...                       1   29.1250\n",
              "17          1       2  ...                       0   13.0000\n",
              "18          0       3  ...                       0   18.0000\n",
              "19          1       3  ...                       0    7.2250\n",
              "20          0       2  ...                       0   26.0000\n",
              "21          1       2  ...                       0   13.0000\n",
              "22          1       3  ...                       0    8.0292\n",
              "23          1       1  ...                       0   35.5000\n",
              "24          0       3  ...                       1   21.0750\n",
              "25          1       3  ...                       5   31.3875\n",
              "26          0       3  ...                       0    7.2250\n",
              "27          0       1  ...                       2  263.0000\n",
              "28          1       3  ...                       0    7.8792\n",
              "29          0       3  ...                       0    7.8958\n",
              "..        ...     ...  ...                     ...       ...\n",
              "857         0       2  ...                       0   11.5000\n",
              "858         1       1  ...                       0   25.9292\n",
              "859         0       3  ...                       2   69.5500\n",
              "860         0       2  ...                       0   13.0000\n",
              "861         1       2  ...                       0   13.0000\n",
              "862         1       2  ...                       0   13.8583\n",
              "863         0       1  ...                       0   50.4958\n",
              "864         0       3  ...                       0    9.5000\n",
              "865         1       3  ...                       1   11.1333\n",
              "866         0       3  ...                       0    7.8958\n",
              "867         1       1  ...                       1   52.5542\n",
              "868         0       1  ...                       0    5.0000\n",
              "869         0       3  ...                       0    9.0000\n",
              "870         1       2  ...                       0   24.0000\n",
              "871         1       3  ...                       0    7.2250\n",
              "872         0       3  ...                       0    9.8458\n",
              "873         0       3  ...                       0    7.8958\n",
              "874         0       3  ...                       0    7.8958\n",
              "875         1       1  ...                       1   83.1583\n",
              "876         1       2  ...                       1   26.0000\n",
              "877         0       3  ...                       0    7.8958\n",
              "878         0       3  ...                       0   10.5167\n",
              "879         0       2  ...                       0   10.5000\n",
              "880         0       3  ...                       0    7.0500\n",
              "881         0       3  ...                       5   29.1250\n",
              "882         0       2  ...                       0   13.0000\n",
              "883         1       1  ...                       0   30.0000\n",
              "884         0       3  ...                       2   23.4500\n",
              "885         1       1  ...                       0   30.0000\n",
              "886         0       3  ...                       0    7.7500\n",
              "\n",
              "[887 rows x 8 columns]"
            ]
          },
          "metadata": {
            "tags": []
          },
          "execution_count": 165
        }
      ],
      "metadata": {
        "id": "xFEV_gk6bd_w",
        "colab": {
          "base_uri": "https://localhost:8080/",
          "height": 1000
        },
        "outputId": "a0c2508e-3bf8-456a-a39c-835c9d775fcd"
      }
    },
    {
      "cell_type": "markdown",
      "source": [
        "# Доп задания на закрепление материала"
      ],
      "metadata": {
        "id": "DgjE2TBfFGyS"
      }
    },
    {
      "cell_type": "code",
      "execution_count": 4,
      "source": [
        "# загрузим библиотеки\n",
        "import numpy as np\n",
        "import pandas as pd"
      ],
      "outputs": [],
      "metadata": {
        "id": "D-Lc19J4WL-3"
      }
    },
    {
      "cell_type": "markdown",
      "source": [
        "## Задание 1\n",
        "\n",
        "Создайте массив массив из 100 элементов (от 1 до 100), переформатируйте в формат (10 * 10), сделайте слайсинг с шагом 2 по каждой оси."
      ],
      "metadata": {
        "id": "ZYcKnimkFRrD"
      }
    },
    {
      "cell_type": "code",
      "execution_count": 5,
      "source": [
        "a = np.array([i for i in range(1, 101)])\n",
        "a = a.reshape((10, 10))\n",
        "print(a[::2,::2])"
      ],
      "outputs": [
        {
          "output_type": "stream",
          "name": "stdout",
          "text": [
            "[[ 1  3  5  7  9]\n",
            " [21 23 25 27 29]\n",
            " [41 43 45 47 49]\n",
            " [61 63 65 67 69]\n",
            " [81 83 85 87 89]]\n"
          ]
        }
      ],
      "metadata": {
        "id": "wAPfX3erFUqa",
        "colab": {
          "base_uri": "https://localhost:8080/"
        },
        "outputId": "33851acd-9d4c-402d-8c41-bbb6f440f311"
      }
    },
    {
      "cell_type": "markdown",
      "source": [
        "## Задание 2\n",
        "\n",
        "Написать функцию, которая по заданной длине последовательности находит среднее арифметическое ее членов.\n",
        "\n",
        "Реализуйте задачу с и без помощи numpy, сравните время выполнения"
      ],
      "metadata": {
        "id": "SrI3heKeV7nP"
      }
    },
    {
      "cell_type": "code",
      "execution_count": null,
      "source": [
        "# решение с использованием numpy\n",
        "# для оценки времени исоплнения блока\n",
        "%%time\n",
        "# зададим длину нашей последовательности\n",
        "dlina_posl = 100_000_000\n",
        "\n",
        "# ваш код тут\n",
        "# a = lambda d: np.array(range(d)).sum() / d\n",
        "# print(a(dlina_posl))\n",
        "print(np.array(range(dlina_posl)).mean())"
      ],
      "outputs": [
        {
          "output_type": "stream",
          "name": "stdout",
          "text": [
            "49999999.5\n",
            "CPU times: user 14.5 s, sys: 4.55 s, total: 19 s\n",
            "Wall time: 18.9 s\n"
          ]
        }
      ],
      "metadata": {
        "id": "2-5-E2pCV_Ot",
        "colab": {
          "base_uri": "https://localhost:8080/"
        },
        "outputId": "eeb90b01-0af4-47b6-c16e-303d58f6efe7"
      }
    },
    {
      "cell_type": "code",
      "execution_count": null,
      "source": [
        "# решение без использования numpy\n",
        "# для оценки времени исоплнения блока\n",
        "%%time\n",
        "\n",
        "def f(d):\n",
        "  a = [i for i in range(d)]\n",
        "  count = 0\n",
        "  for i in a:\n",
        "    count += i\n",
        "  return count / d\n",
        "\n",
        "o = lambda d: sum([i for i in range(d)]) / d\n",
        "\n",
        "\n",
        "# print(f(dlina_posl))\n",
        "print(o(dlina_posl))\n",
        "\n",
        "# ваш код тут"
      ],
      "outputs": [
        {
          "output_type": "stream",
          "name": "stdout",
          "text": [
            "49999999.5\n",
            "CPU times: user 6.81 s, sys: 1.67 s, total: 8.48 s\n",
            "Wall time: 8.47 s\n"
          ]
        }
      ],
      "metadata": {
        "id": "9e3X5PEpWBjA",
        "colab": {
          "base_uri": "https://localhost:8080/"
        },
        "outputId": "b1bd1ff1-8f51-4615-b679-5f439e213d5a"
      }
    },
    {
      "cell_type": "markdown",
      "source": [],
      "metadata": {
        "id": "rN5yJLU4WF_6"
      }
    },
    {
      "cell_type": "markdown",
      "source": [
        "## Задание 3\n",
        "\n",
        "Задан Series объект s, найти индекс первого элемента отсортированного s, где значения больше 5"
      ],
      "metadata": {
        "id": "aF_IhXzJFWzJ"
      }
    },
    {
      "cell_type": "code",
      "execution_count": null,
      "source": [
        "# задано изначально\n",
        "r = np.random.RandomState(1)\n",
        "s=pd.Series(r.uniform(0, 10, 100))\n",
        "sort_s = s.sort_values()\n",
        "b = sort_s[sort_s>5]\n",
        "print(b.index[0])\n",
        "\n"
      ],
      "outputs": [
        {
          "output_type": "stream",
          "name": "stdout",
          "text": [
            "<class 'pandas.core.series.Series'>\n",
            "67\n"
          ]
        }
      ],
      "metadata": {
        "id": "PzrBc2RRFYom",
        "colab": {
          "base_uri": "https://localhost:8080/"
        },
        "outputId": "71020cb4-e79c-47dc-c4ca-6562fce478c8"
      }
    },
    {
      "cell_type": "code",
      "execution_count": null,
      "source": [],
      "outputs": [],
      "metadata": {
        "id": "8fAcnscw8nvZ"
      }
    },
    {
      "cell_type": "markdown",
      "source": [
        "## Задание 4\n",
        "\n",
        "Предположим, что мы наблюдаем за некоторым признаком нашего датасета, но в данных есть пропуски. Ваша задача: реализовать алгоритм заполнения пропущенных значений последним известным с помощью средств python и pandas. (подсказка: вам может помочь функция np.isnan(), которая возвращает True, если число - nan. Для реализации с пандас стоит посмотреть на метод .fillna).\n",
        "\n",
        "Изначальный код с инициализацией такого датасета предоставлен."
      ],
      "metadata": {
        "id": "lK7mPJPRWcs2"
      }
    },
    {
      "cell_type": "code",
      "execution_count": 14,
      "source": [
        "# импортируем библиотеку для создания шума\n",
        "import random\n",
        "# библиотека для визуализации\n",
        "import matplotlib.pyplot as plt\n",
        "\n",
        "# создадим наши данные и добавим к каждой точке синусоиды случайный шум\n",
        "a = np.linspace(0, 25, 100)\n",
        "a = np.sin(a) + [random.gauss(0, 0.2) for i in range(len(a))]\n",
        "\n",
        "# создадим 10 случайных пропусков\n",
        "for i in range(10):\n",
        "    a[random.randint(0, len(a) - 1)] = None\n",
        "# создадим датафрейм\n",
        "df = pd.DataFrame({'target':a})\n",
        "# print(a)\n",
        "\n",
        "# ваш код тут\n",
        "# pandas\n",
        "df = df.fillna(method=\"ffill\")\n",
        "# python\n",
        "b = a.copy()\n",
        "for i, j in enumerate(b):\n",
        "  if np.isnan(j):\n",
        "      if i > 0:\n",
        "          a[i] = a[i - 1]\n",
        "      else:\n",
        "          a[i] = a[i + 1]\n",
        "df2 = pd.DataFrame({'target':a})\n",
        "# отобразим\n",
        "plt.plot(df.target.values)\n",
        "# plt.plot(df2.target.values)"
      ],
      "outputs": [
        {
          "output_type": "execute_result",
          "data": {
            "text/plain": [
              "[<matplotlib.lines.Line2D at 0x7ffc52217610>]"
            ]
          },
          "metadata": {},
          "execution_count": 14
        },
        {
          "output_type": "display_data",
          "data": {
            "image/png": "[encoded data removed]",
            "text/plain": [
              "<Figure size 432x288 with 1 Axes>"
            ]
          },
          "metadata": {
            "needs_background": "light"
          }
        }
      ],
      "metadata": {
        "id": "Eu5g1x-hWcA1",
        "colab": {
          "base_uri": "https://localhost:8080/",
          "height": 283
        },
        "outputId": "e7db090d-d03e-4a05-fd52-f41346ff6f0d"
      }
    },
    {
      "cell_type": "markdown",
      "source": [
        "## Задание 5\n",
        "\n",
        "Имеется небольшой игрушечный датафрейм, в котором необходимо провести несколько типов фильтраций (ответы ищите в решениях) и отобразить результат:\n",
        "\n",
        "* всех, кто старше 40\n",
        "* всех, кто имеет доход выше среднего по датасету\n",
        "* всех, кто имеет доход выше среднего по датасету, но надежность ниже среднего по датасету\n",
        "\n",
        "создать новые столбцы:\n",
        "\n",
        "* важность клиента = доход * надежность\n",
        "* возможная долгосрочность клиента = важность клиента * (средний возраст по датасету - возраст клиента)\n",
        "\n",
        "`подсказка: двойные условия записываются так: (условие 1) & (условие 2)`\n",
        "\n",
        "\n",
        "** примечание: столбцы не имеют отношения к реальным формулам или моделям, они необходимы только для наглядности"
      ],
      "metadata": {
        "id": "5gYj1TeyW9Aq"
      }
    },
    {
      "cell_type": "code",
      "execution_count": 6,
      "source": [
        "# создадим тестовый датасет\n",
        "df = pd.DataFrame({\n",
        "    'имя': ['Петя', 'Вася', 'Аня', 'Света'],\n",
        "    'возраст': [45, 26, 41 , 21],\n",
        "    'доход': [100000, 80000, 150000, 60000],\n",
        "    'надежность клиента (0..1)': [0.65, 0.74, 0.87, 0.68],\n",
        "    'пол': ['муж', 'муж', 'жен', 'жен']},\n",
        "    index=[0, 1, 2, 3])\n",
        "\n",
        "# ваш код тут\n",
        "old = df[df['возраст'] > 40]\n",
        "rich = df[df['доход'] > df['доход'].mean()]\n",
        "risk = rich[rich['надежность клиента (0..1)'] < rich['надежность клиента (0..1)'].mean()]\n",
        "\n",
        "print('old')\n",
        "print(old)\n",
        "print('rich')\n",
        "print(rich)\n",
        "print('risk')\n",
        "print(risk)\n",
        "\n",
        "df['важность клиента'] = df['доход'] * df['надежность клиента (0..1)']\n",
        "df['возможная долгосрочность клиента'] = df['важность клиента'] * (df['возраст'].mean() - df['возраст'])\n",
        "df"
      ],
      "outputs": [
        {
          "output_type": "stream",
          "name": "stdout",
          "text": [
            "old\n",
            "    имя  возраст   доход  надежность клиента (0..1)  пол\n",
            "0  Петя       45  100000                       0.65  муж\n",
            "2   Аня       41  150000                       0.87  жен\n",
            "rich\n",
            "    имя  возраст   доход  надежность клиента (0..1)  пол\n",
            "0  Петя       45  100000                       0.65  муж\n",
            "2   Аня       41  150000                       0.87  жен\n",
            "--- risk ---\n",
            "    имя  возраст   доход  надежность клиента (0..1)  пол\n",
            "0  Петя       45  100000                       0.65  муж\n"
          ]
        },
        {
          "output_type": "execute_result",
          "data": {
            "text/html": [
              "<div>\n",
              "<style scoped>\n",
              "    .dataframe tbody tr th:only-of-type {\n",
              "        vertical-align: middle;\n",
              "    }\n",
              "\n",
              "    .dataframe tbody tr th {\n",
              "        vertical-align: top;\n",
              "    }\n",
              "\n",
              "    .dataframe thead th {\n",
              "        text-align: right;\n",
              "    }\n",
              "</style>\n",
              "<table border=\"1\" class=\"dataframe\">\n",
              "  <thead>\n",
              "    <tr style=\"text-align: right;\">\n",
              "      <th></th>\n",
              "      <th>имя</th>\n",
              "      <th>возраст</th>\n",
              "      <th>доход</th>\n",
              "      <th>надежность клиента (0..1)</th>\n",
              "      <th>пол</th>\n",
              "      <th>важность клиента</th>\n",
              "      <th>возможная долгосрочность клиента</th>\n",
              "    </tr>\n",
              "  </thead>\n",
              "  <tbody>\n",
              "    <tr>\n",
              "      <th>0</th>\n",
              "      <td>Петя</td>\n",
              "      <td>45</td>\n",
              "      <td>100000</td>\n",
              "      <td>0.65</td>\n",
              "      <td>муж</td>\n",
              "      <td>65000.0</td>\n",
              "      <td>-763750.0</td>\n",
              "    </tr>\n",
              "    <tr>\n",
              "      <th>1</th>\n",
              "      <td>Вася</td>\n",
              "      <td>26</td>\n",
              "      <td>80000</td>\n",
              "      <td>0.74</td>\n",
              "      <td>муж</td>\n",
              "      <td>59200.0</td>\n",
              "      <td>429200.0</td>\n",
              "    </tr>\n",
              "    <tr>\n",
              "      <th>2</th>\n",
              "      <td>Аня</td>\n",
              "      <td>41</td>\n",
              "      <td>150000</td>\n",
              "      <td>0.87</td>\n",
              "      <td>жен</td>\n",
              "      <td>130500.0</td>\n",
              "      <td>-1011375.0</td>\n",
              "    </tr>\n",
              "    <tr>\n",
              "      <th>3</th>\n",
              "      <td>Света</td>\n",
              "      <td>21</td>\n",
              "      <td>60000</td>\n",
              "      <td>0.68</td>\n",
              "      <td>жен</td>\n",
              "      <td>40800.0</td>\n",
              "      <td>499800.0</td>\n",
              "    </tr>\n",
              "  </tbody>\n",
              "</table>\n",
              "</div>"
            ],
            "text/plain": [
              "     имя  возраст   доход  надежность клиента (0..1)  пол  важность клиента  \\\n",
              "0   Петя       45  100000                       0.65  муж           65000.0   \n",
              "1   Вася       26   80000                       0.74  муж           59200.0   \n",
              "2    Аня       41  150000                       0.87  жен          130500.0   \n",
              "3  Света       21   60000                       0.68  жен           40800.0   \n",
              "\n",
              "   возможная долгосрочность клиента  \n",
              "0                         -763750.0  \n",
              "1                          429200.0  \n",
              "2                        -1011375.0  \n",
              "3                          499800.0  "
            ]
          },
          "metadata": {},
          "execution_count": 6
        }
      ],
      "metadata": {
        "id": "vHvedF6tXAWF",
        "colab": {
          "base_uri": "https://localhost:8080/",
          "height": 371
        },
        "outputId": "f41d2087-fe2f-4d10-d69c-c764a20ad06c"
      }
    },
    {
      "cell_type": "markdown",
      "source": [
        "## Задание 6\n",
        "\n",
        "Посмотрите на блок Exploratory data analysis, используйте данные, кототрые вы загрузили в ходе его освоения. Ваша задача - вывести имена всех выживших детей и их количество"
      ],
      "metadata": {
        "id": "MxFoJ2LubuYU"
      }
    },
    {
      "cell_type": "code",
      "execution_count": 4,
      "source": [
        "data = pd.read_csv('https://web.stanford.edu/class/archive/cs/cs109/cs109.1166/stuff/titanic.csv')"
      ],
      "outputs": [],
      "metadata": {
        "id": "i1IrZOJ1uQVw"
      }
    },
    {
      "cell_type": "code",
      "execution_count": 33,
      "source": [
        "kids = data[data['Age'] < 18]['Name']\n",
        "print(kids)\n",
        "print(kids.count())"
      ],
      "outputs": [
        {
          "output_type": "stream",
          "name": "stdout",
          "text": [
            "7            Master. Gosta Leonard Palsson\n",
            "9       Mrs. Nicholas (Adele Achem) Nasser\n",
            "10          Miss. Marguerite Rut Sandstrom\n",
            "14     Miss. Hulda Amanda Adolfina Vestrom\n",
            "16                     Master. Eugene Rice\n",
            "                      ...                 \n",
            "849               Miss. Mary Conover Lines\n",
            "859               Miss. Dorothy Edith Sage\n",
            "865         Master. Harold Theodor Johnson\n",
            "871               Miss. Adele Kiamie Najib\n",
            "884         Miss. Catherine Helen Johnston\n",
            "Name: Name, Length: 130, dtype: object\n",
            "130\n"
          ]
        }
      ],
      "metadata": {
        "id": "yCXtLEbCuTvU",
        "colab": {
          "base_uri": "https://localhost:8080/"
        },
        "outputId": "d8eceffa-fdfa-4c07-edcd-9b25e589247c"
      }
    }
  ]
}